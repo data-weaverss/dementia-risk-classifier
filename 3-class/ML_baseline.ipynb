{
 "cells": [
  {
   "cell_type": "code",
   "execution_count": 1,
   "metadata": {},
   "outputs": [],
   "source": [
    "import os\n",
    "import pandas as pd\n",
    "import numpy as np\n",
    "import matplotlib.pyplot as plt\n",
    "import seaborn as sns\n",
    "import warnings\n",
    "warnings.filterwarnings(action='ignore')\n",
    "\n",
    "from sklearn.model_selection import train_test_split\n",
    "from sklearn.preprocessing import LabelEncoder, StandardScaler\n",
    "from sklearn.linear_model import LogisticRegression\n",
    "from sklearn.tree import DecisionTreeClassifier\n",
    "from sklearn.svm import SVC\n",
    "from sklearn.ensemble import GradientBoostingClassifier\n",
    "from sklearn.metrics import classification_report, accuracy_score, roc_curve, f1_score\n",
    "from joblib import dump, load\n",
    "\n",
    "# Random seed 설정\n",
    "random_seed = 42\n",
    "np.random.seed(random_seed)\n"
   ]
  },
  {
   "cell_type": "markdown",
   "metadata": {},
   "source": [
    "# Case1"
   ]
  },
  {
   "cell_type": "markdown",
   "metadata": {},
   "source": [
    "1. raw data 모든 컬럼(int,float형 데이터) 사용 (이상치 제거X)\n",
    "2. 라벨 인코딩"
   ]
  },
  {
   "cell_type": "markdown",
   "metadata": {},
   "source": [
    "## Data Load"
   ]
  },
  {
   "cell_type": "markdown",
   "metadata": {},
   "source": [
    "- train set -> train, val\n",
    "    - model훈련 -> train \n",
    "    - model평가 -> val \n",
    "\n",
    "최종 model 선택 후 \n",
    "- val set -> test set.\n",
    "    - model최종평가 -> test"
   ]
  },
  {
   "cell_type": "code",
   "execution_count": 2,
   "metadata": {},
   "outputs": [],
   "source": [
    "# train data\n",
    "label_path = \"./data/train/label/\"\n",
    "raw_path = \"./data/train/raw/\"\n",
    "\n",
    "train_label = pd.read_csv(label_path+\"1.걸음걸이/training_label.csv\")\n",
    "train_activity = pd.read_csv(raw_path+'train_activity.csv')\n",
    "train_sleep = pd.read_csv(raw_path+'train_sleep.csv')"
   ]
  },
  {
   "cell_type": "code",
   "execution_count": 3,
   "metadata": {},
   "outputs": [],
   "source": [
    "def merge_split(df1, df2, label):\n",
    "    '''\n",
    "    기능: 1. activity,sleep concat\n",
    "         2. label merge\n",
    "    '''\n",
    "    df = pd.concat([df1, df2.drop('EMAIL',axis=1)], axis=1)\n",
    "    label.rename(columns={\"SAMPLE_EMAIL\": \"EMAIL\"}, inplace=True)\n",
    "    df = df.merge(label, how='inner', on=\"EMAIL\")\n",
    "\n",
    "    y = df.iloc[:,-1]\n",
    "    X = df.select_dtypes(include=[int, float])\n",
    "\n",
    "    print('X:{}'.format(X.shape))\n",
    "    print('y:{}'.format(y.shape))\n",
    "\n",
    "    return X, y\n",
    "\n",
    "\n",
    "# 모델 훈련 함수\n",
    "def train_model(model, X_train, y_train):\n",
    "    model.fit(X_train, y_train)\n",
    "    return model\n",
    "\n",
    "# 평가 함수\n",
    "def evaluate_model(model, X, y, encoder, dataset_name=\"Dataset\"):\n",
    "    y_pred = model.predict(X)\n",
    "    acc = accuracy_score(y, y_pred)\n",
    "    f1 = f1_score(y, y_pred, average='weighted')\n",
    "    print(f\"=== {dataset_name} Evaluation ===\")\n",
    "    print(f\"Accuracy: {acc:.2f}\")\n",
    "    print(f\"F1-score: {f1:.2f}\")\n",
    "    print(classification_report(y, y_pred, target_names=encoder.classes_))\n",
    "    # print(\"=\"*60)\n",
    "\n",
    "# 모델 저장 함수\n",
    "def save_model(model, model_name, folder=\"saved_models\"):\n",
    "    os.makedirs(folder, exist_ok=True)\n",
    "    model_path = os.path.join(folder, f\"{model_name.replace(' ', '_')}.joblib\")\n",
    "    dump(model, model_path)\n",
    "    print(f\"Model saved to {model_path}\")\n",
    "\n",
    "# 모델 불러오기 함수\n",
    "def load_model(model_path):\n",
    "    return load(model_path)\n",
    "\n",
    "# 모델 학습 및 평가\n",
    "models = {\n",
    "    \"Lasso Regression\": LogisticRegression(penalty='l1', solver='liblinear', multi_class='ovr'),\n",
    "    \"Decision Tree\": DecisionTreeClassifier(random_state=random_seed),\n",
    "    \"Support Vector Machine\": SVC(kernel='linear', probability=True, random_state=random_seed),\n",
    "    \"Gradient Boosting\": GradientBoostingClassifier(random_state=random_seed)\n",
    "}"
   ]
  },
  {
   "cell_type": "code",
   "execution_count": 4,
   "metadata": {},
   "outputs": [
    {
     "name": "stdout",
     "output_type": "stream",
     "text": [
      "X:(9705, 51)\n",
      "y:(9705,)\n"
     ]
    }
   ],
   "source": [
    "X, y = merge_split(train_activity, train_sleep, train_label)"
   ]
  },
  {
   "cell_type": "code",
   "execution_count": 5,
   "metadata": {},
   "outputs": [],
   "source": [
    "# 라벨 인코딩\n",
    "label_encoder = LabelEncoder()\n",
    "label_encoder.fit(y)\n",
    "y = label_encoder.transform(y) "
   ]
  },
  {
   "cell_type": "code",
   "execution_count": 6,
   "metadata": {},
   "outputs": [
    {
     "data": {
      "text/plain": [
       "array(['CN', 'Dem', 'MCI'], dtype=object)"
      ]
     },
     "execution_count": 6,
     "metadata": {},
     "output_type": "execute_result"
    }
   ],
   "source": [
    "label_encoder.classes_ # 알파벳 순으로 정렬 후 변환 CN, Dem, MCI"
   ]
  },
  {
   "cell_type": "code",
   "execution_count": 7,
   "metadata": {},
   "outputs": [],
   "source": [
    "# 데이터 스케일링\n",
    "scaler = StandardScaler()\n",
    "scaler.fit(X)\n",
    "X_scaled = scaler.transform(X)"
   ]
  },
  {
   "cell_type": "code",
   "execution_count": 8,
   "metadata": {},
   "outputs": [
    {
     "name": "stdout",
     "output_type": "stream",
     "text": [
      "X_train: (7764, 51), y_train: (7764,)\n",
      "X_val  : (1941, 51), y_val  : (1941,)\n"
     ]
    }
   ],
   "source": [
    "# split train, val (test는 이미 있으므로)\n",
    "X_train, X_val, y_train, y_val = train_test_split(X_scaled, y,\n",
    "                                                  test_size = 0.2, \n",
    "                                                  random_state = random_seed,\n",
    "                                                  shuffle=True,\n",
    "                                                  stratify = y\n",
    "                                                  )\n",
    "print('X_train: {}, y_train: {}'.format(X_train.shape, y_train.shape))\n",
    "print('X_val  : {}, y_val  : {}'.format(X_val.shape, y_val.shape))"
   ]
  },
  {
   "cell_type": "code",
   "execution_count": 9,
   "metadata": {},
   "outputs": [
    {
     "data": {
      "image/png": "[encoded data removed]",
      "text/plain": [
       "<Figure size 1000x400 with 2 Axes>"
      ]
     },
     "metadata": {},
     "output_type": "display_data"
    }
   ],
   "source": [
    "fig, axes = plt.subplots(1,2, figsize=(10,4))\n",
    "train_df=pd.Series(y_train).value_counts().reset_index()\n",
    "val_df=pd.Series(y_val).value_counts().reset_index()\n",
    "\n",
    "axes[0].bar(data=train_df, x='index', height='count')\n",
    "axes[1].bar(data=val_df, x='index', height='count')\n",
    "# plt.xticks(np.arange(0,3), ['CN', 'Dem', 'MCI'])\n",
    "axes[0].set_xticks(np.arange(0,3), ['CN', 'Dem', 'MCI'])\n",
    "axes[1].set_xticks(np.arange(0,3), ['CN', 'Dem', 'MCI'])\n",
    "axes[0].set_xlabel('')\n",
    "axes[1].set_xlabel('')\n",
    "plt.show()"
   ]
  },
  {
   "cell_type": "markdown",
   "metadata": {},
   "source": [
    "## Train and Evaluate Models"
   ]
  },
  {
   "cell_type": "code",
   "execution_count": 10,
   "metadata": {},
   "outputs": [],
   "source": [
    "# 모델 학습 및 평가\n",
    "models = {\n",
    "    \"Lasso Regression\": LogisticRegression(penalty='l1', solver='liblinear', multi_class='ovr'),\n",
    "    \"Decision Tree\": DecisionTreeClassifier(random_state=random_seed),\n",
    "    \"Support Vector Machine\": SVC(kernel='linear', probability=True, random_state=random_seed),\n",
    "    \"Gradient Boosting\": GradientBoostingClassifier(random_state=random_seed)\n",
    "}"
   ]
  },
  {
   "cell_type": "code",
   "execution_count": 11,
   "metadata": {},
   "outputs": [
    {
     "name": "stdout",
     "output_type": "stream",
     "text": [
      "=== Lasso Regression Train Evaluation ===\n",
      "Accuracy: 0.64\n",
      "F1-score: 0.62\n",
      "              precision    recall  f1-score   support\n",
      "\n",
      "          CN       0.66      0.86      0.75      4625\n",
      "         Dem       0.74      0.37      0.49       457\n",
      "         MCI       0.56      0.32      0.41      2682\n",
      "\n",
      "    accuracy                           0.64      7764\n",
      "   macro avg       0.65      0.52      0.55      7764\n",
      "weighted avg       0.63      0.64      0.62      7764\n",
      "\n",
      "=== Lasso Regression Validation Evaluation ===\n",
      "Accuracy: 0.64\n",
      "F1-score: 0.61\n",
      "              precision    recall  f1-score   support\n",
      "\n",
      "          CN       0.66      0.85      0.74      1156\n",
      "         Dem       0.75      0.39      0.51       114\n",
      "         MCI       0.55      0.32      0.41       671\n",
      "\n",
      "    accuracy                           0.64      1941\n",
      "   macro avg       0.65      0.52      0.55      1941\n",
      "weighted avg       0.63      0.64      0.61      1941\n",
      "\n",
      "============================================================\n",
      "=== Decision Tree Train Evaluation ===\n",
      "Accuracy: 1.00\n",
      "F1-score: 1.00\n",
      "              precision    recall  f1-score   support\n",
      "\n",
      "          CN       1.00      1.00      1.00      4625\n",
      "         Dem       1.00      1.00      1.00       457\n",
      "         MCI       1.00      1.00      1.00      2682\n",
      "\n",
      "    accuracy                           1.00      7764\n",
      "   macro avg       1.00      1.00      1.00      7764\n",
      "weighted avg       1.00      1.00      1.00      7764\n",
      "\n",
      "=== Decision Tree Validation Evaluation ===\n",
      "Accuracy: 0.66\n",
      "F1-score: 0.66\n",
      "              precision    recall  f1-score   support\n",
      "\n",
      "          CN       0.73      0.73      0.73      1156\n",
      "         Dem       0.53      0.47      0.50       114\n",
      "         MCI       0.55      0.57      0.56       671\n",
      "\n",
      "    accuracy                           0.66      1941\n",
      "   macro avg       0.61      0.59      0.60      1941\n",
      "weighted avg       0.66      0.66      0.66      1941\n",
      "\n",
      "============================================================\n",
      "=== Support Vector Machine Train Evaluation ===\n",
      "Accuracy: 0.64\n",
      "F1-score: 0.58\n",
      "              precision    recall  f1-score   support\n",
      "\n",
      "          CN       0.64      0.94      0.76      4625\n",
      "         Dem       0.77      0.39      0.52       457\n",
      "         MCI       0.63      0.18      0.28      2682\n",
      "\n",
      "    accuracy                           0.64      7764\n",
      "   macro avg       0.68      0.50      0.52      7764\n",
      "weighted avg       0.64      0.64      0.58      7764\n",
      "\n",
      "=== Support Vector Machine Validation Evaluation ===\n",
      "Accuracy: 0.65\n",
      "F1-score: 0.58\n",
      "              precision    recall  f1-score   support\n",
      "\n",
      "          CN       0.64      0.94      0.76      1156\n",
      "         Dem       0.81      0.42      0.55       114\n",
      "         MCI       0.65      0.18      0.28       671\n",
      "\n",
      "    accuracy                           0.65      1941\n",
      "   macro avg       0.70      0.51      0.53      1941\n",
      "weighted avg       0.65      0.65      0.58      1941\n",
      "\n",
      "============================================================\n",
      "=== Gradient Boosting Train Evaluation ===\n",
      "Accuracy: 0.82\n",
      "F1-score: 0.81\n",
      "              precision    recall  f1-score   support\n",
      "\n",
      "          CN       0.80      0.94      0.86      4625\n",
      "         Dem       0.97      0.64      0.77       457\n",
      "         MCI       0.84      0.63      0.72      2682\n",
      "\n",
      "    accuracy                           0.82      7764\n",
      "   macro avg       0.87      0.74      0.79      7764\n",
      "weighted avg       0.82      0.82      0.81      7764\n",
      "\n",
      "=== Gradient Boosting Validation Evaluation ===\n",
      "Accuracy: 0.73\n",
      "F1-score: 0.72\n",
      "              precision    recall  f1-score   support\n",
      "\n",
      "          CN       0.73      0.88      0.80      1156\n",
      "         Dem       0.94      0.52      0.67       114\n",
      "         MCI       0.70      0.51      0.59       671\n",
      "\n",
      "    accuracy                           0.73      1941\n",
      "   macro avg       0.79      0.64      0.68      1941\n",
      "weighted avg       0.73      0.73      0.72      1941\n",
      "\n"
     ]
    }
   ],
   "source": [
    "# 모델 학습 및 평가\n",
    "encoder = label_encoder\n",
    "trained_LR = train_model(models[\"Lasso Regression\"], X_train, y_train)\n",
    "trained_DT = train_model(models[\"Decision Tree\"], X_train, y_train)\n",
    "trained_SVM = train_model(models[\"Support Vector Machine\"], X_train, y_train)\n",
    "trained_GB = train_model(models[\"Gradient Boosting\"], X_train, y_train)\n",
    "\n",
    "evaluate_model(trained_LR, X_train, y_train, encoder, dataset_name=\"Lasso Regression Train\")\n",
    "evaluate_model(trained_LR, X_val, y_val, encoder, dataset_name=\"Lasso Regression Validation\")\n",
    "print(\"=\"*60)\n",
    "evaluate_model(trained_DT, X_train, y_train, encoder, dataset_name=\"Decision Tree Train\")\n",
    "evaluate_model(trained_DT, X_val, y_val, encoder, dataset_name=\"Decision Tree Validation\")\n",
    "print(\"=\"*60)\n",
    "evaluate_model(trained_SVM, X_train, y_train, encoder, dataset_name=\"Support Vector Machine Train\")\n",
    "evaluate_model(trained_SVM, X_val, y_val, encoder, dataset_name=\"Support Vector Machine Validation\")\n",
    "print(\"=\"*60)\n",
    "evaluate_model(trained_GB, X_train, y_train, encoder, dataset_name=\"Gradient Boosting Train\")\n",
    "evaluate_model(trained_GB, X_val, y_val, encoder, dataset_name=\"Gradient Boosting Validation\")"
   ]
  },
  {
   "cell_type": "markdown",
   "metadata": {},
   "source": [
    "## Save Model"
   ]
  },
  {
   "cell_type": "code",
   "execution_count": 12,
   "metadata": {},
   "outputs": [
    {
     "name": "stdout",
     "output_type": "stream",
     "text": [
      "Model saved to saved_models/svm_v0.joblib\n"
     ]
    }
   ],
   "source": [
    "# 3. 모델 저장\n",
    "# 모델 저장 디렉토리 생성\n",
    "model_dir = \"saved_models\"\n",
    "os.makedirs(model_dir, exist_ok=True)\n",
    "\n",
    "save_model(trained_SVM, \"svm_v0\")"
   ]
  },
  {
   "cell_type": "markdown",
   "metadata": {},
   "source": [
    "# Case2 사람별 통계치 계산 후 분류"
   ]
  },
  {
   "cell_type": "code",
   "execution_count": 13,
   "metadata": {},
   "outputs": [],
   "source": [
    "def statistic_person(data, features):\n",
    "    data_summary = data.groupby('EMAIL')[features].agg(['mean', 'std']).reset_index()\n",
    "    data_summary.columns = ['_'.join(col).strip('_') for col in data_summary.columns]\n",
    "    return data_summary"
   ]
  },
  {
   "cell_type": "code",
   "execution_count": 14,
   "metadata": {},
   "outputs": [],
   "source": [
    "act_features=train_activity.select_dtypes(include=[int, float]).columns\n",
    "sleep_features=train_sleep.select_dtypes(include=[int, float]).columns\n",
    "\n",
    "act_train=statistic_person(train_activity, act_features)\n",
    "sleep_train=statistic_person(train_sleep, sleep_features)"
   ]
  },
  {
   "cell_type": "code",
   "execution_count": 15,
   "metadata": {},
   "outputs": [
    {
     "name": "stdout",
     "output_type": "stream",
     "text": [
      "X:(141, 102)\n",
      "y:(141,)\n"
     ]
    }
   ],
   "source": [
    "X, y = merge_split(act_train, sleep_train, train_label)"
   ]
  },
  {
   "cell_type": "code",
   "execution_count": 16,
   "metadata": {},
   "outputs": [],
   "source": [
    "X_scaled = scaler.fit_transform(X)\n",
    "y=label_encoder.transform(y)"
   ]
  },
  {
   "cell_type": "code",
   "execution_count": 17,
   "metadata": {},
   "outputs": [
    {
     "name": "stdout",
     "output_type": "stream",
     "text": [
      "X_train: (112, 102), y_train: (112,)\n",
      "X_val  : (29, 102), y_val  : (29,)\n"
     ]
    }
   ],
   "source": [
    "# Train-Test Split\n",
    "X_train, X_val, y_train, y_val = train_test_split(X_scaled, y,\n",
    "                                                  test_size = 0.2, \n",
    "                                                  random_state = random_seed,\n",
    "                                                  shuffle=True,\n",
    "                                                  stratify = y\n",
    "                                                  )\n",
    "print('X_train: {}, y_train: {}'.format(X_train.shape, y_train.shape))\n",
    "print('X_val  : {}, y_val  : {}'.format(X_val.shape, y_val.shape))"
   ]
  },
  {
   "cell_type": "code",
   "execution_count": 18,
   "metadata": {},
   "outputs": [
    {
     "name": "stdout",
     "output_type": "stream",
     "text": [
      "=== Lasso Regression Train Evaluation ===\n",
      "Accuracy: 0.89\n",
      "F1-score: 0.89\n",
      "              precision    recall  f1-score   support\n",
      "\n",
      "          CN       0.90      0.93      0.91        68\n",
      "         Dem       1.00      0.71      0.83         7\n",
      "         MCI       0.86      0.86      0.86        37\n",
      "\n",
      "    accuracy                           0.89       112\n",
      "   macro avg       0.92      0.84      0.87       112\n",
      "weighted avg       0.89      0.89      0.89       112\n",
      "\n",
      "=== Lasso Regression Validation Evaluation ===\n",
      "Accuracy: 0.38\n",
      "F1-score: 0.37\n",
      "              precision    recall  f1-score   support\n",
      "\n",
      "          CN       0.50      0.53      0.51        17\n",
      "         Dem       0.00      0.00      0.00         2\n",
      "         MCI       0.18      0.20      0.19        10\n",
      "\n",
      "    accuracy                           0.38        29\n",
      "   macro avg       0.23      0.24      0.23        29\n",
      "weighted avg       0.36      0.38      0.37        29\n",
      "\n",
      "============================================================\n",
      "=== Decision Tree Train Evaluation ===\n",
      "Accuracy: 1.00\n",
      "F1-score: 1.00\n",
      "              precision    recall  f1-score   support\n",
      "\n",
      "          CN       1.00      1.00      1.00        68\n",
      "         Dem       1.00      1.00      1.00         7\n",
      "         MCI       1.00      1.00      1.00        37\n",
      "\n",
      "    accuracy                           1.00       112\n",
      "   macro avg       1.00      1.00      1.00       112\n",
      "weighted avg       1.00      1.00      1.00       112\n",
      "\n",
      "=== Decision Tree Validation Evaluation ===\n",
      "Accuracy: 0.38\n",
      "F1-score: 0.39\n",
      "              precision    recall  f1-score   support\n",
      "\n",
      "          CN       0.50      0.47      0.48        17\n",
      "         Dem       0.00      0.00      0.00         2\n",
      "         MCI       0.30      0.30      0.30        10\n",
      "\n",
      "    accuracy                           0.38        29\n",
      "   macro avg       0.27      0.26      0.26        29\n",
      "weighted avg       0.40      0.38      0.39        29\n",
      "\n",
      "============================================================\n",
      "=== Support Vector Machine Train Evaluation ===\n",
      "Accuracy: 0.97\n",
      "F1-score: 0.97\n",
      "              precision    recall  f1-score   support\n",
      "\n",
      "          CN       0.96      1.00      0.98        68\n",
      "         Dem       1.00      1.00      1.00         7\n",
      "         MCI       1.00      0.92      0.96        37\n",
      "\n",
      "    accuracy                           0.97       112\n",
      "   macro avg       0.99      0.97      0.98       112\n",
      "weighted avg       0.97      0.97      0.97       112\n",
      "\n",
      "=== Support Vector Machine Validation Evaluation ===\n",
      "Accuracy: 0.31\n",
      "F1-score: 0.32\n",
      "              precision    recall  f1-score   support\n",
      "\n",
      "          CN       0.47      0.41      0.44        17\n",
      "         Dem       0.00      0.00      0.00         2\n",
      "         MCI       0.15      0.20      0.17        10\n",
      "\n",
      "    accuracy                           0.31        29\n",
      "   macro avg       0.21      0.20      0.20        29\n",
      "weighted avg       0.33      0.31      0.32        29\n",
      "\n",
      "============================================================\n",
      "=== Gradient Boosting Train Evaluation ===\n",
      "Accuracy: 1.00\n",
      "F1-score: 1.00\n",
      "              precision    recall  f1-score   support\n",
      "\n",
      "          CN       1.00      1.00      1.00        68\n",
      "         Dem       1.00      1.00      1.00         7\n",
      "         MCI       1.00      1.00      1.00        37\n",
      "\n",
      "    accuracy                           1.00       112\n",
      "   macro avg       1.00      1.00      1.00       112\n",
      "weighted avg       1.00      1.00      1.00       112\n",
      "\n",
      "=== Gradient Boosting Validation Evaluation ===\n",
      "Accuracy: 0.38\n",
      "F1-score: 0.39\n",
      "              precision    recall  f1-score   support\n",
      "\n",
      "          CN       0.53      0.47      0.50        17\n",
      "         Dem       0.00      0.00      0.00         2\n",
      "         MCI       0.25      0.30      0.27        10\n",
      "\n",
      "    accuracy                           0.38        29\n",
      "   macro avg       0.26      0.26      0.26        29\n",
      "weighted avg       0.40      0.38      0.39        29\n",
      "\n"
     ]
    }
   ],
   "source": [
    "# 모델 학습 및 평가\n",
    "encoder = label_encoder\n",
    "trained_LR = train_model(models[\"Lasso Regression\"], X_train, y_train)\n",
    "trained_DT = train_model(models[\"Decision Tree\"], X_train, y_train)\n",
    "trained_SVM = train_model(models[\"Support Vector Machine\"], X_train, y_train)\n",
    "trained_GB = train_model(models[\"Gradient Boosting\"], X_train, y_train)\n",
    "\n",
    "evaluate_model(trained_LR, X_train, y_train, encoder, dataset_name=\"Lasso Regression Train\")\n",
    "evaluate_model(trained_LR, X_val, y_val, encoder, dataset_name=\"Lasso Regression Validation\")\n",
    "print(\"=\"*60)\n",
    "evaluate_model(trained_DT, X_train, y_train, encoder, dataset_name=\"Decision Tree Train\")\n",
    "evaluate_model(trained_DT, X_val, y_val, encoder, dataset_name=\"Decision Tree Validation\")\n",
    "print(\"=\"*60)\n",
    "evaluate_model(trained_SVM, X_train, y_train, encoder, dataset_name=\"Support Vector Machine Train\")\n",
    "evaluate_model(trained_SVM, X_val, y_val, encoder, dataset_name=\"Support Vector Machine Validation\")\n",
    "print(\"=\"*60)\n",
    "evaluate_model(trained_GB, X_train, y_train, encoder, dataset_name=\"Gradient Boosting Train\")\n",
    "evaluate_model(trained_GB, X_val, y_val, encoder, dataset_name=\"Gradient Boosting Validation\")"
   ]
  },
  {
   "cell_type": "markdown",
   "metadata": {},
   "source": [
    "# Evaluate Test data"
   ]
  },
  {
   "cell_type": "markdown",
   "metadata": {},
   "source": [
    "** 마지막에 실행 ** \n",
    "- 삭제해도 됨"
   ]
  },
  {
   "cell_type": "code",
   "execution_count": 19,
   "metadata": {},
   "outputs": [],
   "source": [
    "# validation -> test data\n",
    "label_path = \"./data/validation/label/\"\n",
    "raw_path = \"./data/validation/raw/\"\n",
    "\n",
    "test_label = pd.read_csv(label_path+\"1.걸음걸이/val_label.csv\")\n",
    "test_activity = pd.read_csv(raw_path+'val_activity.csv')\n",
    "test_sleep = pd.read_csv(raw_path+'val_sleep.csv')"
   ]
  },
  {
   "cell_type": "code",
   "execution_count": 20,
   "metadata": {},
   "outputs": [
    {
     "name": "stdout",
     "output_type": "stream",
     "text": [
      "X:(2478, 51)\n",
      "y:(2478,)\n"
     ]
    }
   ],
   "source": [
    "X_test, y_test = merge_split(test_activity, test_sleep, test_label)"
   ]
  },
  {
   "cell_type": "code",
   "execution_count": 21,
   "metadata": {},
   "outputs": [],
   "source": [
    "X_test_scaled = scaler.fit_transform(X_test)\n",
    "y_test_labeled = label_encoder.transform(y_test)"
   ]
  },
  {
   "cell_type": "code",
   "execution_count": 22,
   "metadata": {},
   "outputs": [],
   "source": [
    "# 저장된 모델 불러오기\n",
    "model = load_model(\"saved_models/svm_v0.joblib\")"
   ]
  },
  {
   "cell_type": "code",
   "execution_count": 23,
   "metadata": {},
   "outputs": [
    {
     "name": "stdout",
     "output_type": "stream",
     "text": [
      "Test Accuracy: 0.64\n",
      "Test F1-score: 0.65\n",
      "              precision    recall  f1-score   support\n",
      "\n",
      "          CN       0.77      0.78      0.77      1956\n",
      "         Dem       0.79      0.18      0.29       214\n",
      "         MCI       0.07      0.11      0.09       308\n",
      "\n",
      "    accuracy                           0.64      2478\n",
      "   macro avg       0.54      0.35      0.38      2478\n",
      "weighted avg       0.69      0.64      0.65      2478\n",
      "\n",
      "============================================================\n"
     ]
    }
   ],
   "source": [
    "# Test 데이터에 모델 적용\n",
    "y_test_pred = model.predict(X_test_scaled)\n",
    "test_acc = accuracy_score(y_test_labeled, y_test_pred)\n",
    "test_f1 = f1_score(y_test_labeled, y_test_pred, average='weighted')\n",
    "print(f\"Test Accuracy: {test_acc:.2f}\")\n",
    "print(f\"Test F1-score: {test_f1:.2f}\")\n",
    "print(classification_report(y_test_labeled, y_test_pred, target_names=label_encoder.classes_))\n",
    "print(\"=\"*60)"
   ]
  }
 ],
 "metadata": {
  "kernelspec": {
   "display_name": "ml",
   "language": "python",
   "name": "python3"
  },
  "language_info": {
   "codemirror_mode": {
    "name": "ipython",
    "version": 3
   },
   "file_extension": ".py",
   "mimetype": "text/x-python",
   "name": "python",
   "nbconvert_exporter": "python",
   "pygments_lexer": "ipython3",
   "version": "3.10.16"
  }
 },
 "nbformat": 4,
 "nbformat_minor": 2
}
