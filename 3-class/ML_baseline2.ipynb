{
 "cells": [
  {
   "cell_type": "code",
   "execution_count": 1,
   "metadata": {},
   "outputs": [],
   "source": [
    "import os\n",
    "import pandas as pd\n",
    "import numpy as np\n",
    "import matplotlib.pyplot as plt\n",
    "import seaborn as sns\n",
    "import warnings\n",
    "from sklearn.model_selection import train_test_split, GroupShuffleSplit, GridSearchCV\n",
    "from sklearn.preprocessing import OrdinalEncoder, StandardScaler\n",
    "from sklearn.linear_model import LogisticRegression\n",
    "from sklearn.tree import DecisionTreeClassifier\n",
    "from sklearn.svm import SVC\n",
    "from sklearn.ensemble import GradientBoostingClassifier\n",
    "from sklearn.metrics import classification_report, accuracy_score, f1_score\n",
    "from joblib import dump, load\n",
    "from imblearn.over_sampling import SMOTE\n",
    "\n",
    "warnings.filterwarnings(action='ignore')\n",
    "random_seed = 42\n",
    "np.random.seed(random_seed)"
   ]
  },
  {
   "cell_type": "markdown",
   "metadata": {},
   "source": [
    "## Data Load"
   ]
  },
  {
   "cell_type": "markdown",
   "metadata": {},
   "source": [
    "- train set -> train, val\n",
    "    - model훈련 -> train \n",
    "    - model평가 -> val \n",
    "\n",
    "최종 model 선택 후 \n",
    "- val set -> test set.\n",
    "    - model최종평가 -> test"
   ]
  },
  {
   "cell_type": "code",
   "execution_count": 2,
   "metadata": {},
   "outputs": [],
   "source": [
    "# train data\n",
    "label_path = \"./data/train/label/\"\n",
    "data_path = \"./data/processed/\"\n",
    "\n",
    "train_label = pd.read_csv(label_path+\"1.걸음걸이/training_label.csv\")\n",
    "train_activity = pd.read_csv(data_path+'train_activity_add.csv')\n",
    "train_sleep = pd.read_csv(data_path+'train_sleep_add.csv')\n",
    "\n",
    "# test data\n",
    "test_label = pd.read_csv(\"./data/validation/label/1.걸음걸이/val_label.csv\")\n",
    "test_activity = pd.read_csv(data_path+\"/test_activity_add.csv\")\n",
    "test_sleep = pd.read_csv(data_path+\"/test_sleep_add.csv\")"
   ]
  },
  {
   "cell_type": "code",
   "execution_count": 3,
   "metadata": {},
   "outputs": [
    {
     "name": "stdout",
     "output_type": "stream",
     "text": [
      "Train Activity:  (9704, 60)\n",
      "Train Sleep:  (9705, 44)\n",
      "==============================\n",
      "Test Activity:  (2478, 60)\n",
      "Test Sleep:  (2478, 44)\n"
     ]
    }
   ],
   "source": [
    "print(\"Train Activity: \", train_activity.shape)\n",
    "print(\"Train Sleep: \", train_sleep.shape)\n",
    "print(\"=\"*30)\n",
    "print(\"Test Activity: \", test_activity.shape)\n",
    "print(\"Test Sleep: \", test_sleep.shape)"
   ]
  },
  {
   "cell_type": "code",
   "execution_count": 4,
   "metadata": {},
   "outputs": [],
   "source": [
    "def merge_data(df1, df2, label):\n",
    "    '''\n",
    "    기능: 1. activity,sleep concat\n",
    "         2. label merge\n",
    "    '''\n",
    "    drop_cols = ['activity_type', 'activity_date', 'DIAG_NM']\n",
    "    df = pd.concat([df1.drop(['DIAG_NM'],axis=1), df2.drop(drop_cols+['EMAIL'],axis=1)], axis=1)\n",
    "    label.rename(columns={\"SAMPLE_EMAIL\": \"EMAIL\"}, inplace=True)\n",
    "    df = df.merge(label, how='inner', on=\"EMAIL\")\n",
    "    return df\n",
    "\n",
    "\n",
    "# 모델 훈련 함수\n",
    "def train_model(model, X_train, y_train):\n",
    "    model.fit(X_train, y_train)\n",
    "    return model\n",
    "\n",
    "# 평가 함수\n",
    "def evaluate_model(model, X, y, encoder, dataset_name=\"Dataset\"):\n",
    "    y_pred = model.predict(X)\n",
    "    acc = accuracy_score(y, y_pred)\n",
    "    f1 = f1_score(y, y_pred, average='weighted')\n",
    "    print(f\"=== {dataset_name} Evaluation ===\")\n",
    "    print(f\"Accuracy: {acc:.2f}\")\n",
    "    print(f\"F1-score: {f1:.2f}\")\n",
    "    print(classification_report(y, y_pred, target_names=['CN', 'MCI', 'Dem']))\n",
    "    # print(\"=\"*60)\n",
    "\n",
    "# 모델 저장 함수\n",
    "def save_model(model, model_name, folder=\"saved_models\"):\n",
    "    os.makedirs(folder, exist_ok=True)\n",
    "    model_path = os.path.join(folder, f\"{model_name.replace(' ', '_')}.joblib\")\n",
    "    dump(model, model_path)\n",
    "    print(f\"Model saved to {model_path}\")\n",
    "\n",
    "# 모델 불러오기 함수\n",
    "def load_model(model_path):\n",
    "    return load(model_path)"
   ]
  },
  {
   "cell_type": "code",
   "execution_count": 5,
   "metadata": {},
   "outputs": [],
   "source": [
    "train = merge_data(train_activity, train_activity, train_label)"
   ]
  },
  {
   "cell_type": "code",
   "execution_count": 6,
   "metadata": {},
   "outputs": [],
   "source": [
    "y = train.iloc[:,-1]\n",
    "y_order = ['CN', 'MCI', 'Dem']\n",
    "activity_type_order = ['morning', 'intermediate','evening']\n",
    "\n",
    "activity_type_encoder = OrdinalEncoder(categories=[activity_type_order])\n",
    "train['activity_type'] = activity_type_encoder.fit_transform(train[['activity_type']])\n",
    "\n",
    "y_encoder = OrdinalEncoder(categories=[y_order])\n",
    "train['DIAG_NM'] = y_encoder.fit_transform(train[['DIAG_NM']])"
   ]
  },
  {
   "cell_type": "code",
   "execution_count": 7,
   "metadata": {},
   "outputs": [
    {
     "name": "stdout",
     "output_type": "stream",
     "text": [
      "Train 데이터 사람 ID: 112\n",
      "Test 데이터 사람 ID: 29\n"
     ]
    }
   ],
   "source": [
    "# 그룹 단위로 Train/Test 분할\n",
    "splitter = GroupShuffleSplit(test_size=0.2, n_splits=1, random_state=random_seed)\n",
    "train_idx, val_idx = next(splitter.split(train, groups=train[\"EMAIL\"]))\n",
    "\n",
    "train_data = train.iloc[train_idx]\n",
    "val_data = train.iloc[val_idx]\n",
    "\n",
    "print(\"Train 데이터 사람 ID:\", train_data[\"EMAIL\"].nunique())\n",
    "print(\"Test 데이터 사람 ID:\", val_data[\"EMAIL\"].nunique())\n"
   ]
  },
  {
   "cell_type": "code",
   "execution_count": 8,
   "metadata": {},
   "outputs": [
    {
     "name": "stdout",
     "output_type": "stream",
     "text": [
      "========== train_data ========== \n",
      " DIAG_NM\n",
      "0.0    66\n",
      "1.0    39\n",
      "2.0     7\n",
      "Name: EMAIL, dtype: int64\n",
      "========== val_data ========== \n",
      " DIAG_NM\n",
      "0.0    19\n",
      "1.0     8\n",
      "2.0     2\n",
      "Name: EMAIL, dtype: int64\n"
     ]
    }
   ],
   "source": [
    "print(\"========== train_data ========== \\n\", train_data.groupby('DIAG_NM')['EMAIL'].nunique())\n",
    "print(\"========== val_data ========== \\n\", val_data.groupby('DIAG_NM')['EMAIL'].nunique())"
   ]
  },
  {
   "cell_type": "code",
   "execution_count": 9,
   "metadata": {},
   "outputs": [
    {
     "name": "stdout",
     "output_type": "stream",
     "text": [
      "X_train: (7866, 113), y_train: (7866,)\n",
      "X_val  : (1838, 113), y_val  : (1838,)\n"
     ]
    }
   ],
   "source": [
    "X_train = train_data.select_dtypes(include=[np.number]).drop(columns=['DIAG_NM'])\n",
    "X_val = val_data.select_dtypes(include=[np.number]).drop(columns=['DIAG_NM'])\n",
    "y_train = train_data['DIAG_NM']\n",
    "y_val = val_data['DIAG_NM']\n",
    "\n",
    "print('X_train: {}, y_train: {}'.format(X_train.shape, y_train.shape))\n",
    "print('X_val  : {}, y_val  : {}'.format(X_val.shape, y_val.shape))"
   ]
  },
  {
   "cell_type": "code",
   "execution_count": 10,
   "metadata": {},
   "outputs": [
    {
     "data": {
      "text/plain": [
       "[array(['CN', 'MCI', 'Dem'], dtype=object)]"
      ]
     },
     "execution_count": 10,
     "metadata": {},
     "output_type": "execute_result"
    }
   ],
   "source": [
    "y_encoder.categories_ "
   ]
  },
  {
   "cell_type": "code",
   "execution_count": 11,
   "metadata": {},
   "outputs": [],
   "source": [
    "# 데이터 스케일링\n",
    "scaler = StandardScaler()\n",
    "X_train_scaled = scaler.fit_transform(X_train)\n",
    "X_val_scaled = scaler.transform(X_val)"
   ]
  },
  {
   "cell_type": "code",
   "execution_count": 12,
   "metadata": {},
   "outputs": [
    {
     "data": {
      "image/png": "[encoded data removed]",
      "text/plain": [
       "<Figure size 800x600 with 2 Axes>"
      ]
     },
     "metadata": {},
     "output_type": "display_data"
    }
   ],
   "source": [
    "fig, axes = plt.subplots(1,2, figsize=(8,6))\n",
    "train_df=pd.Series(y_train).value_counts().reset_index()\n",
    "val_df=pd.Series(y_val).value_counts().reset_index()\n",
    "\n",
    "axes[0].bar(data=train_df, x='DIAG_NM', height='count')\n",
    "axes[1].bar(data=val_df, x='DIAG_NM', height='count')\n",
    "axes[0].set_xticks(np.arange(0,3), ['CN', 'MCI', 'Dem'])\n",
    "axes[1].set_xticks(np.arange(0,3), ['CN', 'MCI', 'Dem'])\n",
    "axes[0].set_xlabel('')\n",
    "axes[1].set_xlabel('')\n",
    "plt.show()"
   ]
  },
  {
   "cell_type": "markdown",
   "metadata": {},
   "source": [
    "## Train and Evaluate Models"
   ]
  },
  {
   "cell_type": "code",
   "execution_count": 13,
   "metadata": {},
   "outputs": [],
   "source": [
    "smote = SMOTE(sampling_strategy='auto', random_state=42)\n",
    "X_resampled, y_resampled = smote.fit_resample(X_train, y_train)"
   ]
  },
  {
   "cell_type": "code",
   "execution_count": 14,
   "metadata": {},
   "outputs": [],
   "source": [
    "# 모델 학습 및 평가\n",
    "models = {\n",
    "    \"Lasso Regression\": LogisticRegression(penalty='l1', solver='liblinear', multi_class='ovr'),\n",
    "    \"Decision Tree\": DecisionTreeClassifier(random_state=random_seed, max_depth=5),\n",
    "    \"Support Vector Machine\": SVC(kernel='linear', probability=True, random_state=random_seed),\n",
    "    \"Gradient Boosting\": GradientBoostingClassifier(random_state=random_seed, learning_rate=0.001)\n",
    "}"
   ]
  },
  {
   "cell_type": "code",
   "execution_count": 15,
   "metadata": {},
   "outputs": [
    {
     "data": {
      "text/plain": [
       "DIAG_NM\n",
       "1.0    4610\n",
       "0.0    4610\n",
       "2.0    4610\n",
       "Name: count, dtype: int64"
      ]
     },
     "execution_count": 15,
     "metadata": {},
     "output_type": "execute_result"
    }
   ],
   "source": [
    "y_resampled.value_counts()"
   ]
  },
  {
   "cell_type": "code",
   "execution_count": 16,
   "metadata": {},
   "outputs": [
    {
     "name": "stdout",
     "output_type": "stream",
     "text": [
      "=== Gradient Boosting Train Evaluation ===\n",
      "Accuracy: 0.64\n",
      "F1-score: 0.64\n",
      "              precision    recall  f1-score   support\n",
      "\n",
      "          CN       0.59      0.51      0.55      4610\n",
      "         MCI       0.58      0.59      0.59      4610\n",
      "         Dem       0.73      0.83      0.77      4610\n",
      "\n",
      "    accuracy                           0.64     13830\n",
      "   macro avg       0.64      0.64      0.64     13830\n",
      "weighted avg       0.64      0.64      0.64     13830\n",
      "\n",
      "=== Gradient Boosting Validation Evaluation ===\n",
      "Accuracy: 0.41\n",
      "F1-score: 0.43\n",
      "              precision    recall  f1-score   support\n",
      "\n",
      "          CN       0.63      0.39      0.48      1170\n",
      "         MCI       0.31      0.42      0.36       550\n",
      "         Dem       0.17      0.54      0.26       118\n",
      "\n",
      "    accuracy                           0.41      1838\n",
      "   macro avg       0.37      0.45      0.37      1838\n",
      "weighted avg       0.50      0.41      0.43      1838\n",
      "\n"
     ]
    }
   ],
   "source": [
    "encoder = y_encoder\n",
    "model = models[\"Gradient Boosting\"]\n",
    "model.fit(X_resampled, y_resampled)\n",
    "\n",
    "evaluate_model(model, X_resampled, y_resampled, encoder, dataset_name=\"Gradient Boosting Train\")\n",
    "evaluate_model(model, X_val, y_val, encoder, dataset_name=\"Gradient Boosting Validation\")\n"
   ]
  },
  {
   "cell_type": "code",
   "execution_count": 17,
   "metadata": {},
   "outputs": [
    {
     "data": {
      "text/html": [
       "<div>\n",
       "<style scoped>\n",
       "    .dataframe tbody tr th:only-of-type {\n",
       "        vertical-align: middle;\n",
       "    }\n",
       "\n",
       "    .dataframe tbody tr th {\n",
       "        vertical-align: top;\n",
       "    }\n",
       "\n",
       "    .dataframe thead th {\n",
       "        text-align: right;\n",
       "    }\n",
       "</style>\n",
       "<table border=\"1\" class=\"dataframe\">\n",
       "  <thead>\n",
       "    <tr style=\"text-align: right;\">\n",
       "      <th></th>\n",
       "      <th>Features</th>\n",
       "      <th>Importances</th>\n",
       "    </tr>\n",
       "  </thead>\n",
       "  <tbody>\n",
       "    <tr>\n",
       "      <th>64</th>\n",
       "      <td>activity_rest</td>\n",
       "      <td>0.19</td>\n",
       "    </tr>\n",
       "    <tr>\n",
       "      <th>7</th>\n",
       "      <td>activity_rest</td>\n",
       "      <td>0.12</td>\n",
       "    </tr>\n",
       "    <tr>\n",
       "      <th>92</th>\n",
       "      <td>activity_average_met_30d_avg</td>\n",
       "      <td>0.08</td>\n",
       "    </tr>\n",
       "    <tr>\n",
       "      <th>75</th>\n",
       "      <td>activity_score_meet_daily_targets</td>\n",
       "      <td>0.08</td>\n",
       "    </tr>\n",
       "    <tr>\n",
       "      <th>36</th>\n",
       "      <td>activity_average_met_30d_avg</td>\n",
       "      <td>0.08</td>\n",
       "    </tr>\n",
       "    <tr>\n",
       "      <th>18</th>\n",
       "      <td>activity_score_meet_daily_targets</td>\n",
       "      <td>0.08</td>\n",
       "    </tr>\n",
       "    <tr>\n",
       "      <th>56</th>\n",
       "      <td>evening_ratio_30d_avg</td>\n",
       "      <td>0.04</td>\n",
       "    </tr>\n",
       "    <tr>\n",
       "      <th>112</th>\n",
       "      <td>evening_ratio_30d_avg</td>\n",
       "      <td>0.04</td>\n",
       "    </tr>\n",
       "    <tr>\n",
       "      <th>51</th>\n",
       "      <td>morning_ratio_30d_avg</td>\n",
       "      <td>0.03</td>\n",
       "    </tr>\n",
       "    <tr>\n",
       "      <th>97</th>\n",
       "      <td>activity_inactive_30d_avg</td>\n",
       "      <td>0.03</td>\n",
       "    </tr>\n",
       "  </tbody>\n",
       "</table>\n",
       "</div>"
      ],
      "text/plain": [
       "                              Features Importances\n",
       "64                       activity_rest        0.19\n",
       "7                        activity_rest        0.12\n",
       "92        activity_average_met_30d_avg        0.08\n",
       "75   activity_score_meet_daily_targets        0.08\n",
       "36        activity_average_met_30d_avg        0.08\n",
       "18   activity_score_meet_daily_targets        0.08\n",
       "56               evening_ratio_30d_avg        0.04\n",
       "112              evening_ratio_30d_avg        0.04\n",
       "51               morning_ratio_30d_avg        0.03\n",
       "97           activity_inactive_30d_avg        0.03"
      ]
     },
     "execution_count": 17,
     "metadata": {},
     "output_type": "execute_result"
    }
   ],
   "source": [
    "# Feature Importance 확인\n",
    "importances = model.feature_importances_\n",
    "final_df = pd.DataFrame({\"Features\": X_train.columns, \"Importances\":importances})\n",
    "final_df['Importances'] = final_df['Importances'].apply(\"{:.2f}\".format)\n",
    "final_df.sort_values(by=\"Importances\", ascending=False).head(10)"
   ]
  },
  {
   "cell_type": "code",
   "execution_count": 32,
   "metadata": {},
   "outputs": [],
   "source": [
    "dtree = DecisionTreeClassifier()\n",
    "parameters = {'max_depth':[1,2,3], 'min_samples_split':[2,3]} \n",
    "grid_dtree = GridSearchCV(dtree, param_grid=parameters, cv=3, refit=True)"
   ]
  },
  {
   "cell_type": "code",
   "execution_count": 21,
   "metadata": {},
   "outputs": [
    {
     "name": "stdout",
     "output_type": "stream",
     "text": [
      "                                     params  mean_test_score  rank_test_score  \\\n",
      "0  {'max_depth': 1, 'min_samples_split': 2}         0.561404                3   \n",
      "1  {'max_depth': 1, 'min_samples_split': 3}         0.561404                3   \n",
      "2  {'max_depth': 2, 'min_samples_split': 2}         0.563819                1   \n",
      "3  {'max_depth': 2, 'min_samples_split': 3}         0.563819                1   \n",
      "4  {'max_depth': 3, 'min_samples_split': 2}         0.544877                5   \n",
      "5  {'max_depth': 3, 'min_samples_split': 3}         0.544877                5   \n",
      "\n",
      "   split0_test_score  split1_test_score  split2_test_score  \n",
      "0           0.578566           0.586194           0.519451  \n",
      "1           0.578566           0.586194           0.519451  \n",
      "2           0.589626           0.536995           0.564836  \n",
      "3           0.589626           0.536995           0.564836  \n",
      "4           0.582380           0.505721           0.546529  \n",
      "5           0.582380           0.505721           0.546529  \n"
     ]
    }
   ],
   "source": [
    "# Hyperparameter tuning for Decision Tree\n",
    "parameters = {'max_depth': [1,2,3], 'min_samples_split': [2,3]}\n",
    "grid_dtree = GridSearchCV(DecisionTreeClassifier(), param_grid=parameters, cv=3, refit=True)\n",
    "grid_dtree.fit(X_train, y_train)\n",
    "scores_df = pd.DataFrame(grid_dtree.cv_results_)\n",
    "print(scores_df[['params', 'mean_test_score', 'rank_test_score', 'split0_test_score', 'split1_test_score', 'split2_test_score']])"
   ]
  },
  {
   "cell_type": "code",
   "execution_count": null,
   "metadata": {},
   "outputs": [],
   "source": [
    "# 모델학습 및 평가\n",
    "trained_models = {name: train_model(model, X_train, y_train) for name, model in models.items()}\n",
    "\n",
    "for name, trained_model in trained_models.items():\n",
    "    print(\"=\"*60)\n",
    "    \n",
    "    evaluate_model(trained_model, X_train, y_train, encoder, dataset_name=f\"{name} Train\")\n",
    "    evaluate_model(trained_model, X_val, y_val, encoder, dataset_name=f\"{name} Validation\")\n"
   ]
  },
  {
   "cell_type": "markdown",
   "metadata": {},
   "source": [
    "## Save Model"
   ]
  },
  {
   "cell_type": "code",
   "execution_count": 12,
   "metadata": {},
   "outputs": [
    {
     "name": "stdout",
     "output_type": "stream",
     "text": [
      "Model saved to saved_models/svm_v0.joblib\n"
     ]
    }
   ],
   "source": [
    "# 모델 저장\n",
    "model_dir = \"saved_models\"\n",
    "os.makedirs(model_dir, exist_ok=True)\n",
    "save_model(trained_models[\"Support Vector Machine\"], \"svm_v0\")"
   ]
  },
  {
   "cell_type": "markdown",
   "metadata": {},
   "source": [
    "# Evaluate Test data"
   ]
  },
  {
   "cell_type": "markdown",
   "metadata": {},
   "source": [
    "** 마지막에 실행 ** \n",
    "- 삭제해도 됨"
   ]
  },
  {
   "cell_type": "code",
   "execution_count": null,
   "metadata": {},
   "outputs": [],
   "source": [
    "# Evaluate on Test Data\n",
    "df, X_test, y_test = merge_data(test_activity, test_sleep, test_label)\n",
    "X_test_scaled = scaler.transform(X_test)\n",
    "y_test_labeled = y_encoder.transform(y_test)"
   ]
  },
  {
   "cell_type": "code",
   "execution_count": null,
   "metadata": {},
   "outputs": [],
   "source": [
    "\n",
    "# Load and Evaluate final model\n",
    "model = trained_models[\"Gradient Boosting\"]\n",
    "y_test_pred = model.predict(X_test_scaled)\n",
    "test_acc = accuracy_score(y_test_labeled, y_test_pred)\n",
    "test_f1 = f1_score(y_test_labeled, y_test_pred, average='weighted')\n",
    "print(f\"Test Accuracy: {test_acc:.2f}\")\n",
    "print(f\"Test F1-score: {test_f1:.2f}\")\n",
    "print(classification_report(y_test_labeled, y_test_pred, target_names=y_encoder.categories_[0]))\n",
    "print(\"=\"*60)\n"
   ]
  }
 ],
 "metadata": {
  "kernelspec": {
   "display_name": "ml",
   "language": "python",
   "name": "python3"
  },
  "language_info": {
   "codemirror_mode": {
    "name": "ipython",
    "version": 3
   },
   "file_extension": ".py",
   "mimetype": "text/x-python",
   "name": "python",
   "nbconvert_exporter": "python",
   "pygments_lexer": "ipython3",
   "version": "3.10.16"
  }
 },
 "nbformat": 4,
 "nbformat_minor": 2
}
