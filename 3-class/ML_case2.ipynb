{
 "cells": [
  {
   "cell_type": "markdown",
   "metadata": {},
   "source": [
    "- case2: RFCSV feature selection"
   ]
  },
  {
   "cell_type": "code",
   "execution_count": 1,
   "metadata": {},
   "outputs": [],
   "source": [
    "import matplotlib.pyplot as plt\n",
    "import seaborn as sns\n",
    "import koreanize_matplotlib"
   ]
  },
  {
   "cell_type": "code",
   "execution_count": 2,
   "metadata": {},
   "outputs": [],
   "source": [
    "import pandas as pd\n",
    "import numpy as np\n",
    "from datetime import datetime\n",
    "import pickle\n",
    "import os\n",
    "import warnings\n",
    "\n",
    "warnings.filterwarnings(\"ignore\")"
   ]
  },
  {
   "cell_type": "code",
   "execution_count": 3,
   "metadata": {},
   "outputs": [],
   "source": [
    "from sklearn.model_selection import StratifiedKFold\n",
    "from sklearn.metrics import accuracy_score, f1_score, classification_report"
   ]
  },
  {
   "cell_type": "code",
   "execution_count": 4,
   "metadata": {},
   "outputs": [],
   "source": [
    "n_splits = 3\n",
    "random_seed = 2025"
   ]
  },
  {
   "cell_type": "markdown",
   "metadata": {},
   "source": [
    "# Data"
   ]
  },
  {
   "cell_type": "code",
   "execution_count": 5,
   "metadata": {},
   "outputs": [],
   "source": [
    "train_sleep_file_path = \"../data/train/raw/train_sleep.csv\"\n",
    "train_activity_file_path = \"../data/train/raw/train_activity.csv\"\n",
    "train_label_file_path = \"../data/train/label/1.걸음걸이/training_label.csv\"\n",
    "\n",
    "test_sleep_file_path = \"../data/validation/raw/val_sleep.csv\"\n",
    "test_activity_file_path = \"../data/validation/raw/val_activity.csv\"\n",
    "test_label_file_path = \"../data/validation/label/1.걸음걸이/val_label.csv\"\n",
    "\n",
    "train_derived_file_path = \"../data/derived_var/train_add.csv\"\n",
    "test_derived_file_path = \"../data/derived_var/validation_add.csv\"\n",
    "\n",
    "train2_derived_file_path = \"../data/derived_var/bong_train.csv\"\n",
    "test2_derived_file_path = \"../data/derived_var/bong_validation.csv\"\n",
    "\n",
    "train3_derived_file_path = \"../data/derived_var/sleep_train_add1.csv\"\n",
    "test3_derived_file_path = \"../data/derived_var/sleep_validation_add1.csv\""
   ]
  },
  {
   "cell_type": "code",
   "execution_count": 6,
   "metadata": {},
   "outputs": [],
   "source": [
    "train_label = pd.read_csv(train_label_file_path)\n",
    "train_sleep = pd.read_csv(train_sleep_file_path)\n",
    "train_activity = pd.read_csv(train_activity_file_path)\n",
    "\n",
    "test_label = pd.read_csv(test_label_file_path)\n",
    "test_sleep = pd.read_csv(test_sleep_file_path)\n",
    "test_activity = pd.read_csv(test_activity_file_path)\n",
    "\n",
    "train_derived = pd.read_csv(train_derived_file_path)\n",
    "test_derived = pd.read_csv(test_derived_file_path)\n",
    "\n",
    "train_derived2 = pd.read_csv(train2_derived_file_path)\n",
    "test_derived2 = pd.read_csv(test2_derived_file_path)\n",
    "test_derived2.drop([\"Unnamed: 0\"], inplace=True, axis=1)\n",
    "\n",
    "train_derived3 = pd.read_csv(train3_derived_file_path)\n",
    "test_derived3 = pd.read_csv(test3_derived_file_path)"
   ]
  },
  {
   "cell_type": "code",
   "execution_count": 7,
   "metadata": {},
   "outputs": [
    {
     "data": {
      "text/plain": [
       "0"
      ]
     },
     "execution_count": 7,
     "metadata": {},
     "output_type": "execute_result"
    }
   ],
   "source": [
    "# train, test email exclusive 확인\n",
    "common_elements = list(\n",
    "    set(train_label[\"SAMPLE_EMAIL\"]) & set(test_label[\"SAMPLE_EMAIL\"])\n",
    ")\n",
    "len(common_elements)"
   ]
  },
  {
   "cell_type": "code",
   "execution_count": 8,
   "metadata": {},
   "outputs": [],
   "source": [
    "# sleep + label\n",
    "train = train_sleep.merge(train_label, left_on=\"EMAIL\", right_on=\"SAMPLE_EMAIL\")\n",
    "test = test_sleep.merge(test_label, left_on=\"EMAIL\", right_on=\"SAMPLE_EMAIL\")\n",
    "train.drop([\"SAMPLE_EMAIL\"], axis=1, inplace=True)\n",
    "test.drop([\"SAMPLE_EMAIL\"], axis=1, inplace=True)\n",
    "\n",
    "# sleep + activity\n",
    "train = pd.concat([train, train_activity.drop([\"EMAIL\"], axis=1)], axis=1)\n",
    "test = pd.concat([test, test_activity.drop([\"EMAIL\"], axis=1)], axis=1)"
   ]
  },
  {
   "cell_type": "code",
   "execution_count": 9,
   "metadata": {},
   "outputs": [],
   "source": [
    "train[\"activity_date\"] = pd.to_datetime(train[\"activity_day_start\"]).dt.date.astype(str)\n",
    "test[\"activity_date\"] = pd.to_datetime(test[\"activity_day_start\"]).dt.date.astype(str)"
   ]
  },
  {
   "cell_type": "code",
   "execution_count": 10,
   "metadata": {},
   "outputs": [],
   "source": [
    "train = train.merge(train_derived, on=[\"EMAIL\", \"activity_date\"], how=\"inner\")\n",
    "test = test.merge(test_derived, on=[\"EMAIL\", \"activity_date\"], how=\"inner\")"
   ]
  },
  {
   "cell_type": "code",
   "execution_count": 11,
   "metadata": {},
   "outputs": [],
   "source": [
    "train = train.merge(train_derived3, on=[\"EMAIL\", \"activity_date\"], how=\"inner\")\n",
    "test = test.merge(test_derived3, on=[\"EMAIL\", \"activity_date\"], how=\"inner\")"
   ]
  },
  {
   "cell_type": "code",
   "execution_count": 12,
   "metadata": {},
   "outputs": [],
   "source": [
    "train = pd.concat(\n",
    "    [train, train_derived2.drop([\"EMAIL\", \"activity_day_start\"], axis=1)], axis=1\n",
    ")\n",
    "test = pd.concat(\n",
    "    [test, test_derived2.drop([\"EMAIL\", \"activity_day_start\"], axis=1)], axis=1\n",
    ")"
   ]
  },
  {
   "cell_type": "code",
   "execution_count": 13,
   "metadata": {},
   "outputs": [],
   "source": [
    "for col in train.columns:\n",
    "    if \"_x\" in col:\n",
    "        train.drop([col], axis=1, inplace=True)\n",
    "        train.rename(\n",
    "            columns={col.replace(\"_x\", \"_y\"): col.replace(\"_x\", \"\")}, inplace=True\n",
    "        )\n",
    "    if \"avg_\" in col:\n",
    "        train.drop([col], axis=1, inplace=True)\n",
    "    if \"std_\" in col:\n",
    "        train.drop([col], axis=1, inplace=True)\n",
    "\n",
    "for col in test.columns:\n",
    "    if \"_x\" in col:\n",
    "        test.drop([col], axis=1, inplace=True)\n",
    "        test.rename(\n",
    "            columns={col.replace(\"_x\", \"_y\"): col.replace(\"_x\", \"\")}, inplace=True\n",
    "        )\n",
    "    if \"avg_\" in col:\n",
    "        test.drop([col], axis=1, inplace=True)\n",
    "    if \"std_\" in col:\n",
    "        test.drop([col], axis=1, inplace=True)"
   ]
  },
  {
   "cell_type": "code",
   "execution_count": 14,
   "metadata": {},
   "outputs": [],
   "source": [
    "label_encoder = {\"CN\": 0, \"MCI\": 1, \"Dem\": 2}"
   ]
  },
  {
   "cell_type": "code",
   "execution_count": 15,
   "metadata": {},
   "outputs": [],
   "source": [
    "train[\"label\"] = train[\"DIAG_NM\"].map(label_encoder)\n",
    "test[\"label\"] = test[\"DIAG_NM\"].map(label_encoder)\n",
    "train.drop([\"DIAG_NM\"], axis=1, inplace=True)\n",
    "test.drop([\"DIAG_NM\"], axis=1, inplace=True)"
   ]
  },
  {
   "cell_type": "markdown",
   "metadata": {},
   "source": [
    "# feature selection"
   ]
  },
  {
   "cell_type": "code",
   "execution_count": 16,
   "metadata": {},
   "outputs": [
    {
     "data": {
      "text/plain": [
       "(['abnormal_wake_time',\n",
       "  'activity_average_met',\n",
       "  'activity_average_met_30d_avg',\n",
       "  'activity_average_met_3d_avg',\n",
       "  'activity_average_met_7d_avg',\n",
       "  'activity_average_met_lag2',\n",
       "  'activity_average_met_lag3',\n",
       "  'activity_cal_active',\n",
       "  'activity_cal_total',\n",
       "  'activity_daily_movement',\n",
       "  'activity_high',\n",
       "  'activity_inactive',\n",
       "  'activity_inactive_30d_avg',\n",
       "  'activity_inactive_3d_avg',\n",
       "  'activity_inactive_7d_avg',\n",
       "  'activity_inactive_lag2',\n",
       "  'activity_inactive_lag3',\n",
       "  'activity_inactivity_alerts',\n",
       "  'activity_low',\n",
       "  'activity_medium',\n",
       "  'activity_met_min_high',\n",
       "  'activity_met_min_inactive',\n",
       "  'activity_met_min_low',\n",
       "  'activity_met_min_medium',\n",
       "  'activity_non_wear',\n",
       "  'activity_rest',\n",
       "  'activity_score',\n",
       "  'activity_score_meet_daily_targets',\n",
       "  'activity_score_move_every_hour',\n",
       "  'activity_score_recovery_time',\n",
       "  'activity_score_stay_active',\n",
       "  'activity_score_training_frequency',\n",
       "  'activity_score_training_volume',\n",
       "  'activity_steps',\n",
       "  'activity_total',\n",
       "  'awake_interval_avg',\n",
       "  'awake_longest_duration',\n",
       "  'awake_longest_duration_30d_avg',\n",
       "  'awake_longest_duration_3d_avg',\n",
       "  'awake_longest_duration_7d_avg',\n",
       "  'awake_longest_duration_lag2',\n",
       "  'awake_longest_duration_lag3',\n",
       "  'awake_ratio_5h',\n",
       "  'awake_ratio_5h_30d_avg',\n",
       "  'awake_ratio_5h_3d_avg',\n",
       "  'awake_ratio_5h_7d_avg',\n",
       "  'awake_ratio_5h_lag2',\n",
       "  'awake_ratio_5h_lag3',\n",
       "  'bedtime_hour',\n",
       "  'count_0_90_deep',\n",
       "  'count_0_90_rem',\n",
       "  'daytime',\n",
       "  'deep_ratio_5h',\n",
       "  'deep_ratio_5h_30d_avg',\n",
       "  'deep_ratio_5h_3d_avg',\n",
       "  'deep_ratio_5h_7d_avg',\n",
       "  'deep_ratio_5h_lag2',\n",
       "  'deep_ratio_5h_lag3',\n",
       "  'evening',\n",
       "  'evening_ratio',\n",
       "  'evening_ratio_30d_avg',\n",
       "  'evening_ratio_3d_avg',\n",
       "  'evening_ratio_7d_avg',\n",
       "  'evening_ratio_lag2',\n",
       "  'evening_ratio_lag3',\n",
       "  'hr_entropy_0_90',\n",
       "  'hr_iqr_0_90',\n",
       "  'hr_max_0_90',\n",
       "  'hr_mean_0_90',\n",
       "  'hr_min_0_90',\n",
       "  'hr_pattern_0',\n",
       "  'hr_pattern_3',\n",
       "  'hr_pattern_5',\n",
       "  'met_mad_10_14',\n",
       "  'met_max_10_14',\n",
       "  'met_mean_10_14',\n",
       "  'met_min_10_14',\n",
       "  'met_rmsd_10_14',\n",
       "  'morning',\n",
       "  'morning_ratio',\n",
       "  'morning_ratio_30d_avg',\n",
       "  'morning_ratio_3d_avg',\n",
       "  'morning_ratio_7d_avg',\n",
       "  'morning_ratio_lag2',\n",
       "  'morning_ratio_lag3',\n",
       "  'night',\n",
       "  'rmssd_entropy_0_90',\n",
       "  'rmssd_iqr_0_90',\n",
       "  'rmssd_mad_0_90',\n",
       "  'rmssd_max_0_90',\n",
       "  'rmssd_mean_0_90',\n",
       "  'rmssd_min_0_90',\n",
       "  'rmssd_rmsd_0_90',\n",
       "  'sleep_alignment',\n",
       "  'sleep_alignment_chronotype',\n",
       "  'sleep_alignment_chronotype_mins',\n",
       "  'sleep_awake',\n",
       "  'sleep_awake_ratio',\n",
       "  'sleep_awake_ratio_30d_avg',\n",
       "  'sleep_awake_ratio_3d_avg',\n",
       "  'sleep_awake_ratio_7d_avg',\n",
       "  'sleep_awake_ratio_lag2',\n",
       "  'sleep_awake_ratio_lag3',\n",
       "  'sleep_breath_average',\n",
       "  'sleep_consistency',\n",
       "  'sleep_consistency_30d_avg',\n",
       "  'sleep_consistency_3d_avg',\n",
       "  'sleep_consistency_7d_avg',\n",
       "  'sleep_consistency_lag2',\n",
       "  'sleep_consistency_lag3',\n",
       "  'sleep_deep',\n",
       "  'sleep_deep_ratio',\n",
       "  'sleep_deep_ratio_30d_avg',\n",
       "  'sleep_deep_ratio_3d_avg',\n",
       "  'sleep_deep_ratio_7d_avg',\n",
       "  'sleep_deep_ratio_lag2',\n",
       "  'sleep_deep_ratio_lag3',\n",
       "  'sleep_duration',\n",
       "  'sleep_duration_hours',\n",
       "  'sleep_efficiency',\n",
       "  'sleep_end_hour',\n",
       "  'sleep_end_weekday',\n",
       "  'sleep_hr_average',\n",
       "  'sleep_hr_lowest',\n",
       "  'sleep_hr_lowest_30d_avg',\n",
       "  'sleep_hr_lowest_3d_avg',\n",
       "  'sleep_hr_lowest_7d_avg',\n",
       "  'sleep_hr_lowest_lag2',\n",
       "  'sleep_hr_lowest_lag3',\n",
       "  'sleep_light',\n",
       "  'sleep_light_ratio',\n",
       "  'sleep_light_ratio_30d_avg',\n",
       "  'sleep_light_ratio_3d_avg',\n",
       "  'sleep_light_ratio_7d_avg',\n",
       "  'sleep_light_ratio_lag2',\n",
       "  'sleep_light_ratio_lag3',\n",
       "  'sleep_midpoint_at_delta',\n",
       "  'sleep_midpoint_at_delta_norm',\n",
       "  'sleep_midpoint_time',\n",
       "  'sleep_onset_latency',\n",
       "  'sleep_rem',\n",
       "  'sleep_rem_ratio',\n",
       "  'sleep_rem_ratio_30d_avg',\n",
       "  'sleep_rem_ratio_3d_avg',\n",
       "  'sleep_rem_ratio_7d_avg',\n",
       "  'sleep_rem_ratio_lag2',\n",
       "  'sleep_rem_ratio_lag3',\n",
       "  'sleep_restless',\n",
       "  'sleep_rmssd',\n",
       "  'sleep_score',\n",
       "  'sleep_score_alignment',\n",
       "  'sleep_score_deep',\n",
       "  'sleep_score_disturbances',\n",
       "  'sleep_score_efficiency',\n",
       "  'sleep_score_latency',\n",
       "  'sleep_score_rem',\n",
       "  'sleep_score_total',\n",
       "  'sleep_start_hour',\n",
       "  'sleep_start_weekday',\n",
       "  'sleep_startpoint_at_delta_norm',\n",
       "  'sleep_total',\n",
       "  'time_to_reach_mean_min',\n",
       "  'total_met',\n",
       "  'total_met_30d_avg',\n",
       "  'total_met_3d_avg',\n",
       "  'total_met_7d_avg',\n",
       "  'total_met_lag2',\n",
       "  'total_met_lag3',\n",
       "  'wakeup_time_score'],\n",
       " 169)"
      ]
     },
     "execution_count": 16,
     "metadata": {},
     "output_type": "execute_result"
    }
   ],
   "source": [
    "drop_features = [\n",
    "    \"sleep_period_id\",\n",
    "    \"sleep_is_longest\",\n",
    "    \"sleep_temperature_delta\",\n",
    "    \"sleep_temperature_deviation\",\n",
    "]\n",
    "\n",
    "train_selected = train[train.columns.difference(drop_features)]\n",
    "test_selected = test[test.columns.difference(drop_features)]\n",
    "\n",
    "selected_features = [\n",
    "    col\n",
    "    for col in train_selected.select_dtypes(include=[int, float]).columns\n",
    "    if col != \"label\"\n",
    "]\n",
    "\n",
    "selected_features, len(selected_features)  # original = 51"
   ]
  },
  {
   "cell_type": "markdown",
   "metadata": {},
   "source": [
    "# 데이터 다운캐스팅"
   ]
  },
  {
   "cell_type": "code",
   "execution_count": 17,
   "metadata": {},
   "outputs": [
    {
     "name": "stdout",
     "output_type": "stream",
     "text": [
      "56.5% 압축됨\n",
      "56.9% 압축됨\n"
     ]
    }
   ],
   "source": [
    "def downcast(df, verbose=True):\n",
    "    start_mem = df.memory_usage().sum() / 1024**2  # 1MB = 1024**2 Byte\n",
    "    for col in df.columns:\n",
    "        dtype_name = df[col].dtype.name\n",
    "        if dtype_name == \"object\":\n",
    "            pass\n",
    "        elif dtype_name == \"bool\":\n",
    "            df[col] = df[col].astype(\"int8\")\n",
    "        elif dtype_name.startswith(\"int\") or (df[col].round() == df[col]).all():\n",
    "            df[col] = pd.to_numeric(df[col], downcast=\"integer\")\n",
    "        else:\n",
    "            df[col] = pd.to_numeric(df[col], downcast=\"float\")\n",
    "    end_mem = df.memory_usage().sum() / 1024**2\n",
    "    if verbose:\n",
    "        print(\"{:.1f}% 압축됨\".format(100 * (start_mem - end_mem) / start_mem))\n",
    "\n",
    "    return df\n",
    "\n",
    "\n",
    "train = downcast(train)\n",
    "test = downcast(test)"
   ]
  },
  {
   "cell_type": "markdown",
   "metadata": {},
   "source": [
    "# 데이터 나누기"
   ]
  },
  {
   "cell_type": "code",
   "execution_count": 18,
   "metadata": {},
   "outputs": [],
   "source": [
    "X_test = test_selected[selected_features]\n",
    "y_test = test_selected[\"label\"]"
   ]
  },
  {
   "cell_type": "code",
   "execution_count": 19,
   "metadata": {},
   "outputs": [
    {
     "data": {
      "text/plain": [
       "((9704, 169), (2478, 169), (2478,))"
      ]
     },
     "execution_count": 19,
     "metadata": {},
     "output_type": "execute_result"
    }
   ],
   "source": [
    "train_selected[selected_features].shape, X_test.shape, y_test.shape"
   ]
  },
  {
   "cell_type": "markdown",
   "metadata": {},
   "source": [
    "# Train, Test 데이터 검증"
   ]
  },
  {
   "cell_type": "code",
   "execution_count": 20,
   "metadata": {},
   "outputs": [
    {
     "data": {
      "text/plain": [
       "set()"
      ]
     },
     "execution_count": 20,
     "metadata": {},
     "output_type": "execute_result"
    }
   ],
   "source": [
    "set(train_selected['EMAIL']) & set(test_selected['EMAIL'])"
   ]
  },
  {
   "cell_type": "markdown",
   "metadata": {},
   "source": [
    "# DIAG_NM(label) 비율"
   ]
  },
  {
   "cell_type": "code",
   "execution_count": 21,
   "metadata": {},
   "outputs": [
    {
     "data": {
      "image/png": "[encoded data removed]",
      "text/plain": [
       "<Figure size 1200x500 with 2 Axes>"
      ]
     },
     "metadata": {},
     "output_type": "display_data"
    }
   ],
   "source": [
    "import matplotlib.pyplot as plt\n",
    "\n",
    "class_distribution_train = train[\"label\"].value_counts()\n",
    "class_distribution_test = test[\"label\"].value_counts()\n",
    "\n",
    "fig, axes = plt.subplots(1, 2, figsize=(12, 5))\n",
    "\n",
    "axes[0].bar(\n",
    "    class_distribution_train.index,\n",
    "    class_distribution_train.values,\n",
    "    color=\"red\",\n",
    "    alpha=0.7,\n",
    ")\n",
    "axes[0].set_xlabel(None)\n",
    "axes[0].set_ylabel(\"Percentage (%)\")\n",
    "axes[0].set_title(\"Training Set Label Distribution\")\n",
    "axes[0].set_xticks([0, 1, 2], [\"정상\", \"경증치매\", \"중증치매\"])\n",
    "\n",
    "axes[1].bar(\n",
    "    class_distribution_test.index,\n",
    "    class_distribution_test.values,\n",
    "    color=\"blue\",\n",
    "    alpha=0.7,\n",
    ")\n",
    "axes[1].set_xlabel(None)\n",
    "axes[1].set_ylabel(\"Percentage (%)\")\n",
    "axes[1].set_title(\"Test Set Label Distribution\")\n",
    "axes[1].set_xticks([0, 1, 2], [\"정상\", \"경증치매\", \"중증치매\"])\n",
    "\n",
    "plt.tight_layout()\n",
    "plt.show()"
   ]
  },
  {
   "cell_type": "markdown",
   "metadata": {},
   "source": [
    "# 모델 학습 및 성능 검증"
   ]
  },
  {
   "cell_type": "code",
   "execution_count": 22,
   "metadata": {},
   "outputs": [],
   "source": [
    "from sklearn.linear_model import LogisticRegression\n",
    "from sklearn.tree import DecisionTreeClassifier\n",
    "\n",
    "# 모델 학습 및 평가\n",
    "models = {\n",
    "    \"Lasso Regression\": LogisticRegression(penalty='l1', solver='liblinear', multi_class='ovr'),\n",
    "    \"Decision Tree\": DecisionTreeClassifier(random_state=random_seed),\n",
    "}"
   ]
  },
  {
   "cell_type": "code",
   "execution_count": 24,
   "metadata": {},
   "outputs": [
    {
     "name": "stderr",
     "output_type": "stream",
     "text": [
      "/usr/local/anaconda3/envs/env2501/lib/python3.8/site-packages/sklearn/svm/_base.py:1244: ConvergenceWarning: Liblinear failed to converge, increase the number of iterations.\n",
      "  warnings.warn(\n",
      "/usr/local/anaconda3/envs/env2501/lib/python3.8/site-packages/sklearn/svm/_base.py:1244: ConvergenceWarning: Liblinear failed to converge, increase the number of iterations.\n",
      "  warnings.warn(\n",
      "/usr/local/anaconda3/envs/env2501/lib/python3.8/site-packages/sklearn/svm/_base.py:1244: ConvergenceWarning: Liblinear failed to converge, increase the number of iterations.\n",
      "  warnings.warn(\n",
      "/usr/local/anaconda3/envs/env2501/lib/python3.8/site-packages/sklearn/svm/_base.py:1244: ConvergenceWarning: Liblinear failed to converge, increase the number of iterations.\n",
      "  warnings.warn(\n",
      "/usr/local/anaconda3/envs/env2501/lib/python3.8/site-packages/sklearn/svm/_base.py:1244: ConvergenceWarning: Liblinear failed to converge, increase the number of iterations.\n",
      "  warnings.warn(\n",
      "/usr/local/anaconda3/envs/env2501/lib/python3.8/site-packages/sklearn/svm/_base.py:1244: ConvergenceWarning: Liblinear failed to converge, increase the number of iterations.\n",
      "  warnings.warn(\n",
      "/usr/local/anaconda3/envs/env2501/lib/python3.8/site-packages/sklearn/svm/_base.py:1244: ConvergenceWarning: Liblinear failed to converge, increase the number of iterations.\n",
      "  warnings.warn(\n",
      "/usr/local/anaconda3/envs/env2501/lib/python3.8/site-packages/sklearn/svm/_base.py:1244: ConvergenceWarning: Liblinear failed to converge, increase the number of iterations.\n",
      "  warnings.warn(\n",
      "/usr/local/anaconda3/envs/env2501/lib/python3.8/site-packages/sklearn/svm/_base.py:1244: ConvergenceWarning: Liblinear failed to converge, increase the number of iterations.\n",
      "  warnings.warn(\n",
      "/usr/local/anaconda3/envs/env2501/lib/python3.8/site-packages/sklearn/svm/_base.py:1244: ConvergenceWarning: Liblinear failed to converge, increase the number of iterations.\n",
      "  warnings.warn(\n",
      "/usr/local/anaconda3/envs/env2501/lib/python3.8/site-packages/sklearn/svm/_base.py:1244: ConvergenceWarning: Liblinear failed to converge, increase the number of iterations.\n",
      "  warnings.warn(\n",
      "/usr/local/anaconda3/envs/env2501/lib/python3.8/site-packages/sklearn/svm/_base.py:1244: ConvergenceWarning: Liblinear failed to converge, increase the number of iterations.\n",
      "  warnings.warn(\n",
      "/usr/local/anaconda3/envs/env2501/lib/python3.8/site-packages/sklearn/svm/_base.py:1244: ConvergenceWarning: Liblinear failed to converge, increase the number of iterations.\n",
      "  warnings.warn(\n",
      "/usr/local/anaconda3/envs/env2501/lib/python3.8/site-packages/sklearn/svm/_base.py:1244: ConvergenceWarning: Liblinear failed to converge, increase the number of iterations.\n",
      "  warnings.warn(\n",
      "/usr/local/anaconda3/envs/env2501/lib/python3.8/site-packages/sklearn/svm/_base.py:1244: ConvergenceWarning: Liblinear failed to converge, increase the number of iterations.\n",
      "  warnings.warn(\n",
      "/usr/local/anaconda3/envs/env2501/lib/python3.8/site-packages/sklearn/svm/_base.py:1244: ConvergenceWarning: Liblinear failed to converge, increase the number of iterations.\n",
      "  warnings.warn(\n",
      "/usr/local/anaconda3/envs/env2501/lib/python3.8/site-packages/sklearn/svm/_base.py:1244: ConvergenceWarning: Liblinear failed to converge, increase the number of iterations.\n",
      "  warnings.warn(\n",
      "/usr/local/anaconda3/envs/env2501/lib/python3.8/site-packages/sklearn/svm/_base.py:1244: ConvergenceWarning: Liblinear failed to converge, increase the number of iterations.\n",
      "  warnings.warn(\n",
      "/usr/local/anaconda3/envs/env2501/lib/python3.8/site-packages/sklearn/svm/_base.py:1244: ConvergenceWarning: Liblinear failed to converge, increase the number of iterations.\n",
      "  warnings.warn(\n",
      "/usr/local/anaconda3/envs/env2501/lib/python3.8/site-packages/sklearn/svm/_base.py:1244: ConvergenceWarning: Liblinear failed to converge, increase the number of iterations.\n",
      "  warnings.warn(\n",
      "/usr/local/anaconda3/envs/env2501/lib/python3.8/site-packages/sklearn/svm/_base.py:1244: ConvergenceWarning: Liblinear failed to converge, increase the number of iterations.\n",
      "  warnings.warn(\n",
      "/usr/local/anaconda3/envs/env2501/lib/python3.8/site-packages/sklearn/svm/_base.py:1244: ConvergenceWarning: Liblinear failed to converge, increase the number of iterations.\n",
      "  warnings.warn(\n",
      "/usr/local/anaconda3/envs/env2501/lib/python3.8/site-packages/sklearn/svm/_base.py:1244: ConvergenceWarning: Liblinear failed to converge, increase the number of iterations.\n",
      "  warnings.warn(\n",
      "/usr/local/anaconda3/envs/env2501/lib/python3.8/site-packages/sklearn/svm/_base.py:1244: ConvergenceWarning: Liblinear failed to converge, increase the number of iterations.\n",
      "  warnings.warn(\n"
     ]
    },
    {
     "name": "stdout",
     "output_type": "stream",
     "text": [
      "🔹 Optimal number of features: 124\n",
      "🔹 Selected Features: ['abnormal_wake_time', 'activity_average_met', 'activity_average_met_30d_avg', 'activity_average_met_lag3', 'activity_cal_active', 'activity_cal_total', 'activity_daily_movement', 'activity_high', 'activity_inactive', 'activity_inactive_30d_avg', 'activity_inactive_3d_avg', 'activity_inactive_7d_avg', 'activity_inactive_lag2', 'activity_inactive_lag3', 'activity_inactivity_alerts', 'activity_low', 'activity_medium', 'activity_met_min_high', 'activity_met_min_inactive', 'activity_met_min_low', 'activity_met_min_medium', 'activity_non_wear', 'activity_rest', 'activity_score', 'activity_score_meet_daily_targets', 'activity_score_move_every_hour', 'activity_score_recovery_time', 'activity_score_stay_active', 'activity_score_training_frequency', 'activity_score_training_volume', 'activity_steps', 'activity_total', 'awake_longest_duration', 'awake_longest_duration_30d_avg', 'awake_longest_duration_3d_avg', 'awake_longest_duration_7d_avg', 'awake_longest_duration_lag2', 'awake_longest_duration_lag3', 'bedtime_hour', 'count_0_90_deep', 'count_0_90_rem', 'daytime', 'evening', 'evening_ratio_30d_avg', 'evening_ratio_lag2', 'evening_ratio_lag3', 'hr_entropy_0_90', 'hr_iqr_0_90', 'hr_max_0_90', 'hr_mean_0_90', 'hr_min_0_90', 'hr_pattern_0', 'hr_pattern_3', 'hr_pattern_5', 'met_mad_10_14', 'met_max_10_14', 'met_mean_10_14', 'met_min_10_14', 'met_rmsd_10_14', 'morning', 'morning_ratio', 'morning_ratio_30d_avg', 'night', 'rmssd_entropy_0_90', 'rmssd_iqr_0_90', 'rmssd_mad_0_90', 'rmssd_max_0_90', 'rmssd_mean_0_90', 'rmssd_min_0_90', 'rmssd_rmsd_0_90', 'sleep_alignment', 'sleep_awake', 'sleep_awake_ratio_30d_avg', 'sleep_awake_ratio_7d_avg', 'sleep_awake_ratio_lag2', 'sleep_awake_ratio_lag3', 'sleep_breath_average', 'sleep_consistency_30d_avg', 'sleep_consistency_lag2', 'sleep_consistency_lag3', 'sleep_deep', 'sleep_deep_ratio', 'sleep_deep_ratio_30d_avg', 'sleep_deep_ratio_3d_avg', 'sleep_deep_ratio_7d_avg', 'sleep_deep_ratio_lag2', 'sleep_deep_ratio_lag3', 'sleep_duration_hours', 'sleep_efficiency', 'sleep_end_hour', 'sleep_end_weekday', 'sleep_hr_average', 'sleep_hr_lowest', 'sleep_hr_lowest_30d_avg', 'sleep_hr_lowest_3d_avg', 'sleep_hr_lowest_7d_avg', 'sleep_hr_lowest_lag2', 'sleep_hr_lowest_lag3', 'sleep_light', 'sleep_light_ratio', 'sleep_light_ratio_30d_avg', 'sleep_rem', 'sleep_rem_ratio', 'sleep_rem_ratio_30d_avg', 'sleep_restless', 'sleep_rmssd', 'sleep_score', 'sleep_score_alignment', 'sleep_score_deep', 'sleep_score_disturbances', 'sleep_score_efficiency', 'sleep_score_latency', 'sleep_score_rem', 'sleep_score_total', 'sleep_start_hour', 'sleep_start_weekday', 'time_to_reach_mean_min', 'total_met', 'total_met_30d_avg', 'total_met_3d_avg', 'total_met_7d_avg', 'total_met_lag2', 'total_met_lag3', 'wakeup_time_score']\n",
      "######################################## Model: Lasso Regression ########################################\n",
      "=== Average Classification Report ===\n",
      "              precision    recall  f1-score      support\n",
      "0              0.617584  0.741844  0.673281  1926.666667\n",
      "1              0.376792  0.270500  0.313738  1117.666667\n",
      "2              0.261090  0.161908  0.196400   190.333333\n",
      "accuracy       0.544321  0.544321  0.544321     0.544321\n",
      "macro avg      0.418489  0.391417  0.394473  3234.666667\n",
      "weighted avg   0.515633  0.544321  0.521788  3234.666667\n",
      "Average Accuracy: 0.5443\n",
      "Average F1-score: 0.3945\n",
      "============================================================\n",
      "🔹 Optimal number of features: 69\n",
      "🔹 Selected Features: ['activity_average_met_30d_avg', 'activity_average_met_7d_avg', 'activity_average_met_lag2', 'activity_average_met_lag3', 'activity_cal_active', 'activity_cal_total', 'activity_high', 'activity_inactive_30d_avg', 'activity_inactive_7d_avg', 'activity_inactive_lag2', 'activity_inactive_lag3', 'activity_low', 'activity_met_min_inactive', 'activity_met_min_medium', 'activity_rest', 'activity_score', 'activity_score_meet_daily_targets', 'activity_score_training_volume', 'awake_longest_duration_30d_avg', 'awake_longest_duration_3d_avg', 'daytime', 'evening', 'evening_ratio_30d_avg', 'evening_ratio_7d_avg', 'evening_ratio_lag3', 'hr_entropy_0_90', 'hr_pattern_3', 'met_mean_10_14', 'morning', 'morning_ratio_30d_avg', 'morning_ratio_7d_avg', 'night', 'rmssd_mean_0_90', 'rmssd_rmsd_0_90', 'sleep_alignment_chronotype', 'sleep_awake_ratio_30d_avg', 'sleep_awake_ratio_3d_avg', 'sleep_awake_ratio_7d_avg', 'sleep_awake_ratio_lag2', 'sleep_awake_ratio_lag3', 'sleep_breath_average', 'sleep_consistency', 'sleep_consistency_30d_avg', 'sleep_consistency_3d_avg', 'sleep_consistency_7d_avg', 'sleep_consistency_lag2', 'sleep_consistency_lag3', 'sleep_deep_ratio_30d_avg', 'sleep_deep_ratio_7d_avg', 'sleep_hr_average', 'sleep_hr_lowest_30d_avg', 'sleep_hr_lowest_3d_avg', 'sleep_hr_lowest_7d_avg', 'sleep_light', 'sleep_light_ratio_30d_avg', 'sleep_light_ratio_7d_avg', 'sleep_light_ratio_lag3', 'sleep_rem_ratio', 'sleep_rem_ratio_30d_avg', 'sleep_rem_ratio_7d_avg', 'sleep_rmssd', 'sleep_score_disturbances', 'sleep_score_latency', 'time_to_reach_mean_min', 'total_met_30d_avg', 'total_met_3d_avg', 'total_met_7d_avg', 'total_met_lag3', 'wakeup_time_score']\n",
      "######################################## Model: Decision Tree ########################################\n",
      "=== Average Classification Report ===\n",
      "              precision    recall  f1-score      support\n",
      "0              0.602098  0.634250  0.611534  1926.666667\n",
      "1              0.348818  0.330060  0.331290  1117.666667\n",
      "2              0.395310  0.350017  0.353512   190.333333\n",
      "accuracy       0.506838  0.506838  0.506838     0.506838\n",
      "macro avg      0.448742  0.438109  0.432112  3234.666667\n",
      "weighted avg   0.502606  0.506838  0.496859  3234.666667\n",
      "Average Accuracy: 0.5068\n",
      "Average F1-score: 0.4321\n",
      "============================================================\n"
     ]
    }
   ],
   "source": [
    "import numpy as np\n",
    "import pandas as pd\n",
    "from sklearn.feature_selection import RFECV\n",
    "from sklearn.model_selection import StratifiedKFold\n",
    "from sklearn.metrics import recall_score, make_scorer\n",
    "from sklearn.metrics import accuracy_score, f1_score, classification_report\n",
    "\n",
    "\n",
    "def evaluate_rfecv_model(\n",
    "    name, model, train, features, n_splits=n_splits, random_seed=random_seed\n",
    "):\n",
    "    acc_scores = []\n",
    "    f1_scores = []\n",
    "    class_report_list = []\n",
    "\n",
    "    # unique EMAIL, label 쌍 추출\n",
    "    unique_patient_labels = train[[\"EMAIL\", \"label\"]].drop_duplicates()\n",
    "\n",
    "    # StratifiedKFold 설정\n",
    "    skf = StratifiedKFold(n_splits=n_splits, shuffle=True, random_state=random_seed)\n",
    "\n",
    "    # RFECV를 적용하여 최적의 피처 선택\n",
    "    X = train[features]\n",
    "    y = train[\"label\"]\n",
    "    \n",
    "    # 클래스 1(경증치매)의 Recall을 Scoring으로 설정\n",
    "    scoring = make_scorer(recall_score, labels=[1], average='macro')\n",
    "\n",
    "    rfecv = RFECV(\n",
    "        estimator=model,\n",
    "        step=5,\n",
    "        cv=skf,\n",
    "        scoring=scoring,\n",
    "        min_features_to_select=60,\n",
    "        n_jobs=-1,\n",
    "    )\n",
    "    rfecv.fit(X, y)\n",
    "\n",
    "    # 선택된 피처 목록\n",
    "    selected_features = [f for f, keep in zip(features, rfecv.support_) if keep]\n",
    "    print(f\"🔹 Optimal number of features: {rfecv.n_features_}\")\n",
    "    print(f\"🔹 Selected Features: {selected_features}\")\n",
    "\n",
    "    for fold_idx, (train_idx, val_idx) in enumerate(\n",
    "        skf.split(unique_patient_labels[\"EMAIL\"], unique_patient_labels[\"label\"])\n",
    "    ):\n",
    "        # 학습/검증 데이터 분리\n",
    "        train_mask = train[\"EMAIL\"].isin(unique_patient_labels.iloc[train_idx][\"EMAIL\"])\n",
    "        val_mask = train[\"EMAIL\"].isin(unique_patient_labels.iloc[val_idx][\"EMAIL\"])\n",
    "\n",
    "        X_train, y_train = (\n",
    "            train.loc[train_mask, selected_features],\n",
    "            train.loc[train_mask, \"label\"],\n",
    "        )\n",
    "        X_val, y_val = (\n",
    "            train.loc[val_mask, selected_features],\n",
    "            train.loc[val_mask, \"label\"],\n",
    "        )\n",
    "\n",
    "        # 모델 학습\n",
    "        model.fit(X_train, y_train)\n",
    "\n",
    "        # 모델 예측\n",
    "        y_pred = model.predict(X_val)\n",
    "\n",
    "        # 평가 저장\n",
    "        acc_scores.append(accuracy_score(y_val, y_pred))\n",
    "        f1_scores.append(f1_score(y_val, y_pred, average=\"macro\"))\n",
    "\n",
    "        # Classification Report 저장\n",
    "        class_report_list.append(\n",
    "            pd.DataFrame(classification_report(y_val, y_pred, output_dict=True)).T\n",
    "        )\n",
    "\n",
    "    # Classification Report 평균\n",
    "    avg_class_report = pd.concat(class_report_list).groupby(level=0).mean()\n",
    "\n",
    "    # 평가 결과 출력\n",
    "    print(\"#\" * 40, f\"Model: {name}\", \"#\" * 40)\n",
    "    print(\"=== Average Classification Report ===\")\n",
    "    print(avg_class_report)\n",
    "    print(f\"Average Accuracy: {np.mean(acc_scores):.4f}\")\n",
    "    print(f\"Average F1-score: {np.mean(f1_scores):.4f}\")\n",
    "    print(\"=\" * 60)\n",
    "\n",
    "    return name, model, selected_features\n",
    "\n",
    "\n",
    "# 모델 저장용 딕셔너리\n",
    "rfecv_models = {}\n",
    "rfecv_selected_features = {}\n",
    "\n",
    "# 모델별 RFECV 평가 실행\n",
    "for name, model in models.items():\n",
    "    name_, model_, selected_features_ = evaluate_rfecv_model(\n",
    "        name, model, train, selected_features\n",
    "    )\n",
    "    rfecv_models[name] = model_\n",
    "    rfecv_selected_features[name] = selected_features_"
   ]
  },
  {
   "cell_type": "code",
   "execution_count": 25,
   "metadata": {},
   "outputs": [],
   "source": [
    "def learn_model(name, model, train, n_splits=n_splits):\n",
    "    y_train = train[\"label\"]\n",
    "    X_train = train[rfecv_selected_features[name]]\n",
    "\n",
    "    # 모델 학습\n",
    "    model.fit(X_train, y_train)\n",
    "\n",
    "    return name, model\n",
    "\n",
    "for name, model in models.items():\n",
    "    name_, model_ = learn_model(name, model, train)\n",
    "    rfecv_models[name] = model_"
   ]
  },
  {
   "cell_type": "markdown",
   "metadata": {},
   "source": [
    "# Test dataset 예측 결과"
   ]
  },
  {
   "cell_type": "code",
   "execution_count": 26,
   "metadata": {},
   "outputs": [
    {
     "name": "stdout",
     "output_type": "stream",
     "text": [
      "\n",
      " ======================================== TEST SET EVALUATION ======================================== \n",
      "\n",
      "=== Evaluating Lasso Regression on Test Set ===\n",
      "Test Accuracy: 0.6465\n",
      "Test F1-score: 0.3965\n",
      "Test Classification Report:\n",
      "               precision    recall  f1-score      support\n",
      "0              0.781379  0.776585  0.778974  1956.000000\n",
      "1              0.090164  0.142857  0.110553   308.000000\n",
      "2              0.847826  0.182243  0.300000   214.000000\n",
      "accuracy       0.646489  0.646489  0.646489     0.646489\n",
      "macro avg      0.573123  0.367228  0.396509  2478.000000\n",
      "weighted avg   0.701203  0.646489  0.654529  2478.000000\n",
      "============================================================\n",
      "=== Evaluating Decision Tree on Test Set ===\n",
      "Test Accuracy: 0.5307\n",
      "Test F1-score: 0.3757\n",
      "Test Classification Report:\n",
      "               precision    recall  f1-score     support\n",
      "0              0.796907  0.605828  0.688353  1956.00000\n",
      "1              0.093049  0.269481  0.138333   308.00000\n",
      "2              0.474747  0.219626  0.300319   214.00000\n",
      "accuracy       0.530670  0.530670  0.530670     0.53067\n",
      "macro avg      0.454901  0.364978  0.375669  2478.00000\n",
      "weighted avg   0.681600  0.530670  0.586479  2478.00000\n",
      "============================================================\n"
     ]
    }
   ],
   "source": [
    "# Test Set 성능 평가\n",
    "print(\"\\n\", \"=\" * 40, \"TEST SET EVALUATION\", \"=\" * 40, \"\\n\")\n",
    "\n",
    "for name, model in rfecv_models.items():\n",
    "    print(f\"=== Evaluating {name} on Test Set ===\")\n",
    "\n",
    "    X_test_selected = X_test[rfecv_selected_features[name]]\n",
    "\n",
    "    # 테스트 데이터 예측\n",
    "    y_test_pred = model.predict(X_test_selected)\n",
    "\n",
    "    # 테스트 데이터 평가\n",
    "    test_acc = accuracy_score(y_test, y_test_pred)\n",
    "    test_f1 = f1_score(y_test, y_test_pred, average=\"macro\")  # 불균형 고려\n",
    "    test_report = classification_report(y_test, y_test_pred, output_dict=True)\n",
    "\n",
    "    # 결과 출력\n",
    "    print(f\"Test Accuracy: {test_acc:.4f}\")\n",
    "    print(f\"Test F1-score: {test_f1:.4f}\")\n",
    "    print(f\"Test Classification Report:\\n\", pd.DataFrame(test_report).T)\n",
    "    print(\"=\" * 60)"
   ]
  }
 ],
 "metadata": {
  "kernelspec": {
   "display_name": "env2501",
   "language": "python",
   "name": "python3"
  },
  "language_info": {
   "codemirror_mode": {
    "name": "ipython",
    "version": 3
   },
   "file_extension": ".py",
   "mimetype": "text/x-python",
   "name": "python",
   "nbconvert_exporter": "python",
   "pygments_lexer": "ipython3",
   "version": "3.8.20"
  }
 },
 "nbformat": 4,
 "nbformat_minor": 2
}
