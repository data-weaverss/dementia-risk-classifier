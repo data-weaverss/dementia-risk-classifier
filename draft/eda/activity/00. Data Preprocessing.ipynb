{
 "cells": [
  {
   "cell_type": "code",
   "execution_count": 12,
   "metadata": {},
   "outputs": [],
   "source": [
    "import os\n",
    "import pandas as pd\n",
    "import numpy as np\n",
    "import warnings\n",
    "warnings.filterwarnings(action='ignore')"
   ]
  },
  {
   "cell_type": "markdown",
   "metadata": {},
   "source": [
    "## 데이터 전처리"
   ]
  },
  {
   "cell_type": "code",
   "execution_count": 13,
   "metadata": {},
   "outputs": [],
   "source": [
    "# train data\n",
    "label_path = \"./data/train/label/\"\n",
    "raw_path = \"./data/train/raw/\"\n",
    "\n",
    "train_label = pd.read_csv(label_path+\"1.걸음걸이/training_label.csv\")\n",
    "train_activity = pd.read_csv(raw_path+'train_activity.csv')\n",
    "train_sleep = pd.read_csv(raw_path+'train_sleep.csv')\n",
    "train_mmse = pd.read_csv(raw_path+'train_mmse.csv')\n",
    "\n",
    "# validation -> test data\n",
    "label_path = \"./data/validation/label/\"\n",
    "raw_path = \"./data/validation/raw/\"\n",
    "\n",
    "# test_label = pd.read_csv(label_path+\"val_label.csv\")\n",
    "test_activity = pd.read_csv(raw_path+'val_activity.csv')\n",
    "test_sleep = pd.read_csv(raw_path+'val_sleep.csv')\n",
    "test_mmse = pd.read_csv(raw_path+'val_mmse.csv')"
   ]
  },
  {
   "cell_type": "code",
   "execution_count": 14,
   "metadata": {},
   "outputs": [
    {
     "name": "stdout",
     "output_type": "stream",
     "text": [
      "train_label: (141, 2)\n",
      "train_activity: (9705, 31)\n",
      "train_sleep: (9705, 36)\n",
      "train_mmse: (141, 38)\n",
      "------------------------------\n",
      "test_activity: (2478, 31)\n",
      "test_sleep: (2478, 36)\n",
      "test_mmse: (33, 38)\n"
     ]
    }
   ],
   "source": [
    "print(\"train_label:\", train_label.shape)\n",
    "print(\"train_activity:\", train_activity.shape)\n",
    "print(\"train_sleep:\", train_sleep.shape)\n",
    "print(\"train_mmse:\", train_mmse.shape)\n",
    "print(\"---\"*10)\n",
    "# print(\"test_label:\", test_label.shape)\n",
    "print(\"test_activity:\", test_activity.shape)\n",
    "print(\"test_sleep:\", test_sleep.shape)\n",
    "print(\"test_mmse:\", test_mmse.shape)"
   ]
  },
  {
   "cell_type": "code",
   "execution_count": 16,
   "metadata": {},
   "outputs": [
    {
     "data": {
      "text/plain": [
       "np.int64(141)"
      ]
     },
     "execution_count": 16,
     "metadata": {},
     "output_type": "execute_result"
    }
   ],
   "source": [
    "train_label['DIAG_NM'].count()"
   ]
  },
  {
   "cell_type": "code",
   "execution_count": 10,
   "metadata": {},
   "outputs": [
    {
     "data": {
      "text/plain": [
       "'2021-02-17T04:00:00+09:00'"
      ]
     },
     "execution_count": 10,
     "metadata": {},
     "output_type": "execute_result"
    }
   ],
   "source": [
    "train_activity['activity_day_start'].max()"
   ]
  },
  {
   "cell_type": "code",
   "execution_count": 5,
   "metadata": {},
   "outputs": [
    {
     "name": "stdout",
     "output_type": "stream",
     "text": [
      "activity: (12183, 31)\n",
      "sleep: (12183, 36)\n",
      "mmse: (174, 38)\n"
     ]
    }
   ],
   "source": [
    "activity = pd.concat([train_activity, test_activity])\n",
    "sleep = pd.concat([train_sleep, test_sleep])\n",
    "mmse = pd.concat([train_mmse, test_mmse])\n",
    "\n",
    "print(\"activity:\", activity.shape)\n",
    "print(\"sleep:\", sleep.shape)\n",
    "print(\"mmse:\", mmse.shape)"
   ]
  },
  {
   "cell_type": "code",
   "execution_count": 6,
   "metadata": {},
   "outputs": [],
   "source": [
    "train_label.rename(columns={\"SAMPLE_EMAIL\": \"EMAIL\"}, inplace=True)\n",
    "test_label.rename(columns={\"SAMPLE_EMAIL\": \"EMAIL\"}, inplace=True)\n",
    "mmse.rename(columns={\"SAMPLE_EMAIL\": \"EMAIL\"}, inplace=True)"
   ]
  },
  {
   "cell_type": "markdown",
   "metadata": {},
   "source": [
    "### 불필요한 열 제거"
   ]
  },
  {
   "cell_type": "code",
   "execution_count": 7,
   "metadata": {},
   "outputs": [],
   "source": [
    "# '...'로 채워진 원본 열을 제거하고 수치 데이터가 있는 열만 남김\n",
    "activity.drop(columns=['activity_class_5min', 'activity_met_1min', \n",
    "                       'activity_day_end',], axis=1, inplace=True)\n",
    "\n",
    "sleep.drop(columns=['sleep_hr_5min', 'sleep_hypnogram_5min', \n",
    "                    'sleep_rmssd_5min'], axis=1, inplace=True)"
   ]
  },
  {
   "cell_type": "markdown",
   "metadata": {},
   "source": [
    "### 컬럼 rename, datetime 형 변환"
   ]
  },
  {
   "cell_type": "code",
   "execution_count": 8,
   "metadata": {},
   "outputs": [],
   "source": [
    "activity.rename(columns={'CONVERT(activity_class_5min USING utf8)':'activity_met_class_5min',\n",
    "                         'CONVERT(activity_met_1min USING utf8)': 'activity_met_1min',\n",
    "                        }, inplace=True)\n",
    "sleep.rename(columns={'CONVERT(sleep_hr_5min USING utf8)':'sleep_hr_5min)',\n",
    "                      'CONVERT(sleep_hypnogram_5min USING utf8)':'sleep_hypnogram_5min',\n",
    "                      'CONVERT(sleep_rmssd_5min USING utf8)':'sleep_rmssd_5min'\n",
    "                      }, inplace=True)"
   ]
  },
  {
   "cell_type": "code",
   "execution_count": 9,
   "metadata": {},
   "outputs": [
    {
     "name": "stdout",
     "output_type": "stream",
     "text": [
      "Activity Data Shape: (12183, 28)\n",
      "Sleep Data Shape: (12183, 33)\n"
     ]
    }
   ],
   "source": [
    "print(f\"Activity Data Shape: {activity.shape}\")\n",
    "print(f\"Sleep Data Shape: {sleep.shape}\")"
   ]
  },
  {
   "cell_type": "code",
   "execution_count": 10,
   "metadata": {},
   "outputs": [],
   "source": [
    "activity.rename(columns={\"activity_day_start\": \"activity_date\"}, inplace=True)"
   ]
  },
  {
   "cell_type": "code",
   "execution_count": 11,
   "metadata": {},
   "outputs": [],
   "source": [
    "activity['activity_date'] = pd.to_datetime(activity['activity_date']).dt.tz_localize(None).dt.normalize()\n",
    "\n",
    "sleep['sleep_bedtime_end'] = pd.to_datetime(sleep['sleep_bedtime_end']).dt.tz_localize(None)\n",
    "sleep['sleep_bedtime_start'] = pd.to_datetime(sleep['sleep_bedtime_start']).dt.tz_localize(None)"
   ]
  },
  {
   "cell_type": "markdown",
   "metadata": {},
   "source": [
    "### 컬럼 정렬 및 log 컬럼 분리"
   ]
  },
  {
   "cell_type": "code",
   "execution_count": 12,
   "metadata": {},
   "outputs": [
    {
     "name": "stdout",
     "output_type": "stream",
     "text": [
      "activity columns: 26\n",
      "activity log columns: 4\n",
      "sleep columns: 30\n",
      "sleep log columns: 5\n"
     ]
    }
   ],
   "source": [
    "activity_sorted = ['EMAIL', 'activity_date', 'activity_non_wear', \n",
    "                   'activity_total', 'activity_cal_active',\n",
    "                   'activity_cal_total', 'activity_daily_movement', 'activity_steps',\n",
    "                   'activity_inactivity_alerts', 'activity_rest', 'activity_inactive', 'activity_low', 'activity_medium', 'activity_high', \n",
    "                   'activity_met_min_inactive','activity_met_min_low','activity_met_min_medium', 'activity_met_min_high','activity_average_met', \n",
    "                   'activity_score', 'activity_score_meet_daily_targets',\n",
    "                   'activity_score_move_every_hour', 'activity_score_recovery_time',\n",
    "                   'activity_score_stay_active', 'activity_score_training_frequency', 'activity_score_training_volume']\n",
    "activity_log = ['EMAIL', 'activity_date', 'activity_met_class_5min', 'activity_met_1min']\n",
    "\n",
    "sleep_sorted = ['EMAIL', 'sleep_bedtime_start', 'sleep_bedtime_end',\n",
    "                'sleep_period_id','sleep_duration', 'sleep_total','sleep_awake', 'sleep_rem', 'sleep_light', 'sleep_deep', \n",
    "                'sleep_efficiency',  'sleep_midpoint_at_delta','sleep_midpoint_time', \n",
    "                'sleep_onset_latency','sleep_is_longest',\n",
    "                'sleep_breath_average','sleep_hr_average', 'sleep_hr_lowest', 'sleep_restless',  'sleep_rmssd',\n",
    "                'sleep_score', 'sleep_score_alignment', 'sleep_score_deep', 'sleep_score_disturbances',\n",
    "                'sleep_score_efficiency', 'sleep_score_latency', 'sleep_score_rem', 'sleep_score_total', 'sleep_temperature_delta','sleep_temperature_deviation']\n",
    "sleep_log = ['EMAIL', 'sleep_bedtime_start', 'sleep_hr_5min)', 'sleep_hypnogram_5min', 'sleep_rmssd_5min']\n",
    "\n",
    "print(\"activity columns:\", len(activity_sorted))\n",
    "print(\"activity log columns:\", len(activity_log))\n",
    "print(\"sleep columns:\", len(sleep_sorted))\n",
    "print(\"sleep log columns:\", len(sleep_log))"
   ]
  },
  {
   "cell_type": "code",
   "execution_count": 13,
   "metadata": {},
   "outputs": [],
   "source": [
    "activity_log = activity[activity_log]\n",
    "activity = activity[activity_sorted]\n",
    "sleep_log = sleep[sleep_log]\n",
    "sleep = sleep[sleep_sorted]"
   ]
  },
  {
   "cell_type": "markdown",
   "metadata": {},
   "source": [
    "### 데이터 저장"
   ]
  },
  {
   "cell_type": "code",
   "execution_count": null,
   "metadata": {},
   "outputs": [],
   "source": [
    "folder=\"data/processed\"\n",
    "os.makedirs(folder, exist_ok=True)"
   ]
  },
  {
   "cell_type": "code",
   "execution_count": 14,
   "metadata": {},
   "outputs": [],
   "source": [
    "activity.to_csv(folder+\"/activity.csv\", index=False)\n",
    "activity_log.to_csv(folder+\"/log/activity_log.csv\", index=False)\n",
    "sleep.to_csv(folder+\"/sleep.csv\", index=False)\n",
    "sleep_log.to_csv(folder+\"/log/sleep_log.csv\", index=False)"
   ]
  },
  {
   "cell_type": "code",
   "execution_count": 15,
   "metadata": {},
   "outputs": [],
   "source": [
    "activity = pd.read_csv(folder+\"/activity.csv\", parse_dates=['activity_date'])\n",
    "activity_log = pd.read_csv(folder+\"/log/activity_log.csv\", parse_dates=['activity_date'])\n",
    "sleep = pd.read_csv(folder+\"/sleep.csv\", parse_dates=['sleep_bedtime_start'])\n",
    "sleep_log = pd.read_csv(folder+\"/log/sleep_log.csv\", parse_dates=['sleep_bedtime_start'])"
   ]
  },
  {
   "cell_type": "code",
   "execution_count": 16,
   "metadata": {},
   "outputs": [],
   "source": [
    "train_label.to_csv(folder+\"/train_label.csv\", index=False)\n",
    "test_label.to_csv(folder+\"/test_label.csv\", index=False)"
   ]
  },
  {
   "cell_type": "code",
   "execution_count": null,
   "metadata": {},
   "outputs": [],
   "source": [
    "## Activity\n",
    "activity_log = pd.read_csv(folder+\"/log/activity_log.csv\", parse_dates=['activity_date'])\n",
    "activity_log.info()\n",
    "### MET Class 5min\n",
    "splited_log = activity_log['activity_met_class_5min'].str.split('/').apply(lambda x: pd.Series(x))\n",
    "splited_log = pd.concat([activity_log, splited_log], axis=1).drop(['activity_met_class_5min', 'activity_met_1min', 288], axis=1)\n",
    "stack_log = splited_log.set_index(['EMAIL', 'activity_date']).stack()\n",
    "met_class = stack_log.reset_index().rename(columns={'level_2': 'time_5min_interval',\n",
    "                                                  0: 'met_class'})\n",
    "met_class.head()\n",
    "met_class.info()\n",
    "empty_idx = met_class[met_class['met_class']==''].index\n",
    "met_class = met_class.drop(empty_idx, axis=0)\n",
    "met_class['met_class'] = met_class['met_class'].astype(int)\n",
    "met_class\n",
    "met_class.to_csv('data/processed/log/met_class.csv', index=False)\n",
    "### MET 1min\n",
    "splited_log = activity_log['activity_met_1min'].str.split('/').apply(lambda x: pd.Series(x))\n",
    "met_1min = pd.concat([activity_log, splited_log], axis=1).drop(['activity_met_class_5min', 'activity_met_1min', 1440], axis=1)\n",
    "met_1min = met_1min.astype(dtype='float',errors='ignore')\n",
    "met_stacked = met_1min.set_index(['EMAIL', 'activity_date']).stack()\n",
    "metlog = met_stacked.reset_index().rename(columns={'level_2': 'minutes_time',\n",
    "                                                  0: 'met'})\n",
    "metlog\n",
    "metlog.info()\n",
    "metlog.to_csv('data/processed/log/met_log.csv', index=False)\n",
    "## Sleep\n",
    "sleep_log = pd.read_csv(folder+\"/log/sleep_log.csv\", parse_dates=['sleep_bedtime_start'])\n",
    "met_class.to_csv('data/processed/log/met_class.csv', index=False)"
   ]
  },
  {
   "cell_type": "markdown",
   "metadata": {},
   "source": [
    "## Activity log Parsing"
   ]
  },
  {
   "cell_type": "code",
   "execution_count": null,
   "metadata": {},
   "outputs": [],
   "source": [
    "activity_log = pd.read_csv(folder+\"/log/activity_log.csv\", parse_dates=['activity_date'])"
   ]
  },
  {
   "cell_type": "code",
   "execution_count": null,
   "metadata": {},
   "outputs": [
    {
     "name": "stdout",
     "output_type": "stream",
     "text": [
      "<class 'pandas.core.frame.DataFrame'>\n",
      "RangeIndex: 12183 entries, 0 to 12182\n",
      "Data columns (total 4 columns):\n",
      " #   Column                   Non-Null Count  Dtype         \n",
      "---  ------                   --------------  -----         \n",
      " 0   EMAIL                    12183 non-null  object        \n",
      " 1   activity_date            12183 non-null  datetime64[ns]\n",
      " 2   activity_met_class_5min  12183 non-null  object        \n",
      " 3   activity_met_1min        12183 non-null  object        \n",
      "dtypes: datetime64[ns](1), object(3)\n",
      "memory usage: 380.8+ KB\n"
     ]
    }
   ],
   "source": [
    "activity_log.info()"
   ]
  },
  {
   "cell_type": "markdown",
   "metadata": {},
   "source": [
    "### MET Class 5min"
   ]
  },
  {
   "cell_type": "code",
   "execution_count": null,
   "metadata": {},
   "outputs": [],
   "source": [
    "splited_log = activity_log['activity_met_class_5min'].str.split('/').apply(lambda x: pd.Series(x))\n",
    "splited_log = pd.concat([activity_log, splited_log], axis=1).drop(['activity_met_class_5min', 'activity_met_1min', 288], axis=1)"
   ]
  },
  {
   "cell_type": "code",
   "execution_count": null,
   "metadata": {},
   "outputs": [],
   "source": [
    "stack_log = splited_log.set_index(['EMAIL', 'activity_date']).stack()\n",
    "met_class = stack_log.reset_index().rename(columns={'level_2': 'time_5min_interval',\n",
    "                                                  0: 'met_class'})"
   ]
  },
  {
   "cell_type": "code",
   "execution_count": null,
   "metadata": {},
   "outputs": [
    {
     "data": {
      "text/html": [
       "<div>\n",
       "<style scoped>\n",
       "    .dataframe tbody tr th:only-of-type {\n",
       "        vertical-align: middle;\n",
       "    }\n",
       "\n",
       "    .dataframe tbody tr th {\n",
       "        vertical-align: top;\n",
       "    }\n",
       "\n",
       "    .dataframe thead th {\n",
       "        text-align: right;\n",
       "    }\n",
       "</style>\n",
       "<table border=\"1\" class=\"dataframe\">\n",
       "  <thead>\n",
       "    <tr style=\"text-align: right;\">\n",
       "      <th></th>\n",
       "      <th>EMAIL</th>\n",
       "      <th>activity_date</th>\n",
       "      <th>time_5min_interval</th>\n",
       "      <th>met_class</th>\n",
       "    </tr>\n",
       "  </thead>\n",
       "  <tbody>\n",
       "    <tr>\n",
       "      <th>0</th>\n",
       "      <td>nia+279@rowan.kr</td>\n",
       "      <td>2020-10-19</td>\n",
       "      <td>0</td>\n",
       "      <td>1</td>\n",
       "    </tr>\n",
       "    <tr>\n",
       "      <th>1</th>\n",
       "      <td>nia+279@rowan.kr</td>\n",
       "      <td>2020-10-19</td>\n",
       "      <td>1</td>\n",
       "      <td>1</td>\n",
       "    </tr>\n",
       "    <tr>\n",
       "      <th>2</th>\n",
       "      <td>nia+279@rowan.kr</td>\n",
       "      <td>2020-10-19</td>\n",
       "      <td>2</td>\n",
       "      <td>2</td>\n",
       "    </tr>\n",
       "    <tr>\n",
       "      <th>3</th>\n",
       "      <td>nia+279@rowan.kr</td>\n",
       "      <td>2020-10-19</td>\n",
       "      <td>3</td>\n",
       "      <td>2</td>\n",
       "    </tr>\n",
       "    <tr>\n",
       "      <th>4</th>\n",
       "      <td>nia+279@rowan.kr</td>\n",
       "      <td>2020-10-19</td>\n",
       "      <td>4</td>\n",
       "      <td>2</td>\n",
       "    </tr>\n",
       "  </tbody>\n",
       "</table>\n",
       "</div>"
      ],
      "text/plain": [
       "              EMAIL activity_date  time_5min_interval met_class\n",
       "0  nia+279@rowan.kr    2020-10-19                   0         1\n",
       "1  nia+279@rowan.kr    2020-10-19                   1         1\n",
       "2  nia+279@rowan.kr    2020-10-19                   2         2\n",
       "3  nia+279@rowan.kr    2020-10-19                   3         2\n",
       "4  nia+279@rowan.kr    2020-10-19                   4         2"
      ]
     },
     "metadata": {},
     "output_type": "display_data"
    }
   ],
   "source": [
    "met_class.head()"
   ]
  },
  {
   "cell_type": "code",
   "execution_count": null,
   "metadata": {},
   "outputs": [
    {
     "name": "stdout",
     "output_type": "stream",
     "text": [
      "<class 'pandas.core.frame.DataFrame'>\n",
      "RangeIndex: 3492255 entries, 0 to 3492254\n",
      "Data columns (total 4 columns):\n",
      " #   Column              Dtype         \n",
      "---  ------              -----         \n",
      " 0   EMAIL               object        \n",
      " 1   activity_date       datetime64[ns]\n",
      " 2   time_5min_interval  int64         \n",
      " 3   met_class           object        \n",
      "dtypes: datetime64[ns](1), int64(1), object(2)\n",
      "memory usage: 106.6+ MB\n"
     ]
    }
   ],
   "source": [
    "met_class.info()"
   ]
  },
  {
   "cell_type": "code",
   "execution_count": null,
   "metadata": {},
   "outputs": [],
   "source": [
    "empty_idx = met_class[met_class['met_class']==''].index\n",
    "met_class = met_class.drop(empty_idx, axis=0)\n",
    "met_class['met_class'] = met_class['met_class'].astype(int)"
   ]
  },
  {
   "cell_type": "code",
   "execution_count": null,
   "metadata": {},
   "outputs": [
    {
     "data": {
      "text/html": [
       "<div>\n",
       "<style scoped>\n",
       "    .dataframe tbody tr th:only-of-type {\n",
       "        vertical-align: middle;\n",
       "    }\n",
       "\n",
       "    .dataframe tbody tr th {\n",
       "        vertical-align: top;\n",
       "    }\n",
       "\n",
       "    .dataframe thead th {\n",
       "        text-align: right;\n",
       "    }\n",
       "</style>\n",
       "<table border=\"1\" class=\"dataframe\">\n",
       "  <thead>\n",
       "    <tr style=\"text-align: right;\">\n",
       "      <th></th>\n",
       "      <th>EMAIL</th>\n",
       "      <th>activity_date</th>\n",
       "      <th>time_5min_interval</th>\n",
       "      <th>met_class</th>\n",
       "    </tr>\n",
       "  </thead>\n",
       "  <tbody>\n",
       "    <tr>\n",
       "      <th>0</th>\n",
       "      <td>nia+279@rowan.kr</td>\n",
       "      <td>2020-10-19</td>\n",
       "      <td>0</td>\n",
       "      <td>1</td>\n",
       "    </tr>\n",
       "    <tr>\n",
       "      <th>1</th>\n",
       "      <td>nia+279@rowan.kr</td>\n",
       "      <td>2020-10-19</td>\n",
       "      <td>1</td>\n",
       "      <td>1</td>\n",
       "    </tr>\n",
       "    <tr>\n",
       "      <th>2</th>\n",
       "      <td>nia+279@rowan.kr</td>\n",
       "      <td>2020-10-19</td>\n",
       "      <td>2</td>\n",
       "      <td>2</td>\n",
       "    </tr>\n",
       "    <tr>\n",
       "      <th>3</th>\n",
       "      <td>nia+279@rowan.kr</td>\n",
       "      <td>2020-10-19</td>\n",
       "      <td>3</td>\n",
       "      <td>2</td>\n",
       "    </tr>\n",
       "    <tr>\n",
       "      <th>4</th>\n",
       "      <td>nia+279@rowan.kr</td>\n",
       "      <td>2020-10-19</td>\n",
       "      <td>4</td>\n",
       "      <td>2</td>\n",
       "    </tr>\n",
       "    <tr>\n",
       "      <th>...</th>\n",
       "      <td>...</td>\n",
       "      <td>...</td>\n",
       "      <td>...</td>\n",
       "      <td>...</td>\n",
       "    </tr>\n",
       "    <tr>\n",
       "      <th>3492250</th>\n",
       "      <td>nia+280@rowan.kr</td>\n",
       "      <td>2021-02-17</td>\n",
       "      <td>283</td>\n",
       "      <td>1</td>\n",
       "    </tr>\n",
       "    <tr>\n",
       "      <th>3492251</th>\n",
       "      <td>nia+280@rowan.kr</td>\n",
       "      <td>2021-02-17</td>\n",
       "      <td>284</td>\n",
       "      <td>1</td>\n",
       "    </tr>\n",
       "    <tr>\n",
       "      <th>3492252</th>\n",
       "      <td>nia+280@rowan.kr</td>\n",
       "      <td>2021-02-17</td>\n",
       "      <td>285</td>\n",
       "      <td>1</td>\n",
       "    </tr>\n",
       "    <tr>\n",
       "      <th>3492253</th>\n",
       "      <td>nia+280@rowan.kr</td>\n",
       "      <td>2021-02-17</td>\n",
       "      <td>286</td>\n",
       "      <td>1</td>\n",
       "    </tr>\n",
       "    <tr>\n",
       "      <th>3492254</th>\n",
       "      <td>nia+280@rowan.kr</td>\n",
       "      <td>2021-02-17</td>\n",
       "      <td>287</td>\n",
       "      <td>1</td>\n",
       "    </tr>\n",
       "  </tbody>\n",
       "</table>\n",
       "<p>3492083 rows × 4 columns</p>\n",
       "</div>"
      ],
      "text/plain": [
       "                    EMAIL activity_date  time_5min_interval  met_class\n",
       "0        nia+279@rowan.kr    2020-10-19                   0          1\n",
       "1        nia+279@rowan.kr    2020-10-19                   1          1\n",
       "2        nia+279@rowan.kr    2020-10-19                   2          2\n",
       "3        nia+279@rowan.kr    2020-10-19                   3          2\n",
       "4        nia+279@rowan.kr    2020-10-19                   4          2\n",
       "...                   ...           ...                 ...        ...\n",
       "3492250  nia+280@rowan.kr    2021-02-17                 283          1\n",
       "3492251  nia+280@rowan.kr    2021-02-17                 284          1\n",
       "3492252  nia+280@rowan.kr    2021-02-17                 285          1\n",
       "3492253  nia+280@rowan.kr    2021-02-17                 286          1\n",
       "3492254  nia+280@rowan.kr    2021-02-17                 287          1\n",
       "\n",
       "[3492083 rows x 4 columns]"
      ]
     },
     "metadata": {},
     "output_type": "display_data"
    }
   ],
   "source": [
    "met_class"
   ]
  },
  {
   "cell_type": "code",
   "execution_count": null,
   "metadata": {},
   "outputs": [],
   "source": [
    "log_folder=\"data/processed/log\"\n",
    "os.makedirs(log_folder, exist_ok=True)\n",
    "met_class.to_csv(log_folder+\"/met_class.csv\", index=False)"
   ]
  },
  {
   "cell_type": "markdown",
   "metadata": {},
   "source": [
    "### MET 1min"
   ]
  },
  {
   "cell_type": "code",
   "execution_count": null,
   "metadata": {},
   "outputs": [],
   "source": [
    "splited_log = activity_log['activity_met_1min'].str.split('/').apply(lambda x: pd.Series(x))\n",
    "met_1min = pd.concat([activity_log, splited_log], axis=1).drop(['activity_met_class_5min', 'activity_met_1min', 1440], axis=1)"
   ]
  },
  {
   "cell_type": "code",
   "execution_count": null,
   "metadata": {},
   "outputs": [],
   "source": [
    "met_1min = met_1min.astype(dtype='float',errors='ignore')"
   ]
  },
  {
   "cell_type": "code",
   "execution_count": null,
   "metadata": {},
   "outputs": [],
   "source": [
    "met_stacked = met_1min.set_index(['EMAIL', 'activity_date']).stack()\n",
    "metlog = met_stacked.reset_index().rename(columns={'level_2': 'minutes_time',\n",
    "                                                  0: 'met'})"
   ]
  },
  {
   "cell_type": "code",
   "execution_count": null,
   "metadata": {},
   "outputs": [
    {
     "data": {
      "text/html": [
       "<div>\n",
       "<style scoped>\n",
       "    .dataframe tbody tr th:only-of-type {\n",
       "        vertical-align: middle;\n",
       "    }\n",
       "\n",
       "    .dataframe tbody tr th {\n",
       "        vertical-align: top;\n",
       "    }\n",
       "\n",
       "    .dataframe thead th {\n",
       "        text-align: right;\n",
       "    }\n",
       "</style>\n",
       "<table border=\"1\" class=\"dataframe\">\n",
       "  <thead>\n",
       "    <tr style=\"text-align: right;\">\n",
       "      <th></th>\n",
       "      <th>EMAIL</th>\n",
       "      <th>activity_date</th>\n",
       "      <th>minutes_time</th>\n",
       "      <th>met</th>\n",
       "    </tr>\n",
       "  </thead>\n",
       "  <tbody>\n",
       "    <tr>\n",
       "      <th>0</th>\n",
       "      <td>nia+279@rowan.kr</td>\n",
       "      <td>2020-10-19</td>\n",
       "      <td>0</td>\n",
       "      <td>1.2</td>\n",
       "    </tr>\n",
       "    <tr>\n",
       "      <th>1</th>\n",
       "      <td>nia+279@rowan.kr</td>\n",
       "      <td>2020-10-19</td>\n",
       "      <td>1</td>\n",
       "      <td>0.9</td>\n",
       "    </tr>\n",
       "    <tr>\n",
       "      <th>2</th>\n",
       "      <td>nia+279@rowan.kr</td>\n",
       "      <td>2020-10-19</td>\n",
       "      <td>2</td>\n",
       "      <td>1.0</td>\n",
       "    </tr>\n",
       "    <tr>\n",
       "      <th>3</th>\n",
       "      <td>nia+279@rowan.kr</td>\n",
       "      <td>2020-10-19</td>\n",
       "      <td>3</td>\n",
       "      <td>0.9</td>\n",
       "    </tr>\n",
       "    <tr>\n",
       "      <th>4</th>\n",
       "      <td>nia+279@rowan.kr</td>\n",
       "      <td>2020-10-19</td>\n",
       "      <td>4</td>\n",
       "      <td>0.9</td>\n",
       "    </tr>\n",
       "    <tr>\n",
       "      <th>...</th>\n",
       "      <td>...</td>\n",
       "      <td>...</td>\n",
       "      <td>...</td>\n",
       "      <td>...</td>\n",
       "    </tr>\n",
       "    <tr>\n",
       "      <th>17543515</th>\n",
       "      <td>nia+280@rowan.kr</td>\n",
       "      <td>2021-02-17</td>\n",
       "      <td>1435</td>\n",
       "      <td>0.9</td>\n",
       "    </tr>\n",
       "    <tr>\n",
       "      <th>17543516</th>\n",
       "      <td>nia+280@rowan.kr</td>\n",
       "      <td>2021-02-17</td>\n",
       "      <td>1436</td>\n",
       "      <td>0.9</td>\n",
       "    </tr>\n",
       "    <tr>\n",
       "      <th>17543517</th>\n",
       "      <td>nia+280@rowan.kr</td>\n",
       "      <td>2021-02-17</td>\n",
       "      <td>1437</td>\n",
       "      <td>0.9</td>\n",
       "    </tr>\n",
       "    <tr>\n",
       "      <th>17543518</th>\n",
       "      <td>nia+280@rowan.kr</td>\n",
       "      <td>2021-02-17</td>\n",
       "      <td>1438</td>\n",
       "      <td>0.9</td>\n",
       "    </tr>\n",
       "    <tr>\n",
       "      <th>17543519</th>\n",
       "      <td>nia+280@rowan.kr</td>\n",
       "      <td>2021-02-17</td>\n",
       "      <td>1439</td>\n",
       "      <td>0.9</td>\n",
       "    </tr>\n",
       "  </tbody>\n",
       "</table>\n",
       "<p>17543520 rows × 4 columns</p>\n",
       "</div>"
      ],
      "text/plain": [
       "                     EMAIL activity_date  minutes_time  met\n",
       "0         nia+279@rowan.kr    2020-10-19             0  1.2\n",
       "1         nia+279@rowan.kr    2020-10-19             1  0.9\n",
       "2         nia+279@rowan.kr    2020-10-19             2  1.0\n",
       "3         nia+279@rowan.kr    2020-10-19             3  0.9\n",
       "4         nia+279@rowan.kr    2020-10-19             4  0.9\n",
       "...                    ...           ...           ...  ...\n",
       "17543515  nia+280@rowan.kr    2021-02-17          1435  0.9\n",
       "17543516  nia+280@rowan.kr    2021-02-17          1436  0.9\n",
       "17543517  nia+280@rowan.kr    2021-02-17          1437  0.9\n",
       "17543518  nia+280@rowan.kr    2021-02-17          1438  0.9\n",
       "17543519  nia+280@rowan.kr    2021-02-17          1439  0.9\n",
       "\n",
       "[17543520 rows x 4 columns]"
      ]
     },
     "metadata": {},
     "output_type": "display_data"
    }
   ],
   "source": [
    "metlog"
   ]
  },
  {
   "cell_type": "code",
   "execution_count": null,
   "metadata": {},
   "outputs": [
    {
     "name": "stdout",
     "output_type": "stream",
     "text": [
      "<class 'pandas.core.frame.DataFrame'>\n",
      "RangeIndex: 17543520 entries, 0 to 17543519\n",
      "Data columns (total 4 columns):\n",
      " #   Column         Dtype         \n",
      "---  ------         -----         \n",
      " 0   EMAIL          object        \n",
      " 1   activity_date  datetime64[ns]\n",
      " 2   minutes_time   int64         \n",
      " 3   met            float64       \n",
      "dtypes: datetime64[ns](1), float64(1), int64(1), object(1)\n",
      "memory usage: 535.4+ MB\n"
     ]
    }
   ],
   "source": [
    "metlog.info()"
   ]
  },
  {
   "cell_type": "code",
   "execution_count": null,
   "metadata": {},
   "outputs": [],
   "source": [
    "metlog.to_csv(log_folder+\"/met_log.csv\", index=False)"
   ]
  },
  {
   "cell_type": "markdown",
   "metadata": {},
   "source": [
    "## Sleep log Parsing"
   ]
  },
  {
   "cell_type": "code",
   "execution_count": null,
   "metadata": {},
   "outputs": [],
   "source": [
    "sleep_log = pd.read_csv(folder+\"/log/sleep_log.csv\", parse_dates=['sleep_bedtime_start'])"
   ]
  },
  {
   "cell_type": "code",
   "execution_count": null,
   "metadata": {},
   "outputs": [],
   "source": [
    "# sleep_log.to_csv(log_folder+\"/sleep_log.csv\", index=False)"
   ]
  },
  {
   "cell_type": "code",
   "execution_count": null,
   "metadata": {},
   "outputs": [],
   "source": []
  }
 ],
 "metadata": {
  "kernelspec": {
   "display_name": "ml",
   "language": "python",
   "name": "python3"
  },
  "language_info": {
   "codemirror_mode": {
    "name": "ipython",
    "version": 3
   },
   "file_extension": ".py",
   "mimetype": "text/x-python",
   "name": "python",
   "nbconvert_exporter": "python",
   "pygments_lexer": "ipython3",
   "version": "3.10.16"
  }
 },
 "nbformat": 4,
 "nbformat_minor": 2
}
