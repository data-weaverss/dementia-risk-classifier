{
 "cells": [
  {
   "cell_type": "code",
   "execution_count": 6,
   "metadata": {},
   "outputs": [],
   "source": [
    "import matplotlib.pyplot as plt\n",
    "import seaborn as sns\n",
    "import koreanize_matplotlib\n",
    "import warnings\n",
    "\n",
    "warnings.filterwarnings('ignore')"
   ]
  },
  {
   "cell_type": "code",
   "execution_count": 7,
   "metadata": {},
   "outputs": [],
   "source": [
    "import pandas as pd\n",
    "import numpy as np"
   ]
  },
  {
   "cell_type": "code",
   "execution_count": 8,
   "metadata": {},
   "outputs": [],
   "source": [
    "n_splits = 3\n",
    "random_seed = 2025"
   ]
  },
  {
   "cell_type": "markdown",
   "metadata": {},
   "source": [
    "# Data"
   ]
  },
  {
   "cell_type": "code",
   "execution_count": 9,
   "metadata": {},
   "outputs": [],
   "source": [
    "train_sleep_file_path = \"../data/train/raw/train_sleep.csv\"\n",
    "train_activity_file_path = \"../data/train/raw/train_activity.csv\"\n",
    "train_label_file_path = \"../data/train/label/sleep/training_label.csv\"\n",
    "\n",
    "test_sleep_file_path = \"../data/validation/raw/val_sleep.csv\"\n",
    "test_activity_file_path = \"../data/validation/raw/val_activity.csv\"\n",
    "test_label_file_path = \"../data/validation/label/sleep/val_label.csv\""
   ]
  },
  {
   "cell_type": "code",
   "execution_count": 10,
   "metadata": {},
   "outputs": [],
   "source": [
    "train_label = pd.read_csv(train_label_file_path)\n",
    "train_sleep = pd.read_csv(train_sleep_file_path)\n",
    "train_activity = pd.read_csv(train_activity_file_path)\n",
    "\n",
    "test_label = pd.read_csv(test_label_file_path)\n",
    "test_sleep = pd.read_csv(test_sleep_file_path)\n",
    "test_activity = pd.read_csv(test_activity_file_path)"
   ]
  },
  {
   "cell_type": "code",
   "execution_count": 11,
   "metadata": {},
   "outputs": [],
   "source": [
    "# sleep + label\n",
    "train = train_sleep.merge(train_label, left_on='EMAIL', right_on='SAMPLE_EMAIL')\n",
    "test = test_sleep.merge(test_label, left_on='EMAIL', right_on='SAMPLE_EMAIL')\n",
    "train.drop(['SAMPLE_EMAIL'], axis=1, inplace=True)\n",
    "test.drop(['SAMPLE_EMAIL'], axis=1, inplace=True)\n",
    "\n",
    "# sleep + activity\n",
    "train = pd.concat([train, train_activity.drop(['EMAIL'], axis=1)], axis=1)\n",
    "test = pd.concat([test, test_activity.drop(['EMAIL'], axis=1)], axis=1)"
   ]
  },
  {
   "cell_type": "code",
   "execution_count": 12,
   "metadata": {},
   "outputs": [],
   "source": [
    "label_encoder = {'CN': 0, 'MCI': 1, 'Dem': 2}"
   ]
  },
  {
   "cell_type": "code",
   "execution_count": 13,
   "metadata": {},
   "outputs": [],
   "source": [
    "train['label'] = train['DIAG_NM'].map(label_encoder)\n",
    "test['label'] = test['DIAG_NM'].map(label_encoder)\n",
    "train.drop(['DIAG_NM'], axis=1, inplace=True)\n",
    "test.drop(['DIAG_NM'], axis=1, inplace=True)"
   ]
  },
  {
   "cell_type": "code",
   "execution_count": 14,
   "metadata": {},
   "outputs": [
    {
     "data": {
      "text/plain": [
       "((9705, 67), (2478, 67))"
      ]
     },
     "execution_count": 14,
     "metadata": {},
     "output_type": "execute_result"
    }
   ],
   "source": [
    "train.shape, test.shape"
   ]
  },
  {
   "cell_type": "markdown",
   "metadata": {},
   "source": [
    "# train + test"
   ]
  },
  {
   "cell_type": "code",
   "execution_count": 15,
   "metadata": {},
   "outputs": [],
   "source": [
    "all_data = pd.concat([train, test], axis=0)\n",
    "all_data = all_data.drop([\"label\"], axis=1) # 타겟값 제거"
   ]
  },
  {
   "cell_type": "code",
   "execution_count": 16,
   "metadata": {},
   "outputs": [
    {
     "data": {
      "text/plain": [
       "(Index(['EMAIL', 'sleep_awake', 'sleep_bedtime_end', 'sleep_bedtime_start',\n",
       "        'sleep_breath_average', 'sleep_deep', 'sleep_duration',\n",
       "        'sleep_efficiency', 'sleep_hr_5min', 'sleep_hr_average',\n",
       "        'sleep_hr_lowest', 'sleep_hypnogram_5min', 'sleep_is_longest',\n",
       "        'sleep_light', 'sleep_midpoint_at_delta', 'sleep_midpoint_time',\n",
       "        'sleep_onset_latency', 'sleep_period_id', 'sleep_rem', 'sleep_restless',\n",
       "        'sleep_rmssd', 'sleep_rmssd_5min', 'sleep_score',\n",
       "        'sleep_score_alignment', 'sleep_score_deep', 'sleep_score_disturbances',\n",
       "        'sleep_score_efficiency', 'sleep_score_latency', 'sleep_score_rem',\n",
       "        'sleep_score_total', 'sleep_temperature_delta',\n",
       "        'sleep_temperature_deviation', 'sleep_total',\n",
       "        'CONVERT(sleep_hr_5min USING utf8)',\n",
       "        'CONVERT(sleep_hypnogram_5min USING utf8)',\n",
       "        'CONVERT(sleep_rmssd_5min USING utf8)', 'activity_average_met',\n",
       "        'activity_cal_active', 'activity_cal_total', 'activity_class_5min',\n",
       "        'activity_daily_movement', 'activity_day_end', 'activity_day_start',\n",
       "        'activity_high', 'activity_inactive', 'activity_inactivity_alerts',\n",
       "        'activity_low', 'activity_medium', 'activity_met_1min',\n",
       "        'activity_met_min_high', 'activity_met_min_inactive',\n",
       "        'activity_met_min_low', 'activity_met_min_medium', 'activity_non_wear',\n",
       "        'activity_rest', 'activity_score', 'activity_score_meet_daily_targets',\n",
       "        'activity_score_move_every_hour', 'activity_score_recovery_time',\n",
       "        'activity_score_stay_active', 'activity_score_training_frequency',\n",
       "        'activity_score_training_volume', 'activity_steps', 'activity_total',\n",
       "        'CONVERT(activity_class_5min USING utf8)',\n",
       "        'CONVERT(activity_met_1min USING utf8)'],\n",
       "       dtype='object'),\n",
       " 66)"
      ]
     },
     "execution_count": 16,
     "metadata": {},
     "output_type": "execute_result"
    }
   ],
   "source": [
    "all_data.columns, len(all_data.columns) # 66"
   ]
  },
  {
   "cell_type": "markdown",
   "metadata": {},
   "source": [
    "# feature selection"
   ]
  },
  {
   "cell_type": "code",
   "execution_count": 17,
   "metadata": {},
   "outputs": [],
   "source": [
    "all_data = all_data.select_dtypes(include=[int, float])  # 숫자형 데이터만\n",
    "selected_features = all_data.columns"
   ]
  },
  {
   "cell_type": "code",
   "execution_count": 18,
   "metadata": {},
   "outputs": [
    {
     "data": {
      "text/plain": [
       "(array(['sleep_awake', 'sleep_breath_average', 'sleep_deep',\n",
       "        'sleep_duration', 'sleep_efficiency', 'sleep_hr_average',\n",
       "        'sleep_hr_lowest', 'sleep_is_longest', 'sleep_light',\n",
       "        'sleep_midpoint_at_delta', 'sleep_midpoint_time',\n",
       "        'sleep_onset_latency', 'sleep_period_id', 'sleep_rem',\n",
       "        'sleep_restless', 'sleep_rmssd', 'sleep_score',\n",
       "        'sleep_score_alignment', 'sleep_score_deep',\n",
       "        'sleep_score_disturbances', 'sleep_score_efficiency',\n",
       "        'sleep_score_latency', 'sleep_score_rem', 'sleep_score_total',\n",
       "        'sleep_temperature_delta', 'sleep_temperature_deviation',\n",
       "        'sleep_total', 'activity_average_met', 'activity_cal_active',\n",
       "        'activity_cal_total', 'activity_daily_movement', 'activity_high',\n",
       "        'activity_inactive', 'activity_inactivity_alerts', 'activity_low',\n",
       "        'activity_medium', 'activity_met_min_high',\n",
       "        'activity_met_min_inactive', 'activity_met_min_low',\n",
       "        'activity_met_min_medium', 'activity_non_wear', 'activity_rest',\n",
       "        'activity_score', 'activity_score_meet_daily_targets',\n",
       "        'activity_score_move_every_hour', 'activity_score_recovery_time',\n",
       "        'activity_score_stay_active', 'activity_score_training_frequency',\n",
       "        'activity_score_training_volume', 'activity_steps',\n",
       "        'activity_total'], dtype=object),\n",
       " 51)"
      ]
     },
     "execution_count": 18,
     "metadata": {},
     "output_type": "execute_result"
    }
   ],
   "source": [
    "selected_features.values, len(selected_features) # 51"
   ]
  },
  {
   "cell_type": "markdown",
   "metadata": {},
   "source": [
    "# 데이터 다운캐스팅"
   ]
  },
  {
   "cell_type": "code",
   "execution_count": 19,
   "metadata": {},
   "outputs": [
    {
     "name": "stdout",
     "output_type": "stream",
     "text": [
      "73.1% 압축됨\n"
     ]
    }
   ],
   "source": [
    "def downcast(df, verbose=True):\n",
    "    start_mem = df.memory_usage().sum() / 1024**2  # 1MB = 1024**2 Byte\n",
    "    for col in df.columns:\n",
    "        dtype_name = df[col].dtype.name\n",
    "        if dtype_name == \"object\":\n",
    "            pass\n",
    "        elif dtype_name == \"bool\":\n",
    "            df[col] = df[col].astype(\"int8\")\n",
    "        elif dtype_name.startswith(\"int\") or (df[col].round() == df[col]).all():\n",
    "            df[col] = pd.to_numeric(df[col], downcast=\"integer\")\n",
    "        else:\n",
    "            df[col] = pd.to_numeric(df[col], downcast=\"float\")\n",
    "    end_mem = df.memory_usage().sum() / 1024**2\n",
    "    if verbose:\n",
    "        print(\"{:.1f}% 압축됨\".format(100 * (start_mem - end_mem) / start_mem))\n",
    "\n",
    "    return df\n",
    "\n",
    "\n",
    "all_data = downcast(all_data)"
   ]
  },
  {
   "cell_type": "markdown",
   "metadata": {},
   "source": [
    "# 데이터 나누기"
   ]
  },
  {
   "cell_type": "code",
   "execution_count": 20,
   "metadata": {},
   "outputs": [],
   "source": [
    "merged_df = pd.concat([all_data, train[['EMAIL', 'label']]], axis=1)\n",
    "\n",
    "X_test = merged_df.loc[test.index, selected_features]\n",
    "y_test = merged_df.loc[test.index, 'label']\n",
    "\n",
    "merged_df = merged_df.loc[:train.index[-1]]"
   ]
  },
  {
   "cell_type": "markdown",
   "metadata": {},
   "source": [
    "# DIAG_NM(label) 비율"
   ]
  },
  {
   "cell_type": "code",
   "execution_count": 21,
   "metadata": {},
   "outputs": [
    {
     "data": {
      "image/png": "[encoded data removed]",
      "text/plain": [
       "<Figure size 1200x500 with 2 Axes>"
      ]
     },
     "metadata": {},
     "output_type": "display_data"
    }
   ],
   "source": [
    "import matplotlib.pyplot as plt\n",
    "\n",
    "# Compute class distributions\n",
    "class_distribution_train = train_label['DIAG_NM'].value_counts()\n",
    "class_distribution_test = test_label['DIAG_NM'].value_counts() \n",
    "\n",
    "# Create a figure with 1 row and 2 columns\n",
    "fig, axes = plt.subplots(1, 2, figsize=(12, 5))\n",
    "\n",
    "# Plot training set distribution\n",
    "axes[0].bar(class_distribution_train.index, class_distribution_train.values, color=\"red\", alpha=0.7)\n",
    "axes[0].set_xlabel(None)\n",
    "axes[0].set_ylabel(\"Percentage (%)\")\n",
    "axes[0].set_title(\"Training Set Label Distribution\")\n",
    "axes[0].set_xticks([0, 1, 2], [\"정상\", \"경증치매\", \"중증치매\"])\n",
    "\n",
    "\n",
    "# Plot validation set distribution\n",
    "axes[1].bar(class_distribution_test.index, class_distribution_test.values, color=\"blue\", alpha=0.7)\n",
    "axes[1].set_xlabel(None)\n",
    "axes[1].set_ylabel(\"Percentage (%)\")\n",
    "axes[1].set_title(\"Test Set Label Distribution\")\n",
    "axes[1].set_xticks([0, 1, 2], [\"정상\", \"경증치매\", \"중증치매\"])\n",
    "\n",
    "# Display the plot\n",
    "plt.tight_layout()\n",
    "plt.show()"
   ]
  },
  {
   "cell_type": "markdown",
   "metadata": {},
   "source": [
    "# 모델 학습 및 성능 검증"
   ]
  },
  {
   "cell_type": "code",
   "execution_count": 22,
   "metadata": {},
   "outputs": [],
   "source": [
    "from sklearn.linear_model import LogisticRegression\n",
    "from sklearn.ensemble import GradientBoostingClassifier, RandomForestClassifier\n",
    "\n",
    "# 모델 학습 및 평가\n",
    "models = {\n",
    "    \"Lasso Regression\": LogisticRegression(\n",
    "        penalty=\"l1\", solver=\"liblinear\", multi_class=\"ovr\"\n",
    "    ),\n",
    "    \"Gradient Boosting\": GradientBoostingClassifier(\n",
    "        random_state=random_seed\n",
    "    ),\n",
    "    \"Random Forest\": RandomForestClassifier(\n",
    "        n_estimators=100, random_state=random_seed, n_jobs=-1\n",
    "    ),\n",
    "}"
   ]
  },
  {
   "cell_type": "code",
   "execution_count": 23,
   "metadata": {},
   "outputs": [
    {
     "name": "stdout",
     "output_type": "stream",
     "text": [
      "######################################## Model: Lasso Regression ########################################\n",
      "=== Average Classification Report ===\n",
      "              precision    recall  f1-score      support\n",
      "0              0.607554  0.796841  0.688963  1927.000000\n",
      "1              0.369319  0.210734  0.267555  1117.666667\n",
      "2              0.281203  0.095611  0.136234   190.333333\n",
      "accuracy       0.552646  0.552646  0.552646     0.552646\n",
      "macro avg      0.419359  0.367728  0.364251  3235.000000\n",
      "weighted avg   0.507750  0.552646  0.511519  3235.000000\n",
      "Average Accuracy: 0.5526\n",
      "Average F1-score: 0.5115\n",
      "============================================================\n",
      "######################################## Model: Gradient Boosting ########################################\n",
      "=== Average Classification Report ===\n",
      "              precision    recall  f1-score      support\n",
      "0              0.604989  0.771101  0.676805  1927.000000\n",
      "1              0.371788  0.236851  0.285416  1117.666667\n",
      "2              0.307581  0.099420  0.132628   190.333333\n",
      "accuracy       0.546106  0.546106  0.546106     0.546106\n",
      "macro avg      0.428119  0.369124  0.364950  3235.000000\n",
      "weighted avg   0.509031  0.546106  0.510179  3235.000000\n",
      "Average Accuracy: 0.5461\n",
      "Average F1-score: 0.5102\n",
      "============================================================\n",
      "######################################## Model: Random Forest ########################################\n",
      "=== Average Classification Report ===\n",
      "              precision    recall  f1-score      support\n",
      "0              0.595436  0.812152  0.685587  1927.000000\n",
      "1              0.361530  0.182429  0.237552  1117.666667\n",
      "2              0.282018  0.035160  0.054839   190.333333\n",
      "accuracy       0.546867  0.546867  0.546867     0.546867\n",
      "macro avg      0.412994  0.343247  0.325993  3235.000000\n",
      "weighted avg   0.498545  0.546867  0.493561  3235.000000\n",
      "Average Accuracy: 0.5469\n",
      "Average F1-score: 0.4936\n",
      "============================================================\n"
     ]
    }
   ],
   "source": [
    "from sklearn.model_selection import StratifiedKFold\n",
    "from sklearn.metrics import accuracy_score, f1_score, classification_report\n",
    "\n",
    "def evaluate_model(name, model, merged_df, n_splits=n_splits):\n",
    "    acc_scores = []\n",
    "    f1_scores = []\n",
    "    class_report_list = []\n",
    "    folds = []\n",
    "\n",
    "    # unique EMAIL, label 쌍 추출\n",
    "    unique_patient_labels = merged_df[[\"EMAIL\", \"label\"]].drop_duplicates()\n",
    "\n",
    "    # StratifiedKFold를 사용하여 라벨 비율을 유지하면서 Fold를 생성\n",
    "    skf = StratifiedKFold(n_splits=n_splits, shuffle=True, random_state=random_seed)\n",
    "\n",
    "    for fold_idx, (train_idx, val_idx) in enumerate(\n",
    "        skf.split(unique_patient_labels[\"EMAIL\"], unique_patient_labels[\"label\"])\n",
    "    ):\n",
    "        # 학습/검증 데이터 이메일 리스트 추출\n",
    "        train_emails = unique_patient_labels.iloc[train_idx][\"EMAIL\"]\n",
    "        val_emails = unique_patient_labels.iloc[val_idx][\"EMAIL\"]\n",
    "\n",
    "        # 이메일 기준으로 원본 데이터에서 train/validation 데이터 생성\n",
    "        X_train = merged_df[merged_df[\"EMAIL\"].isin(train_emails)].copy()\n",
    "        X_val = merged_df[merged_df[\"EMAIL\"].isin(val_emails)].copy()\n",
    "\n",
    "        y_train = X_train[\"label\"]\n",
    "        y_val = X_val[\"label\"]\n",
    "        X_train.drop([\"EMAIL\", \"label\"], axis=1, inplace=True)\n",
    "        X_val.drop([\"EMAIL\", \"label\"], axis=1, inplace=True)\n",
    "\n",
    "        # 모델 학습\n",
    "        model.fit(X_train, y_train)\n",
    "\n",
    "        # 모델 예측\n",
    "        y_pred = model.predict(X_val)\n",
    "\n",
    "        # 평가\n",
    "        acc = accuracy_score(y_val, y_pred)\n",
    "        f1 = f1_score(y_val, y_pred, average=\"weighted\")  # 불균형 데이터 고려\n",
    "        acc_scores.append(acc)\n",
    "        f1_scores.append(f1)\n",
    "\n",
    "        # Classification Report 저장\n",
    "        report = classification_report(y_val, y_pred, output_dict=True)\n",
    "        class_report_list.append(pd.DataFrame(report).T)\n",
    "\n",
    "        folds.append((X_train, X_val, y_train, y_val))\n",
    "\n",
    "    # Classification Report 평균\n",
    "    avg_class_report = pd.concat(class_report_list).groupby(level=0).mean()\n",
    "\n",
    "    # Accuracy 및 F1-score 평균 출력\n",
    "    print(\"#\" * 40, f\"Model: {name}\", \"#\" * 40)\n",
    "    print(f\"=== Average Classification Report ===\")\n",
    "    print(avg_class_report)\n",
    "    print(f\"Average Accuracy: {np.mean(acc_scores):.4f}\")\n",
    "    print(f\"Average F1-score: {np.mean(f1_scores):.4f}\")\n",
    "    print(\"=\" * 60)\n",
    "\n",
    "    return name, model, folds\n",
    "\n",
    "\n",
    "models_ = {}\n",
    "folds_ = {}\n",
    "\n",
    "# 모델별 평가 실행\n",
    "for name, model in models.items():\n",
    "    name_, model_, fold_ = evaluate_model(name, model, merged_df)\n",
    "    models_[name] = model_\n",
    "    folds_[name] = fold_"
   ]
  },
  {
   "cell_type": "markdown",
   "metadata": {},
   "source": [
    "# Test dataset 예측 결과"
   ]
  },
  {
   "cell_type": "code",
   "execution_count": 24,
   "metadata": {},
   "outputs": [
    {
     "name": "stdout",
     "output_type": "stream",
     "text": [
      "\n",
      " ======================================== TEST SET EVALUATION ======================================== \n",
      "\n",
      "=== Evaluating Lasso Regression on Test Set ===\n",
      "Test Accuracy: 0.5472\n",
      "Test F1-score: 0.5057\n",
      "Test Classification Report:\n",
      "               precision    recall  f1-score      support\n",
      "0              0.562384  0.816216  0.665932  2590.000000\n",
      "1              0.481884  0.282678  0.356330  1882.000000\n",
      "2              0.709677  0.136364  0.228769   484.000000\n",
      "accuracy       0.547215  0.547215  0.547215     0.547215\n",
      "macro avg      0.584648  0.411753  0.417010  4956.000000\n",
      "weighted avg   0.546199  0.547215  0.505670  4956.000000\n",
      "============================================================\n",
      "=== Evaluating Gradient Boosting on Test Set ===\n",
      "Test Accuracy: 0.5839\n",
      "Test F1-score: 0.5683\n",
      "Test Classification Report:\n",
      "               precision    recall  f1-score      support\n",
      "0              0.594260  0.759459  0.666780  2590.000000\n",
      "1              0.533967  0.417641  0.468694  1882.000000\n",
      "2              0.810345  0.291322  0.428571   484.000000\n",
      "accuracy       0.583939  0.583939  0.583939     0.583939\n",
      "macro avg      0.646191  0.489474  0.521348  4956.000000\n",
      "weighted avg   0.592467  0.583939  0.568295  4956.000000\n",
      "============================================================\n",
      "=== Evaluating Random Forest on Test Set ===\n",
      "Test Accuracy: 0.6449\n",
      "Test F1-score: 0.6364\n",
      "Test Classification Report:\n",
      "               precision    recall  f1-score      support\n",
      "0              0.634515  0.794981  0.705741  2590.000000\n",
      "1              0.614698  0.475558  0.536249  1882.000000\n",
      "2              0.949020  0.500000  0.654939   484.000000\n",
      "accuracy       0.644875  0.644875  0.644875     0.644875\n",
      "macro avg      0.732744  0.590180  0.632310  4956.000000\n",
      "weighted avg   0.657704  0.644875  0.636417  4956.000000\n",
      "============================================================\n"
     ]
    }
   ],
   "source": [
    "# Test Set 성능 평가\n",
    "print(\"\\n\", \"=\" * 40, \"TEST SET EVALUATION\", \"=\" * 40, \"\\n\")\n",
    "\n",
    "for name, model in models_.items():\n",
    "    print(f\"=== Evaluating {name} on Test Set ===\")\n",
    "\n",
    "    # 테스트 데이터 예측\n",
    "    y_test_pred = model.predict(X_test)\n",
    "\n",
    "    # 테스트 데이터 평가\n",
    "    test_acc = accuracy_score(y_test, y_test_pred)\n",
    "    test_f1 = f1_score(y_test, y_test_pred, average=\"weighted\")  # 불균형 고려\n",
    "    test_report = classification_report(y_test, y_test_pred, output_dict=True)\n",
    "\n",
    "    # 결과 출력\n",
    "    print(f\"Test Accuracy: {test_acc:.4f}\")\n",
    "    print(f\"Test F1-score: {test_f1:.4f}\")\n",
    "    print(f\"Test Classification Report:\\n\", pd.DataFrame(test_report).T)\n",
    "    print(\"=\" * 60)"
   ]
  },
  {
   "cell_type": "markdown",
   "metadata": {},
   "source": [
    "# 모델 저장"
   ]
  },
  {
   "cell_type": "code",
   "execution_count": 26,
   "metadata": {},
   "outputs": [],
   "source": [
    "import pickle\n",
    "\n",
    "with open(\"model_baseline\", \"wb\") as f:\n",
    "    pickle.dump(model_, f)"
   ]
  }
 ],
 "metadata": {
  "kernelspec": {
   "display_name": "env2501",
   "language": "python",
   "name": "python3"
  },
  "language_info": {
   "codemirror_mode": {
    "name": "ipython",
    "version": 3
   },
   "file_extension": ".py",
   "mimetype": "text/x-python",
   "name": "python",
   "nbconvert_exporter": "python",
   "pygments_lexer": "ipython3",
   "version": "3.8.20"
  }
 },
 "nbformat": 4,
 "nbformat_minor": 2
}
