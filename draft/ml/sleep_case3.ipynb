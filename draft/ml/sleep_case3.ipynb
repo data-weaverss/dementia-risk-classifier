{
 "cells": [
  {
   "cell_type": "code",
   "execution_count": 1,
   "metadata": {},
   "outputs": [],
   "source": [
    "import pandas as pd\n",
    "import numpy as np\n",
    "import matplotlib.pyplot as plt\n",
    "import seaborn as sns\n",
    "import koreanize_matplotlib\n",
    "import warnings\n",
    "\n",
    "warnings.filterwarnings(\"ignore\")  # 경고 문구 생략\n",
    "\n",
    "train_path = \"../../data/train/\"\n",
    "test_path = \"../../data/validation/\"\n",
    "\n",
    "train_label = pd.read_csv(train_path + \"label/1.걸음걸이/training_label.csv\")\n",
    "train_sleep = pd.read_csv(train_path + \"raw/train_sleep.csv\")\n",
    "train_activity = pd.read_csv(train_path + \"raw/train_activity.csv\")\n",
    "\n",
    "test_label = pd.read_csv(test_path + \"label/1.걸음걸이/val_label.csv\")\n",
    "test_sleep = pd.read_csv(test_path + \"raw/val_sleep.csv\")\n",
    "test_activity = pd.read_csv(test_path + \"raw/val_activity.csv\")"
   ]
  },
  {
   "cell_type": "code",
   "execution_count": 2,
   "metadata": {},
   "outputs": [],
   "source": [
    "random_seed = 42"
   ]
  },
  {
   "cell_type": "code",
   "execution_count": 3,
   "metadata": {},
   "outputs": [],
   "source": [
    "label_encoder = {\"CN\": 0, \"MCI\": 1, \"Dem\": 2}"
   ]
  },
  {
   "cell_type": "code",
   "execution_count": 4,
   "metadata": {},
   "outputs": [],
   "source": [
    "train_label[\"label\"] = train_label[\"DIAG_NM\"].map(label_encoder)\n",
    "test_label[\"label\"] = test_label[\"DIAG_NM\"].map(label_encoder)\n",
    "train_label.drop(columns=[\"DIAG_NM\"], inplace=True)\n",
    "test_label.drop(columns=[\"DIAG_NM\"], inplace=True)"
   ]
  },
  {
   "cell_type": "code",
   "execution_count": 5,
   "metadata": {},
   "outputs": [],
   "source": [
    "# label 과 합치기\n",
    "train = train_sleep.merge(train_label, left_on=\"EMAIL\", right_on=\"SAMPLE_EMAIL\")\n",
    "test = test_sleep.merge(test_label, left_on=\"EMAIL\", right_on=\"SAMPLE_EMAIL\")\n",
    "\n",
    "# sleep + activity\n",
    "train = pd.concat([train, train_activity.drop([\"EMAIL\"], axis=1)], axis=1)\n",
    "test = pd.concat([test, test_activity.drop([\"EMAIL\"], axis=1)], axis=1)\n",
    "\n",
    "train.drop(columns=[\"SAMPLE_EMAIL\"], inplace=True)\n",
    "test.drop(columns=[\"SAMPLE_EMAIL\"], inplace=True)"
   ]
  },
  {
   "cell_type": "markdown",
   "metadata": {},
   "source": [
    "## 데이터 합치기"
   ]
  },
  {
   "cell_type": "code",
   "execution_count": 6,
   "metadata": {},
   "outputs": [],
   "source": [
    "all_data = pd.concat([train, test], axis=0)\n",
    "all_data = all_data.drop([\"label\"], axis=1)  # 타겟값 제거"
   ]
  },
  {
   "cell_type": "code",
   "execution_count": 7,
   "metadata": {},
   "outputs": [
    {
     "data": {
      "text/plain": [
       "Index(['EMAIL', 'sleep_awake', 'sleep_bedtime_end', 'sleep_bedtime_start',\n",
       "       'sleep_breath_average', 'sleep_deep', 'sleep_duration',\n",
       "       'sleep_efficiency', 'sleep_hr_5min', 'sleep_hr_average',\n",
       "       'sleep_hr_lowest', 'sleep_hypnogram_5min', 'sleep_is_longest',\n",
       "       'sleep_light', 'sleep_midpoint_at_delta', 'sleep_midpoint_time',\n",
       "       'sleep_onset_latency', 'sleep_period_id', 'sleep_rem', 'sleep_restless',\n",
       "       'sleep_rmssd', 'sleep_rmssd_5min', 'sleep_score',\n",
       "       'sleep_score_alignment', 'sleep_score_deep', 'sleep_score_disturbances',\n",
       "       'sleep_score_efficiency', 'sleep_score_latency', 'sleep_score_rem',\n",
       "       'sleep_score_total', 'sleep_temperature_delta',\n",
       "       'sleep_temperature_deviation', 'sleep_total',\n",
       "       'CONVERT(sleep_hr_5min USING utf8)',\n",
       "       'CONVERT(sleep_hypnogram_5min USING utf8)',\n",
       "       'CONVERT(sleep_rmssd_5min USING utf8)', 'activity_average_met',\n",
       "       'activity_cal_active', 'activity_cal_total', 'activity_class_5min',\n",
       "       'activity_daily_movement', 'activity_day_end', 'activity_day_start',\n",
       "       'activity_high', 'activity_inactive', 'activity_inactivity_alerts',\n",
       "       'activity_low', 'activity_medium', 'activity_met_1min',\n",
       "       'activity_met_min_high', 'activity_met_min_inactive',\n",
       "       'activity_met_min_low', 'activity_met_min_medium', 'activity_non_wear',\n",
       "       'activity_rest', 'activity_score', 'activity_score_meet_daily_targets',\n",
       "       'activity_score_move_every_hour', 'activity_score_recovery_time',\n",
       "       'activity_score_stay_active', 'activity_score_training_frequency',\n",
       "       'activity_score_training_volume', 'activity_steps', 'activity_total',\n",
       "       'CONVERT(activity_class_5min USING utf8)',\n",
       "       'CONVERT(activity_met_1min USING utf8)'],\n",
       "      dtype='object')"
      ]
     },
     "execution_count": 7,
     "metadata": {},
     "output_type": "execute_result"
    }
   ],
   "source": [
    "all_data.columns"
   ]
  },
  {
   "cell_type": "markdown",
   "metadata": {},
   "source": [
    "# 데이터 전처리"
   ]
  },
  {
   "cell_type": "markdown",
   "metadata": {},
   "source": [
    "## sleep_startpoint_at_delta 컬럼 추가"
   ]
  },
  {
   "cell_type": "code",
   "execution_count": 8,
   "metadata": {},
   "outputs": [],
   "source": [
    "from datetime import datetime\n",
    "\n",
    "\n",
    "# 자정과 timestamp의 차이(초)\n",
    "def time_to_seconds_since_midnight(timestamp):\n",
    "    dt = datetime.fromisoformat(timestamp[:-6])  # +09:00 타임존 offset 제거\n",
    "    return dt.hour * 3600 + dt.minute * 60 + dt.second\n",
    "\n",
    "\n",
    "all_data[\"sleep_startpoint_at_delta\"] = all_data[\"sleep_bedtime_start\"].apply(\n",
    "    time_to_seconds_since_midnight\n",
    ")"
   ]
  },
  {
   "cell_type": "markdown",
   "metadata": {},
   "source": [
    "## startpoint_at_delta, midpoint_at_delta 자정 전의 시간이면 음수를 갖도록 수정"
   ]
  },
  {
   "cell_type": "code",
   "execution_count": 9,
   "metadata": {},
   "outputs": [],
   "source": [
    "def adjust_delta_time(time):\n",
    "    if time > 43200:\n",
    "        time -= 86400\n",
    "    return time\n",
    "\n",
    "\n",
    "all_data[\"sleep_startpoint_at_delta\"] = all_data[\"sleep_startpoint_at_delta\"].apply(\n",
    "    adjust_delta_time\n",
    ")\n",
    "all_data[\"sleep_midpoint_at_delta\"] = all_data[\"sleep_midpoint_at_delta\"].apply(\n",
    "    adjust_delta_time\n",
    ")"
   ]
  },
  {
   "cell_type": "code",
   "execution_count": 10,
   "metadata": {},
   "outputs": [
    {
     "data": {
      "text/html": [
       "<div>\n",
       "<style scoped>\n",
       "    .dataframe tbody tr th:only-of-type {\n",
       "        vertical-align: middle;\n",
       "    }\n",
       "\n",
       "    .dataframe tbody tr th {\n",
       "        vertical-align: top;\n",
       "    }\n",
       "\n",
       "    .dataframe thead th {\n",
       "        text-align: right;\n",
       "    }\n",
       "</style>\n",
       "<table border=\"1\" class=\"dataframe\">\n",
       "  <thead>\n",
       "    <tr style=\"text-align: right;\">\n",
       "      <th></th>\n",
       "      <th>sleep_bedtime_start</th>\n",
       "      <th>sleep_startpoint_at_delta</th>\n",
       "    </tr>\n",
       "  </thead>\n",
       "  <tbody>\n",
       "    <tr>\n",
       "      <th>0</th>\n",
       "      <td>2020-10-18T18:38:28+09:00</td>\n",
       "      <td>-19292</td>\n",
       "    </tr>\n",
       "    <tr>\n",
       "      <th>1</th>\n",
       "      <td>2020-10-19T21:39:52+09:00</td>\n",
       "      <td>-8408</td>\n",
       "    </tr>\n",
       "    <tr>\n",
       "      <th>2</th>\n",
       "      <td>2020-10-20T20:51:28+09:00</td>\n",
       "      <td>-11312</td>\n",
       "    </tr>\n",
       "    <tr>\n",
       "      <th>3</th>\n",
       "      <td>2020-10-21T22:08:16+09:00</td>\n",
       "      <td>-6704</td>\n",
       "    </tr>\n",
       "    <tr>\n",
       "      <th>4</th>\n",
       "      <td>2020-10-22T20:38:30+09:00</td>\n",
       "      <td>-12090</td>\n",
       "    </tr>\n",
       "    <tr>\n",
       "      <th>...</th>\n",
       "      <td>...</td>\n",
       "      <td>...</td>\n",
       "    </tr>\n",
       "    <tr>\n",
       "      <th>2473</th>\n",
       "      <td>2021-02-12T00:11:11+09:00</td>\n",
       "      <td>671</td>\n",
       "    </tr>\n",
       "    <tr>\n",
       "      <th>2474</th>\n",
       "      <td>2021-02-12T21:46:01+09:00</td>\n",
       "      <td>-8039</td>\n",
       "    </tr>\n",
       "    <tr>\n",
       "      <th>2475</th>\n",
       "      <td>2021-02-14T21:40:10+09:00</td>\n",
       "      <td>-8390</td>\n",
       "    </tr>\n",
       "    <tr>\n",
       "      <th>2476</th>\n",
       "      <td>2021-02-15T19:41:02+09:00</td>\n",
       "      <td>-15538</td>\n",
       "    </tr>\n",
       "    <tr>\n",
       "      <th>2477</th>\n",
       "      <td>2021-02-16T22:21:59+09:00</td>\n",
       "      <td>-5881</td>\n",
       "    </tr>\n",
       "  </tbody>\n",
       "</table>\n",
       "<p>12183 rows × 2 columns</p>\n",
       "</div>"
      ],
      "text/plain": [
       "            sleep_bedtime_start  sleep_startpoint_at_delta\n",
       "0     2020-10-18T18:38:28+09:00                     -19292\n",
       "1     2020-10-19T21:39:52+09:00                      -8408\n",
       "2     2020-10-20T20:51:28+09:00                     -11312\n",
       "3     2020-10-21T22:08:16+09:00                      -6704\n",
       "4     2020-10-22T20:38:30+09:00                     -12090\n",
       "...                         ...                        ...\n",
       "2473  2021-02-12T00:11:11+09:00                        671\n",
       "2474  2021-02-12T21:46:01+09:00                      -8039\n",
       "2475  2021-02-14T21:40:10+09:00                      -8390\n",
       "2476  2021-02-15T19:41:02+09:00                     -15538\n",
       "2477  2021-02-16T22:21:59+09:00                      -5881\n",
       "\n",
       "[12183 rows x 2 columns]"
      ]
     },
     "execution_count": 10,
     "metadata": {},
     "output_type": "execute_result"
    }
   ],
   "source": [
    "all_data[[\"sleep_bedtime_start\", \"sleep_startpoint_at_delta\"]]"
   ]
  },
  {
   "cell_type": "markdown",
   "metadata": {},
   "source": [
    "# Feature Engineering"
   ]
  },
  {
   "cell_type": "markdown",
   "metadata": {},
   "source": [
    "## sleep_consistency 파생 변수 생성"
   ]
  },
  {
   "cell_type": "markdown",
   "metadata": {},
   "source": [
    "### bedtime_start, midpoint_at_delta 컬럼 sin, cos 변환"
   ]
  },
  {
   "cell_type": "code",
   "execution_count": 11,
   "metadata": {},
   "outputs": [],
   "source": [
    "# 24시간 순환성을 가지도록\n",
    "all_data[\"sleep_startpoint_at_delta_sin\"] = np.sin(\n",
    "    2 * np.pi * all_data[\"sleep_startpoint_at_delta\"] / 86400\n",
    ")\n",
    "all_data[\"sleep_startpoint_at_delta_cos\"] = np.cos(\n",
    "    2 * np.pi * all_data[\"sleep_startpoint_at_delta\"] / 86400\n",
    ")\n",
    "\n",
    "all_data[\"sleep_midpoint_at_delta_sin\"] = np.sin(\n",
    "    2 * np.pi * all_data[\"sleep_midpoint_at_delta\"] / 86400\n",
    ")\n",
    "all_data[\"sleep_midpoint_at_delta_cos\"] = np.cos(\n",
    "    2 * np.pi * all_data[\"sleep_midpoint_at_delta\"] / 86400\n",
    ")"
   ]
  },
  {
   "cell_type": "markdown",
   "metadata": {},
   "source": [
    "### 개인별 delta time sin, cos 벡터의 평균 길이 계산\n",
    "- 모든 벡터가 동일한 방향(즉, 같은 시간대)에 있으면 평균 벡터 길이 = 1\n",
    "- 시간 차이가 많이날수록 두 벡터의 평균 길이는 짧아짐\n",
    "\n",
    "<br><br>\n",
    "\n",
    "- 완벽한 consistency -> MRL = 1\n",
    "- 일정하지 않은 패턴 -> MRL < 1\n",
    "- 완전히 랜덤한 패턴 -> MRL = 0"
   ]
  },
  {
   "cell_type": "code",
   "execution_count": 12,
   "metadata": {},
   "outputs": [],
   "source": [
    "all_data[\"sleep_startpoint_at_delta_sin_cumsum\"] = all_data.groupby(\"EMAIL\")[\n",
    "    \"sleep_startpoint_at_delta_sin\"\n",
    "].cumsum()\n",
    "all_data[\"sleep_startpoint_at_delta_cos_cumsum\"] = all_data.groupby(\"EMAIL\")[\n",
    "    \"sleep_startpoint_at_delta_cos\"\n",
    "].cumsum()\n",
    "all_data[\"sleep_midpoint_at_delta_sin_cumsum\"] = all_data.groupby(\"EMAIL\")[\n",
    "    \"sleep_midpoint_at_delta_sin\"\n",
    "].cumsum()\n",
    "all_data[\"sleep_midpoint_at_delta_cos_cumsum\"] = all_data.groupby(\"EMAIL\")[\n",
    "    \"sleep_midpoint_at_delta_cos\"\n",
    "].cumsum()\n",
    "all_data[\"date_count\"] = (\n",
    "    all_data.groupby(\"EMAIL\").cumcount() + 1\n",
    ")  # cumcount 는 0부터 시작"
   ]
  },
  {
   "cell_type": "code",
   "execution_count": 13,
   "metadata": {},
   "outputs": [],
   "source": [
    "# mrl: mean resultant length: 벡터들 평균 길이\n",
    "all_data[\"sleep_startpoint_at_delta_mrl\"] = (\n",
    "    np.sqrt(\n",
    "        all_data[\"sleep_startpoint_at_delta_sin_cumsum\"] ** 2\n",
    "        + all_data[\"sleep_startpoint_at_delta_cos_cumsum\"] ** 2\n",
    "    )\n",
    "    / all_data[\"date_count\"]\n",
    ")\n",
    "all_data[\"sleep_midpoint_at_delta_mrl\"] = (\n",
    "    np.sqrt(\n",
    "        all_data[\"sleep_midpoint_at_delta_sin_cumsum\"] ** 2\n",
    "        + all_data[\"sleep_midpoint_at_delta_cos_cumsum\"] ** 2\n",
    "    )\n",
    "    / all_data[\"date_count\"]\n",
    ")"
   ]
  },
  {
   "cell_type": "markdown",
   "metadata": {},
   "source": [
    "### sleep_consistency"
   ]
  },
  {
   "cell_type": "code",
   "execution_count": 14,
   "metadata": {},
   "outputs": [],
   "source": [
    "def fill_na_with_user_median(df, column_name):\n",
    "    \"\"\"\n",
    "    shift, moving average 계산으로 비어있는 앞의 값 평균으로 채우기 개별 사용자의 중앙값으로 채운다.\n",
    "    \"\"\"\n",
    "    # 사용자별 평균 계산\n",
    "    user_medians = df.groupby(\"EMAIL\")[column_name].transform(\"median\")\n",
    "\n",
    "    # NaN 값을 해당 사용자의 중앙값으로 채움\n",
    "    df[column_name].fillna(user_medians, inplace=True)\n",
    "    return df"
   ]
  },
  {
   "cell_type": "code",
   "execution_count": 15,
   "metadata": {},
   "outputs": [],
   "source": [
    "def generate_time_lag_features(df, column, lags=[2, 3], rolling_windows=[3, 7, 30]):\n",
    "    \"\"\"\n",
    "    특정 컬럼(column)에 대해 Time Lag 변수와 이동 평균 변수를 생성하는 함수.\n",
    "\n",
    "    Parameters:\n",
    "    - df: DataFrame\n",
    "    - column: 타겟 컬럼명 (예: 'deep_ratio_5h' 또는 'awake_ratio_5h')\n",
    "    - lags: Time Lag을 만들 간격 리스트 (기본값: [2, 3])\n",
    "    - rolling_windows: 이동 평균을 계산할 윈도우 크기 리스트 (기본값: [3, 7, 30])\n",
    "\n",
    "    Returns:\n",
    "    - 변형된 DataFrame (원본 df에 새로운 컬럼 추가)\n",
    "    \"\"\"\n",
    "    for lag in lags:\n",
    "        df[f\"{column}_lag{lag}\"] = df.groupby(\"EMAIL\")[column].shift(lag)\n",
    "        df = fill_na_with_user_median(df, f\"{column}_lag{lag}\")\n",
    "\n",
    "    for window in rolling_windows:\n",
    "        df[f\"{column}_{window}d_avg\"] = df.groupby(\"EMAIL\")[column].transform(\n",
    "            lambda x: x.rolling(window, min_periods=1).mean()\n",
    "        )\n",
    "        df = fill_na_with_user_median(df, f\"{column}_{window}d_avg\")\n",
    "    return df"
   ]
  },
  {
   "cell_type": "code",
   "execution_count": 16,
   "metadata": {},
   "outputs": [],
   "source": [
    "all_data[\"sleep_consistency\"] = (\n",
    "    all_data[\"sleep_startpoint_at_delta_mrl\"] + all_data[\"sleep_midpoint_at_delta_mrl\"]\n",
    ") / 2\n",
    "\n",
    "all_data = generate_time_lag_features(all_data, \"sleep_consistency\")"
   ]
  },
  {
   "cell_type": "markdown",
   "metadata": {},
   "source": [
    "## bedtime_start, bedtime_end 시간대, 요일 변수 추가"
   ]
  },
  {
   "cell_type": "code",
   "execution_count": 17,
   "metadata": {},
   "outputs": [],
   "source": [
    "all_data[\"sleep_bedtime_start\"] = pd.to_datetime(all_data[\"sleep_bedtime_start\"])\n",
    "all_data[\"sleep_bedtime_end\"] = pd.to_datetime(all_data[\"sleep_bedtime_end\"])\n",
    "\n",
    "all_data[\"sleep_start_hour\"] = all_data[\"sleep_bedtime_start\"].dt.hour\n",
    "all_data[\"sleep_start_weekday\"] = all_data[\"sleep_bedtime_start\"].dt.weekday\n",
    "\n",
    "all_data[\"sleep_end_hour\"] = all_data[\"sleep_bedtime_end\"].dt.hour\n",
    "all_data[\"sleep_end_weekday\"] = all_data[\"sleep_bedtime_end\"].dt.weekday"
   ]
  },
  {
   "cell_type": "markdown",
   "metadata": {},
   "source": [
    "## 수면 단계별 ratio"
   ]
  },
  {
   "cell_type": "code",
   "execution_count": 18,
   "metadata": {},
   "outputs": [],
   "source": [
    "all_data[\"sleep_deep_ratio\"] = all_data[\"sleep_deep\"] / all_data[\"sleep_total\"]\n",
    "all_data[\"sleep_light_ratio\"] = all_data[\"sleep_light\"] / all_data[\"sleep_total\"]\n",
    "all_data[\"sleep_awake_ratio\"] = all_data[\"sleep_awake\"] / all_data[\"sleep_duration\"]\n",
    "all_data[\"sleep_rem_ratio\"] = all_data[\"sleep_rem\"] / all_data[\"sleep_total\"]\n",
    "\n",
    "all_data = generate_time_lag_features(all_data, \"sleep_deep_ratio\")\n",
    "all_data = generate_time_lag_features(all_data, \"sleep_light_ratio\")\n",
    "all_data = generate_time_lag_features(all_data, \"sleep_awake_ratio\")\n",
    "all_data = generate_time_lag_features(all_data, \"sleep_rem_ratio\")"
   ]
  },
  {
   "cell_type": "markdown",
   "metadata": {},
   "source": [
    "## 수면 초반 5시간 동안의 deep과 awake 비율 "
   ]
  },
  {
   "cell_type": "code",
   "execution_count": 19,
   "metadata": {},
   "outputs": [],
   "source": [
    "def clean_hypnogram(hypnogram_str):\n",
    "    hypnogram = list(map(int, hypnogram_str.rstrip(\"/\").split(\"/\")))\n",
    "    return hypnogram"
   ]
  },
  {
   "cell_type": "code",
   "execution_count": 20,
   "metadata": {},
   "outputs": [],
   "source": [
    "def calculate_deep_awake_ratio(hypnogram):\n",
    "    # 5시간(300분) 동안의 데이터만 사용 (5분 단위로 기록된 데이터이므로 60개의 데이터)\n",
    "    hypnogram = clean_hypnogram(hypnogram)[:60]\n",
    "\n",
    "    deep_count = hypnogram.count(\"1\")\n",
    "    awake_count = hypnogram.count(\"4\")\n",
    "\n",
    "    total_count = len(hypnogram)\n",
    "\n",
    "    deep_ratio = deep_count / total_count\n",
    "    awake_ratio = awake_count / total_count\n",
    "\n",
    "    return (deep_ratio, awake_ratio)\n",
    "\n",
    "\n",
    "all_data[[\"deep_ratio_5h\", \"awake_ratio_5h\"]] = all_data[\n",
    "    \"CONVERT(sleep_hypnogram_5min USING utf8)\"\n",
    "].apply(lambda x: pd.Series(calculate_deep_awake_ratio(x)))"
   ]
  },
  {
   "cell_type": "code",
   "execution_count": 21,
   "metadata": {},
   "outputs": [],
   "source": [
    "all_data = generate_time_lag_features(all_data, \"deep_ratio_5h\")\n",
    "all_data = generate_time_lag_features(all_data, \"awake_ratio_5h\")"
   ]
  },
  {
   "cell_type": "markdown",
   "metadata": {},
   "source": [
    "## 최대 연속 깨어난 시간, 평균 깨어난 간격"
   ]
  },
  {
   "cell_type": "code",
   "execution_count": 22,
   "metadata": {},
   "outputs": [],
   "source": [
    "def extract_awake_features(hypnogram):\n",
    "    hypnogram = clean_hypnogram(hypnogram)\n",
    "\n",
    "    # 깨어난 횟수 (4의 개수)\n",
    "    awake_count = hypnogram.count(4)\n",
    "\n",
    "    # 최대 연속 깨어난 시간 (연속된 4의 최대 길이)\n",
    "    max_awake_streak = (\n",
    "        max(map(len, \"\".join(map(str, hypnogram)).split(\"4\"))) if awake_count > 0 else 0\n",
    "    )\n",
    "\n",
    "    # 평균 깨어난 간격 (전체 수면 시간에서 깨어난 횟수로 나눔, 단위: 초)\n",
    "    awake_interval_avg = (len(hypnogram) * 300) / awake_count if awake_count > 0 else 0\n",
    "\n",
    "    return max_awake_streak, awake_interval_avg\n",
    "\n",
    "\n",
    "all_data[[\"awake_longest_duration\", \"awake_interval_avg\"]] = all_data[\n",
    "    \"CONVERT(sleep_hypnogram_5min USING utf8)\"\n",
    "].apply(lambda x: pd.Series(extract_awake_features(x)))\n",
    "\n",
    "all_data = generate_time_lag_features(all_data, \"awake_longest_duration\")\n",
    "all_data = generate_time_lag_features(all_data, \"awake_interval_avg\")"
   ]
  },
  {
   "cell_type": "markdown",
   "metadata": {},
   "source": [
    "## 필요없는 피처 제거"
   ]
  },
  {
   "cell_type": "code",
   "execution_count": 23,
   "metadata": {},
   "outputs": [],
   "source": [
    "drop_features = [\n",
    "    \"sleep_hr_5min\",\n",
    "    \"sleep_rmssd_5min\",\n",
    "    \"sleep_hypnogram_5min\",\n",
    "    \"sleep_period_id\",\n",
    "    \"sleep_is_longest\",\n",
    "    \"EMAIL\",\n",
    "    \"sleep_is_longest\",\n",
    "    \"sleep_rmssd\",\n",
    "    \"sleep_score\",\n",
    "    \"sleep_score_alignment\",\n",
    "    \"sleep_temperature_delta\",\n",
    "    \"sleep_temperature_deviation\",\n",
    "    \"sleep_startpoint_at_delta_mrl\",\n",
    "    \"sleep_midpoint_at_delta_mrl\",\n",
    "    \"sleep_startpoint_at_delta_sin_cumsum\",\n",
    "    \"sleep_startpoint_at_delta_cos_cumsum\",\n",
    "    \"sleep_midpoint_at_delta_sin_cumsum\",\n",
    "    \"sleep_midpoint_at_delta_sin_cumsum\",\n",
    "    \"sleep_startpoint_at_delta_sin\",\n",
    "    \"sleep_startpoint_at_delta_cos\",\n",
    "    \"sleep_midpoint_at_delta_sin\",\n",
    "    \"sleep_midpoint_at_delta_sin\",\n",
    "    \"sleep_deep\",\n",
    "    \"sleep_light\",\n",
    "    \"sleep_awake\",\n",
    "    \"sleep_rem\",\n",
    "    \"sleep_efficiency\",\n",
    "    \"sleep_score_efficiency\",\n",
    "    \"sleep_score_deep\",\n",
    "    \"sleep_score_rem\",\n",
    "    \"sleep_score_light\",\n",
    "]\n",
    "\n",
    "remaining_features = all_data.columns.difference(drop_features)\n",
    "\n",
    "all_data = all_data[remaining_features]\n",
    "all_data = all_data.select_dtypes(include=[int, float])  # 숫자형 데이터만\n",
    "selected_features = all_data.columns"
   ]
  },
  {
   "cell_type": "code",
   "execution_count": 24,
   "metadata": {},
   "outputs": [
    {
     "data": {
      "text/plain": [
       "Index(['activity_average_met', 'activity_cal_active', 'activity_cal_total',\n",
       "       'activity_daily_movement', 'activity_high', 'activity_inactive',\n",
       "       'activity_inactivity_alerts', 'activity_low', 'activity_medium',\n",
       "       'activity_met_min_high', 'activity_met_min_inactive',\n",
       "       'activity_met_min_low', 'activity_met_min_medium', 'activity_non_wear',\n",
       "       'activity_rest', 'activity_score', 'activity_score_meet_daily_targets',\n",
       "       'activity_score_move_every_hour', 'activity_score_recovery_time',\n",
       "       'activity_score_stay_active', 'activity_score_training_frequency',\n",
       "       'activity_score_training_volume', 'activity_steps', 'activity_total',\n",
       "       'awake_interval_avg', 'awake_interval_avg_30d_avg',\n",
       "       'awake_interval_avg_3d_avg', 'awake_interval_avg_7d_avg',\n",
       "       'awake_interval_avg_lag2', 'awake_interval_avg_lag3',\n",
       "       'awake_longest_duration', 'awake_longest_duration_30d_avg',\n",
       "       'awake_longest_duration_3d_avg', 'awake_longest_duration_7d_avg',\n",
       "       'awake_longest_duration_lag2', 'awake_longest_duration_lag3',\n",
       "       'awake_ratio_5h', 'awake_ratio_5h_30d_avg', 'awake_ratio_5h_3d_avg',\n",
       "       'awake_ratio_5h_7d_avg', 'awake_ratio_5h_lag2', 'awake_ratio_5h_lag3',\n",
       "       'date_count', 'deep_ratio_5h', 'deep_ratio_5h_30d_avg',\n",
       "       'deep_ratio_5h_3d_avg', 'deep_ratio_5h_7d_avg', 'deep_ratio_5h_lag2',\n",
       "       'deep_ratio_5h_lag3', 'sleep_awake_ratio', 'sleep_awake_ratio_30d_avg',\n",
       "       'sleep_awake_ratio_3d_avg', 'sleep_awake_ratio_7d_avg',\n",
       "       'sleep_awake_ratio_lag2', 'sleep_awake_ratio_lag3',\n",
       "       'sleep_breath_average', 'sleep_consistency',\n",
       "       'sleep_consistency_30d_avg', 'sleep_consistency_3d_avg',\n",
       "       'sleep_consistency_7d_avg', 'sleep_consistency_lag2',\n",
       "       'sleep_consistency_lag3', 'sleep_deep_ratio',\n",
       "       'sleep_deep_ratio_30d_avg', 'sleep_deep_ratio_3d_avg',\n",
       "       'sleep_deep_ratio_7d_avg', 'sleep_deep_ratio_lag2',\n",
       "       'sleep_deep_ratio_lag3', 'sleep_duration', 'sleep_end_hour',\n",
       "       'sleep_end_weekday', 'sleep_hr_average', 'sleep_hr_lowest',\n",
       "       'sleep_light_ratio', 'sleep_light_ratio_30d_avg',\n",
       "       'sleep_light_ratio_3d_avg', 'sleep_light_ratio_7d_avg',\n",
       "       'sleep_light_ratio_lag2', 'sleep_light_ratio_lag3',\n",
       "       'sleep_midpoint_at_delta', 'sleep_midpoint_at_delta_cos',\n",
       "       'sleep_midpoint_at_delta_cos_cumsum', 'sleep_midpoint_time',\n",
       "       'sleep_onset_latency', 'sleep_rem_ratio', 'sleep_rem_ratio_30d_avg',\n",
       "       'sleep_rem_ratio_3d_avg', 'sleep_rem_ratio_7d_avg',\n",
       "       'sleep_rem_ratio_lag2', 'sleep_rem_ratio_lag3', 'sleep_restless',\n",
       "       'sleep_score_disturbances', 'sleep_score_latency', 'sleep_score_total',\n",
       "       'sleep_start_hour', 'sleep_start_weekday', 'sleep_startpoint_at_delta',\n",
       "       'sleep_total'],\n",
       "      dtype='object')"
      ]
     },
     "execution_count": 24,
     "metadata": {},
     "output_type": "execute_result"
    }
   ],
   "source": [
    "selected_features"
   ]
  },
  {
   "cell_type": "markdown",
   "metadata": {},
   "source": [
    "## 데이터 다운캐스팅"
   ]
  },
  {
   "cell_type": "code",
   "execution_count": 25,
   "metadata": {},
   "outputs": [
    {
     "name": "stdout",
     "output_type": "stream",
     "text": [
      "64.0% 압축됨\n"
     ]
    }
   ],
   "source": [
    "def downcast(df, verbose=True):\n",
    "    start_mem = df.memory_usage().sum() / 1024**2  # 1MB = 1024**2 Byte\n",
    "    for col in df.columns:\n",
    "        dtype_name = df[col].dtype.name\n",
    "        if dtype_name == \"object\":\n",
    "            pass\n",
    "        elif dtype_name == \"bool\":\n",
    "            df[col] = df[col].astype(\"int8\")\n",
    "        elif dtype_name.startswith(\"int\") or (df[col].round() == df[col]).all():\n",
    "            df[col] = pd.to_numeric(df[col], downcast=\"integer\")\n",
    "        else:\n",
    "            df[col] = pd.to_numeric(df[col], downcast=\"float\")\n",
    "    end_mem = df.memory_usage().sum() / 1024**2\n",
    "    if verbose:\n",
    "        print(\"{:.1f}% 압축됨\".format(100 * (start_mem - end_mem) / start_mem))\n",
    "\n",
    "    return df\n",
    "\n",
    "\n",
    "all_data = downcast(all_data)"
   ]
  },
  {
   "cell_type": "markdown",
   "metadata": {},
   "source": [
    "## 데이터 스케일링"
   ]
  },
  {
   "cell_type": "code",
   "execution_count": 26,
   "metadata": {},
   "outputs": [],
   "source": [
    "from sklearn.preprocessing import StandardScaler\n",
    "\n",
    "all_data = StandardScaler().fit_transform(all_data)"
   ]
  },
  {
   "cell_type": "markdown",
   "metadata": {},
   "source": [
    "## 데이터 나누기"
   ]
  },
  {
   "cell_type": "code",
   "execution_count": 27,
   "metadata": {},
   "outputs": [],
   "source": [
    "num_train = len(train)\n",
    "\n",
    "X = all_data[:num_train]\n",
    "X_test = all_data[num_train:]\n",
    "\n",
    "y = train[\"label\"].values\n",
    "y_test = test[\"label\"].values"
   ]
  },
  {
   "cell_type": "markdown",
   "metadata": {},
   "source": [
    "# SMOTE"
   ]
  },
  {
   "cell_type": "code",
   "execution_count": 28,
   "metadata": {},
   "outputs": [
    {
     "data": {
      "text/plain": [
       "Text(0, 0.5, 'Percentage (%)')"
      ]
     },
     "execution_count": 28,
     "metadata": {},
     "output_type": "execute_result"
    },
    {
     "data": {
      "image/png": "[encoded data removed]",
      "text/plain": [
       "<Figure size 640x480 with 1 Axes>"
      ]
     },
     "metadata": {},
     "output_type": "display_data"
    }
   ],
   "source": [
    "from imblearn.over_sampling import SMOTE\n",
    "\n",
    "smote = SMOTE(random_state=random_seed)\n",
    "X_resampled, y_resampled = smote.fit_resample(X, y)\n",
    "\n",
    "class_distribution_after = pd.Series(y_resampled).value_counts(normalize=True) * 100\n",
    "class_distribution_after.plot(kind=\"bar\", color=\"red\", alpha=0.7)\n",
    "plt.xlabel(\"진단 그룹(0: CN, 1: MCI, 2: Dem)\")\n",
    "plt.ylabel(\"Percentage (%)\")"
   ]
  },
  {
   "cell_type": "markdown",
   "metadata": {},
   "source": [
    "# 모델 훈련 및 성능 검증"
   ]
  },
  {
   "cell_type": "code",
   "execution_count": 29,
   "metadata": {},
   "outputs": [],
   "source": [
    "n_splits = 5"
   ]
  },
  {
   "cell_type": "code",
   "execution_count": 30,
   "metadata": {},
   "outputs": [],
   "source": [
    "from sklearn.model_selection import StratifiedKFold\n",
    "\n",
    "# shuffle: 훈련 데이터가 시계열 데이터가 아니라면 섞어주는 것이 좋음\n",
    "# 시계열 데이터는 순서가 중요해서 데이터를 섞으면 안도미\n",
    "folds = StratifiedKFold(n_splits=n_splits, shuffle=True, random_state=random_seed)"
   ]
  },
  {
   "cell_type": "code",
   "execution_count": 31,
   "metadata": {},
   "outputs": [],
   "source": [
    "from sklearn.linear_model import LogisticRegression\n",
    "from sklearn.tree import DecisionTreeClassifier\n",
    "from sklearn.svm import SVC\n",
    "from sklearn.ensemble import GradientBoostingClassifier\n",
    "\n",
    "# 모델 학습 및 평가\n",
    "models = {\n",
    "    \"Lasso Regression\": LogisticRegression(\n",
    "        penalty=\"l1\", solver=\"liblinear\", multi_class=\"ovr\"\n",
    "    ),\n",
    "    \"Decision Tree\": DecisionTreeClassifier(random_state=random_seed),\n",
    "    \"Support Vector Machine\": SVC(  # probability=False 모델 학습 시간 줄이기 위해\n",
    "        kernel=\"linear\", probability=False, random_state=random_seed\n",
    "    ),\n",
    "    \"Gradient Boosting\": GradientBoostingClassifier(random_state=random_seed),\n",
    "}"
   ]
  },
  {
   "cell_type": "code",
   "execution_count": 33,
   "metadata": {},
   "outputs": [
    {
     "name": "stdout",
     "output_type": "stream",
     "text": [
      "######################################## Model: Decision Tree ########################################\n",
      "=== Average Classification Report ===\n",
      "              precision    recall  f1-score     support\n",
      "0              0.907904  0.891194  0.899427  1156.20000\n",
      "1              0.894248  0.903658  0.898862  1156.20000\n",
      "2              0.980280  0.987893  0.984055  1156.20000\n",
      "accuracy       0.927580  0.927580  0.927580     0.92758\n",
      "macro avg      0.927478  0.927582  0.927448  3468.60000\n",
      "weighted avg   0.927478  0.927580  0.927447  3468.60000\n",
      "Average Accuracy: 0.9276\n",
      "Average F1-score: 0.9274\n",
      "============================================================\n",
      "######################################## Model: Support Vector Machine ########################################\n",
      "=== Average Classification Report ===\n",
      "              precision    recall  f1-score      support\n",
      "0              0.652920  0.570490  0.608713  1156.200000\n",
      "1              0.609007  0.668049  0.637111  1156.200000\n",
      "2              0.832621  0.856084  0.844045  1156.200000\n",
      "accuracy       0.698207  0.698207  0.698207     0.698207\n",
      "macro avg      0.698183  0.698208  0.696623  3468.600000\n",
      "weighted avg   0.698185  0.698207  0.696624  3468.600000\n",
      "Average Accuracy: 0.6982\n",
      "Average F1-score: 0.6966\n",
      "============================================================\n",
      "######################################## Model: Lasso Regression ########################################\n",
      "=== Average Classification Report ===\n",
      "              precision    recall  f1-score      support\n",
      "0              0.619768  0.562360  0.589479  1156.200000\n",
      "1              0.599402  0.613041  0.606096  1156.200000\n",
      "2              0.784940  0.838959  0.810906  1156.200000\n",
      "accuracy       0.671453  0.671453  0.671453     0.671453\n",
      "macro avg      0.668037  0.671453  0.668827  3468.600000\n",
      "weighted avg   0.668039  0.671453  0.668827  3468.600000\n",
      "Average Accuracy: 0.6715\n",
      "Average F1-score: 0.6688\n",
      "============================================================\n",
      "######################################## Model: Gradient Boosting ########################################\n",
      "=== Average Classification Report ===\n",
      "              precision    recall  f1-score      support\n",
      "0              0.899740  0.884968  0.892289  1156.200000\n",
      "1              0.890889  0.902266  0.896535  1156.200000\n",
      "2              0.988454  0.992042  0.990242  1156.200000\n",
      "accuracy       0.926425  0.926425  0.926425     0.926425\n",
      "macro avg      0.926361  0.926425  0.926355  3468.600000\n",
      "weighted avg   0.926361  0.926425  0.926356  3468.600000\n",
      "Average Accuracy: 0.9264\n",
      "Average F1-score: 0.9264\n",
      "============================================================\n"
     ]
    }
   ],
   "source": [
    "from sklearn.metrics import accuracy_score, f1_score, classification_report\n",
    "from joblib import Parallel, delayed\n",
    "\n",
    "models_ = {}\n",
    "\n",
    "\n",
    "def evaluate_model(name, model, folds, X_resampled, y_resampled):\n",
    "    acc_scores = []\n",
    "    f1_scores = []\n",
    "    class_report_list = []\n",
    "\n",
    "    for fold, (train_idx, val_idx) in enumerate(folds.split(X_resampled, y_resampled)):\n",
    "        # 데이터 분할\n",
    "        X_train, X_val = X_resampled[train_idx], X_resampled[val_idx]\n",
    "        y_train, y_val = y_resampled[train_idx], y_resampled[val_idx]\n",
    "\n",
    "        # 모델 학습\n",
    "        model.fit(X_train, y_train)\n",
    "\n",
    "        # 모델 예측\n",
    "        y_pred = model.predict(X_val)\n",
    "\n",
    "        # 평가\n",
    "        acc = accuracy_score(y_val, y_pred)\n",
    "        f1 = f1_score(y_val, y_pred, average=\"weighted\")  # 불균형 데이터 고려\n",
    "        acc_scores.append(acc)\n",
    "        f1_scores.append(f1)\n",
    "\n",
    "        # Classification Report 저장\n",
    "        report = classification_report(y_val, y_pred, output_dict=True)\n",
    "        class_report_list.append(pd.DataFrame(report).T)\n",
    "\n",
    "    # Classification Report 평균\n",
    "    avg_class_report = pd.concat(class_report_list).groupby(level=0).mean()\n",
    "\n",
    "    # Accuracy 및 F1-score 평균 출력\n",
    "    print(\"#\" * 40, f\"Model: {name}\", \"#\" * 40)\n",
    "    print(f\"=== Average Classification Report ===\")\n",
    "    print(avg_class_report)\n",
    "    print(f\"Average Accuracy: {np.mean(acc_scores):.4f}\")\n",
    "    print(f\"Average F1-score: {np.mean(f1_scores):.4f}\")\n",
    "    print(\"=\" * 60)\n",
    "\n",
    "    return name, model\n",
    "\n",
    "\n",
    "results = Parallel(n_jobs=-1)(\n",
    "    delayed(evaluate_model)(name, model, folds, X_resampled, y_resampled)\n",
    "    for name, model in models.items()\n",
    ")\n",
    "\n",
    "for name, model in results:\n",
    "    models_[name] = model"
   ]
  },
  {
   "cell_type": "markdown",
   "metadata": {},
   "source": [
    "## test dataset 예측 결과"
   ]
  },
  {
   "cell_type": "code",
   "execution_count": 34,
   "metadata": {},
   "outputs": [
    {
     "name": "stdout",
     "output_type": "stream",
     "text": [
      "\n",
      " ======================================== TEST SET EVALUATION ======================================== \n",
      "\n",
      "=== Evaluating Lasso Regression on Test Set ===\n",
      "Test Accuracy: 0.4944\n",
      "Test F1-score: 0.5578\n",
      "Test Classification Report:\n",
      "               precision    recall  f1-score     support\n",
      "0              0.791634  0.522495  0.629504  1956.00000\n",
      "1              0.101344  0.318182  0.153725   308.00000\n",
      "2              0.477273  0.490654  0.483871   214.00000\n",
      "accuracy       0.494350  0.494350  0.494350     0.49435\n",
      "macro avg      0.456750  0.443777  0.422367  2478.00000\n",
      "weighted avg   0.678687  0.494350  0.557791  2478.00000\n",
      "============================================================\n",
      "=== Evaluating Decision Tree on Test Set ===\n",
      "Test Accuracy: 0.5747\n",
      "Test F1-score: 0.6213\n",
      "Test Classification Report:\n",
      "               precision    recall  f1-score      support\n",
      "0              0.798083  0.638548  0.709458  1956.000000\n",
      "1              0.120466  0.301948  0.172222   308.000000\n",
      "2              0.581560  0.383178  0.461972   214.000000\n",
      "accuracy       0.574657  0.574657  0.574657     0.574657\n",
      "macro avg      0.500037  0.441225  0.447884  2478.000000\n",
      "weighted avg   0.695161  0.574657  0.621310  2478.000000\n",
      "============================================================\n",
      "=== Evaluating Support Vector Machine on Test Set ===\n",
      "Test Accuracy: 0.4653\n",
      "Test F1-score: 0.5390\n",
      "Test Classification Report:\n",
      "               precision    recall  f1-score      support\n",
      "0              0.803183  0.490286  0.608889  1956.000000\n",
      "1              0.080264  0.275974  0.124360   308.000000\n",
      "2              0.484444  0.509346  0.496583   214.000000\n",
      "accuracy       0.465295  0.465295  0.465295     0.465295\n",
      "macro avg      0.455964  0.425202  0.409944  2478.000000\n",
      "weighted avg   0.685802  0.465295  0.538966  2478.000000\n",
      "============================================================\n",
      "=== Evaluating Gradient Boosting on Test Set ===\n",
      "Test Accuracy: 0.6308\n",
      "Test F1-score: 0.6690\n",
      "Test Classification Report:\n",
      "               precision    recall  f1-score      support\n",
      "0              0.828571  0.711656  0.765677  1956.000000\n",
      "1              0.140000  0.318182  0.194444   308.000000\n",
      "2              0.744898  0.341121  0.467949   214.000000\n",
      "accuracy       0.630751  0.630751  0.630751     0.630751\n",
      "macro avg      0.571156  0.456987  0.476023  2478.000000\n",
      "weighted avg   0.735760  0.630751  0.668964  2478.000000\n",
      "============================================================\n"
     ]
    }
   ],
   "source": [
    "# Test Set 성능 평가\n",
    "print(\"\\n\", \"=\" * 40, \"TEST SET EVALUATION\", \"=\" * 40, \"\\n\")\n",
    "\n",
    "for name, model in models_.items():\n",
    "    print(f\"=== Evaluating {name} on Test Set ===\")\n",
    "\n",
    "    # 테스트 데이터 예측\n",
    "    y_test_pred = model.predict(X_test)\n",
    "\n",
    "    # 테스트 데이터 평가\n",
    "    test_acc = accuracy_score(y_test, y_test_pred)\n",
    "    test_f1 = f1_score(y_test, y_test_pred, average=\"weighted\")  # 불균형 고려\n",
    "    test_report = classification_report(y_test, y_test_pred, output_dict=True)\n",
    "\n",
    "    # 결과 출력\n",
    "    print(f\"Test Accuracy: {test_acc:.4f}\")\n",
    "    print(f\"Test F1-score: {test_f1:.4f}\")\n",
    "    print(f\"Test Classification Report:\\n\", pd.DataFrame(test_report).T)\n",
    "    print(\"=\" * 60)"
   ]
  }
 ],
 "metadata": {
  "kernelspec": {
   "display_name": "env2501",
   "language": "python",
   "name": "python3"
  },
  "language_info": {
   "codemirror_mode": {
    "name": "ipython",
    "version": 3
   },
   "file_extension": ".py",
   "mimetype": "text/x-python",
   "name": "python",
   "nbconvert_exporter": "python",
   "pygments_lexer": "ipython3",
   "version": "3.8.20"
  }
 },
 "nbformat": 4,
 "nbformat_minor": 2
}
