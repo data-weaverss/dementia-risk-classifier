{
 "cells": [
  {
   "cell_type": "code",
   "execution_count": 287,
   "metadata": {},
   "outputs": [],
   "source": [
    "import pandas as pd\n",
    "import numpy as np\n",
    "import matplotlib.pyplot as plt\n",
    "import seaborn as sns\n",
    "import koreanize_matplotlib\n",
    "import warnings\n",
    "\n",
    "warnings.filterwarnings(\"ignore\")  # 경고 문구 생략"
   ]
  },
  {
   "cell_type": "code",
   "execution_count": 288,
   "metadata": {},
   "outputs": [],
   "source": [
    "train_path = \"../../data/train/\"\n",
    "test_path = \"../../data/validation/\"\n",
    "\n",
    "train_label = pd.read_csv(train_path + \"label/1.걸음걸이/training_label.csv\")\n",
    "train_sleep = pd.read_csv(train_path + \"raw/train_sleep.csv\")\n",
    "train_activity = pd.read_csv(train_path + \"raw/train_activity.csv\")\n",
    "\n",
    "test_label = pd.read_csv(test_path + \"label/1.걸음걸이/val_label.csv\")\n",
    "test_sleep = pd.read_csv(test_path + \"raw/val_sleep.csv\")\n",
    "test_activity = pd.read_csv(test_path + \"raw/val_activity.csv\")"
   ]
  },
  {
   "cell_type": "code",
   "execution_count": 289,
   "metadata": {},
   "outputs": [],
   "source": [
    "random_seed = 42"
   ]
  },
  {
   "cell_type": "code",
   "execution_count": 290,
   "metadata": {},
   "outputs": [],
   "source": [
    "label_encoder = {\"CN\": 0, \"MCI\": 1, \"Dem\": 2}"
   ]
  },
  {
   "cell_type": "code",
   "execution_count": 291,
   "metadata": {},
   "outputs": [],
   "source": [
    "train_label[\"label\"] = train_label[\"DIAG_NM\"].map(label_encoder)\n",
    "test_label[\"label\"] = test_label[\"DIAG_NM\"].map(label_encoder)\n",
    "train_label.drop(columns=[\"DIAG_NM\"], inplace=True)\n",
    "test_label.drop(columns=[\"DIAG_NM\"], inplace=True)"
   ]
  },
  {
   "cell_type": "code",
   "execution_count": 292,
   "metadata": {},
   "outputs": [],
   "source": [
    "# label 과 합치기\n",
    "train = train_sleep.merge(train_label, left_on=\"EMAIL\", right_on=\"SAMPLE_EMAIL\")\n",
    "test = test_sleep.merge(test_label, left_on=\"EMAIL\", right_on=\"SAMPLE_EMAIL\")\n",
    "\n",
    "# sleep + activity\n",
    "train = pd.concat([train, train_activity.drop([\"EMAIL\"], axis=1)], axis=1)\n",
    "test = pd.concat([test, test_activity.drop([\"EMAIL\"], axis=1)], axis=1)"
   ]
  },
  {
   "cell_type": "markdown",
   "metadata": {},
   "source": [
    "## 데이터 합치기"
   ]
  },
  {
   "cell_type": "code",
   "execution_count": 293,
   "metadata": {},
   "outputs": [],
   "source": [
    "all_data = pd.concat([train, test], axis=0)\n",
    "all_data = all_data.drop([\"label\"], axis=1)  # 타겟값 제거"
   ]
  },
  {
   "cell_type": "markdown",
   "metadata": {},
   "source": [
    "# 데이터 전처리"
   ]
  },
  {
   "cell_type": "markdown",
   "metadata": {},
   "source": [
    "## sleep_startpoint_at_delta 컬럼 추가"
   ]
  },
  {
   "cell_type": "code",
   "execution_count": 212,
   "metadata": {},
   "outputs": [],
   "source": [
    "from datetime import datetime\n",
    "\n",
    "\n",
    "# 자정과 timestamp의 차이(초)\n",
    "def time_to_seconds_since_midnight(timestamp):\n",
    "    dt = datetime.fromisoformat(timestamp[:-6])  # +09:00 타임존 offset 제거\n",
    "    return dt.hour * 3600 + dt.minute * 60 + dt.second\n",
    "\n",
    "\n",
    "all_data[\"sleep_startpoint_at_delta\"] = all_data[\"sleep_bedtime_start\"].apply(\n",
    "    time_to_seconds_since_midnight\n",
    ")"
   ]
  },
  {
   "cell_type": "markdown",
   "metadata": {},
   "source": [
    "## startpoint_at_delta, midpoint_at_delta 자정 전의 시간이면 음수를 갖도록 수정"
   ]
  },
  {
   "cell_type": "code",
   "execution_count": 213,
   "metadata": {},
   "outputs": [],
   "source": [
    "def adjust_delta_time(time):\n",
    "    if time > 43200:\n",
    "        time -= 86400\n",
    "    return time\n",
    "\n",
    "\n",
    "all_data[\"sleep_startpoint_at_delta_norm\"] = all_data[\n",
    "    \"sleep_startpoint_at_delta\"\n",
    "].apply(adjust_delta_time)\n",
    "all_data[\"sleep_midpoint_at_delta_norm\"] = all_data[\"sleep_midpoint_at_delta\"].apply(\n",
    "    adjust_delta_time\n",
    ")"
   ]
  },
  {
   "cell_type": "markdown",
   "metadata": {},
   "source": [
    "## sleep_hr_5min, slee_rmssd_5min 결측치 선형보간"
   ]
  },
  {
   "cell_type": "code",
   "execution_count": 214,
   "metadata": {},
   "outputs": [],
   "source": [
    "# 선형 보간 함수\n",
    "def interpolate_zeros(lst):\n",
    "    indices = np.arange(len(lst))  # 인덱스 배열 생성\n",
    "    non_zero_indices = [i for i, x in enumerate(lst) if x != 0]  # 0이 아닌 값의 인덱스\n",
    "    non_zero_values = [x for x in lst if x != 0]  # 0이 아닌 값들\n",
    "\n",
    "    # 0이 아닌 값만을 기준으로 선형 보간\n",
    "    interpolated_values = np.interp(indices, non_zero_indices, non_zero_values)\n",
    "\n",
    "    return interpolated_values.tolist()"
   ]
  },
  {
   "cell_type": "code",
   "execution_count": 215,
   "metadata": {},
   "outputs": [],
   "source": [
    "def get_log_list(log):\n",
    "    log_list = list(map(int, log.rstrip(\"/\").split(\"/\")))\n",
    "    return log_list"
   ]
  },
  {
   "cell_type": "code",
   "execution_count": 216,
   "metadata": {},
   "outputs": [],
   "source": [
    "from joblib import Parallel, delayed\n",
    "\n",
    "all_data[\"sleep_rmssd_5min_list\"] = Parallel(n_jobs=-1)(\n",
    "    delayed(get_log_list)(x) for x in all_data[\"CONVERT(sleep_rmssd_5min USING utf8)\"]\n",
    ")\n",
    "all_data[\"sleep_hr_5min_list\"] = Parallel(n_jobs=-1)(\n",
    "    delayed(get_log_list)(x) for x in all_data[\"CONVERT(sleep_hr_5min USING utf8)\"]\n",
    ")\n",
    "all_data[\"sleep_hypnogram_5min_list\"] = Parallel(n_jobs=-1)(\n",
    "    delayed(get_log_list)(x)\n",
    "    for x in all_data[\"CONVERT(sleep_hypnogram_5min USING utf8)\"]\n",
    ")\n",
    "\n",
    "# 병렬 처리로 interpolate_zeros 적용\n",
    "all_data[\"sleep_rmssd_5min_list\"] = Parallel(n_jobs=-1)(\n",
    "    delayed(interpolate_zeros)(x) for x in all_data[\"sleep_rmssd_5min_list\"]\n",
    ")\n",
    "all_data[\"sleep_hr_5min_list\"] = Parallel(n_jobs=-1)(\n",
    "    delayed(interpolate_zeros)(x) for x in all_data[\"sleep_hr_5min_list\"]\n",
    ")"
   ]
  },
  {
   "cell_type": "markdown",
   "metadata": {},
   "source": [
    "# Feature Engineering"
   ]
  },
  {
   "cell_type": "markdown",
   "metadata": {},
   "source": [
    "## sleep_consistency 파생 변수 생성"
   ]
  },
  {
   "cell_type": "markdown",
   "metadata": {},
   "source": [
    "### bedtime_start, midpoint_at_delta 컬럼 sin, cos 변환"
   ]
  },
  {
   "cell_type": "code",
   "execution_count": 217,
   "metadata": {},
   "outputs": [],
   "source": [
    "# 24시간 순환성을 가지도록\n",
    "all_data[\"sleep_startpoint_at_delta_sin\"] = np.sin(\n",
    "    2 * np.pi * all_data[\"sleep_startpoint_at_delta_norm\"] / 86400\n",
    ")\n",
    "all_data[\"sleep_startpoint_at_delta_cos\"] = np.cos(\n",
    "    2 * np.pi * all_data[\"sleep_startpoint_at_delta_norm\"] / 86400\n",
    ")\n",
    "\n",
    "all_data[\"sleep_midpoint_at_delta_sin\"] = np.sin(\n",
    "    2 * np.pi * all_data[\"sleep_midpoint_at_delta_norm\"] / 86400\n",
    ")\n",
    "all_data[\"sleep_midpoint_at_delta_cos\"] = np.cos(\n",
    "    2 * np.pi * all_data[\"sleep_midpoint_at_delta_norm\"] / 86400\n",
    ")"
   ]
  },
  {
   "cell_type": "markdown",
   "metadata": {},
   "source": [
    "### 개인별 delta time sin, cos 벡터의 평균 길이 계산\n",
    "- 모든 벡터가 동일한 방향(즉, 같은 시간대)에 있으면 평균 벡터 길이 = 1\n",
    "- 시간 차이가 많이날수록 두 벡터의 평균 길이는 짧아짐\n",
    "\n",
    "<br><br>\n",
    "\n",
    "- 완벽한 consistency -> MRL = 1\n",
    "- 일정하지 않은 패턴 -> MRL < 1\n",
    "- 완전히 랜덤한 패턴 -> MRL = 0"
   ]
  },
  {
   "cell_type": "code",
   "execution_count": 218,
   "metadata": {},
   "outputs": [],
   "source": [
    "all_data[\"sleep_startpoint_at_delta_sin_cumsum\"] = all_data.groupby(\"EMAIL\")[\n",
    "    \"sleep_startpoint_at_delta_sin\"\n",
    "].cumsum()\n",
    "all_data[\"sleep_startpoint_at_delta_cos_cumsum\"] = all_data.groupby(\"EMAIL\")[\n",
    "    \"sleep_startpoint_at_delta_cos\"\n",
    "].cumsum()\n",
    "all_data[\"sleep_midpoint_at_delta_sin_cumsum\"] = all_data.groupby(\"EMAIL\")[\n",
    "    \"sleep_midpoint_at_delta_sin\"\n",
    "].cumsum()\n",
    "all_data[\"sleep_midpoint_at_delta_cos_cumsum\"] = all_data.groupby(\"EMAIL\")[\n",
    "    \"sleep_midpoint_at_delta_cos\"\n",
    "].cumsum()\n",
    "all_data[\"date_count\"] = (\n",
    "    all_data.groupby(\"EMAIL\").cumcount() + 1\n",
    ")  # cumcount 는 0부터 시작"
   ]
  },
  {
   "cell_type": "code",
   "execution_count": 219,
   "metadata": {},
   "outputs": [],
   "source": [
    "# mrl: mean resultant length: 벡터들 평균 길이\n",
    "all_data[\"sleep_startpoint_at_delta_mrl\"] = (\n",
    "    np.sqrt(\n",
    "        all_data[\"sleep_startpoint_at_delta_sin_cumsum\"] ** 2\n",
    "        + all_data[\"sleep_startpoint_at_delta_cos_cumsum\"] ** 2\n",
    "    )\n",
    "    / all_data[\"date_count\"]\n",
    ")\n",
    "all_data[\"sleep_midpoint_at_delta_mrl\"] = (\n",
    "    np.sqrt(\n",
    "        all_data[\"sleep_midpoint_at_delta_sin_cumsum\"] ** 2\n",
    "        + all_data[\"sleep_midpoint_at_delta_cos_cumsum\"] ** 2\n",
    "    )\n",
    "    / all_data[\"date_count\"]\n",
    ")"
   ]
  },
  {
   "cell_type": "markdown",
   "metadata": {},
   "source": [
    "### sleep_consistency"
   ]
  },
  {
   "cell_type": "code",
   "execution_count": 220,
   "metadata": {},
   "outputs": [],
   "source": [
    "def fill_na_with_user_median(df, column_name):\n",
    "    \"\"\"\n",
    "    shift, moving average 계산으로 비어있는 앞의 값 평균으로 채우기 개별 사용자의 중앙값으로 채운다.\n",
    "    \"\"\"\n",
    "    # 사용자별 평균 계산\n",
    "    user_medians = df.groupby(\"EMAIL\")[column_name].transform(\"median\")\n",
    "\n",
    "    # NaN 값을 해당 사용자의 중앙값으로 채움\n",
    "    df[column_name].fillna(user_medians, inplace=True)\n",
    "    return df"
   ]
  },
  {
   "cell_type": "code",
   "execution_count": 221,
   "metadata": {},
   "outputs": [],
   "source": [
    "def generate_time_lag_features(df, columns, lags=[2, 3], rolling_windows=[3, 7, 30]):\n",
    "    \"\"\"\n",
    "    특정 컬럼(column)에 대해 Time Lag 변수와 이동 평균 변수를 생성하는 함수.\n",
    "\n",
    "    Parameters:\n",
    "    - df: DataFrame\n",
    "    - columns: 타겟 컬럼명 리스트 (예: 'deep_ratio_5h' 또는 'awake_ratio_5h')\n",
    "    - lags: Time Lag을 만들 간격 리스트 (기본값: [2, 3])\n",
    "    - rolling_windows: 이동 평균을 계산할 윈도우 크기 리스트 (기본값: [3, 7, 30])\n",
    "\n",
    "    Returns:\n",
    "    - 변형된 DataFrame (원본 df에 새로운 컬럼 추가)\n",
    "    \"\"\"\n",
    "\n",
    "    for column in columns:\n",
    "        for lag in lags:\n",
    "            df[f\"{column}_lag{lag}\"] = df.groupby(\"EMAIL\")[column].shift(lag)\n",
    "            df = fill_na_with_user_median(df, f\"{column}_lag{lag}\")\n",
    "\n",
    "        for window in rolling_windows:\n",
    "            df[f\"{column}_{window}d_avg\"] = df.groupby(\"EMAIL\")[column].transform(\n",
    "                lambda x: x.rolling(window, min_periods=1).mean()\n",
    "            )\n",
    "            df = fill_na_with_user_median(df, f\"{column}_{window}d_avg\")\n",
    "    return df"
   ]
  },
  {
   "cell_type": "code",
   "execution_count": 222,
   "metadata": {},
   "outputs": [],
   "source": [
    "all_data[\"sleep_consistency\"] = (\n",
    "    all_data[\"sleep_startpoint_at_delta_mrl\"] + all_data[\"sleep_midpoint_at_delta_mrl\"]\n",
    ") / 2\n",
    "\n",
    "all_data = generate_time_lag_features(all_data, [\"sleep_consistency\"])"
   ]
  },
  {
   "cell_type": "code",
   "execution_count": 224,
   "metadata": {},
   "outputs": [],
   "source": [
    "derived_features = [col for col in all_data.columns if \"consistency\" in col]\n",
    "derived_features += [col for col in all_data.columns if \"_norm\" in col]"
   ]
  },
  {
   "cell_type": "markdown",
   "metadata": {},
   "source": [
    "## bedtime_start, bedtime_end 시간대, 요일 변수 추가"
   ]
  },
  {
   "cell_type": "code",
   "execution_count": 225,
   "metadata": {},
   "outputs": [],
   "source": [
    "all_data[\"sleep_bedtime_start\"] = pd.to_datetime(all_data[\"sleep_bedtime_start\"])\n",
    "all_data[\"sleep_bedtime_end\"] = pd.to_datetime(all_data[\"sleep_bedtime_end\"])\n",
    "\n",
    "all_data[\"sleep_start_hour\"] = all_data[\"sleep_bedtime_start\"].dt.hour\n",
    "all_data[\"sleep_start_weekday\"] = all_data[\"sleep_bedtime_start\"].dt.weekday\n",
    "\n",
    "all_data[\"sleep_end_hour\"] = all_data[\"sleep_bedtime_end\"].dt.hour\n",
    "all_data[\"sleep_end_weekday\"] = all_data[\"sleep_bedtime_end\"].dt.weekday"
   ]
  },
  {
   "cell_type": "code",
   "execution_count": 226,
   "metadata": {},
   "outputs": [],
   "source": [
    "derived_features += [\n",
    "    \"sleep_start_hour\",\n",
    "    \"sleep_start_weekday\",\n",
    "    \"sleep_end_hour\",\n",
    "    \"sleep_end_weekday\",\n",
    "]"
   ]
  },
  {
   "cell_type": "code",
   "execution_count": 227,
   "metadata": {},
   "outputs": [
    {
     "data": {
      "text/plain": [
       "['sleep_consistency',\n",
       " 'sleep_consistency_lag2',\n",
       " 'sleep_consistency_lag3',\n",
       " 'sleep_consistency_3d_avg',\n",
       " 'sleep_consistency_7d_avg',\n",
       " 'sleep_consistency_30d_avg',\n",
       " 'sleep_startpoint_at_delta_norm',\n",
       " 'sleep_midpoint_at_delta_norm',\n",
       " 'sleep_start_hour',\n",
       " 'sleep_start_weekday',\n",
       " 'sleep_end_hour',\n",
       " 'sleep_end_weekday']"
      ]
     },
     "execution_count": 227,
     "metadata": {},
     "output_type": "execute_result"
    }
   ],
   "source": [
    "derived_features"
   ]
  },
  {
   "cell_type": "markdown",
   "metadata": {},
   "source": [
    "## 수면 단계별 ratio"
   ]
  },
  {
   "cell_type": "code",
   "execution_count": 228,
   "metadata": {},
   "outputs": [],
   "source": [
    "all_data[\"sleep_deep_ratio\"] = all_data[\"sleep_deep\"] / all_data[\"sleep_total\"]\n",
    "all_data[\"sleep_light_ratio\"] = all_data[\"sleep_light\"] / all_data[\"sleep_total\"]\n",
    "all_data[\"sleep_awake_ratio\"] = all_data[\"sleep_awake\"] / all_data[\"sleep_duration\"]\n",
    "all_data[\"sleep_rem_ratio\"] = all_data[\"sleep_rem\"] / all_data[\"sleep_total\"]\n",
    "\n",
    "all_data = generate_time_lag_features(\n",
    "    all_data,\n",
    "    [\"sleep_deep_ratio\", \"sleep_light_ratio\", \"sleep_awake_ratio\", \"sleep_rem_ratio\"],\n",
    ")"
   ]
  },
  {
   "cell_type": "code",
   "execution_count": 229,
   "metadata": {},
   "outputs": [],
   "source": [
    "derived_features += [col for col in all_data.columns if \"_ratio\" in col]"
   ]
  },
  {
   "cell_type": "markdown",
   "metadata": {},
   "source": [
    "## 수면 초반 5시간 동안의 deep과 awake 비율, 최대 연속 깨어난 시간, 평균 깨어난 간격"
   ]
  },
  {
   "cell_type": "code",
   "execution_count": 230,
   "metadata": {},
   "outputs": [],
   "source": [
    "def longest_consecutive_fours(nums):\n",
    "    max_length = 0\n",
    "    current_length = 0\n",
    "\n",
    "    for num in nums:\n",
    "        if num == 4:\n",
    "            current_length += 1\n",
    "            max_length = max(max_length, current_length)\n",
    "        else:\n",
    "            current_length = 0\n",
    "\n",
    "    return max_length"
   ]
  },
  {
   "cell_type": "code",
   "execution_count": 231,
   "metadata": {},
   "outputs": [],
   "source": [
    "def extract_features_from_hypnogram(hypnogram):\n",
    "    # deep_ratio, awake_ratio 계산\n",
    "    # 5시간(300분) 동안의 데이터만 사용 (5분 단위로 기록된 데이터이므로 60개의 데이터)\n",
    "    hypnogram_60 = hypnogram[:60]\n",
    "    deep_count = hypnogram_60.count(\"1\")\n",
    "    awake_count = hypnogram_60.count(\"4\")\n",
    "    total_count = len(hypnogram_60)\n",
    "    deep_ratio = deep_count / total_count\n",
    "    awake_ratio = awake_count / total_count\n",
    "\n",
    "    # 깨어난 횟수, 평균 깨어난 간격\n",
    "    awake_count = hypnogram.count(4)  # 깨어난 횟수 (4의 개수)\n",
    "    max_awake_streak = longest_consecutive_fours(hypnogram)  # 최대 깨어난 연속 횟수\n",
    "    # 평균 깨어난 간격 (전체 수면 시간에서 깨어난 횟수로 나눔, 단위: 초)\n",
    "    awake_interval_avg = (len(hypnogram) * 300) / awake_count if awake_count > 0 else 0\n",
    "\n",
    "    return (deep_ratio, awake_ratio, max_awake_streak, awake_interval_avg)\n",
    "\n",
    "\n",
    "all_data[\n",
    "    [\"deep_ratio_5h\", \"awake_ratio_5h\", \"awake_longest_duration\", \"awake_interval_avg\"]\n",
    "] = (\n",
    "    all_data[\"sleep_hypnogram_5min_list\"]\n",
    "    .apply(extract_features_from_hypnogram)\n",
    "    .apply(pd.Series)\n",
    ")"
   ]
  },
  {
   "cell_type": "code",
   "execution_count": 232,
   "metadata": {},
   "outputs": [],
   "source": [
    "all_data = generate_time_lag_features(\n",
    "    all_data,\n",
    "    [\"deep_ratio_5h\", \"awake_ratio_5h\", \"awake_longest_duration\", \"awake_interval_avg\"],\n",
    ")"
   ]
  },
  {
   "cell_type": "code",
   "execution_count": null,
   "metadata": {},
   "outputs": [],
   "source": [
    "new_cols = [\n",
    "    \"deep_ratio_5h\",\n",
    "    \"awake_ratio_5h\",\n",
    "    \"awake_longest_duration\",\n",
    "    \"awake_interval_avg\",\n",
    "]\n",
    "\n",
    "for new_col in new_cols:\n",
    "    derived_features += [col for col in all_data.columns if new_col in col]"
   ]
  },
  {
   "cell_type": "markdown",
   "metadata": {},
   "source": [
    "## sleep_hr_lowest time_lag, moving average"
   ]
  },
  {
   "cell_type": "code",
   "execution_count": 235,
   "metadata": {},
   "outputs": [],
   "source": [
    "all_data = generate_time_lag_features(all_data, [\"sleep_hr_lowest\"])"
   ]
  },
  {
   "cell_type": "code",
   "execution_count": 236,
   "metadata": {},
   "outputs": [],
   "source": [
    "derived_features += [col for col in all_data.columns if \"sleep_hr_lowest\" in col]"
   ]
  },
  {
   "cell_type": "markdown",
   "metadata": {},
   "source": [
    "## 심박수 패턴 파생변수"
   ]
  },
  {
   "cell_type": "code",
   "execution_count": 237,
   "metadata": {},
   "outputs": [],
   "source": [
    "# 심박수 패턴 감지 함수 정의\n",
    "def detect_patterns(hr_log, window_size=5):\n",
    "    # hr_log를 numpy 배열로 변환\n",
    "    hr_values = np.array(hr_log)\n",
    "\n",
    "    # 이동 평균 계산\n",
    "    moving_avg = np.convolve(\n",
    "        hr_values, np.ones(window_size) / window_size, mode=\"valid\"\n",
    "    )\n",
    "\n",
    "    # hammock pattern: 중간에 낮고 양쪽 끝이 높은 패턴\n",
    "    if moving_avg[0] > moving_avg[len(moving_avg) // 2] < moving_avg[-1]:\n",
    "        return 0\n",
    "\n",
    "    # downward slope: 점진적으로 감소하는 패턴\n",
    "    elif np.all(np.diff(moving_avg) < 0):\n",
    "        return 1\n",
    "\n",
    "    # the hill: 중간에 높고 양쪽 끝이 낮은 패턴\n",
    "    elif moving_avg[0] < moving_avg[len(moving_avg) // 2] > moving_avg[-1]:\n",
    "        return 3\n",
    "\n",
    "    # the uplands: 점진적으로 증가하는 패턴\n",
    "    elif np.all(np.diff(moving_avg) > 0):\n",
    "        return 4\n",
    "\n",
    "    return 5\n",
    "\n",
    "\n",
    "# 심박수 패턴 파생변수 추가\n",
    "all_data[\"hr_pattern\"] = all_data[\"sleep_hr_5min_list\"].apply(detect_patterns)"
   ]
  },
  {
   "cell_type": "markdown",
   "metadata": {},
   "source": [
    "### 원 핫 인코딩"
   ]
  },
  {
   "cell_type": "code",
   "execution_count": 238,
   "metadata": {},
   "outputs": [],
   "source": [
    "from sklearn.preprocessing import OneHotEncoder\n",
    "\n",
    "# OneHotEncoder를 사용하여 원핫인코딩 수행\n",
    "encoder = OneHotEncoder(sparse=False)\n",
    "encoded_patterns = encoder.fit_transform(all_data[[\"hr_pattern\"]])\n",
    "\n",
    "# 원핫인코딩 결과를 데이터프레임으로 변환\n",
    "encoded_df = pd.DataFrame(\n",
    "    encoded_patterns, columns=encoder.get_feature_names_out([\"hr_pattern\"])\n",
    ").reset_index(drop=True)\n",
    "all_data.reset_index(drop=True, inplace=True)\n",
    "\n",
    "# 원본 데이터프레임과 원핫인코딩된 데이터프레임을 병합\n",
    "all_data = pd.concat([all_data, encoded_df], axis=1)"
   ]
  },
  {
   "cell_type": "code",
   "execution_count": 240,
   "metadata": {},
   "outputs": [],
   "source": [
    "derived_features += [col for col in all_data.columns if \"hr_pattern_\" in col]"
   ]
  },
  {
   "cell_type": "markdown",
   "metadata": {},
   "source": [
    "## 파생변수 csv 저장"
   ]
  },
  {
   "cell_type": "code",
   "execution_count": null,
   "metadata": {},
   "outputs": [],
   "source": [
    "# 'sleep_bedtime_end','sleep_bedtime_start','activity_day_end', 'activity_day_start'\n",
    "derived_features += [\n",
    "    col for col in all_data.columns if ((\"bedtime\" in col) or (\"day_\" in col))\n",
    "]\n",
    "derived_features += [\"EMAIL\"]"
   ]
  },
  {
   "cell_type": "code",
   "execution_count": 247,
   "metadata": {},
   "outputs": [],
   "source": [
    "derived_df = all_data[derived_features]\n",
    "derived_df.to_csv(\"./data/case4_derived_features.csv\", index=False)"
   ]
  },
  {
   "cell_type": "markdown",
   "metadata": {},
   "source": [
    "## 파생변수 불러오기"
   ]
  },
  {
   "cell_type": "code",
   "execution_count": 285,
   "metadata": {},
   "outputs": [],
   "source": [
    "derived_df = pd.read_csv(\"./data/case4_derived_features.csv\")"
   ]
  },
  {
   "cell_type": "code",
   "execution_count": 294,
   "metadata": {},
   "outputs": [],
   "source": [
    "date_columns = [\n",
    "    \"sleep_bedtime_end\",\n",
    "    \"sleep_bedtime_start\",\n",
    "    \"activity_day_end\",\n",
    "    \"activity_day_start\",\n",
    "]\n",
    "\n",
    "for col in date_columns:\n",
    "    all_data[col] = pd.to_datetime(all_data[col])\n",
    "    derived_df[col] = pd.to_datetime(derived_df[col])\n",
    "\n",
    "\n",
    "all_data = all_data.merge(derived_df, on=[\"EMAIL\"] + date_columns, how=\"left\")"
   ]
  },
  {
   "cell_type": "markdown",
   "metadata": {},
   "source": [
    "## 필요없는 피처 제거"
   ]
  },
  {
   "cell_type": "code",
   "execution_count": 295,
   "metadata": {},
   "outputs": [],
   "source": [
    "drop_features = [\n",
    "    \"sleep_hr_5min\",\n",
    "    \"sleep_rmssd_5min\",\n",
    "    \"sleep_hypnogram_5min\",\n",
    "    \"sleep_period_id\",\n",
    "    \"sleep_is_longest\",\n",
    "    \"sleep_rmssd\",\n",
    "    \"sleep_score\",\n",
    "    \"sleep_score_alignment\",\n",
    "    \"sleep_temperature_delta\",\n",
    "    \"sleep_temperature_deviation\",\n",
    "    \"sleep_startpoint_at_delta_mrl\",\n",
    "    \"sleep_midpoint_at_delta_mrl\",\n",
    "    \"sleep_startpoint_at_delta_sin_cumsum\",\n",
    "    \"sleep_startpoint_at_delta_cos_cumsum\",\n",
    "    \"sleep_midpoint_at_delta_sin_cumsum\",\n",
    "    \"sleep_midpoint_at_delta_sin_cumsum\",\n",
    "    \"sleep_startpoint_at_delta_sin\",\n",
    "    \"sleep_startpoint_at_delta_cos\",\n",
    "    \"sleep_midpoint_at_delta_sin\",\n",
    "    \"sleep_midpoint_at_delta_sin\",\n",
    "    \"sleep_deep\",\n",
    "    \"sleep_light\",\n",
    "    \"sleep_awake\",\n",
    "    \"sleep_rem\",\n",
    "    \"sleep_efficiency\",\n",
    "    \"sleep_score_efficiency\",\n",
    "    \"sleep_score_deep\",\n",
    "    \"sleep_score_rem\",\n",
    "    \"sleep_score_light\",\n",
    "    \"date_count\",\n",
    "    \"sleep_total\",\n",
    "    \"sleep_hr_pattern\",\n",
    "    \"hr_pattern\",\n",
    "]\n",
    "\n",
    "remaining_features = all_data.columns.difference(drop_features)\n",
    "all_data = all_data[remaining_features]\n",
    "all_data = all_data.select_dtypes(include=[int, float])  # 숫자형 데이터만\n",
    "selected_features = all_data.columns\n"
   ]
  },
  {
   "cell_type": "code",
   "execution_count": 296,
   "metadata": {},
   "outputs": [
    {
     "data": {
      "text/plain": [
       "array(['activity_average_met', 'activity_cal_active',\n",
       "       'activity_cal_total', 'activity_daily_movement', 'activity_high',\n",
       "       'activity_inactive', 'activity_inactivity_alerts', 'activity_low',\n",
       "       'activity_medium', 'activity_met_min_high',\n",
       "       'activity_met_min_inactive', 'activity_met_min_low',\n",
       "       'activity_met_min_medium', 'activity_non_wear', 'activity_rest',\n",
       "       'activity_score', 'activity_score_meet_daily_targets',\n",
       "       'activity_score_move_every_hour', 'activity_score_recovery_time',\n",
       "       'activity_score_stay_active', 'activity_score_training_frequency',\n",
       "       'activity_score_training_volume', 'activity_steps',\n",
       "       'activity_total', 'awake_interval_avg',\n",
       "       'awake_interval_avg_30d_avg', 'awake_interval_avg_3d_avg',\n",
       "       'awake_interval_avg_7d_avg', 'awake_interval_avg_lag2',\n",
       "       'awake_interval_avg_lag3', 'awake_longest_duration',\n",
       "       'awake_longest_duration_30d_avg', 'awake_longest_duration_3d_avg',\n",
       "       'awake_longest_duration_7d_avg', 'awake_longest_duration_lag2',\n",
       "       'awake_longest_duration_lag3', 'awake_ratio_5h',\n",
       "       'awake_ratio_5h_30d_avg', 'awake_ratio_5h_3d_avg',\n",
       "       'awake_ratio_5h_7d_avg', 'awake_ratio_5h_lag2',\n",
       "       'awake_ratio_5h_lag3', 'deep_ratio_5h', 'deep_ratio_5h_30d_avg',\n",
       "       'deep_ratio_5h_3d_avg', 'deep_ratio_5h_7d_avg',\n",
       "       'deep_ratio_5h_lag2', 'deep_ratio_5h_lag3', 'hr_pattern_0',\n",
       "       'hr_pattern_3', 'hr_pattern_5', 'sleep_awake_ratio',\n",
       "       'sleep_awake_ratio_30d_avg', 'sleep_awake_ratio_3d_avg',\n",
       "       'sleep_awake_ratio_7d_avg', 'sleep_awake_ratio_lag2',\n",
       "       'sleep_awake_ratio_lag3', 'sleep_breath_average',\n",
       "       'sleep_consistency', 'sleep_consistency_30d_avg',\n",
       "       'sleep_consistency_3d_avg', 'sleep_consistency_7d_avg',\n",
       "       'sleep_consistency_lag2', 'sleep_consistency_lag3',\n",
       "       'sleep_deep_ratio', 'sleep_deep_ratio_30d_avg',\n",
       "       'sleep_deep_ratio_3d_avg', 'sleep_deep_ratio_7d_avg',\n",
       "       'sleep_deep_ratio_lag2', 'sleep_deep_ratio_lag3', 'sleep_duration',\n",
       "       'sleep_end_hour', 'sleep_end_weekday', 'sleep_hr_average',\n",
       "       'sleep_hr_lowest_30d_avg', 'sleep_hr_lowest_3d_avg',\n",
       "       'sleep_hr_lowest_7d_avg', 'sleep_hr_lowest_lag2',\n",
       "       'sleep_hr_lowest_lag3', 'sleep_hr_lowest_x', 'sleep_hr_lowest_y',\n",
       "       'sleep_light_ratio', 'sleep_light_ratio_30d_avg',\n",
       "       'sleep_light_ratio_3d_avg', 'sleep_light_ratio_7d_avg',\n",
       "       'sleep_light_ratio_lag2', 'sleep_light_ratio_lag3',\n",
       "       'sleep_midpoint_at_delta', 'sleep_midpoint_at_delta_norm',\n",
       "       'sleep_midpoint_time', 'sleep_onset_latency', 'sleep_rem_ratio',\n",
       "       'sleep_rem_ratio_30d_avg', 'sleep_rem_ratio_3d_avg',\n",
       "       'sleep_rem_ratio_7d_avg', 'sleep_rem_ratio_lag2',\n",
       "       'sleep_rem_ratio_lag3', 'sleep_restless',\n",
       "       'sleep_score_disturbances', 'sleep_score_latency',\n",
       "       'sleep_score_total', 'sleep_start_hour', 'sleep_start_weekday',\n",
       "       'sleep_startpoint_at_delta_norm'], dtype=object)"
      ]
     },
     "execution_count": 296,
     "metadata": {},
     "output_type": "execute_result"
    }
   ],
   "source": [
    "selected_features.values"
   ]
  },
  {
   "cell_type": "markdown",
   "metadata": {},
   "source": [
    "## 데이터 다운캐스팅"
   ]
  },
  {
   "cell_type": "code",
   "execution_count": 297,
   "metadata": {},
   "outputs": [
    {
     "name": "stdout",
     "output_type": "stream",
     "text": [
      "65.7% 압축됨\n"
     ]
    }
   ],
   "source": [
    "def downcast(df, verbose=True):\n",
    "    start_mem = df.memory_usage().sum() / 1024**2  # 1MB = 1024**2 Byte\n",
    "    for col in df.columns:\n",
    "        dtype_name = df[col].dtype.name\n",
    "        if dtype_name == \"object\":\n",
    "            pass\n",
    "        elif dtype_name == \"bool\":\n",
    "            df[col] = df[col].astype(\"int8\")\n",
    "        elif dtype_name.startswith(\"int\") or (df[col].round() == df[col]).all():\n",
    "            df[col] = pd.to_numeric(df[col], downcast=\"integer\")\n",
    "        else:\n",
    "            df[col] = pd.to_numeric(df[col], downcast=\"float\")\n",
    "    end_mem = df.memory_usage().sum() / 1024**2\n",
    "    if verbose:\n",
    "        print(\"{:.1f}% 압축됨\".format(100 * (start_mem - end_mem) / start_mem))\n",
    "\n",
    "    return df\n",
    "\n",
    "\n",
    "all_data = downcast(all_data)"
   ]
  },
  {
   "cell_type": "markdown",
   "metadata": {},
   "source": [
    "## 데이터 스케일링"
   ]
  },
  {
   "cell_type": "code",
   "execution_count": 298,
   "metadata": {},
   "outputs": [],
   "source": [
    "from sklearn.preprocessing import StandardScaler\n",
    "\n",
    "all_data = StandardScaler().fit_transform(all_data)"
   ]
  },
  {
   "cell_type": "markdown",
   "metadata": {},
   "source": [
    "## 데이터 나누기"
   ]
  },
  {
   "cell_type": "code",
   "execution_count": 299,
   "metadata": {},
   "outputs": [],
   "source": [
    "num_train = len(train)\n",
    "\n",
    "X = all_data[:num_train]\n",
    "X_test = all_data[num_train:]\n",
    "\n",
    "y = train[\"label\"].values\n",
    "y_test = test[\"label\"].values"
   ]
  },
  {
   "cell_type": "markdown",
   "metadata": {},
   "source": [
    "# SMOTE"
   ]
  },
  {
   "cell_type": "code",
   "execution_count": 300,
   "metadata": {},
   "outputs": [
    {
     "data": {
      "text/plain": [
       "Text(0, 0.5, 'Percentage (%)')"
      ]
     },
     "execution_count": 300,
     "metadata": {},
     "output_type": "execute_result"
    },
    {
     "data": {
      "image/png": "[encoded data removed]",
      "text/plain": [
       "<Figure size 640x480 with 1 Axes>"
      ]
     },
     "metadata": {},
     "output_type": "display_data"
    }
   ],
   "source": [
    "from imblearn.over_sampling import SMOTE\n",
    "\n",
    "smote = SMOTE(random_state=random_seed)\n",
    "X_resampled, y_resampled = smote.fit_resample(X, y)\n",
    "\n",
    "class_distribution_after = pd.Series(y_resampled).value_counts(normalize=True) * 100\n",
    "class_distribution_after.plot(kind=\"bar\", color=\"red\", alpha=0.7)\n",
    "plt.xlabel(\"진단 그룹(0: CN, 1: MCI, 2: Dem)\")\n",
    "plt.ylabel(\"Percentage (%)\")"
   ]
  },
  {
   "cell_type": "markdown",
   "metadata": {},
   "source": [
    "# 모델 훈련 및 성능 검증"
   ]
  },
  {
   "cell_type": "code",
   "execution_count": 301,
   "metadata": {},
   "outputs": [],
   "source": [
    "n_splits = 5"
   ]
  },
  {
   "cell_type": "code",
   "execution_count": 302,
   "metadata": {},
   "outputs": [],
   "source": [
    "from sklearn.model_selection import StratifiedKFold\n",
    "\n",
    "# shuffle: 훈련 데이터가 시계열 데이터가 아니라면 섞어주는 것이 좋음\n",
    "# 시계열 데이터는 순서가 중요해서 데이터를 섞으면 안도미\n",
    "folds = StratifiedKFold(n_splits=n_splits, shuffle=True, random_state=random_seed)"
   ]
  },
  {
   "cell_type": "code",
   "execution_count": 303,
   "metadata": {},
   "outputs": [],
   "source": [
    "from sklearn.linear_model import LogisticRegression\n",
    "from sklearn.tree import DecisionTreeClassifier\n",
    "from sklearn.svm import SVC\n",
    "from sklearn.ensemble import GradientBoostingClassifier\n",
    "\n",
    "# 모델 학습 및 평가\n",
    "models = {\n",
    "    \"Lasso Regression\": LogisticRegression(\n",
    "        penalty=\"l1\", solver=\"saga\", multi_class=\"ovr\"\n",
    "    ),\n",
    "    \"Support Vector Machine\": SVC(  # probability=False 모델 학습 시간 줄이기 위해\n",
    "        kernel=\"linear\", probability=False, random_state=random_seed\n",
    "    ),\n",
    "    \"Gradient Boosting\": GradientBoostingClassifier(\n",
    "        random_state=random_seed, warm_start=True\n",
    "    ),\n",
    "}"
   ]
  },
  {
   "cell_type": "code",
   "execution_count": 304,
   "metadata": {},
   "outputs": [
    {
     "name": "stdout",
     "output_type": "stream",
     "text": [
      "######################################## Model: Lasso Regression ########################################\n",
      "=== Average Classification Report ===\n",
      "              precision    recall  f1-score      support\n",
      "0              0.609172  0.548004  0.576789  1156.200000\n",
      "1              0.595860  0.608719  0.602170  1156.200000\n",
      "2              0.779081  0.839647  0.808025  1156.200000\n",
      "accuracy       0.665456  0.665456  0.665456     0.665456\n",
      "macro avg      0.661371  0.665457  0.662328  3468.600000\n",
      "weighted avg   0.661371  0.665456  0.662328  3468.600000\n",
      "Average Accuracy: 0.6655\n",
      "Average F1-score: 0.6623\n",
      "============================================================\n",
      "######################################## Model: Support Vector Machine ########################################\n",
      "=== Average Classification Report ===\n",
      "              precision    recall  f1-score      support\n",
      "0              0.633103  0.548695  0.587767  1156.200000\n",
      "1              0.605573  0.672374  0.637140  1156.200000\n",
      "2              0.825903  0.844319  0.834866  1156.200000\n",
      "accuracy       0.688462  0.688462  0.688462     0.688462\n",
      "macro avg      0.688193  0.688463  0.686591  3468.600000\n",
      "weighted avg   0.688194  0.688462  0.686591  3468.600000\n",
      "Average Accuracy: 0.6885\n",
      "Average F1-score: 0.6866\n",
      "============================================================\n",
      "######################################## Model: Gradient Boosting ########################################\n",
      "=== Average Classification Report ===\n",
      "              precision    recall  f1-score      support\n",
      "0              0.919382  0.916795  0.918075  1156.200000\n",
      "1              0.917637  0.920950  0.919276  1156.200000\n",
      "2              0.996193  0.995329  0.995758  1156.200000\n",
      "accuracy       0.944358  0.944358  0.944358     0.944358\n",
      "macro avg      0.944404  0.944358  0.944370  3468.600000\n",
      "weighted avg   0.944404  0.944358  0.944370  3468.600000\n",
      "Average Accuracy: 0.9444\n",
      "Average F1-score: 0.9444\n",
      "============================================================\n"
     ]
    }
   ],
   "source": [
    "from sklearn.metrics import accuracy_score, f1_score, classification_report\n",
    "from joblib import Parallel, delayed\n",
    "\n",
    "models_ = {}\n",
    "\n",
    "\n",
    "def evaluate_model(name, model, folds, X_resampled, y_resampled):\n",
    "    acc_scores = []\n",
    "    f1_scores = []\n",
    "    class_report_list = []\n",
    "\n",
    "    for fold, (train_idx, val_idx) in enumerate(folds.split(X_resampled, y_resampled)):\n",
    "        # 데이터 분할\n",
    "        X_train, X_val = X_resampled[train_idx], X_resampled[val_idx]\n",
    "        y_train, y_val = y_resampled[train_idx], y_resampled[val_idx]\n",
    "\n",
    "        # 모델 학습\n",
    "        model.fit(X_train, y_train)\n",
    "\n",
    "        # 모델 예측\n",
    "        y_pred = model.predict(X_val)\n",
    "\n",
    "        # 평가\n",
    "        acc = accuracy_score(y_val, y_pred)\n",
    "        f1 = f1_score(y_val, y_pred, average=\"weighted\")  # 불균형 데이터 고려\n",
    "        acc_scores.append(acc)\n",
    "        f1_scores.append(f1)\n",
    "\n",
    "        # Classification Report 저장\n",
    "        report = classification_report(y_val, y_pred, output_dict=True)\n",
    "        class_report_list.append(pd.DataFrame(report).T)\n",
    "\n",
    "    # Classification Report 평균\n",
    "    avg_class_report = pd.concat(class_report_list).groupby(level=0).mean()\n",
    "\n",
    "    # Accuracy 및 F1-score 평균 출력\n",
    "    print(\"#\" * 40, f\"Model: {name}\", \"#\" * 40)\n",
    "    print(f\"=== Average Classification Report ===\")\n",
    "    print(avg_class_report)\n",
    "    print(f\"Average Accuracy: {np.mean(acc_scores):.4f}\")\n",
    "    print(f\"Average F1-score: {np.mean(f1_scores):.4f}\")\n",
    "    print(\"=\" * 60)\n",
    "\n",
    "    return name, model\n",
    "\n",
    "\n",
    "for name, model in models.items():\n",
    "    name_, model_ = evaluate_model(name, model, folds, X_resampled, y_resampled)\n",
    "    models_[name] = model"
   ]
  },
  {
   "cell_type": "markdown",
   "metadata": {},
   "source": [
    "## test dataset 예측 결과"
   ]
  },
  {
   "cell_type": "code",
   "execution_count": 305,
   "metadata": {},
   "outputs": [
    {
     "name": "stdout",
     "output_type": "stream",
     "text": [
      "\n",
      " ======================================== TEST SET EVALUATION ======================================== \n",
      "\n",
      "=== Evaluating Lasso Regression on Test Set ===\n",
      "Test Accuracy: 0.5093\n",
      "Test F1-score: 0.5646\n",
      "Test Classification Report:\n",
      "               precision    recall  f1-score      support\n",
      "0              0.784285  0.540900  0.640242  1956.000000\n",
      "1              0.113033  0.318182  0.166809   308.000000\n",
      "2              0.404580  0.495327  0.445378   214.000000\n",
      "accuracy       0.509282  0.509282  0.509282     0.509282\n",
      "macro avg      0.433966  0.451470  0.417476  2478.000000\n",
      "weighted avg   0.668061  0.509282  0.564569  2478.000000\n",
      "============================================================\n",
      "=== Evaluating Support Vector Machine on Test Set ===\n",
      "Test Accuracy: 0.4895\n",
      "Test F1-score: 0.5516\n",
      "Test Classification Report:\n",
      "               precision    recall  f1-score      support\n",
      "0              0.787832  0.516360  0.623842  1956.000000\n",
      "1              0.103340  0.321429  0.156398   308.000000\n",
      "2              0.436975  0.485981  0.460177   214.000000\n",
      "accuracy       0.489508  0.489508  0.489508     0.489508\n",
      "macro avg      0.442716  0.441257  0.413472  2478.000000\n",
      "weighted avg   0.672454  0.489508  0.551607  2478.000000\n",
      "============================================================\n",
      "=== Evaluating Gradient Boosting on Test Set ===\n",
      "Test Accuracy: 0.5682\n",
      "Test F1-score: 0.6115\n",
      "Test Classification Report:\n",
      "               precision    recall  f1-score    support\n",
      "0              0.794495  0.664110  0.723475  1956.0000\n",
      "1              0.092040  0.240260  0.133094   308.0000\n",
      "2              0.897436  0.163551  0.276680   214.0000\n",
      "accuracy       0.568200  0.568200  0.568200     0.5682\n",
      "macro avg      0.594657  0.355974  0.377750  2478.0000\n",
      "weighted avg   0.716074  0.568200  0.611509  2478.0000\n",
      "============================================================\n"
     ]
    }
   ],
   "source": [
    "# Test Set 성능 평가\n",
    "print(\"\\n\", \"=\" * 40, \"TEST SET EVALUATION\", \"=\" * 40, \"\\n\")\n",
    "\n",
    "for name, model in models_.items():\n",
    "    print(f\"=== Evaluating {name} on Test Set ===\")\n",
    "\n",
    "    # 테스트 데이터 예측\n",
    "    y_test_pred = model.predict(X_test)\n",
    "\n",
    "    # 테스트 데이터 평가\n",
    "    test_acc = accuracy_score(y_test, y_test_pred)\n",
    "    test_f1 = f1_score(y_test, y_test_pred, average=\"weighted\")  # 불균형 고려\n",
    "    test_report = classification_report(y_test, y_test_pred, output_dict=True)\n",
    "\n",
    "    # 결과 출력\n",
    "    print(f\"Test Accuracy: {test_acc:.4f}\")\n",
    "    print(f\"Test F1-score: {test_f1:.4f}\")\n",
    "    print(f\"Test Classification Report:\\n\", pd.DataFrame(test_report).T)\n",
    "    print(\"=\" * 60)"
   ]
  }
 ],
 "metadata": {
  "kernelspec": {
   "display_name": "Python 3 (ipykernel)",
   "language": "python",
   "name": "python3"
  },
  "language_info": {
   "codemirror_mode": {
    "name": "ipython",
    "version": 3
   },
   "file_extension": ".py",
   "mimetype": "text/x-python",
   "name": "python",
   "nbconvert_exporter": "python",
   "pygments_lexer": "ipython3",
   "version": "3.8.20"
  }
 },
 "nbformat": 4,
 "nbformat_minor": 4
}
