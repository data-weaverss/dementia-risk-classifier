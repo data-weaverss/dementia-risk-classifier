{
 "cells": [
  {
   "cell_type": "code",
   "execution_count": 103,
   "metadata": {},
   "outputs": [],
   "source": [
    "import pandas as pd\n",
    "import numpy as np\n",
    "import datetime as dt"
   ]
  },
  {
   "cell_type": "markdown",
   "metadata": {},
   "source": [
    "## 데이터 병합"
   ]
  },
  {
   "cell_type": "code",
   "execution_count": 3,
   "metadata": {},
   "outputs": [],
   "source": [
    "train_log = pd.read_excel('./train_log.xlsx', index_col = False)\n",
    "val_log = pd.read_excel('./val_log.xlsx', index_col = False)\n",
    "train_label = pd.read_csv('./data/train_label.csv', index_col = False)\n",
    "val_label = pd.read_csv('./data/val_label.csv', index_col = False)"
   ]
  },
  {
   "cell_type": "code",
   "execution_count": 4,
   "metadata": {},
   "outputs": [],
   "source": [
    "train_log = train_log.merge(train_label, left_on = 'EMAIL', right_on = 'SAMPLE_EMAIL', how = 'inner')\n",
    "val_log = val_log.merge(val_label, left_on = 'EMAIL', right_on = 'SAMPLE_EMAIL', how = 'inner')\n"
   ]
  },
  {
   "cell_type": "code",
   "execution_count": 5,
   "metadata": {},
   "outputs": [
    {
     "data": {
      "text/html": [
       "<div>\n",
       "<style scoped>\n",
       "    .dataframe tbody tr th:only-of-type {\n",
       "        vertical-align: middle;\n",
       "    }\n",
       "\n",
       "    .dataframe tbody tr th {\n",
       "        vertical-align: top;\n",
       "    }\n",
       "\n",
       "    .dataframe thead th {\n",
       "        text-align: right;\n",
       "    }\n",
       "</style>\n",
       "<table border=\"1\" class=\"dataframe\">\n",
       "  <thead>\n",
       "    <tr style=\"text-align: right;\">\n",
       "      <th></th>\n",
       "      <th>EMAIL</th>\n",
       "      <th>activity_day_start</th>\n",
       "      <th>CONVERT(activity_class_5min USING utf8)</th>\n",
       "      <th>CONVERT(activity_met_1min USING utf8)</th>\n",
       "      <th>sleep_bedtime_end</th>\n",
       "      <th>sleep_bedtime_start</th>\n",
       "      <th>CONVERT(sleep_hr_5min USING utf8)</th>\n",
       "      <th>CONVERT(sleep_hypnogram_5min USING utf8)</th>\n",
       "      <th>CONVERT(sleep_rmssd_5min USING utf8)</th>\n",
       "      <th>SAMPLE_EMAIL</th>\n",
       "      <th>DIAG_NM</th>\n",
       "    </tr>\n",
       "  </thead>\n",
       "  <tbody>\n",
       "    <tr>\n",
       "      <th>0</th>\n",
       "      <td>nia+279@rowan.kr</td>\n",
       "      <td>2020-10-19T04:00:00+09:00</td>\n",
       "      <td>1/1/2/2/2/2/1/1/1/1/1/1/1/2/2/2/2/2/2/3/3/2/2/...</td>\n",
       "      <td>1.2/0.9/1/0.9/0.9/0.9/0.9/0.9/0.9/0.9/0.9/0.9/...</td>\n",
       "      <td>2020-10-19T05:10:28+09:00</td>\n",
       "      <td>2020-10-18T18:38:28+09:00</td>\n",
       "      <td>63/61/59/58/58/58/56/55/54/53/53/53/0/0/54/57/...</td>\n",
       "      <td>4/2/2/2/2/1/1/2/2/2/2/2/4/4/4/1/1/4/4/4/2/2/2/...</td>\n",
       "      <td>18/28/25/28/34/34/35/45/54/36/36/60/0/0/34/22/...</td>\n",
       "      <td>nia+279@rowan.kr</td>\n",
       "      <td>MCI</td>\n",
       "    </tr>\n",
       "    <tr>\n",
       "      <th>1</th>\n",
       "      <td>nia+279@rowan.kr</td>\n",
       "      <td>2020-10-20T04:00:00+09:00</td>\n",
       "      <td>1/1/1/2/2/2/2/2/2/2/2/2/1/1/1/1/1/2/3/3/3/3/2/...</td>\n",
       "      <td>0.9/0.9/1.3/1/0.9/0.9/1.1/0.9/1/0.9/1/0.9/1/0....</td>\n",
       "      <td>2020-10-20T05:37:52+09:00</td>\n",
       "      <td>2020-10-19T21:39:52+09:00</td>\n",
       "      <td>0/51/0/51/52/52/52/52/53/53/53/52/52/53/53/53/...</td>\n",
       "      <td>4/2/4/2/2/2/1/1/1/2/2/3/3/3/3/3/3/3/1/1/1/4/4/...</td>\n",
       "      <td>0/49/0/38/51/17/18/18/26/27/24/29/36/31/32/34/...</td>\n",
       "      <td>nia+279@rowan.kr</td>\n",
       "      <td>MCI</td>\n",
       "    </tr>\n",
       "    <tr>\n",
       "      <th>2</th>\n",
       "      <td>nia+279@rowan.kr</td>\n",
       "      <td>2020-10-21T04:00:00+09:00</td>\n",
       "      <td>1/1/1/1/1/1/1/1/1/1/1/1/1/1/1/1/1/1/1/2/3/3/3/...</td>\n",
       "      <td>0.9/0.9/0.9/0.9/0.9/0.9/0.9/0.9/0.9/0.9/0.9/0....</td>\n",
       "      <td>2020-10-21T05:45:28+09:00</td>\n",
       "      <td>2020-10-20T20:51:28+09:00</td>\n",
       "      <td>54/56/0/55/53/55/56/55/0/55/54/54/54/0/0/55/55...</td>\n",
       "      <td>4/2/1/1/2/2/4/4/4/4/2/2/2/4/4/4/2/4/4/4/4/4/4/...</td>\n",
       "      <td>56/47/0/49/42/57/44/49/0/46/54/47/55/0/0/55/53...</td>\n",
       "      <td>nia+279@rowan.kr</td>\n",
       "      <td>MCI</td>\n",
       "    </tr>\n",
       "    <tr>\n",
       "      <th>3</th>\n",
       "      <td>nia+279@rowan.kr</td>\n",
       "      <td>2020-10-22T04:00:00+09:00</td>\n",
       "      <td>1/1/1/1/1/1/1/1/1/1/2/2/2/2/3/3/3/2/3/3/3/3/3/...</td>\n",
       "      <td>0.9/0.9/0.9/0.9/0.9/0.9/0.9/0.9/0.9/0.9/0.9/0....</td>\n",
       "      <td>2020-10-22T05:12:16+09:00</td>\n",
       "      <td>2020-10-21T22:08:16+09:00</td>\n",
       "      <td>0/54/53/53/54/54/54/53/53/53/53/54/51/50/51/51...</td>\n",
       "      <td>4/4/1/1/1/1/1/1/1/1/1/4/2/2/2/2/1/1/1/1/1/4/2/...</td>\n",
       "      <td>0/40/40/40/37/46/35/46/44/56/50/48/41/55/55/50...</td>\n",
       "      <td>nia+279@rowan.kr</td>\n",
       "      <td>MCI</td>\n",
       "    </tr>\n",
       "    <tr>\n",
       "      <th>4</th>\n",
       "      <td>nia+279@rowan.kr</td>\n",
       "      <td>2020-10-23T04:00:00+09:00</td>\n",
       "      <td>1/1/1/2/2/2/2/2/2/1/1/1/3/2/2/1/2/2/2/3/3/2/2/...</td>\n",
       "      <td>0.9/0.9/0.9/0.9/0.9/0.9/0.9/0.9/0.9/0.9/0.9/0....</td>\n",
       "      <td>2020-10-23T02:23:30+09:00</td>\n",
       "      <td>2020-10-22T20:38:30+09:00</td>\n",
       "      <td>0/49/50/50/50/50/50/50/51/0/0/0/0/0/0/0/0/50/5...</td>\n",
       "      <td>4/2/2/2/2/1/1/1/2/4/4/4/4/4/4/4/4/4/2/1/1/1/1/...</td>\n",
       "      <td>0/81/60/74/62/63/56/78/81/0/0/0/0/0/0/0/0/60/4...</td>\n",
       "      <td>nia+279@rowan.kr</td>\n",
       "      <td>MCI</td>\n",
       "    </tr>\n",
       "    <tr>\n",
       "      <th>...</th>\n",
       "      <td>...</td>\n",
       "      <td>...</td>\n",
       "      <td>...</td>\n",
       "      <td>...</td>\n",
       "      <td>...</td>\n",
       "      <td>...</td>\n",
       "      <td>...</td>\n",
       "      <td>...</td>\n",
       "      <td>...</td>\n",
       "      <td>...</td>\n",
       "      <td>...</td>\n",
       "    </tr>\n",
       "    <tr>\n",
       "      <th>2473</th>\n",
       "      <td>nia+280@rowan.kr</td>\n",
       "      <td>2021-02-12T04:00:00+09:00</td>\n",
       "      <td>1/2/1/1/1/2/2/3/3/2/5/3/2/2/2/2/2/1/2/1/1/1/1/...</td>\n",
       "      <td>1.2/0.9/0.9/0.9/1.1/1.1/0.9/1.1/2.4/0.9/0.9/0....</td>\n",
       "      <td>2021-02-12T04:04:11+09:00</td>\n",
       "      <td>2021-02-12T00:11:11+09:00</td>\n",
       "      <td>66/66/65/64/65/65/65/63/63/63/62/65/64/60/60/6...</td>\n",
       "      <td>4/2/4/4/2/2/2/2/3/2/1/1/2/2/1/1/1/1/1/1/3/2/2/...</td>\n",
       "      <td>45/35/29/27/34/30/31/32/41/40/37/28/43/46/53/4...</td>\n",
       "      <td>nia+280@rowan.kr</td>\n",
       "      <td>CN</td>\n",
       "    </tr>\n",
       "    <tr>\n",
       "      <th>2474</th>\n",
       "      <td>nia+280@rowan.kr</td>\n",
       "      <td>2021-02-13T04:00:00+09:00</td>\n",
       "      <td>1/1/1/1/1/2/2/2/3/3/4/2/2/2/2/1/2/2/1/1/1/2/1/...</td>\n",
       "      <td>0.9/0.9/0.9/0.9/0.9/0.9/0.9/0.9/0.9/0.9/0.9/0....</td>\n",
       "      <td>2021-02-13T09:20:01+09:00</td>\n",
       "      <td>2021-02-12T21:46:01+09:00</td>\n",
       "      <td>66/0/0/69/69/69/67/65/63/63/64/64/66/70/66/65/...</td>\n",
       "      <td>4/2/4/2/1/4/2/2/2/1/1/1/1/4/2/2/2/2/3/3/3/3/3/...</td>\n",
       "      <td>21/0/0/30/31/35/35/29/37/34/35/35/31/15/20/23/...</td>\n",
       "      <td>nia+280@rowan.kr</td>\n",
       "      <td>CN</td>\n",
       "    </tr>\n",
       "    <tr>\n",
       "      <th>2475</th>\n",
       "      <td>nia+280@rowan.kr</td>\n",
       "      <td>2021-02-15T04:00:00+09:00</td>\n",
       "      <td>3/3/3/3/3/2/3/3/2/2/2/2/2/2/2/2/2/2/2/2/1/2/1/...</td>\n",
       "      <td>2.1/1.9/2.2/2.4/2.8/2.2/1.9/1.7/1.9/1.4/2.6/1....</td>\n",
       "      <td>2021-02-15T08:18:10+09:00</td>\n",
       "      <td>2021-02-14T21:40:10+09:00</td>\n",
       "      <td>63/63/63/62/63/62/62/62/63/69/71/68/70/0/0/72/...</td>\n",
       "      <td>4/2/2/2/2/2/1/1/1/1/2/2/4/4/4/1/2/3/3/3/2/2/2/...</td>\n",
       "      <td>29/28/28/32/27/35/34/36/31/27/14/29/16/0/0/19/...</td>\n",
       "      <td>nia+280@rowan.kr</td>\n",
       "      <td>CN</td>\n",
       "    </tr>\n",
       "    <tr>\n",
       "      <th>2476</th>\n",
       "      <td>nia+280@rowan.kr</td>\n",
       "      <td>2021-02-16T04:00:00+09:00</td>\n",
       "      <td>1/1/1/1/1/1/1/1/1/1/1/1/1/1/1/1/1/1/1/1/1/1/1/...</td>\n",
       "      <td>0.9/0.9/0.9/0.9/0.9/0.9/0.9/0.9/0.9/0.9/0.9/0....</td>\n",
       "      <td>2021-02-16T07:43:02+09:00</td>\n",
       "      <td>2021-02-15T19:41:02+09:00</td>\n",
       "      <td>0/72/71/70/68/69/69/68/68/0/0/0/68/68/68/68/67...</td>\n",
       "      <td>4/2/2/4/4/2/1/1/4/4/4/4/1/1/1/1/2/2/2/4/2/1/1/...</td>\n",
       "      <td>0/19/14/14/22/20/22/22/22/0/0/0/31/30/34/30/26...</td>\n",
       "      <td>nia+280@rowan.kr</td>\n",
       "      <td>CN</td>\n",
       "    </tr>\n",
       "    <tr>\n",
       "      <th>2477</th>\n",
       "      <td>nia+280@rowan.kr</td>\n",
       "      <td>2021-02-17T04:00:00+09:00</td>\n",
       "      <td>1/1/1/1/1/1/1/1/1/1/1/1/1/1/1/1/1/1/1/1/1/1/1/...</td>\n",
       "      <td>1.3/0.9/0.9/0.9/0.9/0.9/0.9/0.9/0.9/0.9/0.9/0....</td>\n",
       "      <td>2021-02-17T06:02:59+09:00</td>\n",
       "      <td>2021-02-16T22:21:59+09:00</td>\n",
       "      <td>0/0/0/0/64/66/66/65/65/67/68/66/66/66/66/66/67...</td>\n",
       "      <td>4/4/4/4/2/2/2/1/1/1/1/2/2/2/1/1/2/3/2/2/2/2/2/...</td>\n",
       "      <td>0/0/0/0/25/31/33/35/36/33/17/30/30/29/31/29/23...</td>\n",
       "      <td>nia+280@rowan.kr</td>\n",
       "      <td>CN</td>\n",
       "    </tr>\n",
       "  </tbody>\n",
       "</table>\n",
       "<p>12183 rows × 11 columns</p>\n",
       "</div>"
      ],
      "text/plain": [
       "                 EMAIL         activity_day_start  \\\n",
       "0     nia+279@rowan.kr  2020-10-19T04:00:00+09:00   \n",
       "1     nia+279@rowan.kr  2020-10-20T04:00:00+09:00   \n",
       "2     nia+279@rowan.kr  2020-10-21T04:00:00+09:00   \n",
       "3     nia+279@rowan.kr  2020-10-22T04:00:00+09:00   \n",
       "4     nia+279@rowan.kr  2020-10-23T04:00:00+09:00   \n",
       "...                ...                        ...   \n",
       "2473  nia+280@rowan.kr  2021-02-12T04:00:00+09:00   \n",
       "2474  nia+280@rowan.kr  2021-02-13T04:00:00+09:00   \n",
       "2475  nia+280@rowan.kr  2021-02-15T04:00:00+09:00   \n",
       "2476  nia+280@rowan.kr  2021-02-16T04:00:00+09:00   \n",
       "2477  nia+280@rowan.kr  2021-02-17T04:00:00+09:00   \n",
       "\n",
       "                CONVERT(activity_class_5min USING utf8)  \\\n",
       "0     1/1/2/2/2/2/1/1/1/1/1/1/1/2/2/2/2/2/2/3/3/2/2/...   \n",
       "1     1/1/1/2/2/2/2/2/2/2/2/2/1/1/1/1/1/2/3/3/3/3/2/...   \n",
       "2     1/1/1/1/1/1/1/1/1/1/1/1/1/1/1/1/1/1/1/2/3/3/3/...   \n",
       "3     1/1/1/1/1/1/1/1/1/1/2/2/2/2/3/3/3/2/3/3/3/3/3/...   \n",
       "4     1/1/1/2/2/2/2/2/2/1/1/1/3/2/2/1/2/2/2/3/3/2/2/...   \n",
       "...                                                 ...   \n",
       "2473  1/2/1/1/1/2/2/3/3/2/5/3/2/2/2/2/2/1/2/1/1/1/1/...   \n",
       "2474  1/1/1/1/1/2/2/2/3/3/4/2/2/2/2/1/2/2/1/1/1/2/1/...   \n",
       "2475  3/3/3/3/3/2/3/3/2/2/2/2/2/2/2/2/2/2/2/2/1/2/1/...   \n",
       "2476  1/1/1/1/1/1/1/1/1/1/1/1/1/1/1/1/1/1/1/1/1/1/1/...   \n",
       "2477  1/1/1/1/1/1/1/1/1/1/1/1/1/1/1/1/1/1/1/1/1/1/1/...   \n",
       "\n",
       "                  CONVERT(activity_met_1min USING utf8)  \\\n",
       "0     1.2/0.9/1/0.9/0.9/0.9/0.9/0.9/0.9/0.9/0.9/0.9/...   \n",
       "1     0.9/0.9/1.3/1/0.9/0.9/1.1/0.9/1/0.9/1/0.9/1/0....   \n",
       "2     0.9/0.9/0.9/0.9/0.9/0.9/0.9/0.9/0.9/0.9/0.9/0....   \n",
       "3     0.9/0.9/0.9/0.9/0.9/0.9/0.9/0.9/0.9/0.9/0.9/0....   \n",
       "4     0.9/0.9/0.9/0.9/0.9/0.9/0.9/0.9/0.9/0.9/0.9/0....   \n",
       "...                                                 ...   \n",
       "2473  1.2/0.9/0.9/0.9/1.1/1.1/0.9/1.1/2.4/0.9/0.9/0....   \n",
       "2474  0.9/0.9/0.9/0.9/0.9/0.9/0.9/0.9/0.9/0.9/0.9/0....   \n",
       "2475  2.1/1.9/2.2/2.4/2.8/2.2/1.9/1.7/1.9/1.4/2.6/1....   \n",
       "2476  0.9/0.9/0.9/0.9/0.9/0.9/0.9/0.9/0.9/0.9/0.9/0....   \n",
       "2477  1.3/0.9/0.9/0.9/0.9/0.9/0.9/0.9/0.9/0.9/0.9/0....   \n",
       "\n",
       "              sleep_bedtime_end        sleep_bedtime_start  \\\n",
       "0     2020-10-19T05:10:28+09:00  2020-10-18T18:38:28+09:00   \n",
       "1     2020-10-20T05:37:52+09:00  2020-10-19T21:39:52+09:00   \n",
       "2     2020-10-21T05:45:28+09:00  2020-10-20T20:51:28+09:00   \n",
       "3     2020-10-22T05:12:16+09:00  2020-10-21T22:08:16+09:00   \n",
       "4     2020-10-23T02:23:30+09:00  2020-10-22T20:38:30+09:00   \n",
       "...                         ...                        ...   \n",
       "2473  2021-02-12T04:04:11+09:00  2021-02-12T00:11:11+09:00   \n",
       "2474  2021-02-13T09:20:01+09:00  2021-02-12T21:46:01+09:00   \n",
       "2475  2021-02-15T08:18:10+09:00  2021-02-14T21:40:10+09:00   \n",
       "2476  2021-02-16T07:43:02+09:00  2021-02-15T19:41:02+09:00   \n",
       "2477  2021-02-17T06:02:59+09:00  2021-02-16T22:21:59+09:00   \n",
       "\n",
       "                      CONVERT(sleep_hr_5min USING utf8)  \\\n",
       "0     63/61/59/58/58/58/56/55/54/53/53/53/0/0/54/57/...   \n",
       "1     0/51/0/51/52/52/52/52/53/53/53/52/52/53/53/53/...   \n",
       "2     54/56/0/55/53/55/56/55/0/55/54/54/54/0/0/55/55...   \n",
       "3     0/54/53/53/54/54/54/53/53/53/53/54/51/50/51/51...   \n",
       "4     0/49/50/50/50/50/50/50/51/0/0/0/0/0/0/0/0/50/5...   \n",
       "...                                                 ...   \n",
       "2473  66/66/65/64/65/65/65/63/63/63/62/65/64/60/60/6...   \n",
       "2474  66/0/0/69/69/69/67/65/63/63/64/64/66/70/66/65/...   \n",
       "2475  63/63/63/62/63/62/62/62/63/69/71/68/70/0/0/72/...   \n",
       "2476  0/72/71/70/68/69/69/68/68/0/0/0/68/68/68/68/67...   \n",
       "2477  0/0/0/0/64/66/66/65/65/67/68/66/66/66/66/66/67...   \n",
       "\n",
       "               CONVERT(sleep_hypnogram_5min USING utf8)  \\\n",
       "0     4/2/2/2/2/1/1/2/2/2/2/2/4/4/4/1/1/4/4/4/2/2/2/...   \n",
       "1     4/2/4/2/2/2/1/1/1/2/2/3/3/3/3/3/3/3/1/1/1/4/4/...   \n",
       "2     4/2/1/1/2/2/4/4/4/4/2/2/2/4/4/4/2/4/4/4/4/4/4/...   \n",
       "3     4/4/1/1/1/1/1/1/1/1/1/4/2/2/2/2/1/1/1/1/1/4/2/...   \n",
       "4     4/2/2/2/2/1/1/1/2/4/4/4/4/4/4/4/4/4/2/1/1/1/1/...   \n",
       "...                                                 ...   \n",
       "2473  4/2/4/4/2/2/2/2/3/2/1/1/2/2/1/1/1/1/1/1/3/2/2/...   \n",
       "2474  4/2/4/2/1/4/2/2/2/1/1/1/1/4/2/2/2/2/3/3/3/3/3/...   \n",
       "2475  4/2/2/2/2/2/1/1/1/1/2/2/4/4/4/1/2/3/3/3/2/2/2/...   \n",
       "2476  4/2/2/4/4/2/1/1/4/4/4/4/1/1/1/1/2/2/2/4/2/1/1/...   \n",
       "2477  4/4/4/4/2/2/2/1/1/1/1/2/2/2/1/1/2/3/2/2/2/2/2/...   \n",
       "\n",
       "                   CONVERT(sleep_rmssd_5min USING utf8)      SAMPLE_EMAIL  \\\n",
       "0     18/28/25/28/34/34/35/45/54/36/36/60/0/0/34/22/...  nia+279@rowan.kr   \n",
       "1     0/49/0/38/51/17/18/18/26/27/24/29/36/31/32/34/...  nia+279@rowan.kr   \n",
       "2     56/47/0/49/42/57/44/49/0/46/54/47/55/0/0/55/53...  nia+279@rowan.kr   \n",
       "3     0/40/40/40/37/46/35/46/44/56/50/48/41/55/55/50...  nia+279@rowan.kr   \n",
       "4     0/81/60/74/62/63/56/78/81/0/0/0/0/0/0/0/0/60/4...  nia+279@rowan.kr   \n",
       "...                                                 ...               ...   \n",
       "2473  45/35/29/27/34/30/31/32/41/40/37/28/43/46/53/4...  nia+280@rowan.kr   \n",
       "2474  21/0/0/30/31/35/35/29/37/34/35/35/31/15/20/23/...  nia+280@rowan.kr   \n",
       "2475  29/28/28/32/27/35/34/36/31/27/14/29/16/0/0/19/...  nia+280@rowan.kr   \n",
       "2476  0/19/14/14/22/20/22/22/22/0/0/0/31/30/34/30/26...  nia+280@rowan.kr   \n",
       "2477  0/0/0/0/25/31/33/35/36/33/17/30/30/29/31/29/23...  nia+280@rowan.kr   \n",
       "\n",
       "     DIAG_NM  \n",
       "0        MCI  \n",
       "1        MCI  \n",
       "2        MCI  \n",
       "3        MCI  \n",
       "4        MCI  \n",
       "...      ...  \n",
       "2473      CN  \n",
       "2474      CN  \n",
       "2475      CN  \n",
       "2476      CN  \n",
       "2477      CN  \n",
       "\n",
       "[12183 rows x 11 columns]"
      ]
     },
     "execution_count": 5,
     "metadata": {},
     "output_type": "execute_result"
    }
   ],
   "source": [
    "total_log = pd.concat([train_log, val_log], axis = 0)\n",
    "total_log"
   ]
  },
  {
   "cell_type": "code",
   "execution_count": 6,
   "metadata": {},
   "outputs": [
    {
     "data": {
      "text/plain": [
       "Index(['EMAIL', 'activity_day_start',\n",
       "       'CONVERT(activity_class_5min USING utf8)',\n",
       "       'CONVERT(activity_met_1min USING utf8)', 'sleep_bedtime_end',\n",
       "       'sleep_bedtime_start', 'CONVERT(sleep_hr_5min USING utf8)',\n",
       "       'CONVERT(sleep_hypnogram_5min USING utf8)',\n",
       "       'CONVERT(sleep_rmssd_5min USING utf8)', 'SAMPLE_EMAIL', 'DIAG_NM'],\n",
       "      dtype='object')"
      ]
     },
     "execution_count": 6,
     "metadata": {},
     "output_type": "execute_result"
    }
   ],
   "source": [
    "total_log.columns"
   ]
  },
  {
   "cell_type": "code",
   "execution_count": 7,
   "metadata": {},
   "outputs": [],
   "source": [
    "total_log.rename(columns = {'CONVERT(activity_class_5min USING utf8)' : 'activity_class_5min',\n",
    "       'CONVERT(activity_met_1min USING utf8)' : 'activity_met_1min',\n",
    "       'CONVERT(sleep_hr_5min USING utf8)' : 'sleep_hr_5min',\n",
    "       'CONVERT(sleep_hypnogram_5min USING utf8)' : 'sleep_hypnogram_5min',\n",
    "       'CONVERT(sleep_rmssd_5min USING utf8)' : 'sleep_rmssd_5min'}, inplace = True)\n",
    "total_log.drop(columns = 'SAMPLE_EMAIL', inplace = True)"
   ]
  },
  {
   "cell_type": "code",
   "execution_count": 8,
   "metadata": {},
   "outputs": [
    {
     "data": {
      "text/plain": [
       "Index(['EMAIL', 'activity_day_start', 'activity_class_5min',\n",
       "       'activity_met_1min', 'sleep_bedtime_end', 'sleep_bedtime_start',\n",
       "       'sleep_hr_5min', 'sleep_hypnogram_5min', 'sleep_rmssd_5min', 'DIAG_NM'],\n",
       "      dtype='object')"
      ]
     },
     "execution_count": 8,
     "metadata": {},
     "output_type": "execute_result"
    }
   ],
   "source": [
    "total_log.columns"
   ]
  },
  {
   "cell_type": "markdown",
   "metadata": {},
   "source": [
    "## 로그 데이터 형식 바꾸기"
   ]
  },
  {
   "cell_type": "code",
   "execution_count": null,
   "metadata": {},
   "outputs": [],
   "source": [
    "col = ['activity_class_5min', 'activity_met_1min', 'sleep_hr_5min', 'sleep_hypnogram_5min', 'sleep_rmssd_5min']\n",
    "f| i in col : \n",
    "    aa = []\n",
    "    f| j in range(len(total_log[i])):\n",
    "        status_list = total_log.iloc[j][i].split('/')\n",
    "        status_list = [float(x) f| x in status_list if x.strip() != '' & x.replace('.', '', 1).isdigit()]\n",
    "        aa.append(status_list) \n",
    "    total_log[i] = aa"
   ]
  },
  {
   "cell_type": "code",
   "execution_count": 10,
   "metadata": {},
   "outputs": [
    {
     "data": {
      "text/html": [
       "<div>\n",
       "<style scoped>\n",
       "    .dataframe tbody tr th:only-of-type {\n",
       "        vertical-align: middle;\n",
       "    }\n",
       "\n",
       "    .dataframe tbody tr th {\n",
       "        vertical-align: top;\n",
       "    }\n",
       "\n",
       "    .dataframe thead th {\n",
       "        text-align: right;\n",
       "    }\n",
       "</style>\n",
       "<table border=\"1\" class=\"dataframe\">\n",
       "  <thead>\n",
       "    <tr style=\"text-align: right;\">\n",
       "      <th></th>\n",
       "      <th>EMAIL</th>\n",
       "      <th>activity_day_start</th>\n",
       "      <th>activity_class_5min</th>\n",
       "      <th>activity_met_1min</th>\n",
       "      <th>sleep_bedtime_end</th>\n",
       "      <th>sleep_bedtime_start</th>\n",
       "      <th>sleep_hr_5min</th>\n",
       "      <th>sleep_hypnogram_5min</th>\n",
       "      <th>sleep_rmssd_5min</th>\n",
       "      <th>DIAG_NM</th>\n",
       "    </tr>\n",
       "  </thead>\n",
       "  <tbody>\n",
       "    <tr>\n",
       "      <th>0</th>\n",
       "      <td>nia+279@rowan.kr</td>\n",
       "      <td>2020-10-19T04:00:00+09:00</td>\n",
       "      <td>[1.0, 1.0, 2.0, 2.0, 2.0, 2.0, 1.0, 1.0, 1.0, ...</td>\n",
       "      <td>[1.2, 0.9, 1.0, 0.9, 0.9, 0.9, 0.9, 0.9, 0.9, ...</td>\n",
       "      <td>2020-10-19T05:10:28+09:00</td>\n",
       "      <td>2020-10-18T18:38:28+09:00</td>\n",
       "      <td>[63.0, 61.0, 59.0, 58.0, 58.0, 58.0, 56.0, 55....</td>\n",
       "      <td>[4.0, 2.0, 2.0, 2.0, 2.0, 1.0, 1.0, 2.0, 2.0, ...</td>\n",
       "      <td>[18.0, 28.0, 25.0, 28.0, 34.0, 34.0, 35.0, 45....</td>\n",
       "      <td>MCI</td>\n",
       "    </tr>\n",
       "    <tr>\n",
       "      <th>1</th>\n",
       "      <td>nia+279@rowan.kr</td>\n",
       "      <td>2020-10-20T04:00:00+09:00</td>\n",
       "      <td>[1.0, 1.0, 1.0, 2.0, 2.0, 2.0, 2.0, 2.0, 2.0, ...</td>\n",
       "      <td>[0.9, 0.9, 1.3, 1.0, 0.9, 0.9, 1.1, 0.9, 1.0, ...</td>\n",
       "      <td>2020-10-20T05:37:52+09:00</td>\n",
       "      <td>2020-10-19T21:39:52+09:00</td>\n",
       "      <td>[0.0, 51.0, 0.0, 51.0, 52.0, 52.0, 52.0, 52.0,...</td>\n",
       "      <td>[4.0, 2.0, 4.0, 2.0, 2.0, 2.0, 1.0, 1.0, 1.0, ...</td>\n",
       "      <td>[0.0, 49.0, 0.0, 38.0, 51.0, 17.0, 18.0, 18.0,...</td>\n",
       "      <td>MCI</td>\n",
       "    </tr>\n",
       "  </tbody>\n",
       "</table>\n",
       "</div>"
      ],
      "text/plain": [
       "              EMAIL         activity_day_start  \\\n",
       "0  nia+279@rowan.kr  2020-10-19T04:00:00+09:00   \n",
       "1  nia+279@rowan.kr  2020-10-20T04:00:00+09:00   \n",
       "\n",
       "                                 activity_class_5min  \\\n",
       "0  [1.0, 1.0, 2.0, 2.0, 2.0, 2.0, 1.0, 1.0, 1.0, ...   \n",
       "1  [1.0, 1.0, 1.0, 2.0, 2.0, 2.0, 2.0, 2.0, 2.0, ...   \n",
       "\n",
       "                                   activity_met_1min  \\\n",
       "0  [1.2, 0.9, 1.0, 0.9, 0.9, 0.9, 0.9, 0.9, 0.9, ...   \n",
       "1  [0.9, 0.9, 1.3, 1.0, 0.9, 0.9, 1.1, 0.9, 1.0, ...   \n",
       "\n",
       "           sleep_bedtime_end        sleep_bedtime_start  \\\n",
       "0  2020-10-19T05:10:28+09:00  2020-10-18T18:38:28+09:00   \n",
       "1  2020-10-20T05:37:52+09:00  2020-10-19T21:39:52+09:00   \n",
       "\n",
       "                                       sleep_hr_5min  \\\n",
       "0  [63.0, 61.0, 59.0, 58.0, 58.0, 58.0, 56.0, 55....   \n",
       "1  [0.0, 51.0, 0.0, 51.0, 52.0, 52.0, 52.0, 52.0,...   \n",
       "\n",
       "                                sleep_hypnogram_5min  \\\n",
       "0  [4.0, 2.0, 2.0, 2.0, 2.0, 1.0, 1.0, 2.0, 2.0, ...   \n",
       "1  [4.0, 2.0, 4.0, 2.0, 2.0, 2.0, 1.0, 1.0, 1.0, ...   \n",
       "\n",
       "                                    sleep_rmssd_5min DIAG_NM  \n",
       "0  [18.0, 28.0, 25.0, 28.0, 34.0, 34.0, 35.0, 45....     MCI  \n",
       "1  [0.0, 49.0, 0.0, 38.0, 51.0, 17.0, 18.0, 18.0,...     MCI  "
      ]
     },
     "execution_count": 10,
     "metadata": {},
     "output_type": "execute_result"
    }
   ],
   "source": [
    "total_log.head(2)"
   ]
  },
  {
   "cell_type": "markdown",
   "metadata": {},
   "source": [
    "## 1분->5분 바꾸기"
   ]
  },
  {
   "cell_type": "code",
   "execution_count": null,
   "metadata": {},
   "outputs": [],
   "source": [
    "def chunked_avg(lst, chunk_size=5):\n",
    "    return [round(np.mean(lst[i:i+chunk_size]), 1) f| i in range(0, len(lst), chunk_size)]"
   ]
  },
  {
   "cell_type": "code",
   "execution_count": 12,
   "metadata": {},
   "outputs": [],
   "source": [
    "total_log['activity_met_5min'] = total_log['activity_met_1min'].apply(lambda x : chunked_avg(x))"
   ]
  },
  {
   "cell_type": "code",
   "execution_count": 13,
   "metadata": {},
   "outputs": [
    {
     "data": {
      "text/html": [
       "<div>\n",
       "<style scoped>\n",
       "    .dataframe tbody tr th:only-of-type {\n",
       "        vertical-align: middle;\n",
       "    }\n",
       "\n",
       "    .dataframe tbody tr th {\n",
       "        vertical-align: top;\n",
       "    }\n",
       "\n",
       "    .dataframe thead th {\n",
       "        text-align: right;\n",
       "    }\n",
       "</style>\n",
       "<table border=\"1\" class=\"dataframe\">\n",
       "  <thead>\n",
       "    <tr style=\"text-align: right;\">\n",
       "      <th></th>\n",
       "      <th>EMAIL</th>\n",
       "      <th>activity_day_start</th>\n",
       "      <th>activity_class_5min</th>\n",
       "      <th>activity_met_1min</th>\n",
       "      <th>sleep_bedtime_end</th>\n",
       "      <th>sleep_bedtime_start</th>\n",
       "      <th>sleep_hr_5min</th>\n",
       "      <th>sleep_hypnogram_5min</th>\n",
       "      <th>sleep_rmssd_5min</th>\n",
       "      <th>DIAG_NM</th>\n",
       "      <th>activity_met_5min</th>\n",
       "    </tr>\n",
       "  </thead>\n",
       "  <tbody>\n",
       "    <tr>\n",
       "      <th>0</th>\n",
       "      <td>nia+279@rowan.kr</td>\n",
       "      <td>2020-10-19T04:00:00+09:00</td>\n",
       "      <td>[1.0, 1.0, 2.0, 2.0, 2.0, 2.0, 1.0, 1.0, 1.0, ...</td>\n",
       "      <td>[1.2, 0.9, 1.0, 0.9, 0.9, 0.9, 0.9, 0.9, 0.9, ...</td>\n",
       "      <td>2020-10-19T05:10:28+09:00</td>\n",
       "      <td>2020-10-18T18:38:28+09:00</td>\n",
       "      <td>[63.0, 61.0, 59.0, 58.0, 58.0, 58.0, 56.0, 55....</td>\n",
       "      <td>[4.0, 2.0, 2.0, 2.0, 2.0, 1.0, 1.0, 2.0, 2.0, ...</td>\n",
       "      <td>[18.0, 28.0, 25.0, 28.0, 34.0, 34.0, 35.0, 45....</td>\n",
       "      <td>MCI</td>\n",
       "      <td>[1.0, 0.9, 1.0, 1.2, 1.2, 1.2, 1.0, 0.9, 0.9, ...</td>\n",
       "    </tr>\n",
       "    <tr>\n",
       "      <th>1</th>\n",
       "      <td>nia+279@rowan.kr</td>\n",
       "      <td>2020-10-20T04:00:00+09:00</td>\n",
       "      <td>[1.0, 1.0, 1.0, 2.0, 2.0, 2.0, 2.0, 2.0, 2.0, ...</td>\n",
       "      <td>[0.9, 0.9, 1.3, 1.0, 0.9, 0.9, 1.1, 0.9, 1.0, ...</td>\n",
       "      <td>2020-10-20T05:37:52+09:00</td>\n",
       "      <td>2020-10-19T21:39:52+09:00</td>\n",
       "      <td>[0.0, 51.0, 0.0, 51.0, 52.0, 52.0, 52.0, 52.0,...</td>\n",
       "      <td>[4.0, 2.0, 4.0, 2.0, 2.0, 2.0, 1.0, 1.0, 1.0, ...</td>\n",
       "      <td>[0.0, 49.0, 0.0, 38.0, 51.0, 17.0, 18.0, 18.0,...</td>\n",
       "      <td>MCI</td>\n",
       "      <td>[1.0, 1.0, 0.9, 1.1, 1.1, 1.2, 1.2, 1.2, 1.3, ...</td>\n",
       "    </tr>\n",
       "  </tbody>\n",
       "</table>\n",
       "</div>"
      ],
      "text/plain": [
       "              EMAIL         activity_day_start  \\\n",
       "0  nia+279@rowan.kr  2020-10-19T04:00:00+09:00   \n",
       "1  nia+279@rowan.kr  2020-10-20T04:00:00+09:00   \n",
       "\n",
       "                                 activity_class_5min  \\\n",
       "0  [1.0, 1.0, 2.0, 2.0, 2.0, 2.0, 1.0, 1.0, 1.0, ...   \n",
       "1  [1.0, 1.0, 1.0, 2.0, 2.0, 2.0, 2.0, 2.0, 2.0, ...   \n",
       "\n",
       "                                   activity_met_1min  \\\n",
       "0  [1.2, 0.9, 1.0, 0.9, 0.9, 0.9, 0.9, 0.9, 0.9, ...   \n",
       "1  [0.9, 0.9, 1.3, 1.0, 0.9, 0.9, 1.1, 0.9, 1.0, ...   \n",
       "\n",
       "           sleep_bedtime_end        sleep_bedtime_start  \\\n",
       "0  2020-10-19T05:10:28+09:00  2020-10-18T18:38:28+09:00   \n",
       "1  2020-10-20T05:37:52+09:00  2020-10-19T21:39:52+09:00   \n",
       "\n",
       "                                       sleep_hr_5min  \\\n",
       "0  [63.0, 61.0, 59.0, 58.0, 58.0, 58.0, 56.0, 55....   \n",
       "1  [0.0, 51.0, 0.0, 51.0, 52.0, 52.0, 52.0, 52.0,...   \n",
       "\n",
       "                                sleep_hypnogram_5min  \\\n",
       "0  [4.0, 2.0, 2.0, 2.0, 2.0, 1.0, 1.0, 2.0, 2.0, ...   \n",
       "1  [4.0, 2.0, 4.0, 2.0, 2.0, 2.0, 1.0, 1.0, 1.0, ...   \n",
       "\n",
       "                                    sleep_rmssd_5min DIAG_NM  \\\n",
       "0  [18.0, 28.0, 25.0, 28.0, 34.0, 34.0, 35.0, 45....     MCI   \n",
       "1  [0.0, 49.0, 0.0, 38.0, 51.0, 17.0, 18.0, 18.0,...     MCI   \n",
       "\n",
       "                                   activity_met_5min  \n",
       "0  [1.0, 0.9, 1.0, 1.2, 1.2, 1.2, 1.0, 0.9, 0.9, ...  \n",
       "1  [1.0, 1.0, 0.9, 1.1, 1.1, 1.2, 1.2, 1.2, 1.3, ...  "
      ]
     },
     "execution_count": 13,
     "metadata": {},
     "output_type": "execute_result"
    }
   ],
   "source": [
    "total_log.head(2)"
   ]
  },
  {
   "cell_type": "code",
   "execution_count": 14,
   "metadata": {},
   "outputs": [],
   "source": [
    "total_log.drop(columns = ['activity_met_1min'], inplace=True)"
   ]
  },
  {
   "cell_type": "markdown",
   "metadata": {},
   "source": [
    "## 시각을 5분 단위로 변환(하루 288)"
   ]
  },
  {
   "cell_type": "code",
   "execution_count": 15,
   "metadata": {},
   "outputs": [],
   "source": [
    "total_log['activity_day_start'] = pd.to_datetime(total_log['activity_day_start'])\n",
    "total_log['sleep_bedtime_end'] = pd.to_datetime(total_log['sleep_bedtime_end'])\n",
    "total_log['sleep_bedtime_start'] = pd.to_datetime(total_log['sleep_bedtime_start'])\n"
   ]
  },
  {
   "cell_type": "code",
   "execution_count": 16,
   "metadata": {},
   "outputs": [],
   "source": [
    "total_log['activity_day_start_5min'] = (total_log['activity_day_start'].dt.hour * 12) + (total_log['activity_day_start'].dt.minute // 5)\n",
    "total_log['sleep_bedtime_end_5min'] = (total_log['sleep_bedtime_end'].dt.hour * 12) + (total_log['sleep_bedtime_end'].dt.minute // 5)\n",
    "total_log['sleep_bedtime_start_5min'] = (total_log['sleep_bedtime_start'].dt.hour * 12) + (total_log['sleep_bedtime_start'].dt.minute // 5)\n"
   ]
  },
  {
   "cell_type": "code",
   "execution_count": 17,
   "metadata": {},
   "outputs": [
    {
     "data": {
      "text/html": [
       "<div>\n",
       "<style scoped>\n",
       "    .dataframe tbody tr th:only-of-type {\n",
       "        vertical-align: middle;\n",
       "    }\n",
       "\n",
       "    .dataframe tbody tr th {\n",
       "        vertical-align: top;\n",
       "    }\n",
       "\n",
       "    .dataframe thead th {\n",
       "        text-align: right;\n",
       "    }\n",
       "</style>\n",
       "<table border=\"1\" class=\"dataframe\">\n",
       "  <thead>\n",
       "    <tr style=\"text-align: right;\">\n",
       "      <th></th>\n",
       "      <th>EMAIL</th>\n",
       "      <th>activity_day_start</th>\n",
       "      <th>activity_class_5min</th>\n",
       "      <th>sleep_bedtime_end</th>\n",
       "      <th>sleep_bedtime_start</th>\n",
       "      <th>sleep_hr_5min</th>\n",
       "      <th>sleep_hypnogram_5min</th>\n",
       "      <th>sleep_rmssd_5min</th>\n",
       "      <th>DIAG_NM</th>\n",
       "      <th>activity_met_5min</th>\n",
       "      <th>activity_day_start_5min</th>\n",
       "      <th>sleep_bedtime_end_5min</th>\n",
       "      <th>sleep_bedtime_start_5min</th>\n",
       "    </tr>\n",
       "  </thead>\n",
       "  <tbody>\n",
       "    <tr>\n",
       "      <th>0</th>\n",
       "      <td>nia+279@rowan.kr</td>\n",
       "      <td>2020-10-19 04:00:00+09:00</td>\n",
       "      <td>[1.0, 1.0, 2.0, 2.0, 2.0, 2.0, 1.0, 1.0, 1.0, ...</td>\n",
       "      <td>2020-10-19 05:10:28+09:00</td>\n",
       "      <td>2020-10-18 18:38:28+09:00</td>\n",
       "      <td>[63.0, 61.0, 59.0, 58.0, 58.0, 58.0, 56.0, 55....</td>\n",
       "      <td>[4.0, 2.0, 2.0, 2.0, 2.0, 1.0, 1.0, 2.0, 2.0, ...</td>\n",
       "      <td>[18.0, 28.0, 25.0, 28.0, 34.0, 34.0, 35.0, 45....</td>\n",
       "      <td>MCI</td>\n",
       "      <td>[1.0, 0.9, 1.0, 1.2, 1.2, 1.2, 1.0, 0.9, 0.9, ...</td>\n",
       "      <td>48</td>\n",
       "      <td>62</td>\n",
       "      <td>223</td>\n",
       "    </tr>\n",
       "    <tr>\n",
       "      <th>1</th>\n",
       "      <td>nia+279@rowan.kr</td>\n",
       "      <td>2020-10-20 04:00:00+09:00</td>\n",
       "      <td>[1.0, 1.0, 1.0, 2.0, 2.0, 2.0, 2.0, 2.0, 2.0, ...</td>\n",
       "      <td>2020-10-20 05:37:52+09:00</td>\n",
       "      <td>2020-10-19 21:39:52+09:00</td>\n",
       "      <td>[0.0, 51.0, 0.0, 51.0, 52.0, 52.0, 52.0, 52.0,...</td>\n",
       "      <td>[4.0, 2.0, 4.0, 2.0, 2.0, 2.0, 1.0, 1.0, 1.0, ...</td>\n",
       "      <td>[0.0, 49.0, 0.0, 38.0, 51.0, 17.0, 18.0, 18.0,...</td>\n",
       "      <td>MCI</td>\n",
       "      <td>[1.0, 1.0, 0.9, 1.1, 1.1, 1.2, 1.2, 1.2, 1.3, ...</td>\n",
       "      <td>48</td>\n",
       "      <td>67</td>\n",
       "      <td>259</td>\n",
       "    </tr>\n",
       "  </tbody>\n",
       "</table>\n",
       "</div>"
      ],
      "text/plain": [
       "              EMAIL        activity_day_start  \\\n",
       "0  nia+279@rowan.kr 2020-10-19 04:00:00+09:00   \n",
       "1  nia+279@rowan.kr 2020-10-20 04:00:00+09:00   \n",
       "\n",
       "                                 activity_class_5min  \\\n",
       "0  [1.0, 1.0, 2.0, 2.0, 2.0, 2.0, 1.0, 1.0, 1.0, ...   \n",
       "1  [1.0, 1.0, 1.0, 2.0, 2.0, 2.0, 2.0, 2.0, 2.0, ...   \n",
       "\n",
       "          sleep_bedtime_end       sleep_bedtime_start  \\\n",
       "0 2020-10-19 05:10:28+09:00 2020-10-18 18:38:28+09:00   \n",
       "1 2020-10-20 05:37:52+09:00 2020-10-19 21:39:52+09:00   \n",
       "\n",
       "                                       sleep_hr_5min  \\\n",
       "0  [63.0, 61.0, 59.0, 58.0, 58.0, 58.0, 56.0, 55....   \n",
       "1  [0.0, 51.0, 0.0, 51.0, 52.0, 52.0, 52.0, 52.0,...   \n",
       "\n",
       "                                sleep_hypnogram_5min  \\\n",
       "0  [4.0, 2.0, 2.0, 2.0, 2.0, 1.0, 1.0, 2.0, 2.0, ...   \n",
       "1  [4.0, 2.0, 4.0, 2.0, 2.0, 2.0, 1.0, 1.0, 1.0, ...   \n",
       "\n",
       "                                    sleep_rmssd_5min DIAG_NM  \\\n",
       "0  [18.0, 28.0, 25.0, 28.0, 34.0, 34.0, 35.0, 45....     MCI   \n",
       "1  [0.0, 49.0, 0.0, 38.0, 51.0, 17.0, 18.0, 18.0,...     MCI   \n",
       "\n",
       "                                   activity_met_5min  activity_day_start_5min  \\\n",
       "0  [1.0, 0.9, 1.0, 1.2, 1.2, 1.2, 1.0, 0.9, 0.9, ...                       48   \n",
       "1  [1.0, 1.0, 0.9, 1.1, 1.1, 1.2, 1.2, 1.2, 1.3, ...                       48   \n",
       "\n",
       "   sleep_bedtime_end_5min  sleep_bedtime_start_5min  \n",
       "0                      62                       223  \n",
       "1                      67                       259  "
      ]
     },
     "execution_count": 17,
     "metadata": {},
     "output_type": "execute_result"
    }
   ],
   "source": [
    "total_log.head(2)"
   ]
  },
  {
   "cell_type": "code",
   "execution_count": 18,
   "metadata": {},
   "outputs": [
    {
     "data": {
      "text/plain": [
       "32"
      ]
     },
     "execution_count": 18,
     "metadata": {},
     "output_type": "execute_result"
    }
   ],
   "source": [
    "# 새벽 4시 이후에 자는 경우 -> 활동 로그를 끝까지 사용\n",
    "len(total_log[(total_log['sleep_bedtime_start_5min']>=48) & (total_log['sleep_bedtime_start_5min']<=144)])"
   ]
  },
  {
   "cell_type": "code",
   "execution_count": 19,
   "metadata": {},
   "outputs": [
    {
     "data": {
      "text/plain": [
       "1108"
      ]
     },
     "execution_count": 19,
     "metadata": {},
     "output_type": "execute_result"
    }
   ],
   "source": [
    "# 새벽 4시 전에 일어나는 경우\n",
    "len(total_log[(total_log['sleep_bedtime_end_5min']<=48) | (total_log['sleep_bedtime_end_5min']>=144)])\n"
   ]
  },
  {
   "cell_type": "code",
   "execution_count": 20,
   "metadata": {},
   "outputs": [],
   "source": [
    "total_log['sleep_bedtime_end_day'] = total_log['sleep_bedtime_end'].dt.day\n",
    "total_log['sleep_bedtime_start_day'] = total_log['sleep_bedtime_start'].dt.day\n"
   ]
  },
  {
   "cell_type": "code",
   "execution_count": 21,
   "metadata": {},
   "outputs": [
    {
     "data": {
      "text/plain": [
       " 1     10059\n",
       " 0      1772\n",
       "-30      210\n",
       "-29      142\n",
       "Name: count, dtype: int64"
      ]
     },
     "execution_count": 21,
     "metadata": {},
     "output_type": "execute_result"
    }
   ],
   "source": [
    "(total_log['sleep_bedtime_end_day'] - total_log['sleep_bedtime_start_day']).value_counts()\n",
    "# 1 : 일반적인 상황. 전날 잠들어서 다음날 일어나기\n",
    "# 0 : 12시 넘어서 당일에 일어나기\n",
    "# -30, -29 : 달이 바뀌는 상황"
   ]
  },
  {
   "cell_type": "code",
   "execution_count": 22,
   "metadata": {},
   "outputs": [],
   "source": [
    "total_log['activity_day_start_day'] = total_log['activity_day_start'].dt.day"
   ]
  },
  {
   "cell_type": "code",
   "execution_count": 23,
   "metadata": {},
   "outputs": [
    {
     "data": {
      "text/plain": [
       "Index(['EMAIL', 'activity_day_start', 'activity_class_5min',\n",
       "       'sleep_bedtime_end', 'sleep_bedtime_start', 'sleep_hr_5min',\n",
       "       'sleep_hypnogram_5min', 'sleep_rmssd_5min', 'DIAG_NM',\n",
       "       'activity_met_5min', 'activity_day_start_5min',\n",
       "       'sleep_bedtime_end_5min', 'sleep_bedtime_start_5min',\n",
       "       'sleep_bedtime_end_day', 'sleep_bedtime_start_day',\n",
       "       'activity_day_start_day'],\n",
       "      dtype='object')"
      ]
     },
     "execution_count": 23,
     "metadata": {},
     "output_type": "execute_result"
    }
   ],
   "source": [
    "total_log.columns"
   ]
  },
  {
   "cell_type": "code",
   "execution_count": 24,
   "metadata": {},
   "outputs": [],
   "source": [
    "total_log.rename(columns = {'activity_day_start_5min':'act_start_5min',\n",
    "                            'sleep_bedtime_end_5min': 'sleep_end_5min', \n",
    "                            'sleep_bedtime_start_5min' : 'sleep_start_5min',\n",
    "                            'sleep_bedtime_end_day' : 'sleep_end_day', \n",
    "                            'sleep_bedtime_start_day' : 'sleep_start_day',\n",
    "                            'activity_day_start_day' : 'act_start_day'}, inplace = True)"
   ]
  },
  {
   "cell_type": "markdown",
   "metadata": {},
   "source": [
    "## 잠 패턴 분류"
   ]
  },
  {
   "cell_type": "code",
   "execution_count": null,
   "metadata": {},
   "outputs": [],
   "source": [
    "test_df = total_log.copy()"
   ]
  },
  {
   "cell_type": "code",
   "execution_count": null,
   "metadata": {},
   "outputs": [
    {
     "name": "stdout",
     "output_type": "stream",
     "text": [
      "<class 'pandas.core.frame.DataFrame'>\n",
      "Index: 12183 entries, 0 to 2477\n",
      "Data columns (total 16 columns):\n",
      " #   Column                Non-Null Count  Dtype                    \n",
      "---  ------                --------------  -----                    \n",
      " 0   EMAIL                 12183 non-null  object                   \n",
      " 1   activity_day_start    12183 non-null  datetime64[ns, UTC+09:00]\n",
      " 2   activity_class_5min   12183 non-null  object                   \n",
      " 3   sleep_bedtime_end     12183 non-null  datetime64[ns, UTC+09:00]\n",
      " 4   sleep_bedtime_start   12183 non-null  datetime64[ns, UTC+09:00]\n",
      " 5   sleep_hr_5min         12183 non-null  object                   \n",
      " 6   sleep_hypnogram_5min  12183 non-null  object                   \n",
      " 7   sleep_rmssd_5min      12183 non-null  object                   \n",
      " 8   DIAG_NM               12183 non-null  object                   \n",
      " 9   activity_met_5min     12183 non-null  object                   \n",
      " 10  act_start_5min        12183 non-null  int32                    \n",
      " 11  sleep_end_5min        12183 non-null  int32                    \n",
      " 12  sleep_start_5min      12183 non-null  int32                    \n",
      " 13  sleep_end_day         12183 non-null  int32                    \n",
      " 14  sleep_start_day       12183 non-null  int32                    \n",
      " 15  act_start_day         12183 non-null  int32                    \n",
      "dtypes: datetime64[ns, UTC+09:00](3), int32(6), object(7)\n",
      "memory usage: 1.3+ MB\n"
     ]
    }
   ],
   "source": [
    "test_df.info()"
   ]
  },
  {
   "cell_type": "code",
   "execution_count": null,
   "metadata": {},
   "outputs": [
    {
     "name": "stdout",
     "output_type": "stream",
     "text": [
      "931\n"
     ]
    },
    {
     "data": {
      "text/html": [
       "<div>\n",
       "<style scoped>\n",
       "    .dataframe tbody tr th:only-of-type {\n",
       "        vertical-align: middle;\n",
       "    }\n",
       "\n",
       "    .dataframe tbody tr th {\n",
       "        vertical-align: top;\n",
       "    }\n",
       "\n",
       "    .dataframe thead th {\n",
       "        text-align: right;\n",
       "    }\n",
       "</style>\n",
       "<table border=\"1\" class=\"dataframe\">\n",
       "  <thead>\n",
       "    <tr style=\"text-align: right;\">\n",
       "      <th></th>\n",
       "      <th>EMAIL</th>\n",
       "      <th>activity_day_start</th>\n",
       "      <th>activity_class_5min</th>\n",
       "      <th>sleep_bedtime_end</th>\n",
       "      <th>sleep_bedtime_start</th>\n",
       "      <th>sleep_hr_5min</th>\n",
       "      <th>sleep_hypnogram_5min</th>\n",
       "      <th>sleep_rmssd_5min</th>\n",
       "      <th>DIAG_NM</th>\n",
       "      <th>activity_met_5min</th>\n",
       "      <th>act_start_5min</th>\n",
       "      <th>sleep_end_5min</th>\n",
       "      <th>sleep_start_5min</th>\n",
       "      <th>sleep_end_day</th>\n",
       "      <th>sleep_start_day</th>\n",
       "      <th>act_start_day</th>\n",
       "      <th>processed_log</th>\n",
       "    </tr>\n",
       "  </thead>\n",
       "  <tbody>\n",
       "    <tr>\n",
       "      <th>4</th>\n",
       "      <td>nia+279@rowan.kr</td>\n",
       "      <td>2020-10-23 04:00:00</td>\n",
       "      <td>[1.0, 1.0, 1.0, 2.0, 2.0, 2.0, 2.0, 2.0, 2.0, ...</td>\n",
       "      <td>2020-10-23 02:23:30</td>\n",
       "      <td>2020-10-22 20:38:30</td>\n",
       "      <td>[0.0, 49.0, 50.0, 50.0, 50.0, 50.0, 50.0, 50.0...</td>\n",
       "      <td>[4.0, 2.0, 2.0, 2.0, 2.0, 1.0, 1.0, 1.0, 2.0, ...</td>\n",
       "      <td>[0.0, 81.0, 60.0, 74.0, 62.0, 63.0, 56.0, 78.0...</td>\n",
       "      <td>MCI</td>\n",
       "      <td>[0.9, 0.9, 0.9, 1.0, 1.3, 1.2, 1.2, 1.2, 1.0, ...</td>\n",
       "      <td>48</td>\n",
       "      <td>28</td>\n",
       "      <td>247</td>\n",
       "      <td>23</td>\n",
       "      <td>22</td>\n",
       "      <td>23</td>\n",
       "      <td>[0, 0, 0, 1, 1, 1, 1, 1, 1, 1, 1, 1, 1, 1, 1, ...</td>\n",
       "    </tr>\n",
       "    <tr>\n",
       "      <th>13</th>\n",
       "      <td>nia+279@rowan.kr</td>\n",
       "      <td>2020-11-01 04:00:00</td>\n",
       "      <td>[2.0, 2.0, 2.0, 2.0, 2.0, 2.0, 2.0, 2.0, 1.0, ...</td>\n",
       "      <td>2020-11-01 03:04:26</td>\n",
       "      <td>2020-10-31 20:48:26</td>\n",
       "      <td>[0.0, 55.0, 55.0, 53.0, 54.0, 53.0, 53.0, 53.0...</td>\n",
       "      <td>[4.0, 4.0, 3.0, 3.0, 3.0, 3.0, 3.0, 1.0, 1.0, ...</td>\n",
       "      <td>[0.0, 45.0, 40.0, 47.0, 47.0, 51.0, 54.0, 54.0...</td>\n",
       "      <td>MCI</td>\n",
       "      <td>[1.3, 1.3, 1.3, 1.4, 1.2, 1.2, 1.2, 1.1, 0.9, ...</td>\n",
       "      <td>48</td>\n",
       "      <td>36</td>\n",
       "      <td>249</td>\n",
       "      <td>1</td>\n",
       "      <td>31</td>\n",
       "      <td>1</td>\n",
       "      <td>[1, 1, 1, 1, 1, 1, 1, 1, 0, 0, 0, 1, 1, 0, 0, ...</td>\n",
       "    </tr>\n",
       "  </tbody>\n",
       "</table>\n",
       "</div>"
      ],
      "text/plain": [
       "               EMAIL  activity_day_start  \\\n",
       "4   nia+279@rowan.kr 2020-10-23 04:00:00   \n",
       "13  nia+279@rowan.kr 2020-11-01 04:00:00   \n",
       "\n",
       "                                  activity_class_5min   sleep_bedtime_end  \\\n",
       "4   [1.0, 1.0, 1.0, 2.0, 2.0, 2.0, 2.0, 2.0, 2.0, ... 2020-10-23 02:23:30   \n",
       "13  [2.0, 2.0, 2.0, 2.0, 2.0, 2.0, 2.0, 2.0, 1.0, ... 2020-11-01 03:04:26   \n",
       "\n",
       "   sleep_bedtime_start                                      sleep_hr_5min  \\\n",
       "4  2020-10-22 20:38:30  [0.0, 49.0, 50.0, 50.0, 50.0, 50.0, 50.0, 50.0...   \n",
       "13 2020-10-31 20:48:26  [0.0, 55.0, 55.0, 53.0, 54.0, 53.0, 53.0, 53.0...   \n",
       "\n",
       "                                 sleep_hypnogram_5min  \\\n",
       "4   [4.0, 2.0, 2.0, 2.0, 2.0, 1.0, 1.0, 1.0, 2.0, ...   \n",
       "13  [4.0, 4.0, 3.0, 3.0, 3.0, 3.0, 3.0, 1.0, 1.0, ...   \n",
       "\n",
       "                                     sleep_rmssd_5min DIAG_NM  \\\n",
       "4   [0.0, 81.0, 60.0, 74.0, 62.0, 63.0, 56.0, 78.0...     MCI   \n",
       "13  [0.0, 45.0, 40.0, 47.0, 47.0, 51.0, 54.0, 54.0...     MCI   \n",
       "\n",
       "                                    activity_met_5min  act_start_5min  \\\n",
       "4   [0.9, 0.9, 0.9, 1.0, 1.3, 1.2, 1.2, 1.2, 1.0, ...              48   \n",
       "13  [1.3, 1.3, 1.3, 1.4, 1.2, 1.2, 1.2, 1.1, 0.9, ...              48   \n",
       "\n",
       "    sleep_end_5min  sleep_start_5min  sleep_end_day  sleep_start_day  \\\n",
       "4               28               247             23               22   \n",
       "13              36               249              1               31   \n",
       "\n",
       "    act_start_day                                      processed_log  \n",
       "4              23  [0, 0, 0, 1, 1, 1, 1, 1, 1, 1, 1, 1, 1, 1, 1, ...  \n",
       "13              1  [1, 1, 1, 1, 1, 1, 1, 1, 0, 0, 0, 1, 1, 0, 0, ...  "
      ]
     },
     "execution_count": 69,
     "metadata": {},
     "output_type": "execute_result"
    }
   ],
   "source": [
    "# 1번 경우 : 취침-기상이 모두 이전행 활동 시간에 있음\n",
    "aa = ((test_df['act_start_day'] != test_df['sleep_end_day'])&(test_df['act_start_day'] != test_df['sleep_start_day'])) | ((test_df['act_start_day'] == test_df['sleep_end_day'])&(test_df['sleep_end_5min']<48)&(test_df['sleep_end_5min']>=0))\n",
    "print(len(test_df[aa]))\n",
    "test_df[aa].head(2)\n"
   ]
  },
  {
   "cell_type": "code",
   "execution_count": 70,
   "metadata": {},
   "outputs": [
    {
     "data": {
      "text/plain": [
       "11206"
      ]
     },
     "execution_count": 70,
     "metadata": {},
     "output_type": "execute_result"
    }
   ],
   "source": [
    "# 2번 경우(일반적) : 취침은 이전행 활동 시간에, 기상은 당행 활동 시간에 위치하는 경우\n",
    "bb_start = ((test_df['act_start_day'] == test_df['sleep_start_day'])&(test_df['sleep_start_5min']<48)&(test_df['sleep_start_5min']>=0)) | (test_df['act_start_day'] != test_df['sleep_start_day'])\n",
    "bb_end = (test_df['act_start_day'] == test_df['sleep_end_day'])&(test_df['sleep_end_5min']>=48)\n",
    "len(test_df[bb_start&bb_end])\n"
   ]
  },
  {
   "cell_type": "code",
   "execution_count": 71,
   "metadata": {},
   "outputs": [
    {
     "name": "stdout",
     "output_type": "stream",
     "text": [
      "46\n"
     ]
    },
    {
     "data": {
      "text/html": [
       "<div>\n",
       "<style scoped>\n",
       "    .dataframe tbody tr th:only-of-type {\n",
       "        vertical-align: middle;\n",
       "    }\n",
       "\n",
       "    .dataframe tbody tr th {\n",
       "        vertical-align: top;\n",
       "    }\n",
       "\n",
       "    .dataframe thead th {\n",
       "        text-align: right;\n",
       "    }\n",
       "</style>\n",
       "<table border=\"1\" class=\"dataframe\">\n",
       "  <thead>\n",
       "    <tr style=\"text-align: right;\">\n",
       "      <th></th>\n",
       "      <th>EMAIL</th>\n",
       "      <th>activity_day_start</th>\n",
       "      <th>activity_class_5min</th>\n",
       "      <th>sleep_bedtime_end</th>\n",
       "      <th>sleep_bedtime_start</th>\n",
       "      <th>sleep_hr_5min</th>\n",
       "      <th>sleep_hypnogram_5min</th>\n",
       "      <th>sleep_rmssd_5min</th>\n",
       "      <th>DIAG_NM</th>\n",
       "      <th>activity_met_5min</th>\n",
       "      <th>act_start_5min</th>\n",
       "      <th>sleep_end_5min</th>\n",
       "      <th>sleep_start_5min</th>\n",
       "      <th>sleep_end_day</th>\n",
       "      <th>sleep_start_day</th>\n",
       "      <th>act_start_day</th>\n",
       "      <th>processed_log</th>\n",
       "    </tr>\n",
       "  </thead>\n",
       "  <tbody>\n",
       "    <tr>\n",
       "      <th>456</th>\n",
       "      <td>nia+181@rowan.kr</td>\n",
       "      <td>2020-11-01 04:00:00</td>\n",
       "      <td>[1.0, 1.0, 1.0, 1.0, 1.0, 1.0, 1.0, 2.0, 3.0, ...</td>\n",
       "      <td>2020-11-01 16:21:33</td>\n",
       "      <td>2020-11-01 08:15:33</td>\n",
       "      <td>[0.0, 86.0, 85.0, 85.0, 85.0, 84.0, 0.0, 0.0, ...</td>\n",
       "      <td>[4.0, 4.0, 4.0, 4.0, 4.0, 2.0, 4.0, 2.0, 2.0, ...</td>\n",
       "      <td>[0.0, 21.0, 12.0, 11.0, 12.0, 14.0, 0.0, 0.0, ...</td>\n",
       "      <td>CN</td>\n",
       "      <td>[0.9, 0.9, 0.9, 0.9, 1.0, 0.9, 0.9, 1.0, 2.0, ...</td>\n",
       "      <td>48</td>\n",
       "      <td>196</td>\n",
       "      <td>99</td>\n",
       "      <td>1</td>\n",
       "      <td>1</td>\n",
       "      <td>1</td>\n",
       "      <td>[0, 0, 0, 0, 1, 0, 0, 1, 2, 1, 1, 2, 1, 1, 1, ...</td>\n",
       "    </tr>\n",
       "    <tr>\n",
       "      <th>573</th>\n",
       "      <td>nia+268@rowan.kr</td>\n",
       "      <td>2020-11-28 04:00:00</td>\n",
       "      <td>[2.0, 1.0, 1.0, 1.0, 1.0, 1.0, 1.0, 2.0, 3.0, ...</td>\n",
       "      <td>2020-11-29 07:18:39</td>\n",
       "      <td>2020-11-28 16:18:39</td>\n",
       "      <td>[0.0, 66.0, 65.0, 65.0, 65.0, 64.0, 65.0, 64.0...</td>\n",
       "      <td>[4.0, 2.0, 2.0, 2.0, 2.0, 2.0, 2.0, 4.0, 4.0, ...</td>\n",
       "      <td>[0.0, 16.0, 22.0, 33.0, 13.0, 13.0, 20.0, 13.0...</td>\n",
       "      <td>MCI</td>\n",
       "      <td>[1.5, 0.9, 1.0, 0.9, 0.9, 0.9, 0.9, 1.0, 1.5, ...</td>\n",
       "      <td>48</td>\n",
       "      <td>87</td>\n",
       "      <td>195</td>\n",
       "      <td>29</td>\n",
       "      <td>28</td>\n",
       "      <td>28</td>\n",
       "      <td>[1, 0, 1, 0, 0, 0, 0, 1, 1, 0, 0, 0, 0, 0, 1, ...</td>\n",
       "    </tr>\n",
       "  </tbody>\n",
       "</table>\n",
       "</div>"
      ],
      "text/plain": [
       "                EMAIL  activity_day_start  \\\n",
       "456  nia+181@rowan.kr 2020-11-01 04:00:00   \n",
       "573  nia+268@rowan.kr 2020-11-28 04:00:00   \n",
       "\n",
       "                                   activity_class_5min   sleep_bedtime_end  \\\n",
       "456  [1.0, 1.0, 1.0, 1.0, 1.0, 1.0, 1.0, 2.0, 3.0, ... 2020-11-01 16:21:33   \n",
       "573  [2.0, 1.0, 1.0, 1.0, 1.0, 1.0, 1.0, 2.0, 3.0, ... 2020-11-29 07:18:39   \n",
       "\n",
       "    sleep_bedtime_start                                      sleep_hr_5min  \\\n",
       "456 2020-11-01 08:15:33  [0.0, 86.0, 85.0, 85.0, 85.0, 84.0, 0.0, 0.0, ...   \n",
       "573 2020-11-28 16:18:39  [0.0, 66.0, 65.0, 65.0, 65.0, 64.0, 65.0, 64.0...   \n",
       "\n",
       "                                  sleep_hypnogram_5min  \\\n",
       "456  [4.0, 4.0, 4.0, 4.0, 4.0, 2.0, 4.0, 2.0, 2.0, ...   \n",
       "573  [4.0, 2.0, 2.0, 2.0, 2.0, 2.0, 2.0, 4.0, 4.0, ...   \n",
       "\n",
       "                                      sleep_rmssd_5min DIAG_NM  \\\n",
       "456  [0.0, 21.0, 12.0, 11.0, 12.0, 14.0, 0.0, 0.0, ...      CN   \n",
       "573  [0.0, 16.0, 22.0, 33.0, 13.0, 13.0, 20.0, 13.0...     MCI   \n",
       "\n",
       "                                     activity_met_5min  act_start_5min  \\\n",
       "456  [0.9, 0.9, 0.9, 0.9, 1.0, 0.9, 0.9, 1.0, 2.0, ...              48   \n",
       "573  [1.5, 0.9, 1.0, 0.9, 0.9, 0.9, 0.9, 1.0, 1.5, ...              48   \n",
       "\n",
       "     sleep_end_5min  sleep_start_5min  sleep_end_day  sleep_start_day  \\\n",
       "456             196                99              1                1   \n",
       "573              87               195             29               28   \n",
       "\n",
       "     act_start_day                                      processed_log  \n",
       "456              1  [0, 0, 0, 0, 1, 0, 0, 1, 2, 1, 1, 2, 1, 1, 1, ...  \n",
       "573             28  [1, 0, 1, 0, 0, 0, 0, 1, 1, 0, 0, 0, 0, 0, 1, ...  "
      ]
     },
     "execution_count": 71,
     "metadata": {},
     "output_type": "execute_result"
    }
   ],
   "source": [
    "# 3번 경우 : 취침과 기상이 모두 당행 활동 시간에 위치하는 경우\n",
    "cc = (test_df['act_start_day'] == test_df['sleep_start_day'])&(test_df['sleep_start_5min']>=48)\n",
    "print(len(test_df[cc]))\n",
    "test_df[cc].head(2)"
   ]
  },
  {
   "cell_type": "code",
   "execution_count": 74,
   "metadata": {},
   "outputs": [
    {
     "data": {
      "text/plain": [
       "0"
      ]
     },
     "execution_count": 74,
     "metadata": {},
     "output_type": "execute_result"
    }
   ],
   "source": [
    "len(test_df[~(aa|(bb_start&bb_end)|cc)])"
   ]
  },
  {
   "cell_type": "markdown",
   "metadata": {},
   "source": [
    "## 활동 로그 작업"
   ]
  },
  {
   "cell_type": "code",
   "execution_count": 87,
   "metadata": {},
   "outputs": [
    {
     "data": {
      "text/html": [
       "<div>\n",
       "<style scoped>\n",
       "    .dataframe tbody tr th:only-of-type {\n",
       "        vertical-align: middle;\n",
       "    }\n",
       "\n",
       "    .dataframe tbody tr th {\n",
       "        vertical-align: top;\n",
       "    }\n",
       "\n",
       "    .dataframe thead th {\n",
       "        text-align: right;\n",
       "    }\n",
       "</style>\n",
       "<table border=\"1\" class=\"dataframe\">\n",
       "  <thead>\n",
       "    <tr style=\"text-align: right;\">\n",
       "      <th></th>\n",
       "      <th>EMAIL</th>\n",
       "      <th>activity_day_start</th>\n",
       "      <th>activity_class_5min</th>\n",
       "      <th>sleep_bedtime_end</th>\n",
       "      <th>sleep_bedtime_start</th>\n",
       "      <th>sleep_hr_5min</th>\n",
       "      <th>sleep_hypnogram_5min</th>\n",
       "      <th>sleep_rmssd_5min</th>\n",
       "      <th>DIAG_NM</th>\n",
       "      <th>activity_met_5min</th>\n",
       "      <th>act_start_5min</th>\n",
       "      <th>sleep_end_5min</th>\n",
       "      <th>sleep_start_5min</th>\n",
       "      <th>sleep_end_day</th>\n",
       "      <th>sleep_start_day</th>\n",
       "      <th>act_start_day</th>\n",
       "      <th>processed_log</th>\n",
       "    </tr>\n",
       "  </thead>\n",
       "  <tbody>\n",
       "    <tr>\n",
       "      <th>0</th>\n",
       "      <td>nia+279@rowan.kr</td>\n",
       "      <td>2020-10-19 04:00:00</td>\n",
       "      <td>[1.0, 1.0, 2.0, 2.0, 2.0, 2.0, 1.0, 1.0, 1.0, ...</td>\n",
       "      <td>2020-10-19 05:10:28</td>\n",
       "      <td>2020-10-18 18:38:28</td>\n",
       "      <td>[63.0, 61.0, 59.0, 58.0, 58.0, 58.0, 56.0, 55....</td>\n",
       "      <td>[4.0, 2.0, 2.0, 2.0, 2.0, 1.0, 1.0, 2.0, 2.0, ...</td>\n",
       "      <td>[18.0, 28.0, 25.0, 28.0, 34.0, 34.0, 35.0, 45....</td>\n",
       "      <td>MCI</td>\n",
       "      <td>[1.0, 0.9, 1.0, 1.2, 1.2, 1.2, 1.0, 0.9, 0.9, ...</td>\n",
       "      <td>48</td>\n",
       "      <td>62</td>\n",
       "      <td>223</td>\n",
       "      <td>19</td>\n",
       "      <td>18</td>\n",
       "      <td>19</td>\n",
       "      <td>[1, 0, 1, 1, 1, 1, 1, 0, 0, 1, 0, 0, 0, 1, 1, ...</td>\n",
       "    </tr>\n",
       "    <tr>\n",
       "      <th>1</th>\n",
       "      <td>nia+279@rowan.kr</td>\n",
       "      <td>2020-10-20 04:00:00</td>\n",
       "      <td>[1.0, 1.0, 1.0, 2.0, 2.0, 2.0, 2.0, 2.0, 2.0, ...</td>\n",
       "      <td>2020-10-20 05:37:52</td>\n",
       "      <td>2020-10-19 21:39:52</td>\n",
       "      <td>[0.0, 51.0, 0.0, 51.0, 52.0, 52.0, 52.0, 52.0,...</td>\n",
       "      <td>[4.0, 2.0, 4.0, 2.0, 2.0, 2.0, 1.0, 1.0, 1.0, ...</td>\n",
       "      <td>[0.0, 49.0, 0.0, 38.0, 51.0, 17.0, 18.0, 18.0,...</td>\n",
       "      <td>MCI</td>\n",
       "      <td>[1.0, 1.0, 0.9, 1.1, 1.1, 1.2, 1.2, 1.2, 1.3, ...</td>\n",
       "      <td>48</td>\n",
       "      <td>67</td>\n",
       "      <td>259</td>\n",
       "      <td>20</td>\n",
       "      <td>19</td>\n",
       "      <td>20</td>\n",
       "      <td>[1, 1, 0, 1, 1, 1, 1, 1, 1, 1, 1, 1, 0, 1, 0, ...</td>\n",
       "    </tr>\n",
       "  </tbody>\n",
       "</table>\n",
       "</div>"
      ],
      "text/plain": [
       "              EMAIL  activity_day_start  \\\n",
       "0  nia+279@rowan.kr 2020-10-19 04:00:00   \n",
       "1  nia+279@rowan.kr 2020-10-20 04:00:00   \n",
       "\n",
       "                                 activity_class_5min   sleep_bedtime_end  \\\n",
       "0  [1.0, 1.0, 2.0, 2.0, 2.0, 2.0, 1.0, 1.0, 1.0, ... 2020-10-19 05:10:28   \n",
       "1  [1.0, 1.0, 1.0, 2.0, 2.0, 2.0, 2.0, 2.0, 2.0, ... 2020-10-20 05:37:52   \n",
       "\n",
       "  sleep_bedtime_start                                      sleep_hr_5min  \\\n",
       "0 2020-10-18 18:38:28  [63.0, 61.0, 59.0, 58.0, 58.0, 58.0, 56.0, 55....   \n",
       "1 2020-10-19 21:39:52  [0.0, 51.0, 0.0, 51.0, 52.0, 52.0, 52.0, 52.0,...   \n",
       "\n",
       "                                sleep_hypnogram_5min  \\\n",
       "0  [4.0, 2.0, 2.0, 2.0, 2.0, 1.0, 1.0, 2.0, 2.0, ...   \n",
       "1  [4.0, 2.0, 4.0, 2.0, 2.0, 2.0, 1.0, 1.0, 1.0, ...   \n",
       "\n",
       "                                    sleep_rmssd_5min DIAG_NM  \\\n",
       "0  [18.0, 28.0, 25.0, 28.0, 34.0, 34.0, 35.0, 45....     MCI   \n",
       "1  [0.0, 49.0, 0.0, 38.0, 51.0, 17.0, 18.0, 18.0,...     MCI   \n",
       "\n",
       "                                   activity_met_5min  act_start_5min  \\\n",
       "0  [1.0, 0.9, 1.0, 1.2, 1.2, 1.2, 1.0, 0.9, 0.9, ...              48   \n",
       "1  [1.0, 1.0, 0.9, 1.1, 1.1, 1.2, 1.2, 1.2, 1.3, ...              48   \n",
       "\n",
       "   sleep_end_5min  sleep_start_5min  sleep_end_day  sleep_start_day  \\\n",
       "0              62               223             19               18   \n",
       "1              67               259             20               19   \n",
       "\n",
       "   act_start_day                                      processed_log  \n",
       "0             19  [1, 0, 1, 1, 1, 1, 1, 0, 0, 1, 0, 0, 0, 1, 1, ...  \n",
       "1             20  [1, 1, 0, 1, 1, 1, 1, 1, 1, 1, 1, 1, 0, 1, 0, ...  "
      ]
     },
     "execution_count": 87,
     "metadata": {},
     "output_type": "execute_result"
    }
   ],
   "source": [
    "test_df.head(2)"
   ]
  },
  {
   "cell_type": "code",
   "execution_count": 110,
   "metadata": {},
   "outputs": [
    {
     "data": {
      "text/plain": [
       "Index(['EMAIL', 'activity_day_start', 'activity_class_5min',\n",
       "       'sleep_bedtime_end', 'sleep_bedtime_start', 'sleep_hr_5min',\n",
       "       'sleep_hypnogram_5min', 'sleep_rmssd_5min', 'DIAG_NM',\n",
       "       'activity_met_5min', 'act_start_5min', 'sleep_end_5min',\n",
       "       'sleep_start_5min', 'sleep_end_day', 'sleep_start_day', 'act_start_day',\n",
       "       'processed_log'],\n",
       "      dtype='object')"
      ]
     },
     "execution_count": 110,
     "metadata": {},
     "output_type": "execute_result"
    }
   ],
   "source": [
    "test_df.columns"
   ]
  },
  {
   "cell_type": "code",
   "execution_count": null,
   "metadata": {},
   "outputs": [],
   "source": [
    "def generate_act_logs(df, log_col):\n",
    "    \"\"\"\n",
    "    df: DataFrame containing columns ['start_date', 'sleep_start', 'sleep_end', 'activity_log']\n",
    "        - start_date: 활동 시작 날짜 (YYYY-MM-DD 형식 문자열, 04:00부터 24시간 기준)\n",
    "        - sleep_start: 수면 시작 날짜와 시간 (YYYY-MM-DD HH:MM 형식 문자열)\n",
    "        - sleep_end: 수면 종료 날짜와 시간 (YYYY-MM-DD HH:MM 형식 문자열)\n",
    "        - activity_log: 기존 활동 로그 리스트 (5분 단위, 길이 288)\n",
    "    \"\"\"\n",
    "    results = []\n",
    "    \n",
    "    for index, row in df.iterrows():\n",
    "        start_date = row['activity_day_start']\n",
    "        activity_log = np.array(row[log_col])\n",
    "\n",
    "        if len(activity_log) < 288:\n",
    "            activity_log = np.pad(activity_log, (0, 288 - len(activity_log)), constant_values=-1)\n",
    "        \n",
    "        \n",
    "        # 5분 단위 시간 생성 (당일 04:00 ~ 익일 04:00)\n",
    "        time_slots = np.array([np.datetime64(f\"{start_date}\") + np.timedelta64(5*i, 'm') for i in range(288)])\n",
    "        \n",
    "        # 수면 시간 필터링 (해당 활동 시간에 걸쳐 있는 모든 수면 로그 반영)\n",
    "        sleep_mask = np.zeros(288, dtype=bool)\n",
    "        for sleep_start, sleep_end in zip(df['sleep_bedtime_start'], df['sleep_bedtime_end']):\n",
    "            sleep_start_time = np.datetime64(sleep_start)\n",
    "            sleep_end_time = np.datetime64(sleep_end)\n",
    "            \n",
    "            mask = (time_slots >= sleep_start_time) & (time_slots < sleep_end_time)\n",
    "            sleep_mask |= mask  # 여러 수면 시간을 합쳐 반영\n",
    "        \n",
    "        # 새로운 로그 데이터 생성\n",
    "        new_activity_log = activity_log.copy()\n",
    "        new_activity_log[sleep_mask] = -1\n",
    "\n",
    "        results.append({\n",
    "            'start_date': start_date,\n",
    "            'new_activity_log': new_activity_log.tolist(),\n",
    "            'activity_day_start': row['activity_day_start']  # 원래 순서를 유지하기 위한 컬럼 추가\n",
    "        })\n",
    "    \n",
    "    \n",
    "    result_df = pd.DataFrame(results)\n",
    "\n",
    "    # 원본 데이터프레임 순서 유지\n",
    "    result_df = result_df.set_index('activity_day_start').reindex(df['activity_day_start']).reset_index()\n",
    "    result_df['EMAIL'] = df['EMAIL']\n",
    "\n",
    "    return result_df"
   ]
  },
  {
   "cell_type": "code",
   "execution_count": 136,
   "metadata": {},
   "outputs": [],
   "source": [
    "processed_groups = []\n",
    "\n",
    "grouped = test_df.groupby(by=['EMAIL'])\n",
    "for participant, group in grouped:\n",
    "    group = group.reset_index(drop=True)\n",
    "    new_group = generate_act_logs(group, 'activity_class_5min')\n",
    "    processed_groups.append(new_group)\n",
    "\n",
    "# 모든 그룹을 다시 하나의 데이터프레임으로 합치기\n",
    "activity_class_5min_df = pd.concat(processed_groups, ignore_index=True)"
   ]
  },
  {
   "cell_type": "code",
   "execution_count": 137,
   "metadata": {},
   "outputs": [],
   "source": [
    "processed_groups = []\n",
    "\n",
    "grouped = test_df.groupby(by=['EMAIL'])\n",
    "for participant, group in grouped:\n",
    "    group = group.reset_index(drop=True)\n",
    "    new_group = generate_act_logs(group, 'activity_met_5min')\n",
    "    processed_groups.append(new_group)\n",
    "\n",
    "# 모든 그룹을 다시 하나의 데이터프레임으로 합치기\n",
    "activity_met_5min_df = pd.concat(processed_groups, ignore_index=True)"
   ]
  },
  {
   "cell_type": "code",
   "execution_count": 139,
   "metadata": {},
   "outputs": [],
   "source": [
    "activity_class_5min_df.rename(columns = {'new_activity_log' : 'activity_class_5min_adj'}, inplace = True)\n",
    "activity_class_5min_df.drop(columns = ['start_date'], inplace = True)\n",
    "\n",
    "activity_met_5min_df.rename(columns = {'new_activity_log' : 'activity_met_5min_df_adj'}, inplace = True)\n",
    "activity_met_5min_df.drop(columns = ['start_date'], inplace = True)\n",
    "\n",
    "act_log_df = activity_class_5min_df.merge(activity_met_5min_df, on = ['EMAIL', 'activity_day_start'])\n"
   ]
  },
  {
   "cell_type": "code",
   "execution_count": 141,
   "metadata": {},
   "outputs": [
    {
     "data": {
      "text/html": [
       "<div>\n",
       "<style scoped>\n",
       "    .dataframe tbody tr th:only-of-type {\n",
       "        vertical-align: middle;\n",
       "    }\n",
       "\n",
       "    .dataframe tbody tr th {\n",
       "        vertical-align: top;\n",
       "    }\n",
       "\n",
       "    .dataframe thead th {\n",
       "        text-align: right;\n",
       "    }\n",
       "</style>\n",
       "<table border=\"1\" class=\"dataframe\">\n",
       "  <thead>\n",
       "    <tr style=\"text-align: right;\">\n",
       "      <th></th>\n",
       "      <th>activity_day_start</th>\n",
       "      <th>activity_class_5min_adj</th>\n",
       "      <th>EMAIL</th>\n",
       "      <th>activity_met_5min_df_adj</th>\n",
       "    </tr>\n",
       "  </thead>\n",
       "  <tbody>\n",
       "    <tr>\n",
       "      <th>0</th>\n",
       "      <td>2020-10-18 04:00:00</td>\n",
       "      <td>[-1.0, -1.0, -1.0, -1.0, -1.0, -1.0, -1.0, -1....</td>\n",
       "      <td>nia+003@rowan.kr</td>\n",
       "      <td>[-1.0, -1.0, -1.0, -1.0, -1.0, -1.0, -1.0, -1....</td>\n",
       "    </tr>\n",
       "    <tr>\n",
       "      <th>1</th>\n",
       "      <td>2020-10-19 04:00:00</td>\n",
       "      <td>[-1.0, -1.0, -1.0, -1.0, -1.0, -1.0, -1.0, -1....</td>\n",
       "      <td>nia+003@rowan.kr</td>\n",
       "      <td>[-1.0, -1.0, -1.0, -1.0, -1.0, -1.0, -1.0, -1....</td>\n",
       "    </tr>\n",
       "  </tbody>\n",
       "</table>\n",
       "</div>"
      ],
      "text/plain": [
       "   activity_day_start                            activity_class_5min_adj  \\\n",
       "0 2020-10-18 04:00:00  [-1.0, -1.0, -1.0, -1.0, -1.0, -1.0, -1.0, -1....   \n",
       "1 2020-10-19 04:00:00  [-1.0, -1.0, -1.0, -1.0, -1.0, -1.0, -1.0, -1....   \n",
       "\n",
       "              EMAIL                           activity_met_5min_df_adj  \n",
       "0  nia+003@rowan.kr  [-1.0, -1.0, -1.0, -1.0, -1.0, -1.0, -1.0, -1....  \n",
       "1  nia+003@rowan.kr  [-1.0, -1.0, -1.0, -1.0, -1.0, -1.0, -1.0, -1....  "
      ]
     },
     "execution_count": 141,
     "metadata": {},
     "output_type": "execute_result"
    }
   ],
   "source": [
    "act_log_df.head(2)"
   ]
  },
  {
   "cell_type": "code",
   "execution_count": 140,
   "metadata": {},
   "outputs": [
    {
     "name": "stdout",
     "output_type": "stream",
     "text": [
      "<class 'pandas.core.frame.DataFrame'>\n",
      "RangeIndex: 12183 entries, 0 to 12182\n",
      "Data columns (total 4 columns):\n",
      " #   Column                    Non-Null Count  Dtype         \n",
      "---  ------                    --------------  -----         \n",
      " 0   activity_day_start        12183 non-null  datetime64[ns]\n",
      " 1   activity_class_5min_adj   12183 non-null  object        \n",
      " 2   EMAIL                     12183 non-null  object        \n",
      " 3   activity_met_5min_df_adj  12183 non-null  object        \n",
      "dtypes: datetime64[ns](1), object(3)\n",
      "memory usage: 380.8+ KB\n"
     ]
    }
   ],
   "source": [
    "act_log_df.info()"
   ]
  },
  {
   "cell_type": "markdown",
   "metadata": {},
   "source": [
    "## 수면 로그 작업"
   ]
  },
  {
   "cell_type": "code",
   "execution_count": 158,
   "metadata": {},
   "outputs": [],
   "source": [
    "def generate_sleep_logs(df, log_col):\n",
    "    \"\"\"\n",
    "    df: DataFrame containing columns ['activity_day_start', 'sleep_bedtime_start', 'sleep_bedtime_end', log_col]\n",
    "        - activity_day_start: 활동 시작 날짜 (YYYY-MM-DD 형식 문자열, 04:00부터 24시간 기준)\n",
    "        - sleep_bedtime_start: 수면 시작 날짜와 시간 (YYYY-MM-DD HH:MM 형식 문자열)\n",
    "        - sleep_bedtime_end: 수면 종료 날짜와 시간 (YYYY-MM-DD HH:MM 형식 문자열)\n",
    "        - log_col: 기존 수면 로그 데이터 컬럼명\n",
    "    \"\"\"\n",
    "    results = []\n",
    "    \n",
    "    for index, row in df.iterrows():\n",
    "        start_date = row['activity_day_start']\n",
    "        sleep_log = np.array(row[log_col])  # 현재 행의 수면 로그\n",
    "\n",
    "        # 로그 길이가 288보다 짧으면 -1로 패딩\n",
    "        if len(sleep_log) < 288:\n",
    "            sleep_log = np.pad(sleep_log, (0, 288 - len(sleep_log)), constant_values=-1)\n",
    "\n",
    "        # 5분 단위 시간 생성 (당일 04:00 ~ 익일 04:00)\n",
    "        time_slots = np.array([np.datetime64(f\"{start_date}\") + np.timedelta64(5*i, 'm') for i in range(288)])\n",
    "        \n",
    "        # 전체 수면 데이터에서 현재 행과 이전/다음 행을 고려하여 가져옴\n",
    "        sleep_mask = np.zeros(288, dtype=bool)\n",
    "        relevant_sleep_logs = np.full(288, -1)  # 기본값 -1\n",
    "\n",
    "        for i in range(max(0, index - 1), min(len(df), index + 2)):  # 이전, 현재, 다음 행을 포함\n",
    "            sleep_start_time = np.datetime64(df.iloc[i]['sleep_bedtime_start'])\n",
    "            sleep_end_time = np.datetime64(df.iloc[i]['sleep_bedtime_end'])\n",
    "            curr_sleep_log = np.array(df.iloc[i][log_col])\n",
    "\n",
    "            # 3개 행 중에서 현재 행의 활동 로그와 겹치는 부분 찾기\n",
    "            mask = (time_slots >= sleep_start_time) & (time_slots < sleep_end_time)\n",
    "            sleep_mask |= mask  \n",
    "\n",
    "            # 해당 mask 위치에 올바른 수면 로그 값 매핑\n",
    "            relevant_sleep_logs[mask] = curr_sleep_log[:np.sum(mask)]  # 해당 범위의 수면 데이터 삽입\n",
    "\n",
    "        results.append({\n",
    "            'start_date': start_date,\n",
    "            'new_sleep_log': relevant_sleep_logs.tolist(),\n",
    "            'activity_day_start': row['activity_day_start']  # 원래 순서를 유지하기 위한 컬럼 추가\n",
    "        })\n",
    "    \n",
    "    result_df = pd.DataFrame(results)\n",
    "\n",
    "    # 원본 데이터프레임 순서 유지\n",
    "    result_df = result_df.set_index('activity_day_start').reindex(df['activity_day_start']).reset_index()\n",
    "    result_df['EMAIL'] = df['EMAIL']\n",
    "\n",
    "    return result_df\n"
   ]
  },
  {
   "cell_type": "code",
   "execution_count": 160,
   "metadata": {},
   "outputs": [],
   "source": [
    "processed_groups = []\n",
    "\n",
    "grouped = test_df.groupby(by=['EMAIL'])\n",
    "for participant, group in grouped:\n",
    "    group = group.reset_index(drop=True)\n",
    "    new_group = generate_sleep_logs(group, 'sleep_hr_5min')\n",
    "    processed_groups.append(new_group)\n",
    "\n",
    "# 모든 그룹을 다시 하나의 데이터프레임으로 합치기\n",
    "sleep_hr_5min_df = pd.concat(processed_groups, ignore_index=True)"
   ]
  },
  {
   "cell_type": "code",
   "execution_count": 161,
   "metadata": {},
   "outputs": [],
   "source": [
    "processed_groups = []\n",
    "\n",
    "grouped = test_df.groupby(by=['EMAIL'])\n",
    "for participant, group in grouped:\n",
    "    group = group.reset_index(drop=True)\n",
    "    new_group = generate_sleep_logs(group, 'sleep_hypnogram_5min')\n",
    "    processed_groups.append(new_group)\n",
    "\n",
    "# 모든 그룹을 다시 하나의 데이터프레임으로 합치기\n",
    "sleep_hypnogram_5min_df = pd.concat(processed_groups, ignore_index=True)"
   ]
  },
  {
   "cell_type": "code",
   "execution_count": 162,
   "metadata": {},
   "outputs": [],
   "source": [
    "processed_groups = []\n",
    "\n",
    "grouped = test_df.groupby(by=['EMAIL'])\n",
    "for participant, group in grouped:\n",
    "    group = group.reset_index(drop=True)\n",
    "    new_group = generate_sleep_logs(group, 'sleep_rmssd_5min')\n",
    "    processed_groups.append(new_group)\n",
    "\n",
    "# 모든 그룹을 다시 하나의 데이터프레임으로 합치기\n",
    "sleep_rmssd_5min_df = pd.concat(processed_groups, ignore_index=True)"
   ]
  },
  {
   "cell_type": "code",
   "execution_count": 163,
   "metadata": {},
   "outputs": [],
   "source": [
    "sleep_hr_5min_df.rename(columns = {'new_sleep_log' : 'sleep_hr_5min_adj'}, inplace = True)\n",
    "sleep_hr_5min_df.drop(columns = ['start_date'], inplace = True)\n",
    "\n",
    "sleep_hypnogram_5min_df.rename(columns = {'new_sleep_log' : 'sleep_hypnogram_5min_adj'}, inplace = True)\n",
    "sleep_hypnogram_5min_df.drop(columns = ['start_date'], inplace = True)\n",
    "\n",
    "sleep_rmssd_5min_df.rename(columns = {'new_sleep_log' : 'sleep_rmssd_5min_adj'}, inplace = True)\n",
    "sleep_rmssd_5min_df.drop(columns = ['start_date'], inplace = True)\n",
    "\n",
    "\n",
    "sleep_log_df = sleep_hr_5min_df.merge(sleep_hypnogram_5min_df, on = ['EMAIL', 'activity_day_start'])\n",
    "sleep_log_df = sleep_log_df.merge(sleep_rmssd_5min_df, on = ['EMAIL', 'activity_day_start'])\n"
   ]
  },
  {
   "cell_type": "code",
   "execution_count": 164,
   "metadata": {},
   "outputs": [],
   "source": [
    "aa = test_df[['EMAIL', 'activity_day_start', \n",
    "       'sleep_bedtime_start', 'sleep_bedtime_end',  \n",
    "       'activity_met_5min', 'activity_class_5min',\n",
    "       'sleep_hr_5min', 'sleep_hypnogram_5min', 'sleep_rmssd_5min', 'DIAG_NM'\n",
    "       ]]"
   ]
  },
  {
   "cell_type": "code",
   "execution_count": 165,
   "metadata": {},
   "outputs": [],
   "source": [
    "total_log_df = act_log_df.merge(sleep_log_df, on = ['EMAIL', 'activity_day_start'])\n",
    "final_df = aa.merge(total_log_df, on = ['EMAIL', 'activity_day_start'])"
   ]
  },
  {
   "cell_type": "code",
   "execution_count": 166,
   "metadata": {},
   "outputs": [],
   "source": [
    "final_df.to_csv('./final_test.csv')"
   ]
  },
  {
   "cell_type": "code",
   "execution_count": null,
   "metadata": {},
   "outputs": [],
   "source": []
  }
 ],
 "metadata": {
  "kernelspec": {
   "display_name": "my_study",
   "language": "python",
   "name": "python3"
  },
  "language_info": {
   "codemirror_mode": {
    "name": "ipython",
    "version": 3
   },
   "file_extension": ".py",
   "mimetype": "text/x-python",
   "name": "python",
   "nbconvert_exporter": "python",
   "pygments_lexer": "ipython3",
   "version": "3.8.20"
  }
 },
 "nbformat": 4,
 "nbformat_minor": 2
}
