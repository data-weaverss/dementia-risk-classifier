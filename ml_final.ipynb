{
  "nbformat": 4,
  "nbformat_minor": 0,
  "metadata": {
    "colab": {
      "provenance": [],
      "toc_visible": true
    },
    "kernelspec": {
      "name": "python3",
      "display_name": "Python 3"
    },
    "language_info": {
      "name": "python"
    }
  },
  "cells": [
    {
      "cell_type": "code",
      "execution_count": null,
      "metadata": {
        "id": "NB3yJ8irLZ-_"
      },
      "outputs": [],
      "source": [
        "import numpy as np\n",
        "import pandas as pd\n",
        "import tensorflow as tf\n",
        "from tensorflow.keras.models import Sequential\n",
        "from tensorflow.keras.layers import LSTM, Dense, Dropout, BatchNormalization\n",
        "from tensorflow.keras.callbacks import EarlyStopping\n",
        "from tensorflow.keras.regularizers import l2\n",
        "from tensorflow.keras.optimizers import Adam\n",
        "from tensorflow.keras.callbacks import ReduceLROnPlateau\n",
        "from sklearn.preprocessing import LabelEncoder\n",
        "from sklearn.metrics import confusion_matrix, classification_report\n",
        "from sklearn.preprocessing import MinMaxScaler\n",
        "from collections import Counter\n",
        "from imblearn.over_sampling import SMOTE\n",
        "from sklearn.utils.class_weight import compute_class_weight\n",
        "from sklearn.model_selection import train_test_split"
      ]
    },
    {
      "cell_type": "code",
      "source": [
        "import os\n",
        "import random\n",
        "import tensorflow as tf\n",
        "\n",
        "def set_seed(seed=42):\n",
        "    os.environ['PYTHONHASHSEED'] = str(seed)\n",
        "    random.seed(seed)\n",
        "    np.random.seed(seed)\n",
        "    tf.random.set_seed(seed)\n",
        "\n",
        "set_seed(42)"
      ],
      "metadata": {
        "id": "e7hZIKjiRRhV"
      },
      "execution_count": null,
      "outputs": []
    },
    {
      "cell_type": "markdown",
      "source": [
        "## 데이터 로드 및 전처리"
      ],
      "metadata": {
        "id": "n4EsLLnnQ-jZ"
      }
    },
    {
      "cell_type": "code",
      "source": [
        "train_data = pd.read_csv(\"./train_total.csv\", index_col = 0)\n",
        "test_data = pd.read_csv(\"./test_total.csv\", index_col = 0)\n",
        "val_data = pd.read_csv(\"./val_total.csv\", index_col = 0)"
      ],
      "metadata": {
        "id": "r-dGZ0zuLmo6"
      },
      "execution_count": null,
      "outputs": []
    },
    {
      "cell_type": "code",
      "source": [
        "train_data.info()"
      ],
      "metadata": {
        "id": "MWSltcRqRpuY",
        "colab": {
          "base_uri": "https://localhost:8080/"
        },
        "outputId": "fe9a5411-28c0-4eaa-e26f-3b875507e46c"
      },
      "execution_count": null,
      "outputs": [
        {
          "output_type": "stream",
          "name": "stdout",
          "text": [
            "<class 'pandas.core.frame.DataFrame'>\n",
            "Index: 9507 entries, 0 to 9506\n",
            "Data columns (total 52 columns):\n",
            " #   Column                             Non-Null Count  Dtype  \n",
            "---  ------                             --------------  -----  \n",
            " 0   EMAIL                              9507 non-null   object \n",
            " 1   activity_day_start                 9507 non-null   object \n",
            " 2   activity_class_5min_adj            9507 non-null   object \n",
            " 3   activity_met_5min_df_adj           9507 non-null   object \n",
            " 4   sleep_hr_5min_adj                  9507 non-null   object \n",
            " 5   sleep_hypnogram_5min_adj           9507 non-null   object \n",
            " 6   sleep_rmssd_5min_adj               9507 non-null   object \n",
            " 7   activity_average_met               9507 non-null   float64\n",
            " 8   activity_cal_active                9507 non-null   int64  \n",
            " 9   activity_cal_total                 9507 non-null   int64  \n",
            " 10  activity_daily_movement            9507 non-null   int64  \n",
            " 11  activity_high                      9507 non-null   int64  \n",
            " 12  activity_inactive                  9507 non-null   int64  \n",
            " 13  activity_low                       9507 non-null   int64  \n",
            " 14  activity_medium                    9507 non-null   int64  \n",
            " 15  activity_met_min_high              9507 non-null   int64  \n",
            " 16  activity_met_min_inactive          9507 non-null   int64  \n",
            " 17  activity_met_min_low               9507 non-null   int64  \n",
            " 18  activity_met_min_medium            9507 non-null   int64  \n",
            " 19  activity_rest                      9507 non-null   int64  \n",
            " 20  activity_score                     9507 non-null   int64  \n",
            " 21  activity_score_meet_daily_targets  9507 non-null   int64  \n",
            " 22  activity_score_move_every_hour     9507 non-null   int64  \n",
            " 23  activity_score_recovery_time       9507 non-null   int64  \n",
            " 24  activity_score_stay_active         9507 non-null   int64  \n",
            " 25  activity_score_training_frequency  9507 non-null   int64  \n",
            " 26  activity_score_training_volume     9507 non-null   int64  \n",
            " 27  activity_steps                     9507 non-null   int64  \n",
            " 28  activity_total                     9507 non-null   int64  \n",
            " 29  sleep_awake                        9507 non-null   int64  \n",
            " 30  sleep_breath_average               9507 non-null   float64\n",
            " 31  sleep_deep                         9507 non-null   int64  \n",
            " 32  sleep_duration                     9507 non-null   int64  \n",
            " 33  sleep_efficiency                   9507 non-null   int64  \n",
            " 34  sleep_hr_average                   9507 non-null   float64\n",
            " 35  sleep_hr_lowest                    9507 non-null   int64  \n",
            " 36  sleep_light                        9507 non-null   int64  \n",
            " 37  sleep_onset_latency                9507 non-null   int64  \n",
            " 38  sleep_rem                          9507 non-null   int64  \n",
            " 39  sleep_restless                     9507 non-null   int64  \n",
            " 40  sleep_rmssd                        9507 non-null   int64  \n",
            " 41  sleep_score                        9507 non-null   int64  \n",
            " 42  sleep_score_alignment              9507 non-null   int64  \n",
            " 43  sleep_score_deep                   9507 non-null   int64  \n",
            " 44  sleep_score_disturbances           9507 non-null   int64  \n",
            " 45  sleep_score_efficiency             9507 non-null   int64  \n",
            " 46  sleep_score_latency                9507 non-null   int64  \n",
            " 47  sleep_score_rem                    9507 non-null   int64  \n",
            " 48  sleep_score_total                  9507 non-null   int64  \n",
            " 49  sleep_temperature_delta            9507 non-null   float64\n",
            " 50  sleep_total                        9507 non-null   int64  \n",
            " 51  DIAG_NM                            9507 non-null   object \n",
            "dtypes: float64(4), int64(40), object(8)\n",
            "memory usage: 3.8+ MB\n"
          ]
        }
      ]
    },
    {
      "cell_type": "code",
      "source": [
        "drop_act_col = train_data.columns[7:-1].tolist()\n",
        "drop_act_col"
      ],
      "metadata": {
        "id": "BDZPH4RqCFae",
        "colab": {
          "base_uri": "https://localhost:8080/"
        },
        "outputId": "e22f3267-b9d6-4258-e4e6-49fc0a84803c"
      },
      "execution_count": null,
      "outputs": [
        {
          "output_type": "execute_result",
          "data": {
            "text/plain": [
              "['activity_average_met',\n",
              " 'activity_cal_active',\n",
              " 'activity_cal_total',\n",
              " 'activity_daily_movement',\n",
              " 'activity_high',\n",
              " 'activity_inactive',\n",
              " 'activity_low',\n",
              " 'activity_medium',\n",
              " 'activity_met_min_high',\n",
              " 'activity_met_min_inactive',\n",
              " 'activity_met_min_low',\n",
              " 'activity_met_min_medium',\n",
              " 'activity_rest',\n",
              " 'activity_score',\n",
              " 'activity_score_meet_daily_targets',\n",
              " 'activity_score_move_every_hour',\n",
              " 'activity_score_recovery_time',\n",
              " 'activity_score_stay_active',\n",
              " 'activity_score_training_frequency',\n",
              " 'activity_score_training_volume',\n",
              " 'activity_steps',\n",
              " 'activity_total',\n",
              " 'sleep_awake',\n",
              " 'sleep_breath_average',\n",
              " 'sleep_deep',\n",
              " 'sleep_duration',\n",
              " 'sleep_efficiency',\n",
              " 'sleep_hr_average',\n",
              " 'sleep_hr_lowest',\n",
              " 'sleep_light',\n",
              " 'sleep_onset_latency',\n",
              " 'sleep_rem',\n",
              " 'sleep_restless',\n",
              " 'sleep_rmssd',\n",
              " 'sleep_score',\n",
              " 'sleep_score_alignment',\n",
              " 'sleep_score_deep',\n",
              " 'sleep_score_disturbances',\n",
              " 'sleep_score_efficiency',\n",
              " 'sleep_score_latency',\n",
              " 'sleep_score_rem',\n",
              " 'sleep_score_total',\n",
              " 'sleep_temperature_delta',\n",
              " 'sleep_total']"
            ]
          },
          "metadata": {},
          "execution_count": 14
        }
      ]
    },
    {
      "cell_type": "code",
      "source": [
        "train_data.drop(columns = drop_act_col, inplace = True)\n",
        "test_data.drop(columns = drop_act_col, inplace = True)\n",
        "val_data.drop(columns = drop_act_col, inplace = True)"
      ],
      "metadata": {
        "id": "RY-LhZEkPAKo"
      },
      "execution_count": null,
      "outputs": []
    },
    {
      "cell_type": "code",
      "source": [
        "train_data.info()"
      ],
      "metadata": {
        "id": "kv60Qx_RPROQ",
        "colab": {
          "base_uri": "https://localhost:8080/"
        },
        "outputId": "ebb2f240-62de-4a3d-9637-0b8921682806"
      },
      "execution_count": null,
      "outputs": [
        {
          "output_type": "stream",
          "name": "stdout",
          "text": [
            "<class 'pandas.core.frame.DataFrame'>\n",
            "Index: 9507 entries, 0 to 9506\n",
            "Data columns (total 8 columns):\n",
            " #   Column                    Non-Null Count  Dtype \n",
            "---  ------                    --------------  ----- \n",
            " 0   EMAIL                     9507 non-null   object\n",
            " 1   activity_day_start        9507 non-null   object\n",
            " 2   activity_class_5min_adj   9507 non-null   object\n",
            " 3   activity_met_5min_df_adj  9507 non-null   object\n",
            " 4   sleep_hr_5min_adj         9507 non-null   object\n",
            " 5   sleep_hypnogram_5min_adj  9507 non-null   object\n",
            " 6   sleep_rmssd_5min_adj      9507 non-null   object\n",
            " 7   DIAG_NM                   9507 non-null   object\n",
            "dtypes: object(8)\n",
            "memory usage: 668.5+ KB\n"
          ]
        }
      ]
    },
    {
      "cell_type": "code",
      "source": [
        "train_data['DIAG_NM'] = train_data['DIAG_NM'].apply(lambda x: 'MCI' if x == 'Dem' else x)\n",
        "test_data['DIAG_NM'] = test_data['DIAG_NM'].apply(lambda x: 'MCI' if x == 'Dem' else x)\n",
        "val_data['DIAG_NM'] = val_data['DIAG_NM'].apply(lambda x: 'MCI' if x == 'Dem' else x)\n",
        "\n",
        "'''\n",
        "train_data = train_data[train_data['DIAG_NM'] != 'Dem'].reset_index(drop=True)\n",
        "test_data = test_data[test_data['DIAG_NM'] != 'Dem'].reset_index(drop=True)\n",
        "val_data = val_data[val_data['DIAG_NM'] != 'Dem'].reset_index(drop=True)\n",
        "'''"
      ],
      "metadata": {
        "id": "1KE2pZAY7iLd",
        "colab": {
          "base_uri": "https://localhost:8080/",
          "height": 53
        },
        "outputId": "4ef72536-c6e0-469c-f12f-abb9c13abc07"
      },
      "execution_count": null,
      "outputs": [
        {
          "output_type": "execute_result",
          "data": {
            "text/plain": [
              "\"\\ntrain_data = train_data[train_data['DIAG_NM'] != 'Dem'].reset_index(drop=True)\\ntest_data = test_data[test_data['DIAG_NM'] != 'Dem'].reset_index(drop=True)\\nval_data = val_data[val_data['DIAG_NM'] != 'Dem'].reset_index(drop=True)\\n\""
            ],
            "application/vnd.google.colaboratory.intrinsic+json": {
              "type": "string"
            }
          },
          "metadata": {},
          "execution_count": 17
        }
      ]
    },
    {
      "cell_type": "markdown",
      "source": [
        "### 라벨 인코딩 (DIAG_NM이 CN, MCI 등의 문자열이므로 변환)"
      ],
      "metadata": {
        "id": "ks2RYcn1RA_x"
      }
    },
    {
      "cell_type": "code",
      "source": [
        "le = LabelEncoder()\n",
        "le.classes_ = np.array(['CN', 'MCI'])  # le.classes_로 원하는 순서를 설정할 수 있다\n",
        "\n",
        "train_data['DIAG_NM'] = le.transform(train_data['DIAG_NM'])\n",
        "test_data['DIAG_NM'] = le.transform(test_data['DIAG_NM'])\n",
        "val_data['DIAG_NM'] = le.transform(val_data['DIAG_NM'])\n"
      ],
      "metadata": {
        "id": "j9PUxNaXMShJ"
      },
      "execution_count": null,
      "outputs": []
    },
    {
      "cell_type": "markdown",
      "source": [
        "### 문자열 -> 수치형 데이터로 전환"
      ],
      "metadata": {
        "id": "G5MfSPBRh_-N"
      }
    },
    {
      "cell_type": "code",
      "source": [
        "import ast\n",
        "\n",
        "# 문자열을 리스트로 변환하고 각 요소를 숫자로 변환하는 함수\n",
        "def convert_str_to_numeric_list(x):\n",
        "    if isinstance(x, str):  # 문자열인 경우\n",
        "        try:\n",
        "            # 문자열을 리스트로 변환 후 각 요소를 숫자로 변환\n",
        "            return [float(i) for i in ast.literal_eval(x)]  # 실수로 변환하고 다시 리스트 만들기\n",
        "        except:\n",
        "            return []  # 변환 실패 시 빈 리스트 반환\n",
        "    return x  # 이미 리스트인 경우 그대로 반환"
      ],
      "metadata": {
        "id": "CT96p_PKiEOd"
      },
      "execution_count": null,
      "outputs": []
    },
    {
      "cell_type": "code",
      "source": [
        "# 변수 타입 확인\n",
        "def check_data_types(df):\n",
        "    feature_columns = ['activity_class_5min_adj', 'activity_met_5min_df_adj',\n",
        "                        'sleep_hr_5min_adj',\n",
        "                        'sleep_hypnogram_5min_adj', 'sleep_rmssd_5min_adj']\n",
        "    for col in feature_columns:\n",
        "        print(f\"Checking types in column: {col}\")\n",
        "        # 리스트 내부의 데이터 타입을 확인\n",
        "        types = df[col].apply(lambda x: type(x) if isinstance(x, object) else None).unique()\n",
        "        print(f\"Unique types in column {col}: {types}\")"
      ],
      "metadata": {
        "id": "vYX0EWo-jbv3"
      },
      "execution_count": null,
      "outputs": []
    },
    {
      "cell_type": "code",
      "source": [
        "feature_columns = ['activity_class_5min_adj', 'activity_met_5min_df_adj',\n",
        "                    'sleep_hr_5min_adj',\n",
        "                        'sleep_hypnogram_5min_adj', 'sleep_rmssd_5min_adj']\n",
        "\n",
        "train_data[feature_columns] = train_data[feature_columns].applymap(convert_str_to_numeric_list)\n",
        "# 데이터 타입 확인\n",
        "check_data_types(train_data)"
      ],
      "metadata": {
        "colab": {
          "base_uri": "https://localhost:8080/"
        },
        "id": "Jq8bJ0ETjRfQ",
        "outputId": "f6874285-e109-444f-8cb5-f620ca847a17"
      },
      "execution_count": null,
      "outputs": [
        {
          "output_type": "stream",
          "name": "stderr",
          "text": [
            "<ipython-input-21-bc0efac0553e>:5: FutureWarning: DataFrame.applymap has been deprecated. Use DataFrame.map instead.\n",
            "  train_data[feature_columns] = train_data[feature_columns].applymap(convert_str_to_numeric_list)\n"
          ]
        },
        {
          "output_type": "stream",
          "name": "stdout",
          "text": [
            "Checking types in column: activity_class_5min_adj\n",
            "Unique types in column activity_class_5min_adj: [<class 'list'>]\n",
            "Checking types in column: activity_met_5min_df_adj\n",
            "Unique types in column activity_met_5min_df_adj: [<class 'list'>]\n",
            "Checking types in column: sleep_hr_5min_adj\n",
            "Unique types in column sleep_hr_5min_adj: [<class 'list'>]\n",
            "Checking types in column: sleep_hypnogram_5min_adj\n",
            "Unique types in column sleep_hypnogram_5min_adj: [<class 'list'>]\n",
            "Checking types in column: sleep_rmssd_5min_adj\n",
            "Unique types in column sleep_rmssd_5min_adj: [<class 'list'>]\n"
          ]
        }
      ]
    },
    {
      "cell_type": "code",
      "source": [
        "test_data[feature_columns] = test_data[feature_columns].applymap(convert_str_to_numeric_list)\n",
        "check_data_types(test_data)"
      ],
      "metadata": {
        "id": "mz_XvGbsjrGU",
        "colab": {
          "base_uri": "https://localhost:8080/"
        },
        "outputId": "cdea9811-7f8d-4189-a41a-69d7bf95a048"
      },
      "execution_count": null,
      "outputs": [
        {
          "output_type": "stream",
          "name": "stderr",
          "text": [
            "<ipython-input-22-69300446a7e4>:1: FutureWarning: DataFrame.applymap has been deprecated. Use DataFrame.map instead.\n",
            "  test_data[feature_columns] = test_data[feature_columns].applymap(convert_str_to_numeric_list)\n"
          ]
        },
        {
          "output_type": "stream",
          "name": "stdout",
          "text": [
            "Checking types in column: activity_class_5min_adj\n",
            "Unique types in column activity_class_5min_adj: [<class 'list'>]\n",
            "Checking types in column: activity_met_5min_df_adj\n",
            "Unique types in column activity_met_5min_df_adj: [<class 'list'>]\n",
            "Checking types in column: sleep_hr_5min_adj\n",
            "Unique types in column sleep_hr_5min_adj: [<class 'list'>]\n",
            "Checking types in column: sleep_hypnogram_5min_adj\n",
            "Unique types in column sleep_hypnogram_5min_adj: [<class 'list'>]\n",
            "Checking types in column: sleep_rmssd_5min_adj\n",
            "Unique types in column sleep_rmssd_5min_adj: [<class 'list'>]\n"
          ]
        }
      ]
    },
    {
      "cell_type": "code",
      "source": [
        "val_data[feature_columns] = val_data[feature_columns].applymap(convert_str_to_numeric_list)\n",
        "check_data_types(val_data)"
      ],
      "metadata": {
        "colab": {
          "base_uri": "https://localhost:8080/"
        },
        "id": "zt9i8LDeATih",
        "outputId": "5c4a6f29-80ca-471a-81fc-79fa11c4c1ea"
      },
      "execution_count": null,
      "outputs": [
        {
          "output_type": "stream",
          "name": "stderr",
          "text": [
            "<ipython-input-23-1cf2834c50bf>:1: FutureWarning: DataFrame.applymap has been deprecated. Use DataFrame.map instead.\n",
            "  val_data[feature_columns] = val_data[feature_columns].applymap(convert_str_to_numeric_list)\n"
          ]
        },
        {
          "output_type": "stream",
          "name": "stdout",
          "text": [
            "Checking types in column: activity_class_5min_adj\n",
            "Unique types in column activity_class_5min_adj: [<class 'list'>]\n",
            "Checking types in column: activity_met_5min_df_adj\n",
            "Unique types in column activity_met_5min_df_adj: [<class 'list'>]\n",
            "Checking types in column: sleep_hr_5min_adj\n",
            "Unique types in column sleep_hr_5min_adj: [<class 'list'>]\n",
            "Checking types in column: sleep_hypnogram_5min_adj\n",
            "Unique types in column sleep_hypnogram_5min_adj: [<class 'list'>]\n",
            "Checking types in column: sleep_rmssd_5min_adj\n",
            "Unique types in column sleep_rmssd_5min_adj: [<class 'list'>]\n"
          ]
        }
      ]
    },
    {
      "cell_type": "markdown",
      "source": [
        "### 원하는 시퀀스 길이 설정 및 입력값 준비"
      ],
      "metadata": {
        "id": "o9wKO8_mRDXI"
      }
    },
    {
      "cell_type": "code",
      "source": [
        "def prepare_sequences(df, sequence_length, step = 1):\n",
        "    sequences, labels = [], []\n",
        "    log_features = ['sleep_hr_5min_adj',\n",
        "                        'sleep_hypnogram_5min_adj', 'sleep_rmssd_5min_adj']\n",
        "    general_features = df.columns[7:-1]\n",
        "\n",
        "    # 리스트 데이터(예: 로그 데이터)를 개별 숫자로 변환\n",
        "    expanded_features = []\n",
        "    for col in log_features:\n",
        "        expanded_features.extend([f\"{col}_{i}\" for i in range(288)])  # 288개 요소를 개별 컬럼으로 확장\n",
        "\n",
        "    # 로그 데이터 변수를 개별 숫자로 변환 (리스트 형태를 수치형 배열로 변환)\n",
        "    expanded_data = []\n",
        "    for row in df[log_features].values:\n",
        "        expanded_row = []\n",
        "        for item in row:\n",
        "            if isinstance(item, list):  # 리스트가 있는 경우\n",
        "                expanded_row.extend(item)  # 288개의 값으로 확장\n",
        "            else:\n",
        "                expanded_row.append(item)  # 리스트가 아닌 경우 그대로 추가\n",
        "        expanded_data.append(expanded_row)\n",
        "\n",
        "    # 변환된 데이터를 DataFrame으로 만들기\n",
        "    expanded_df = pd.DataFrame(expanded_data, columns=expanded_features)\n",
        "\n",
        "    # 일반 변수 추가\n",
        "    expanded_df = pd.concat([expanded_df, df[general_features].reset_index(drop=True)], axis=1)\n",
        "\n",
        "    # MinMax 스케일링 적용\n",
        "    scaler = MinMaxScaler()\n",
        "    expanded_df = pd.DataFrame(scaler.fit_transform(expanded_df), columns=expanded_df.columns)\n",
        "\n",
        "    # 참가자별로 시퀀스 데이터 생성\n",
        "    for _, group in df.groupby('EMAIL'):\n",
        "        group_expanded_df = expanded_df.loc[group.index]  # 해당 참가자의 데이터만 사용\n",
        "\n",
        "        for i in range(0, len(group_expanded_df) - sequence_length, step): #슬라이딩 윈도우 방식 적용(step 조절)\n",
        "            sequences.append(group_expanded_df.iloc[i:i+sequence_length].values)\n",
        "            labels.append(group['DIAG_NM'].iloc[i+sequence_length])\n",
        "\n",
        "    return np.array(sequences, dtype=np.float32), np.array(labels)"
      ],
      "metadata": {
        "id": "q8avhBPbRvIS"
      },
      "execution_count": null,
      "outputs": []
    },
    {
      "cell_type": "code",
      "source": [
        "sequence_length = 7  # 원하는 값으로 조정 가능\n",
        "step = 3\n",
        "X_train, y_train = prepare_sequences(train_data, sequence_length, step)\n",
        "X_test, y_test = prepare_sequences(test_data, sequence_length, step)\n",
        "X_val, y_val = prepare_sequences(val_data, sequence_length, step)\n"
      ],
      "metadata": {
        "id": "Ra0nCFFGLwvZ"
      },
      "execution_count": null,
      "outputs": []
    },
    {
      "cell_type": "code",
      "source": [
        "# 총 변수 864 = 288*3\n",
        "X_train.shape, y_train.shape"
      ],
      "metadata": {
        "colab": {
          "base_uri": "https://localhost:8080/"
        },
        "id": "nW7OzJV2xDtm",
        "outputId": "0d1e6bea-b785-428c-bb1d-74559751c3fa"
      },
      "execution_count": null,
      "outputs": [
        {
          "output_type": "execute_result",
          "data": {
            "text/plain": [
              "((2891, 7, 864), (2891,))"
            ]
          },
          "metadata": {},
          "execution_count": 60
        }
      ]
    },
    {
      "cell_type": "markdown",
      "source": [
        "## LSTM 모델 정의"
      ],
      "metadata": {
        "id": "mxyqkvqtRGXY"
      }
    },
    {
      "cell_type": "code",
      "source": [
        "model = Sequential([\n",
        "    LSTM(128, activation='relu',  return_sequences=True, kernel_regularizer=l2(0.01),\n",
        "         input_shape=(sequence_length, X_train.shape[2])),\n",
        "    BatchNormalization(),\n",
        "    Dropout(0.3),\n",
        "\n",
        "    LSTM(64, activation='relu', kernel_regularizer=l2(0.01)),\n",
        "    BatchNormalization(),\n",
        "    Dropout(0.3),\n",
        "\n",
        "    Dense(16, activation='relu'),\n",
        "    BatchNormalization(),\n",
        "    Dense(1, activation='sigmoid')\n",
        "])"
      ],
      "metadata": {
        "id": "odL6jnXdL1CB",
        "colab": {
          "base_uri": "https://localhost:8080/"
        },
        "outputId": "20834e80-966b-4503-e98a-af076c7f6af8"
      },
      "execution_count": null,
      "outputs": [
        {
          "output_type": "stream",
          "name": "stderr",
          "text": [
            "/usr/local/lib/python3.11/dist-packages/keras/src/layers/rnn/rnn.py:200: UserWarning: Do not pass an `input_shape`/`input_dim` argument to a layer. When using Sequential models, prefer using an `Input(shape)` object as the first layer in the model instead.\n",
            "  super().__init__(**kwargs)\n"
          ]
        }
      ]
    },
    {
      "cell_type": "markdown",
      "source": [
        "### 모델 컴파일"
      ],
      "metadata": {
        "id": "cBKIwQ_GVBGg"
      }
    },
    {
      "cell_type": "code",
      "source": [
        "import tensorflow.keras.backend as K\n",
        "from tensorflow.keras.losses import binary_crossentropy\n",
        "\n",
        "def focal_loss(gamma=2., alpha=0.25):\n",
        "    def loss(y_true, y_pred):\n",
        "        bce = binary_crossentropy(y_true, y_pred)\n",
        "        p_t = y_true * y_pred + (1 - y_true) * (1 - y_pred)\n",
        "        alpha_factor = y_true * alpha + (1 - y_true) * (1 - alpha)\n",
        "        modulating_factor = (1 - p_t) ** gamma\n",
        "        return K.mean(alpha_factor * modulating_factor * bce)\n",
        "    return loss\n",
        "\n",
        "optimizer = Adam(learning_rate=0.0005)\n",
        "model.compile(optimizer=Adam(learning_rate=0.0005), loss = focal_loss(), metrics=['accuracy'])\n"
      ],
      "metadata": {
        "id": "-D89fwn3U4Ju"
      },
      "execution_count": null,
      "outputs": []
    },
    {
      "cell_type": "markdown",
      "source": [
        "### 모델 학습"
      ],
      "metadata": {
        "id": "t_v8r9wKRIHA"
      }
    },
    {
      "cell_type": "code",
      "source": [
        "# 조기 종료 콜백 설정\n",
        "early_stopping = EarlyStopping(monitor='val_loss', patience=7, restore_best_weights=True)\n",
        "class_weights = {0: 0.5, 1: 3.0}"
      ],
      "metadata": {
        "id": "xoL9j49iVJRX"
      },
      "execution_count": null,
      "outputs": []
    },
    {
      "cell_type": "code",
      "source": [
        "model.fit(X_train, y_train, validation_data=(X_val, y_val), epochs=50, batch_size=32,\n",
        "          callbacks=[early_stopping], class_weight = class_weights, shuffle=False)\n",
        "#shuffle=True는 배치를 만들 때 데이터셋 전체를 랜덤하게 섞는다. 랜덤 데이터에서 배치 사이즈만큼 샘플을 뽑는다.\n",
        "#시계열 데이터에서는 shuffle=False로 원래 데이터 순서를 유지하는 것이 필수"
      ],
      "metadata": {
        "id": "kdYus0FZLtmx",
        "colab": {
          "base_uri": "https://localhost:8080/"
        },
        "outputId": "e3f185dd-7b0d-4aeb-dd2e-5025194462e7"
      },
      "execution_count": null,
      "outputs": [
        {
          "output_type": "stream",
          "name": "stdout",
          "text": [
            "Epoch 1/50\n",
            "\u001b[1m91/91\u001b[0m \u001b[32m━━━━━━━━━━━━━━━━━━━━\u001b[0m\u001b[37m\u001b[0m \u001b[1m11s\u001b[0m 44ms/step - accuracy: 0.5150 - loss: 6.1334 - val_accuracy: 0.6336 - val_loss: 2.2996\n",
            "Epoch 2/50\n",
            "\u001b[1m91/91\u001b[0m \u001b[32m━━━━━━━━━━━━━━━━━━━━\u001b[0m\u001b[37m\u001b[0m \u001b[1m4s\u001b[0m 36ms/step - accuracy: 0.5525 - loss: 1.9050 - val_accuracy: 0.6845 - val_loss: 1.0107\n",
            "Epoch 3/50\n",
            "\u001b[1m91/91\u001b[0m \u001b[32m━━━━━━━━━━━━━━━━━━━━\u001b[0m\u001b[37m\u001b[0m \u001b[1m4s\u001b[0m 49ms/step - accuracy: 0.5546 - loss: 0.9372 - val_accuracy: 0.7379 - val_loss: 0.5997\n",
            "Epoch 4/50\n",
            "\u001b[1m91/91\u001b[0m \u001b[32m━━━━━━━━━━━━━━━━━━━━\u001b[0m\u001b[37m\u001b[0m \u001b[1m4s\u001b[0m 38ms/step - accuracy: 0.5565 - loss: 0.5817 - val_accuracy: 0.6692 - val_loss: 0.3840\n",
            "Epoch 5/50\n",
            "\u001b[1m91/91\u001b[0m \u001b[32m━━━━━━━━━━━━━━━━━━━━\u001b[0m\u001b[37m\u001b[0m \u001b[1m5s\u001b[0m 37ms/step - accuracy: 0.5583 - loss: 0.4079 - val_accuracy: 0.6489 - val_loss: 0.2839\n",
            "Epoch 6/50\n",
            "\u001b[1m91/91\u001b[0m \u001b[32m━━━━━━━━━━━━━━━━━━━━\u001b[0m\u001b[37m\u001b[0m \u001b[1m5s\u001b[0m 51ms/step - accuracy: 0.5594 - loss: 0.3075 - val_accuracy: 0.6565 - val_loss: 0.2156\n",
            "Epoch 7/50\n",
            "\u001b[1m91/91\u001b[0m \u001b[32m━━━━━━━━━━━━━━━━━━━━\u001b[0m\u001b[37m\u001b[0m \u001b[1m4s\u001b[0m 35ms/step - accuracy: 0.5711 - loss: 0.2482 - val_accuracy: 0.7023 - val_loss: 0.1647\n",
            "Epoch 8/50\n",
            "\u001b[1m91/91\u001b[0m \u001b[32m━━━━━━━━━━━━━━━━━━━━\u001b[0m\u001b[37m\u001b[0m \u001b[1m5s\u001b[0m 40ms/step - accuracy: 0.5696 - loss: 0.2087 - val_accuracy: 0.7455 - val_loss: 0.1175\n",
            "Epoch 9/50\n",
            "\u001b[1m91/91\u001b[0m \u001b[32m━━━━━━━━━━━━━━━━━━━━\u001b[0m\u001b[37m\u001b[0m \u001b[1m5s\u001b[0m 38ms/step - accuracy: 0.5651 - loss: 0.1838 - val_accuracy: 0.6921 - val_loss: 0.1059\n",
            "Epoch 10/50\n",
            "\u001b[1m91/91\u001b[0m \u001b[32m━━━━━━━━━━━━━━━━━━━━\u001b[0m\u001b[37m\u001b[0m \u001b[1m5s\u001b[0m 36ms/step - accuracy: 0.5571 - loss: 0.1675 - val_accuracy: 0.6794 - val_loss: 0.0989\n",
            "Epoch 11/50\n",
            "\u001b[1m91/91\u001b[0m \u001b[32m━━━━━━━━━━━━━━━━━━━━\u001b[0m\u001b[37m\u001b[0m \u001b[1m6s\u001b[0m 51ms/step - accuracy: 0.5381 - loss: 0.1605 - val_accuracy: 0.6387 - val_loss: 0.0958\n",
            "Epoch 12/50\n",
            "\u001b[1m91/91\u001b[0m \u001b[32m━━━━━━━━━━━━━━━━━━━━\u001b[0m\u001b[37m\u001b[0m \u001b[1m4s\u001b[0m 37ms/step - accuracy: 0.5429 - loss: 0.1545 - val_accuracy: 0.6336 - val_loss: 0.1291\n",
            "Epoch 13/50\n",
            "\u001b[1m91/91\u001b[0m \u001b[32m━━━━━━━━━━━━━━━━━━━━\u001b[0m\u001b[37m\u001b[0m \u001b[1m5s\u001b[0m 35ms/step - accuracy: 0.5447 - loss: 0.1474 - val_accuracy: 0.7150 - val_loss: 0.0778\n",
            "Epoch 14/50\n",
            "\u001b[1m91/91\u001b[0m \u001b[32m━━━━━━━━━━━━━━━━━━━━\u001b[0m\u001b[37m\u001b[0m \u001b[1m5s\u001b[0m 51ms/step - accuracy: 0.5370 - loss: 0.1437 - val_accuracy: 0.6336 - val_loss: 0.0797\n",
            "Epoch 15/50\n",
            "\u001b[1m91/91\u001b[0m \u001b[32m━━━━━━━━━━━━━━━━━━━━\u001b[0m\u001b[37m\u001b[0m \u001b[1m3s\u001b[0m 38ms/step - accuracy: 0.5432 - loss: 0.1421 - val_accuracy: 0.6336 - val_loss: 0.0916\n",
            "Epoch 16/50\n",
            "\u001b[1m91/91\u001b[0m \u001b[32m━━━━━━━━━━━━━━━━━━━━\u001b[0m\u001b[37m\u001b[0m \u001b[1m3s\u001b[0m 37ms/step - accuracy: 0.5462 - loss: 0.1366 - val_accuracy: 0.6310 - val_loss: 0.0935\n",
            "Epoch 17/50\n",
            "\u001b[1m91/91\u001b[0m \u001b[32m━━━━━━━━━━━━━━━━━━━━\u001b[0m\u001b[37m\u001b[0m \u001b[1m6s\u001b[0m 50ms/step - accuracy: 0.5430 - loss: 0.1374 - val_accuracy: 0.6285 - val_loss: 0.0808\n",
            "Epoch 18/50\n",
            "\u001b[1m91/91\u001b[0m \u001b[32m━━━━━━━━━━━━━━━━━━━━\u001b[0m\u001b[37m\u001b[0m \u001b[1m3s\u001b[0m 35ms/step - accuracy: 0.5484 - loss: 0.1305 - val_accuracy: 0.6336 - val_loss: 0.0811\n",
            "Epoch 19/50\n",
            "\u001b[1m91/91\u001b[0m \u001b[32m━━━━━━━━━━━━━━━━━━━━\u001b[0m\u001b[37m\u001b[0m \u001b[1m3s\u001b[0m 35ms/step - accuracy: 0.5410 - loss: 0.1322 - val_accuracy: 0.6438 - val_loss: 0.0830\n",
            "Epoch 20/50\n",
            "\u001b[1m91/91\u001b[0m \u001b[32m━━━━━━━━━━━━━━━━━━━━\u001b[0m\u001b[37m\u001b[0m \u001b[1m6s\u001b[0m 50ms/step - accuracy: 0.5449 - loss: 0.1302 - val_accuracy: 0.7328 - val_loss: 0.0631\n",
            "Epoch 21/50\n",
            "\u001b[1m91/91\u001b[0m \u001b[32m━━━━━━━━━━━━━━━━━━━━\u001b[0m\u001b[37m\u001b[0m \u001b[1m3s\u001b[0m 35ms/step - accuracy: 0.5471 - loss: 0.1276 - val_accuracy: 0.6387 - val_loss: 0.0838\n",
            "Epoch 22/50\n",
            "\u001b[1m91/91\u001b[0m \u001b[32m━━━━━━━━━━━━━━━━━━━━\u001b[0m\u001b[37m\u001b[0m \u001b[1m5s\u001b[0m 36ms/step - accuracy: 0.5383 - loss: 0.1318 - val_accuracy: 0.6489 - val_loss: 0.0720\n",
            "Epoch 23/50\n",
            "\u001b[1m91/91\u001b[0m \u001b[32m━━━━━━━━━━━━━━━━━━━━\u001b[0m\u001b[37m\u001b[0m \u001b[1m6s\u001b[0m 50ms/step - accuracy: 0.5355 - loss: 0.1332 - val_accuracy: 0.6361 - val_loss: 0.0944\n",
            "Epoch 24/50\n",
            "\u001b[1m91/91\u001b[0m \u001b[32m━━━━━━━━━━━━━━━━━━━━\u001b[0m\u001b[37m\u001b[0m \u001b[1m4s\u001b[0m 37ms/step - accuracy: 0.5505 - loss: 0.1327 - val_accuracy: 0.6387 - val_loss: 0.0747\n",
            "Epoch 25/50\n",
            "\u001b[1m91/91\u001b[0m \u001b[32m━━━━━━━━━━━━━━━━━━━━\u001b[0m\u001b[37m\u001b[0m \u001b[1m5s\u001b[0m 40ms/step - accuracy: 0.5462 - loss: 0.1352 - val_accuracy: 0.6565 - val_loss: 0.0898\n",
            "Epoch 26/50\n",
            "\u001b[1m91/91\u001b[0m \u001b[32m━━━━━━━━━━━━━━━━━━━━\u001b[0m\u001b[37m\u001b[0m \u001b[1m5s\u001b[0m 37ms/step - accuracy: 0.5453 - loss: 0.1343 - val_accuracy: 0.6260 - val_loss: 0.0764\n",
            "Epoch 27/50\n",
            "\u001b[1m91/91\u001b[0m \u001b[32m━━━━━━━━━━━━━━━━━━━━\u001b[0m\u001b[37m\u001b[0m \u001b[1m5s\u001b[0m 36ms/step - accuracy: 0.5344 - loss: 0.1331 - val_accuracy: 0.6336 - val_loss: 0.0790\n"
          ]
        },
        {
          "output_type": "execute_result",
          "data": {
            "text/plain": [
              "<keras.src.callbacks.history.History at 0x7969fa8c5b50>"
            ]
          },
          "metadata": {},
          "execution_count": 29
        }
      ]
    },
    {
      "cell_type": "markdown",
      "source": [
        "### 예측 결과 그래프"
      ],
      "metadata": {
        "id": "yeBkXGyPRLIA"
      }
    },
    {
      "cell_type": "code",
      "source": [
        "import matplotlib.pyplot as plt\n",
        "\n",
        "y_train_probs = model.predict(X_train)\n",
        "plt.hist(y_train_probs, bins=50)\n",
        "plt.xlabel(\"Predicted Probability\")\n",
        "plt.ylabel(\"Frequency\")\n",
        "plt.title(\"Distribution of Train Predicted Probabilities\")\n",
        "plt.show()"
      ],
      "metadata": {
        "colab": {
          "base_uri": "https://localhost:8080/",
          "height": 490
        },
        "id": "9JtegT6iW3ES",
        "outputId": "88780d17-f75b-453d-e5a9-a2595191da85"
      },
      "execution_count": null,
      "outputs": [
        {
          "output_type": "stream",
          "name": "stdout",
          "text": [
            "\u001b[1m91/91\u001b[0m \u001b[32m━━━━━━━━━━━━━━━━━━━━\u001b[0m\u001b[37m\u001b[0m \u001b[1m2s\u001b[0m 21ms/step\n"
          ]
        },
        {
          "output_type": "display_data",
          "data": {
            "text/plain": [
              "<Figure size 640x480 with 1 Axes>"
            ],
            "image/png": "[encoded data removed]"
          },
          "metadata": {}
        }
      ]
    },
    {
      "cell_type": "code",
      "source": [
        "y_train_probs = model.predict(X_test)\n",
        "plt.hist(y_train_probs, bins=50)\n",
        "plt.xlabel(\"Predicted Probability\")\n",
        "plt.ylabel(\"Frequency\")\n",
        "plt.title(\"Distribution of Test Predicted Probabilities\")\n",
        "plt.show()"
      ],
      "metadata": {
        "colab": {
          "base_uri": "https://localhost:8080/",
          "height": 490
        },
        "id": "R0J571OOXHH6",
        "outputId": "c1cbac50-c5bf-494f-ebfb-65012968338b"
      },
      "execution_count": null,
      "outputs": [
        {
          "output_type": "stream",
          "name": "stdout",
          "text": [
            "\u001b[1m14/14\u001b[0m \u001b[32m━━━━━━━━━━━━━━━━━━━━\u001b[0m\u001b[37m\u001b[0m \u001b[1m0s\u001b[0m 12ms/step\n"
          ]
        },
        {
          "output_type": "display_data",
          "data": {
            "text/plain": [
              "<Figure size 640x480 with 1 Axes>"
            ],
            "image/png": "[encoded data removed]"
          },
          "metadata": {}
        }
      ]
    },
    {
      "cell_type": "code",
      "source": [
        "# sigmoid 출력 변환\n",
        "y_train_pred = (model.predict(X_train) > 0.4).astype(int)\n",
        "y_val_pred = (model.predict(X_val) > 0.4).astype(int)\n",
        "y_test_pred = (model.predict(X_test) > 0.4).astype(int)"
      ],
      "metadata": {
        "id": "T-M7PKBtRKdx",
        "colab": {
          "base_uri": "https://localhost:8080/"
        },
        "outputId": "d839f3f1-1867-4150-c2cc-7f27ce822fee"
      },
      "execution_count": null,
      "outputs": [
        {
          "output_type": "stream",
          "name": "stdout",
          "text": [
            "\u001b[1m91/91\u001b[0m \u001b[32m━━━━━━━━━━━━━━━━━━━━\u001b[0m\u001b[37m\u001b[0m \u001b[1m2s\u001b[0m 18ms/step\n",
            "\u001b[1m13/13\u001b[0m \u001b[32m━━━━━━━━━━━━━━━━━━━━\u001b[0m\u001b[37m\u001b[0m \u001b[1m0s\u001b[0m 24ms/step\n",
            "\u001b[1m14/14\u001b[0m \u001b[32m━━━━━━━━━━━━━━━━━━━━\u001b[0m\u001b[37m\u001b[0m \u001b[1m0s\u001b[0m 18ms/step\n"
          ]
        }
      ]
    },
    {
      "cell_type": "markdown",
      "source": [
        "### 결과 출력"
      ],
      "metadata": {
        "id": "FiW7FNXPTziv"
      }
    },
    {
      "cell_type": "code",
      "source": [
        "print(confusion_matrix(y_train, y_train_pred))\n",
        "print(classification_report(y_train, y_train_pred))"
      ],
      "metadata": {
        "id": "vnx12WzSTzE6",
        "colab": {
          "base_uri": "https://localhost:8080/"
        },
        "outputId": "b95af86f-c070-478c-d7cf-9ffcc6a424a1"
      },
      "execution_count": null,
      "outputs": [
        {
          "output_type": "stream",
          "name": "stdout",
          "text": [
            "[[1093  737]\n",
            " [ 403  658]]\n",
            "              precision    recall  f1-score   support\n",
            "\n",
            "           0       0.73      0.60      0.66      1830\n",
            "           1       0.47      0.62      0.54      1061\n",
            "\n",
            "    accuracy                           0.61      2891\n",
            "   macro avg       0.60      0.61      0.60      2891\n",
            "weighted avg       0.64      0.61      0.61      2891\n",
            "\n"
          ]
        }
      ]
    },
    {
      "cell_type": "code",
      "source": [
        "print(confusion_matrix(y_val, y_val_pred))\n",
        "print(classification_report(y_val, y_val_pred))"
      ],
      "metadata": {
        "colab": {
          "base_uri": "https://localhost:8080/"
        },
        "id": "VB90FLQIYzbs",
        "outputId": "1c7c2cd9-8a68-4661-8c2d-d90e400a7a8f"
      },
      "execution_count": null,
      "outputs": [
        {
          "output_type": "stream",
          "name": "stdout",
          "text": [
            "[[187  62]\n",
            " [ 61  83]]\n",
            "              precision    recall  f1-score   support\n",
            "\n",
            "           0       0.75      0.75      0.75       249\n",
            "           1       0.57      0.58      0.57       144\n",
            "\n",
            "    accuracy                           0.69       393\n",
            "   macro avg       0.66      0.66      0.66       393\n",
            "weighted avg       0.69      0.69      0.69       393\n",
            "\n"
          ]
        }
      ]
    },
    {
      "cell_type": "code",
      "source": [
        "print(confusion_matrix(y_test, y_test_pred))\n",
        "print(classification_report(y_test, y_test_pred))"
      ],
      "metadata": {
        "id": "1Mylw0o1UAv5",
        "colab": {
          "base_uri": "https://localhost:8080/"
        },
        "outputId": "2f0aa468-8abe-471c-e922-4df9fb767ab4"
      },
      "execution_count": null,
      "outputs": [
        {
          "output_type": "stream",
          "name": "stdout",
          "text": [
            "[[126 149]\n",
            " [ 59  93]]\n",
            "              precision    recall  f1-score   support\n",
            "\n",
            "           0       0.68      0.46      0.55       275\n",
            "           1       0.38      0.61      0.47       152\n",
            "\n",
            "    accuracy                           0.51       427\n",
            "   macro avg       0.53      0.54      0.51       427\n",
            "weighted avg       0.58      0.51      0.52       427\n",
            "\n"
          ]
        }
      ]
    },
    {
      "cell_type": "markdown",
      "source": [
        "### 참가자별 결과 저장"
      ],
      "metadata": {
        "id": "tvpTz3xGROw5"
      }
    },
    {
      "cell_type": "code",
      "source": [
        "def per_person_pred(raw_data, input_data, pred_threshold=0.5, person_threshold=0.5):\n",
        "    # 1. 예측 확률\n",
        "    y_probs = model.predict(input_data).flatten()  # 예측 확률값 (N,)\n",
        "    y_preds = (y_probs > pred_threshold).astype(int)\n",
        "\n",
        "    print(\"input_data shape:\", input_data.shape)\n",
        "    print(\"model input shape:\", model.input_shape)\n",
        "\n",
        "    # 2. 각 시퀀스가 어떤 사람에 해당하는지 매핑\n",
        "    sequence_person_ids = []\n",
        "    for _, group in raw_data.groupby(\"EMAIL\"):\n",
        "        person_id = group[\"EMAIL\"].iloc[0]\n",
        "        for i in range(0, len(group) - sequence_length, step):\n",
        "            sequence_person_ids.append(person_id)\n",
        "\n",
        "    # 3. DataFrame 구성\n",
        "    df_preds = pd.DataFrame({\"EMAIL\": sequence_person_ids, \"prediction\": y_preds})\n",
        "\n",
        "    # 4. 사람별 평균 예측값(행별 0 혹은 1)의 평균이 threshold을 넘으면 1로 판정(최종 클래스 결정)\n",
        "    person_final_preds = df_preds.groupby(\"EMAIL\")[\"prediction\"].mean()\n",
        "    test_person_predictions = (person_final_preds >= person_threshold).astype(int)\n",
        "\n",
        "    # 5. 실제값과 비교\n",
        "    ground_truth = raw_data.groupby(\"EMAIL\")[\"DIAG_NM\"].mean().astype(int)\n",
        "    results_df = pd.DataFrame({\n",
        "        \"EMAIL\": ground_truth.index,\n",
        "        \"true\": ground_truth.values,\n",
        "        \"pred\": test_person_predictions.values\n",
        "    })\n",
        "\n",
        "    return results_df"
      ],
      "metadata": {
        "id": "6kOMNVO4BUbL"
      },
      "execution_count": null,
      "outputs": []
    },
    {
      "cell_type": "code",
      "source": [
        "train_result_df = per_person_pred(train_data, X_train, pred_threshold=0.4, person_threshold=0.5)\n",
        "\n",
        "print(confusion_matrix(train_result_df[\"true\"], train_result_df[\"pred\"]))\n",
        "print(classification_report(train_result_df[\"true\"], train_result_df[\"pred\"]))"
      ],
      "metadata": {
        "id": "UhgeyBQpB3PQ",
        "colab": {
          "base_uri": "https://localhost:8080/"
        },
        "outputId": "41b02d9b-6b4c-498e-8087-83803eb8de8c"
      },
      "execution_count": null,
      "outputs": [
        {
          "output_type": "stream",
          "name": "stdout",
          "text": [
            "\u001b[1m91/91\u001b[0m \u001b[32m━━━━━━━━━━━━━━━━━━━━\u001b[0m\u001b[37m\u001b[0m \u001b[1m1s\u001b[0m 12ms/step\n",
            "input_data shape: (2891, 7, 864)\n",
            "model input shape: (None, 7, 864)\n",
            "[[52 37]\n",
            " [16 33]]\n",
            "              precision    recall  f1-score   support\n",
            "\n",
            "           0       0.76      0.58      0.66        89\n",
            "           1       0.47      0.67      0.55        49\n",
            "\n",
            "    accuracy                           0.62       138\n",
            "   macro avg       0.62      0.63      0.61       138\n",
            "weighted avg       0.66      0.62      0.62       138\n",
            "\n"
          ]
        }
      ]
    },
    {
      "cell_type": "code",
      "source": [
        "test_result_df = per_person_pred(test_data, X_test, pred_threshold=0.4, person_threshold=0.5)\n",
        "\n",
        "print(confusion_matrix(test_result_df[\"true\"], test_result_df[\"pred\"]))\n",
        "print(classification_report(test_result_df[\"true\"], test_result_df[\"pred\"]))"
      ],
      "metadata": {
        "colab": {
          "base_uri": "https://localhost:8080/"
        },
        "id": "ToDOteGNH-lO",
        "outputId": "b4a5f509-4a7d-4211-a0b0-2237245766e8"
      },
      "execution_count": null,
      "outputs": [
        {
          "output_type": "stream",
          "name": "stdout",
          "text": [
            "\u001b[1m14/14\u001b[0m \u001b[32m━━━━━━━━━━━━━━━━━━━━\u001b[0m\u001b[37m\u001b[0m \u001b[1m0s\u001b[0m 14ms/step\n",
            "input_data shape: (427, 7, 864)\n",
            "model input shape: (None, 7, 864)\n",
            "[[6 5]\n",
            " [2 5]]\n",
            "              precision    recall  f1-score   support\n",
            "\n",
            "           0       0.75      0.55      0.63        11\n",
            "           1       0.50      0.71      0.59         7\n",
            "\n",
            "    accuracy                           0.61        18\n",
            "   macro avg       0.62      0.63      0.61        18\n",
            "weighted avg       0.65      0.61      0.61        18\n",
            "\n"
          ]
        }
      ]
    },
    {
      "cell_type": "code",
      "source": [],
      "metadata": {
        "id": "3fP0phe3xhq-"
      },
      "execution_count": null,
      "outputs": []
    }
  ]
}