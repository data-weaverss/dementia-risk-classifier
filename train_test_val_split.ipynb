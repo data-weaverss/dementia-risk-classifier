{
 "cells": [
  {
   "cell_type": "code",
   "execution_count": 1,
   "metadata": {},
   "outputs": [],
   "source": [
    "import pandas as pd"
   ]
  },
  {
   "cell_type": "code",
   "execution_count": 5,
   "metadata": {},
   "outputs": [
    {
     "data": {
      "text/html": [
       "<div>\n",
       "<style scoped>\n",
       "    .dataframe tbody tr th:only-of-type {\n",
       "        vertical-align: middle;\n",
       "    }\n",
       "\n",
       "    .dataframe tbody tr th {\n",
       "        vertical-align: top;\n",
       "    }\n",
       "\n",
       "    .dataframe thead th {\n",
       "        text-align: right;\n",
       "    }\n",
       "</style>\n",
       "<table border=\"1\" class=\"dataframe\">\n",
       "  <thead>\n",
       "    <tr style=\"text-align: right;\">\n",
       "      <th></th>\n",
       "      <th>EMAIL</th>\n",
       "      <th>activity_day_start</th>\n",
       "      <th>sleep_bedtime_start</th>\n",
       "      <th>sleep_bedtime_end</th>\n",
       "      <th>activity_met_5min</th>\n",
       "      <th>activity_class_5min</th>\n",
       "      <th>sleep_hr_5min</th>\n",
       "      <th>sleep_hypnogram_5min</th>\n",
       "      <th>sleep_rmssd_5min</th>\n",
       "      <th>DIAG_NM</th>\n",
       "      <th>activity_class_5min_adj</th>\n",
       "      <th>activity_met_5min_df_adj</th>\n",
       "      <th>sleep_hr_5min_adj</th>\n",
       "      <th>sleep_hypnogram_5min_adj</th>\n",
       "      <th>sleep_rmssd_5min_adj</th>\n",
       "    </tr>\n",
       "  </thead>\n",
       "  <tbody>\n",
       "    <tr>\n",
       "      <th>0</th>\n",
       "      <td>nia+279@rowan.kr</td>\n",
       "      <td>2020-10-19 04:00:00</td>\n",
       "      <td>2020-10-18 18:38:28</td>\n",
       "      <td>2020-10-19 05:10:28</td>\n",
       "      <td>[1.0, 0.9, 1.0, 1.2, 1.2, 1.2, 1.0, 0.9, 0.9, ...</td>\n",
       "      <td>[1.0, 1.0, 2.0, 2.0, 2.0, 2.0, 1.0, 1.0, 1.0, ...</td>\n",
       "      <td>[63.0, 61.0, 59.0, 58.0, 58.0, 58.0, 56.0, 55....</td>\n",
       "      <td>[4.0, 2.0, 2.0, 2.0, 2.0, 1.0, 1.0, 2.0, 2.0, ...</td>\n",
       "      <td>[18.0, 28.0, 25.0, 28.0, 34.0, 34.0, 35.0, 45....</td>\n",
       "      <td>MCI</td>\n",
       "      <td>[-1.0, -1.0, -1.0, -1.0, -1.0, -1.0, -1.0, -1....</td>\n",
       "      <td>[-1.0, -1.0, -1.0, -1.0, -1.0, -1.0, -1.0, -1....</td>\n",
       "      <td>[63, 61, 59, 58, 58, 58, 56, 55, 54, 53, 53, 5...</td>\n",
       "      <td>[4, 2, 2, 2, 2, 1, 1, 2, 2, 2, 2, 2, 4, 4, 4, ...</td>\n",
       "      <td>[18, 28, 25, 28, 34, 34, 35, 45, 54, 36, 36, 6...</td>\n",
       "    </tr>\n",
       "    <tr>\n",
       "      <th>1</th>\n",
       "      <td>nia+279@rowan.kr</td>\n",
       "      <td>2020-10-20 04:00:00</td>\n",
       "      <td>2020-10-19 21:39:52</td>\n",
       "      <td>2020-10-20 05:37:52</td>\n",
       "      <td>[1.0, 1.0, 0.9, 1.1, 1.1, 1.2, 1.2, 1.2, 1.3, ...</td>\n",
       "      <td>[1.0, 1.0, 1.0, 2.0, 2.0, 2.0, 2.0, 2.0, 2.0, ...</td>\n",
       "      <td>[0.0, 51.0, 0.0, 51.0, 52.0, 52.0, 52.0, 52.0,...</td>\n",
       "      <td>[4.0, 2.0, 4.0, 2.0, 2.0, 2.0, 1.0, 1.0, 1.0, ...</td>\n",
       "      <td>[0.0, 49.0, 0.0, 38.0, 51.0, 17.0, 18.0, 18.0,...</td>\n",
       "      <td>MCI</td>\n",
       "      <td>[-1.0, -1.0, -1.0, -1.0, -1.0, -1.0, -1.0, -1....</td>\n",
       "      <td>[-1.0, -1.0, -1.0, -1.0, -1.0, -1.0, -1.0, -1....</td>\n",
       "      <td>[0, 51, 0, 51, 52, 52, 52, 52, 53, 53, 53, 52,...</td>\n",
       "      <td>[4, 2, 4, 2, 2, 2, 1, 1, 1, 2, 2, 3, 3, 3, 3, ...</td>\n",
       "      <td>[0, 49, 0, 38, 51, 17, 18, 18, 26, 27, 24, 29,...</td>\n",
       "    </tr>\n",
       "  </tbody>\n",
       "</table>\n",
       "</div>"
      ],
      "text/plain": [
       "              EMAIL   activity_day_start  sleep_bedtime_start  \\\n",
       "0  nia+279@rowan.kr  2020-10-19 04:00:00  2020-10-18 18:38:28   \n",
       "1  nia+279@rowan.kr  2020-10-20 04:00:00  2020-10-19 21:39:52   \n",
       "\n",
       "     sleep_bedtime_end                                  activity_met_5min  \\\n",
       "0  2020-10-19 05:10:28  [1.0, 0.9, 1.0, 1.2, 1.2, 1.2, 1.0, 0.9, 0.9, ...   \n",
       "1  2020-10-20 05:37:52  [1.0, 1.0, 0.9, 1.1, 1.1, 1.2, 1.2, 1.2, 1.3, ...   \n",
       "\n",
       "                                 activity_class_5min  \\\n",
       "0  [1.0, 1.0, 2.0, 2.0, 2.0, 2.0, 1.0, 1.0, 1.0, ...   \n",
       "1  [1.0, 1.0, 1.0, 2.0, 2.0, 2.0, 2.0, 2.0, 2.0, ...   \n",
       "\n",
       "                                       sleep_hr_5min  \\\n",
       "0  [63.0, 61.0, 59.0, 58.0, 58.0, 58.0, 56.0, 55....   \n",
       "1  [0.0, 51.0, 0.0, 51.0, 52.0, 52.0, 52.0, 52.0,...   \n",
       "\n",
       "                                sleep_hypnogram_5min  \\\n",
       "0  [4.0, 2.0, 2.0, 2.0, 2.0, 1.0, 1.0, 2.0, 2.0, ...   \n",
       "1  [4.0, 2.0, 4.0, 2.0, 2.0, 2.0, 1.0, 1.0, 1.0, ...   \n",
       "\n",
       "                                    sleep_rmssd_5min DIAG_NM  \\\n",
       "0  [18.0, 28.0, 25.0, 28.0, 34.0, 34.0, 35.0, 45....     MCI   \n",
       "1  [0.0, 49.0, 0.0, 38.0, 51.0, 17.0, 18.0, 18.0,...     MCI   \n",
       "\n",
       "                             activity_class_5min_adj  \\\n",
       "0  [-1.0, -1.0, -1.0, -1.0, -1.0, -1.0, -1.0, -1....   \n",
       "1  [-1.0, -1.0, -1.0, -1.0, -1.0, -1.0, -1.0, -1....   \n",
       "\n",
       "                            activity_met_5min_df_adj  \\\n",
       "0  [-1.0, -1.0, -1.0, -1.0, -1.0, -1.0, -1.0, -1....   \n",
       "1  [-1.0, -1.0, -1.0, -1.0, -1.0, -1.0, -1.0, -1....   \n",
       "\n",
       "                                   sleep_hr_5min_adj  \\\n",
       "0  [63, 61, 59, 58, 58, 58, 56, 55, 54, 53, 53, 5...   \n",
       "1  [0, 51, 0, 51, 52, 52, 52, 52, 53, 53, 53, 52,...   \n",
       "\n",
       "                            sleep_hypnogram_5min_adj  \\\n",
       "0  [4, 2, 2, 2, 2, 1, 1, 2, 2, 2, 2, 2, 4, 4, 4, ...   \n",
       "1  [4, 2, 4, 2, 2, 2, 1, 1, 1, 2, 2, 3, 3, 3, 3, ...   \n",
       "\n",
       "                                sleep_rmssd_5min_adj  \n",
       "0  [18, 28, 25, 28, 34, 34, 35, 45, 54, 36, 36, 6...  \n",
       "1  [0, 49, 0, 38, 51, 17, 18, 18, 26, 27, 24, 29,...  "
      ]
     },
     "execution_count": 5,
     "metadata": {},
     "output_type": "execute_result"
    }
   ],
   "source": [
    "df = pd.read_csv('./log_csv/final_test.csv', index_col=0)\n",
    "df.head(2)"
   ]
  },
  {
   "cell_type": "code",
   "execution_count": 6,
   "metadata": {},
   "outputs": [
    {
     "name": "stdout",
     "output_type": "stream",
     "text": [
      "<class 'pandas.core.frame.DataFrame'>\n",
      "Index: 12183 entries, 0 to 12182\n",
      "Data columns (total 15 columns):\n",
      " #   Column                    Non-Null Count  Dtype \n",
      "---  ------                    --------------  ----- \n",
      " 0   EMAIL                     12183 non-null  object\n",
      " 1   activity_day_start        12183 non-null  object\n",
      " 2   sleep_bedtime_start       12183 non-null  object\n",
      " 3   sleep_bedtime_end         12183 non-null  object\n",
      " 4   activity_met_5min         12183 non-null  object\n",
      " 5   activity_class_5min       12183 non-null  object\n",
      " 6   sleep_hr_5min             12183 non-null  object\n",
      " 7   sleep_hypnogram_5min      12183 non-null  object\n",
      " 8   sleep_rmssd_5min          12183 non-null  object\n",
      " 9   DIAG_NM                   12183 non-null  object\n",
      " 10  activity_class_5min_adj   12183 non-null  object\n",
      " 11  activity_met_5min_df_adj  12183 non-null  object\n",
      " 12  sleep_hr_5min_adj         12183 non-null  object\n",
      " 13  sleep_hypnogram_5min_adj  12183 non-null  object\n",
      " 14  sleep_rmssd_5min_adj      12183 non-null  object\n",
      "dtypes: object(15)\n",
      "memory usage: 1.5+ MB\n"
     ]
    }
   ],
   "source": [
    "df.info()"
   ]
  },
  {
   "cell_type": "code",
   "execution_count": 7,
   "metadata": {},
   "outputs": [],
   "source": [
    "aa = df.drop(columns = ['sleep_bedtime_start',\n",
    "       'sleep_bedtime_end', 'activity_met_5min', 'activity_class_5min',\n",
    "       'sleep_hr_5min', 'sleep_hypnogram_5min', 'sleep_rmssd_5min'])\n"
   ]
  },
  {
   "cell_type": "markdown",
   "metadata": {},
   "source": [
    "## 트레인 테스트 벨리데이션 분할 8:1:1 비율"
   ]
  },
  {
   "cell_type": "code",
   "execution_count": 21,
   "metadata": {},
   "outputs": [
    {
     "name": "stdout",
     "output_type": "stream",
     "text": [
      "111\n",
      "51\n",
      "12\n"
     ]
    }
   ],
   "source": [
    "print(len(aa[aa['DIAG_NM']=='CN']['EMAIL'].unique()))\n",
    "print(len(aa[aa['DIAG_NM']=='MCI']['EMAIL'].unique()))\n",
    "print(len(aa[aa['DIAG_NM']=='Dem']['EMAIL'].unique()))\n"
   ]
  },
  {
   "cell_type": "code",
   "execution_count": 22,
   "metadata": {},
   "outputs": [
    {
     "name": "stdout",
     "output_type": "stream",
     "text": [
      "89\n",
      "11\n",
      "11\n"
     ]
    }
   ],
   "source": [
    "train_CN_person = aa[aa['DIAG_NM']=='CN']['EMAIL'].unique()[:89]\n",
    "val_CN_person = aa[aa['DIAG_NM']=='CN']['EMAIL'].unique()[89:-11]\n",
    "test_CN_person = aa[aa['DIAG_NM']=='CN']['EMAIL'].unique()[-11:]\n",
    "print(len(train_CN_person))\n",
    "print(len(val_CN_person))\n",
    "print(len(test_CN_person))"
   ]
  },
  {
   "cell_type": "code",
   "execution_count": 26,
   "metadata": {},
   "outputs": [
    {
     "name": "stdout",
     "output_type": "stream",
     "text": [
      "41\n",
      "5\n",
      "5\n"
     ]
    }
   ],
   "source": [
    "train_MCI_person = aa[aa['DIAG_NM']=='MCI']['EMAIL'].unique()[:41]\n",
    "val_MCI_person = aa[aa['DIAG_NM']=='MCI']['EMAIL'].unique()[41:-5]\n",
    "test_MCI_person = aa[aa['DIAG_NM']=='MCI']['EMAIL'].unique()[-5:]\n",
    "print(len(train_MCI_person))\n",
    "print(len(val_MCI_person))\n",
    "print(len(test_MCI_person))"
   ]
  },
  {
   "cell_type": "code",
   "execution_count": 27,
   "metadata": {},
   "outputs": [
    {
     "name": "stdout",
     "output_type": "stream",
     "text": [
      "8\n",
      "2\n",
      "2\n"
     ]
    }
   ],
   "source": [
    "train_Dem_person = aa[aa['DIAG_NM']=='Dem']['EMAIL'].unique()[:8]\n",
    "val_Dem_person = aa[aa['DIAG_NM']=='Dem']['EMAIL'].unique()[8:-2]\n",
    "test_Dem_person = aa[aa['DIAG_NM']=='Dem']['EMAIL'].unique()[-2:]\n",
    "print(len(train_Dem_person))\n",
    "print(len(val_Dem_person))\n",
    "print(len(test_Dem_person))"
   ]
  },
  {
   "cell_type": "code",
   "execution_count": 32,
   "metadata": {},
   "outputs": [
    {
     "name": "stdout",
     "output_type": "stream",
     "text": [
      "<class 'pandas.core.frame.DataFrame'>\n",
      "Index: 9507 entries, 0 to 10017\n",
      "Data columns (total 8 columns):\n",
      " #   Column                    Non-Null Count  Dtype \n",
      "---  ------                    --------------  ----- \n",
      " 0   EMAIL                     9507 non-null   object\n",
      " 1   activity_day_start        9507 non-null   object\n",
      " 2   DIAG_NM                   9507 non-null   object\n",
      " 3   activity_class_5min_adj   9507 non-null   object\n",
      " 4   activity_met_5min_df_adj  9507 non-null   object\n",
      " 5   sleep_hr_5min_adj         9507 non-null   object\n",
      " 6   sleep_hypnogram_5min_adj  9507 non-null   object\n",
      " 7   sleep_rmssd_5min_adj      9507 non-null   object\n",
      "dtypes: object(8)\n",
      "memory usage: 668.5+ KB\n"
     ]
    }
   ],
   "source": [
    "train_df = aa[aa['EMAIL'].isin(train_CN_person) | aa['EMAIL'].isin(train_MCI_person) | aa['EMAIL'].isin(train_Dem_person)]\n",
    "train_df.info()"
   ]
  },
  {
   "cell_type": "code",
   "execution_count": 30,
   "metadata": {},
   "outputs": [
    {
     "name": "stdout",
     "output_type": "stream",
     "text": [
      "<class 'pandas.core.frame.DataFrame'>\n",
      "Index: 1287 entries, 7658 to 11305\n",
      "Data columns (total 8 columns):\n",
      " #   Column                    Non-Null Count  Dtype \n",
      "---  ------                    --------------  ----- \n",
      " 0   EMAIL                     1287 non-null   object\n",
      " 1   activity_day_start        1287 non-null   object\n",
      " 2   DIAG_NM                   1287 non-null   object\n",
      " 3   activity_class_5min_adj   1287 non-null   object\n",
      " 4   activity_met_5min_df_adj  1287 non-null   object\n",
      " 5   sleep_hr_5min_adj         1287 non-null   object\n",
      " 6   sleep_hypnogram_5min_adj  1287 non-null   object\n",
      " 7   sleep_rmssd_5min_adj      1287 non-null   object\n",
      "dtypes: object(8)\n",
      "memory usage: 90.5+ KB\n"
     ]
    }
   ],
   "source": [
    "val_df = aa[aa['EMAIL'].isin(val_CN_person) | aa['EMAIL'].isin(val_MCI_person) | aa['EMAIL'].isin(val_Dem_person)]\n",
    "val_df.info()"
   ]
  },
  {
   "cell_type": "code",
   "execution_count": 33,
   "metadata": {},
   "outputs": [
    {
     "name": "stdout",
     "output_type": "stream",
     "text": [
      "<class 'pandas.core.frame.DataFrame'>\n",
      "Index: 1389 entries, 9367 to 12182\n",
      "Data columns (total 8 columns):\n",
      " #   Column                    Non-Null Count  Dtype \n",
      "---  ------                    --------------  ----- \n",
      " 0   EMAIL                     1389 non-null   object\n",
      " 1   activity_day_start        1389 non-null   object\n",
      " 2   DIAG_NM                   1389 non-null   object\n",
      " 3   activity_class_5min_adj   1389 non-null   object\n",
      " 4   activity_met_5min_df_adj  1389 non-null   object\n",
      " 5   sleep_hr_5min_adj         1389 non-null   object\n",
      " 6   sleep_hypnogram_5min_adj  1389 non-null   object\n",
      " 7   sleep_rmssd_5min_adj      1389 non-null   object\n",
      "dtypes: object(8)\n",
      "memory usage: 97.7+ KB\n"
     ]
    }
   ],
   "source": [
    "test_df = aa[aa['EMAIL'].isin(test_CN_person) | aa['EMAIL'].isin(test_MCI_person) | aa['EMAIL'].isin(test_Dem_person)]\n",
    "test_df.info()"
   ]
  },
  {
   "cell_type": "code",
   "execution_count": 35,
   "metadata": {},
   "outputs": [],
   "source": [
    "train_df.to_csv('./train_ALL_df.csv')\n",
    "test_df.to_csv('./test_ALL_df.csv')\n",
    "val_df.to_csv('./val_ALL_df.csv')\n"
   ]
  },
  {
   "cell_type": "markdown",
   "metadata": {},
   "source": [
    "## 9507 + 1287 + 1389 = 12,183"
   ]
  },
  {
   "cell_type": "code",
   "execution_count": null,
   "metadata": {},
   "outputs": [],
   "source": []
  },
  {
   "cell_type": "code",
   "execution_count": null,
   "metadata": {},
   "outputs": [],
   "source": []
  }
 ],
 "metadata": {
  "kernelspec": {
   "display_name": "my_study",
   "language": "python",
   "name": "python3"
  },
  "language_info": {
   "codemirror_mode": {
    "name": "ipython",
    "version": 3
   },
   "file_extension": ".py",
   "mimetype": "text/x-python",
   "name": "python",
   "nbconvert_exporter": "python",
   "pygments_lexer": "ipython3",
   "version": "3.8.20"
  }
 },
 "nbformat": 4,
 "nbformat_minor": 2
}
